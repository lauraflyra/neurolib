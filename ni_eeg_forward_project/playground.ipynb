{
 "cells": [
  {
   "cell_type": "code",
   "execution_count": 1,
   "outputs": [],
   "source": [
    "import nibabel as nib\n",
    "import numpy as np\n",
    "import matplotlib.pyplot as plt\n",
    "import mne\n",
    "import os.path as op"
   ],
   "metadata": {
    "collapsed": false,
    "pycharm": {
     "name": "#%%\n"
    }
   }
  },
  {
   "cell_type": "markdown",
   "source": [
    "### Determine if you deal with nifti1 or nifti2 given a .nii file.\n",
    "(see https://discourse.itk.org/t/nifti-1-or-nifti-2-data-format/4330)"
   ],
   "metadata": {
    "collapsed": false,
    "pycharm": {
     "name": "#%% md\n"
    }
   }
  },
  {
   "cell_type": "code",
   "execution_count": 57,
   "outputs": [
    {
     "name": "stdout",
     "output_type": "stream",
     "text": [
      "nifti1\n"
     ]
    }
   ],
   "source": [
    "file_name = './datasets/aal/atlas/AAL2.nii'\n",
    "nii1_sizeof_hdr = 348\n",
    "nii2_sizeof_hdr = 540\n",
    "\n",
    "with open(file_name, 'rb') as fp:\n",
    "    byte_data = fp.read(4)\n",
    "    sizeof_hdr = int.from_bytes(byte_data, byteorder='little')\n",
    "    if sizeof_hdr == nii1_sizeof_hdr:\n",
    "        print('nifti1')\n",
    "    elif sizeof_hdr == nii2_sizeof_hdr:\n",
    "        print('nifti2')\n",
    "    else: #big endian\n",
    "        sizeof_hdr = int.from_bytes(byte_data, byteorder='big')\n",
    "        if sizeof_hdr == nii1_sizeof_hdr:\n",
    "            print('nifti1')\n",
    "        elif sizeof_hdr == nii2_sizeof_hdr:\n",
    "            print('nifti2')"
   ],
   "metadata": {
    "collapsed": false,
    "pycharm": {
     "name": "#%%\n"
    }
   }
  },
  {
   "cell_type": "markdown",
   "source": [
    "Now I saw, that this is actually displayed in the finder too."
   ],
   "metadata": {
    "collapsed": false,
    "pycharm": {
     "name": "#%% md\n"
    }
   }
  },
  {
   "cell_type": "markdown",
   "source": [
    "### Read the aal2-atlas and extract some info\n",
    "(see https://nipy.org/nibabel/gettingstarted.html)"
   ],
   "metadata": {
    "collapsed": false,
    "pycharm": {
     "name": "#%% md\n"
    }
   }
  },
  {
   "cell_type": "code",
   "execution_count": 58,
   "outputs": [],
   "source": [
    "img = nib.load(file_name)"
   ],
   "metadata": {
    "collapsed": false,
    "pycharm": {
     "name": "#%%\n"
    }
   }
  },
  {
   "cell_type": "code",
   "execution_count": 6,
   "outputs": [
    {
     "data": {
      "text/plain": "(91, 109, 91)"
     },
     "execution_count": 6,
     "metadata": {},
     "output_type": "execute_result"
    }
   ],
   "source": [
    "img.shape"
   ],
   "metadata": {
    "collapsed": false,
    "pycharm": {
     "name": "#%%\n"
    }
   }
  },
  {
   "cell_type": "code",
   "execution_count": 59,
   "outputs": [
    {
     "data": {
      "text/plain": "dtype('>i2')"
     },
     "execution_count": 59,
     "metadata": {},
     "output_type": "execute_result"
    }
   ],
   "source": [
    "img.get_data_dtype()"
   ],
   "metadata": {
    "collapsed": false,
    "pycharm": {
     "name": "#%%\n"
    }
   }
  },
  {
   "cell_type": "code",
   "execution_count": 16,
   "outputs": [
    {
     "name": "stdout",
     "output_type": "stream",
     "text": [
      "(4, 4)\n",
      "[[  -2.    0.    0.   90.]\n",
      " [   0.    2.    0. -126.]\n",
      " [   0.    0.    2.  -72.]\n",
      " [   0.    0.    0.    1.]]\n",
      "[  90. -126.  -72.    1.]\n",
      "[-90.  90. 108.   1.]\n"
     ]
    }
   ],
   "source": [
    "print(img.affine.shape)\n",
    "print(img.affine)\n",
    "\n",
    "print(img.affine @ [0,0,0,1])\n",
    "print(img.affine @ np.hstack((90, 108, 90, 1)))"
   ],
   "metadata": {
    "collapsed": false,
    "pycharm": {
     "name": "#%%\n"
    }
   }
  },
  {
   "cell_type": "code",
   "execution_count": 61,
   "outputs": [
    {
     "name": "stdout",
     "output_type": "stream",
     "text": [
      "(91, 109, 91)\n",
      "0.0\n",
      "9170.0\n"
     ]
    }
   ],
   "source": [
    "data = img.get_fdata()\n",
    "print(data.shape)\n",
    "print(np.min(data))\n",
    "print(np.max(data))"
   ],
   "metadata": {
    "collapsed": false,
    "pycharm": {
     "name": "#%%\n"
    }
   }
  },
  {
   "cell_type": "code",
   "execution_count": 16,
   "outputs": [
    {
     "name": "stdout",
     "output_type": "stream",
     "text": [
      "<class 'nibabel.nifti1.Nifti1Header'> object, endian='>'\n",
      "sizeof_hdr      : 348\n",
      "data_type       : b''\n",
      "db_name         : b''\n",
      "extents         : 0\n",
      "session_error   : 0\n",
      "regular         : b'r'\n",
      "dim_info        : 0\n",
      "dim             : [  3  91 109  91   1   1   1   1]\n",
      "intent_p1       : 0.0\n",
      "intent_p2       : 0.0\n",
      "intent_p3       : 0.0\n",
      "intent_code     : none\n",
      "datatype        : int16\n",
      "bitpix          : 16\n",
      "slice_start     : 0\n",
      "pixdim          : [-1.  2.  2.  2.  0.  0.  0.  0.]\n",
      "vox_offset      : 0.0\n",
      "scl_slope       : nan\n",
      "scl_inter       : nan\n",
      "slice_end       : 0\n",
      "slice_code      : unknown\n",
      "xyzt_units      : 10\n",
      "cal_max         : 0.0\n",
      "cal_min         : 0.0\n",
      "slice_duration  : 0.0\n",
      "toffset         : 0.0\n",
      "glmax           : 0\n",
      "glmin           : 0\n",
      "descrip         : b'FSL3.3'\n",
      "aux_file        : b''\n",
      "qform_code      : aligned\n",
      "sform_code      : aligned\n",
      "quatern_b       : 0.0\n",
      "quatern_c       : 1.0\n",
      "quatern_d       : 0.0\n",
      "qoffset_x       : 90.0\n",
      "qoffset_y       : -126.0\n",
      "qoffset_z       : -72.0\n",
      "srow_x          : [-2.  0.  0. 90.]\n",
      "srow_y          : [   0.    2.    0. -126.]\n",
      "srow_z          : [  0.   0.   2. -72.]\n",
      "intent_name     : b''\n",
      "magic           : b'n+1'\n",
      "('mm', 'sec')\n"
     ]
    }
   ],
   "source": [
    "hdr = img.header\n",
    "print(hdr)\n",
    "print(hdr.get_xyzt_units())"
   ],
   "metadata": {
    "collapsed": false,
    "pycharm": {
     "name": "#%%\n"
    }
   }
  },
  {
   "cell_type": "code",
   "execution_count": 17,
   "outputs": [],
   "source": [
    "img2 = nib.load(\"./datasets/aal/aal2.nii.gz\")"
   ],
   "metadata": {
    "collapsed": false,
    "pycharm": {
     "name": "#%%\n"
    }
   }
  },
  {
   "cell_type": "code",
   "execution_count": 18,
   "outputs": [
    {
     "name": "stderr",
     "output_type": "stream",
     "text": [
      "/var/folders/0l/jbpgzw1115n30m0dk2mmp60c0000gn/T/ipykernel_14958/241724561.py:3: DeprecationWarning: get_data() is deprecated in favor of get_fdata(), which has a more predictable return type. To obtain get_data() behavior going forward, use numpy.asanyarray(img.dataobj).\n",
      "\n",
      "* deprecated from version: 3.0\n",
      "* Will raise <class 'nibabel.deprecator.ExpiredDeprecationError'> as of version: 5.0\n",
      "  np.all(img3.get_data() == data)\n"
     ]
    },
    {
     "data": {
      "text/plain": "True"
     },
     "execution_count": 18,
     "metadata": {},
     "output_type": "execute_result"
    }
   ],
   "source": [
    "img3 = nib.load(\"./datasets/aal/ROI_MNI_V5.nii\")\n",
    "\n",
    "np.all(img3.get_data() == data)"
   ],
   "metadata": {
    "collapsed": false,
    "pycharm": {
     "name": "#%%\n"
    }
   }
  },
  {
   "cell_type": "code",
   "execution_count": 14,
   "outputs": [
    {
     "data": {
      "text/plain": "(91, 109, 91)"
     },
     "execution_count": 14,
     "metadata": {},
     "output_type": "execute_result"
    }
   ],
   "source": [
    "img2.shape"
   ],
   "metadata": {
    "collapsed": false,
    "pycharm": {
     "name": "#%%\n"
    }
   }
  },
  {
   "cell_type": "markdown",
   "source": [
    "# ..."
   ],
   "metadata": {
    "collapsed": false,
    "pycharm": {
     "name": "#%% md\n"
    }
   }
  },
  {
   "cell_type": "code",
   "execution_count": 15,
   "outputs": [
    {
     "data": {
      "text/plain": "Text(0.5, 0.98, 'Center slices for EPI image')"
     },
     "execution_count": 15,
     "metadata": {},
     "output_type": "execute_result"
    },
    {
     "data": {
      "text/plain": "<Figure size 432x288 with 3 Axes>",
      "image/png": "[encoded data removed]"
     },
     "metadata": {
      "needs_background": "light"
     },
     "output_type": "display_data"
    }
   ],
   "source": [
    "def show_slices(slices):\n",
    "    \"\"\" Function to display row of image slices \"\"\"\n",
    "    fig, axes = plt.subplots(1, len(slices))\n",
    "    for i, slice in enumerate(slices):\n",
    "        axes[i].imshow(slice.T, cmap=\"gray\", origin=\"lower\")\n",
    "\n",
    "slice_0 = data[26, :, :]\n",
    "slice_1 = data[:, 30, :]\n",
    "slice_2 = data[:, :, 16]\n",
    "show_slices([slice_0, slice_1, slice_2])\n",
    "plt.suptitle(\"Center slices for EPI image\")"
   ],
   "metadata": {
    "collapsed": false,
    "pycharm": {
     "name": "#%%\n"
    }
   }
  },
  {
   "cell_type": "markdown",
   "source": [
    "### Access the coordinates of the source space"
   ],
   "metadata": {
    "collapsed": false,
    "pycharm": {
     "name": "#%% md\n"
    }
   }
  },
  {
   "cell_type": "code",
   "execution_count": 16,
   "outputs": [],
   "source": [
    "import os.path as op\n",
    "import mne\n",
    "from mne.datasets import sample\n",
    "data_path = sample.data_path()\n",
    "\n",
    "# the raw file containing the channel location + types\n",
    "sample_dir = op.join(data_path, 'MEG', 'sample',)\n",
    "raw_fname = op.join(sample_dir, 'sample_audvis_raw.fif')\n",
    "# The paths to Freesurfer reconstructions\n",
    "subjects_dir = op.join(data_path, 'subjects')\n",
    "subject = 'sample'"
   ],
   "metadata": {
    "collapsed": false,
    "pycharm": {
     "name": "#%%\n"
    }
   }
  },
  {
   "cell_type": "code",
   "execution_count": 17,
   "outputs": [
    {
     "name": "stdout",
     "output_type": "stream",
     "text": [
      "Setting up the source space with the following parameters:\n",
      "\n",
      "SUBJECTS_DIR = /Users/martin/mne_data/MNE-sample-data/subjects\n",
      "Subject      = sample\n",
      "Surface      = white\n",
      "Octahedron subdivision grade 4\n",
      "\n",
      ">>> 1. Creating the source space...\n",
      "\n",
      "Doing the octahedral vertex picking...\n",
      "Loading /Users/martin/mne_data/MNE-sample-data/subjects/sample/surf/lh.white...\n",
      "Mapping lh sample -> oct (4) ...\n",
      "    Triangle neighbors and vertex normals...\n",
      "Loading geometry from /Users/martin/mne_data/MNE-sample-data/subjects/sample/surf/lh.sphere...\n",
      "Setting up the triangulation for the decimated surface...\n",
      "loaded lh.white 258/155407 selected to source space (oct = 4)\n",
      "\n",
      "Loading /Users/martin/mne_data/MNE-sample-data/subjects/sample/surf/rh.white...\n",
      "Mapping rh sample -> oct (4) ...\n",
      "    Triangle neighbors and vertex normals...\n",
      "Loading geometry from /Users/martin/mne_data/MNE-sample-data/subjects/sample/surf/rh.sphere...\n",
      "Setting up the triangulation for the decimated surface...\n",
      "loaded rh.white 258/156866 selected to source space (oct = 4)\n",
      "\n",
      "Calculating patch information (limit=0.0 mm)...\n",
      "    Computing patch statistics...\n",
      "    Patch information added...\n",
      "    Computing patch statistics...\n",
      "    Patch information added...\n",
      "You are now one step closer to computing the gain matrix\n",
      "<SourceSpaces: [<surface (lh), n_vertices=155407, n_used=258>, <surface (rh), n_vertices=156866, n_used=258>] MRI (surface RAS) coords, subject 'sample', ~28.7 MB>\n"
     ]
    }
   ],
   "source": [
    "src = mne.setup_source_space(subject, spacing='oct4', add_dist='patch',\n",
    "                             subjects_dir=subjects_dir)\n",
    "print(src)"
   ],
   "metadata": {
    "collapsed": false,
    "pycharm": {
     "name": "#%%\n"
    }
   }
  },
  {
   "cell_type": "code",
   "execution_count": 18,
   "outputs": [
    {
     "data": {
      "text/plain": "{'working_dir': '/Users/martin/Documents/Uni_MSc/Semester04/ni_project/neurolib/ni_eeg_forward_project',\n 'command_line': 'setup_source_space(sample, spacing=oct4, surface=white, subjects_dir=/Users/martin/mne_data/MNE-sample-data/subjects, add_dist=patch, verbose=None)'}"
     },
     "execution_count": 18,
     "metadata": {},
     "output_type": "execute_result"
    }
   ],
   "source": [
    "src.info"
   ],
   "metadata": {
    "collapsed": false,
    "pycharm": {
     "name": "#%%\n"
    }
   }
  },
  {
   "cell_type": "code",
   "execution_count": 47,
   "outputs": [
    {
     "name": "stdout",
     "output_type": "stream",
     "text": [
      "Using pyvistaqt 3d backend.\n",
      "\n"
     ]
    },
    {
     "data": {
      "text/plain": "<mne.viz.backends._pyvista.PyVistaFigure at 0x14754d630>"
     },
     "execution_count": 47,
     "metadata": {},
     "output_type": "execute_result"
    }
   ],
   "source": [
    "# shows fancy 3D visualization\n",
    "src.plot(subjects_dir=subjects_dir)"
   ],
   "metadata": {
    "collapsed": false,
    "pycharm": {
     "name": "#%%\n"
    }
   }
  },
  {
   "cell_type": "code",
   "execution_count": 49,
   "outputs": [
    {
     "name": "stdout",
     "output_type": "stream",
     "text": [
      "Reading FreeSurfer lookup table\n"
     ]
    },
    {
     "ename": "ValueError",
     "evalue": "Source spaces must contain at least one volume.",
     "output_type": "error",
     "traceback": [
      "\u001B[0;31m---------------------------------------------------------------------------\u001B[0m",
      "\u001B[0;31mValueError\u001B[0m                                Traceback (most recent call last)",
      "Input \u001B[0;32mIn [49]\u001B[0m, in \u001B[0;36m<cell line: 1>\u001B[0;34m()\u001B[0m\n\u001B[0;32m----> 1\u001B[0m \u001B[43msrc\u001B[49m\u001B[38;5;241;43m.\u001B[39;49m\u001B[43mexport_volume\u001B[49m\u001B[43m(\u001B[49m\u001B[38;5;124;43m\"\u001B[39;49m\u001B[38;5;124;43msource_space_sample_subject.nii\u001B[39;49m\u001B[38;5;124;43m\"\u001B[39;49m\u001B[43m,\u001B[49m\n\u001B[1;32m      2\u001B[0m \u001B[43m                  \u001B[49m\u001B[43mdest\u001B[49m\u001B[38;5;241;43m=\u001B[39;49m\u001B[38;5;124;43m\"\u001B[39;49m\u001B[38;5;124;43msurf\u001B[39;49m\u001B[38;5;124;43m\"\u001B[39;49m\u001B[43m,\u001B[49m\n\u001B[1;32m      3\u001B[0m \u001B[43m                  \u001B[49m\u001B[43mmri_resolution\u001B[49m\u001B[38;5;241;43m=\u001B[39;49m\u001B[43m \u001B[49m\u001B[38;5;124;43m\"\u001B[39;49m\u001B[38;5;124;43msparse\u001B[39;49m\u001B[38;5;124;43m\"\u001B[39;49m\u001B[43m)\u001B[49m\n",
      "File \u001B[0;32m<decorator-gen-138>:12\u001B[0m, in \u001B[0;36mexport_volume\u001B[0;34m(self, fname, include_surfaces, include_discrete, dest, trans, mri_resolution, use_lut, overwrite, verbose)\u001B[0m\n",
      "File \u001B[0;32m~/anaconda3/envs/mne/lib/python3.10/site-packages/mne/source_space.py:396\u001B[0m, in \u001B[0;36mSourceSpaces.export_volume\u001B[0;34m(self, fname, include_surfaces, include_discrete, dest, trans, mri_resolution, use_lut, overwrite, verbose)\u001B[0m\n\u001B[1;32m    394\u001B[0m \u001B[38;5;66;03m# Raise error if there are no volume source spaces\u001B[39;00m\n\u001B[1;32m    395\u001B[0m \u001B[38;5;28;01mif\u001B[39;00m \u001B[38;5;28mlen\u001B[39m(src_types[\u001B[38;5;124m'\u001B[39m\u001B[38;5;124mvolume\u001B[39m\u001B[38;5;124m'\u001B[39m]) \u001B[38;5;241m==\u001B[39m \u001B[38;5;241m0\u001B[39m:\n\u001B[0;32m--> 396\u001B[0m     \u001B[38;5;28;01mraise\u001B[39;00m \u001B[38;5;167;01mValueError\u001B[39;00m(\u001B[38;5;124m'\u001B[39m\u001B[38;5;124mSource spaces must contain at least one volume.\u001B[39m\u001B[38;5;124m'\u001B[39m)\n\u001B[1;32m    398\u001B[0m \u001B[38;5;66;03m# Get shape, inuse array and interpolation matrix from volume sources\u001B[39;00m\n\u001B[1;32m    399\u001B[0m src \u001B[38;5;241m=\u001B[39m src_types[\u001B[38;5;124m'\u001B[39m\u001B[38;5;124mvolume\u001B[39m\u001B[38;5;124m'\u001B[39m][\u001B[38;5;241m0\u001B[39m]\n",
      "\u001B[0;31mValueError\u001B[0m: Source spaces must contain at least one volume."
     ]
    }
   ],
   "source": [
    "src.export_volume(\"source_space_sample_subject.nii\",\n",
    "                  dest=\"surf\",\n",
    "                  mri_resolution= \"sparse\")    # dest=\"surf\" for coordinate space of the FreeSurfer surface (Surface RAS)\n",
    "                                            # mri_resolution:\n",
    "                                            #\n",
    "                                            # use_lut : https://surfer.nmr.mgh.harvard.edu/fswiki/LabelsClutsAnnotationFiles"
   ],
   "metadata": {
    "collapsed": false,
    "pycharm": {
     "name": "#%%\n"
    }
   }
  },
  {
   "cell_type": "markdown",
   "source": [
    "# Other example that works\n",
    "(see https://mne.tools/stable/auto_examples/forward/left_cerebellum_volume_source.html)"
   ],
   "metadata": {
    "collapsed": false,
    "pycharm": {
     "name": "#%% md\n"
    }
   }
  },
  {
   "cell_type": "code",
   "execution_count": 7,
   "outputs": [],
   "source": [
    "from mne.datasets import sample\n",
    "\n",
    "data_path = sample.data_path()\n",
    "subjects_dir = op.join(data_path, 'subjects')\n",
    "subject = 'sample'\n",
    "aseg_fname = op.join(subjects_dir, 'sample', 'mri', 'aseg.mgz')"
   ],
   "metadata": {
    "collapsed": false,
    "pycharm": {
     "name": "#%%\n"
    }
   }
  },
  {
   "cell_type": "code",
   "execution_count": 8,
   "outputs": [
    {
     "name": "stdout",
     "output_type": "stream",
     "text": [
      "Setting up the source space with the following parameters:\n",
      "\n",
      "SUBJECTS_DIR = /Users/martin/mne_data/MNE-sample-data/subjects\n",
      "Subject      = sample\n",
      "Surface      = white\n",
      "Octahedron subdivision grade 6\n",
      "\n",
      ">>> 1. Creating the source space...\n",
      "\n",
      "Doing the octahedral vertex picking...\n",
      "Loading /Users/martin/mne_data/MNE-sample-data/subjects/sample/surf/lh.white...\n",
      "Mapping lh sample -> oct (6) ...\n",
      "    Triangle neighbors and vertex normals...\n",
      "Loading geometry from /Users/martin/mne_data/MNE-sample-data/subjects/sample/surf/lh.sphere...\n",
      "Setting up the triangulation for the decimated surface...\n",
      "loaded lh.white 4098/155407 selected to source space (oct = 6)\n",
      "\n",
      "Loading /Users/martin/mne_data/MNE-sample-data/subjects/sample/surf/rh.white...\n",
      "Mapping rh sample -> oct (6) ...\n",
      "    Triangle neighbors and vertex normals...\n",
      "Loading geometry from /Users/martin/mne_data/MNE-sample-data/subjects/sample/surf/rh.sphere...\n",
      "Setting up the triangulation for the decimated surface...\n",
      "loaded rh.white 4098/156866 selected to source space (oct = 6)\n",
      "\n",
      "You are now one step closer to computing the gain matrix\n",
      "Sphere                : origin at (0.0 0.0 0.0) mm\n",
      "              radius  : 120.0 mm\n",
      "grid                  : 5.0 mm\n",
      "mindist               : 5.0 mm\n",
      "MRI volume            : /Users/martin/mne_data/MNE-sample-data/subjects/sample/mri/aseg.mgz\n",
      "\n",
      "Reading /Users/martin/mne_data/MNE-sample-data/subjects/sample/mri/aseg.mgz...\n",
      "\n",
      "Setting up the sphere...\n",
      "Surface CM = (   0.0    0.0    0.0) mm\n",
      "Surface fits inside a sphere with radius  120.0 mm\n",
      "Surface extent:\n",
      "    x = -120.0 ...  120.0 mm\n",
      "    y = -120.0 ...  120.0 mm\n",
      "    z = -120.0 ...  120.0 mm\n",
      "Grid extent:\n",
      "    x = -125.0 ...  125.0 mm\n",
      "    y = -125.0 ...  125.0 mm\n",
      "    z = -125.0 ...  125.0 mm\n",
      "132651 sources before omitting any.\n",
      "57769 sources after omitting infeasible sources not within 0.0 - 120.0 mm.\n",
      "50733 sources remaining after excluding the sources outside the surface and less than    5.0 mm inside.\n",
      "    Selected 401 voxels from Left-Cerebellum-Cortex\n",
      "Adjusting the neighborhood info.\n",
      "Source space : MRI voxel -> MRI (surface RAS)\n",
      "     0.005000  0.000000  0.000000    -125.00 mm\n",
      "     0.000000  0.005000  0.000000    -125.00 mm\n",
      "     0.000000  0.000000  0.005000    -125.00 mm\n",
      "     0.000000  0.000000  0.000000       1.00\n",
      "MRI volume : MRI voxel -> MRI (surface RAS)\n",
      "    -0.001000  0.000000  0.000000     128.00 mm\n",
      "     0.000000  0.000000  0.001000    -128.00 mm\n",
      "     0.000000 -0.001000  0.000000     128.00 mm\n",
      "     0.000000  0.000000  0.000000       1.00\n",
      "MRI volume : MRI (surface RAS) -> RAS (non-zero origin)\n",
      "     1.000000 -0.000000 -0.000000      -5.27 mm\n",
      "    -0.000000  1.000000 -0.000000       9.04 mm\n",
      "    -0.000000  0.000000  1.000000     -27.29 mm\n",
      "     0.000000  0.000000  0.000000       1.00\n",
      "Setting up volume interpolation ...\n",
      "    556177/16777216 nonzero values for Left-Cerebellum-Cortex\n",
      "[done]\n",
      "Reading FreeSurfer lookup table\n"
     ]
    }
   ],
   "source": [
    "surf = mne.setup_source_space(subject, subjects_dir=subjects_dir, add_dist=False)\n",
    "lh_surf = surf[0]\n",
    "\n",
    "# setup a volume source space of the left cerebellum cortex\n",
    "volume_label = 'Left-Cerebellum-Cortex'\n",
    "sphere = (0, 0, 0, 0.12)\n",
    "lh_cereb = mne.setup_volume_source_space(\n",
    "    subject, mri=aseg_fname, sphere=sphere, volume_label=volume_label,\n",
    "    subjects_dir=subjects_dir, sphere_units='m')\n",
    "\n",
    "# Combine the source spaces\n",
    "src = surf + lh_cereb\n",
    "\n",
    "nii_fname = 'mne_sample_lh-cerebellum-cortex.nii'\n",
    "src.export_volume(nii_fname, mri_resolution=True)"
   ],
   "metadata": {
    "collapsed": false,
    "pycharm": {
     "name": "#%%\n"
    }
   }
  },
  {
   "cell_type": "markdown",
   "source": [],
   "metadata": {
    "collapsed": false,
    "pycharm": {
     "name": "#%% md\n"
    }
   }
  },
  {
   "cell_type": "code",
   "execution_count": 56,
   "outputs": [
    {
     "name": "stdout",
     "output_type": "stream",
     "text": [
      "(256, 256, 256)\n",
      "[ 0.  3.  8. 42.]\n"
     ]
    },
    {
     "data": {
      "text/plain": "<Figure size 432x288 with 1 Axes>",
      "image/png": "[encoded data removed]"
     },
     "metadata": {
      "needs_background": "light"
     },
     "output_type": "display_data"
    }
   ],
   "source": [
    "nii_fname = 'mne_sample_lh-cerebellum-cortex.nii'\n",
    "img = nib.load(nii_fname)\n",
    "data = img.get_fdata()\n",
    "print(data.shape)\n",
    "\n",
    "print(np.unique(data))\n",
    "\n",
    "plt.imshow((data[:, 60,:]))\n",
    "plt.show()\n",
    "\n",
    "# is the \"turned off\" hemisphere maybe assigned one of the intermediate values?"
   ],
   "metadata": {
    "collapsed": false,
    "pycharm": {
     "name": "#%%\n"
    }
   }
  },
  {
   "cell_type": "code",
   "execution_count": 22,
   "outputs": [
    {
     "name": "stdout",
     "output_type": "stream",
     "text": [
      "<class 'nibabel.nifti1.Nifti1Header'> object, endian='<'\n",
      "sizeof_hdr      : 348\n",
      "data_type       : b''\n",
      "db_name         : b''\n",
      "extents         : 0\n",
      "session_error   : 0\n",
      "regular         : b''\n",
      "dim_info        : 0\n",
      "dim             : [  3 256 256 256   1   1   1   1]\n",
      "intent_p1       : 0.0\n",
      "intent_p2       : 0.0\n",
      "intent_p3       : 0.0\n",
      "intent_code     : none\n",
      "datatype        : float32\n",
      "bitpix          : 32\n",
      "slice_start     : 0\n",
      "pixdim          : [-1.  1.  1.  1.  1.  1.  1.  1.]\n",
      "vox_offset      : 0.0\n",
      "scl_slope       : nan\n",
      "scl_inter       : nan\n",
      "slice_end       : 0\n",
      "slice_code      : unknown\n",
      "xyzt_units      : 2\n",
      "cal_max         : 0.0\n",
      "cal_min         : 0.0\n",
      "slice_duration  : 0.0\n",
      "toffset         : 0.0\n",
      "glmax           : 0\n",
      "glmin           : 0\n",
      "descrip         : b''\n",
      "aux_file        : b''\n",
      "qform_code      : unknown\n",
      "sform_code      : aligned\n",
      "quatern_b       : 0.0\n",
      "quatern_c       : -0.70710677\n",
      "quatern_d       : 0.70710677\n",
      "qoffset_x       : 128.0\n",
      "qoffset_y       : -128.0\n",
      "qoffset_z       : 128.0\n",
      "srow_x          : [ -1.   0.   0. 128.]\n",
      "srow_y          : [   0.    0.    1. -128.]\n",
      "srow_z          : [  0.  -1.   0. 128.]\n",
      "intent_name     : b''\n",
      "magic           : b'n+1'\n"
     ]
    }
   ],
   "source": [
    "print(img.header)"
   ],
   "metadata": {
    "collapsed": false,
    "pycharm": {
     "name": "#%%\n"
    }
   }
  },
  {
   "cell_type": "code",
   "execution_count": 24,
   "outputs": [
    {
     "name": "stdout",
     "output_type": "stream",
     "text": [
      "('mm', 'unknown')\n"
     ]
    }
   ],
   "source": [
    "hdr = img.header\n",
    "print(hdr.get_xyzt_units())"
   ],
   "metadata": {
    "collapsed": false,
    "pycharm": {
     "name": "#%%\n"
    }
   }
  },
  {
   "cell_type": "markdown",
   "source": [
    "# Theres a \"LUT\" delivered with AAL2"
   ],
   "metadata": {
    "collapsed": false,
    "pycharm": {
     "name": "#%% md\n"
    }
   }
  },
  {
   "cell_type": "code",
   "execution_count": 4,
   "outputs": [
    {
     "data": {
      "text/plain": "({'Unknown': 0,\n  'Left-Cerebral-Exterior': 1,\n  'Left-Cerebral-White-Matter': 2,\n  'Left-Cerebral-Cortex': 3,\n  'Left-Lateral-Ventricle': 4,\n  'Left-Inf-Lat-Vent': 5,\n  'Left-Cerebellum-Exterior': 6,\n  'Left-Cerebellum-White-Matter': 7,\n  'Left-Cerebellum-Cortex': 8,\n  'Left-Thalamus': 9,\n  'Left-Thalamus-Proper': 10,\n  'Left-Caudate': 11,\n  'Left-Putamen': 12,\n  'Left-Pallidum': 13,\n  '3rd-Ventricle': 14,\n  '4th-Ventricle': 15,\n  'Brain-Stem': 16,\n  'Left-Hippocampus': 17,\n  'Left-Amygdala': 18,\n  'Left-Insula': 19,\n  'Left-Operculum': 20,\n  'Line-1': 21,\n  'Line-2': 22,\n  'Line-3': 23,\n  'CSF': 24,\n  'Left-Lesion': 25,\n  'Left-Accumbens-area': 26,\n  'Left-Substancia-Nigra': 27,\n  'Left-VentralDC': 28,\n  'Left-undetermined': 29,\n  'Left-vessel': 30,\n  'Left-choroid-plexus': 31,\n  'Left-F3orb': 32,\n  'Left-lOg': 33,\n  'Left-aOg': 34,\n  'Left-mOg': 35,\n  'Left-pOg': 36,\n  'Left-Stellate': 37,\n  'Left-Porg': 38,\n  'Left-Aorg': 39,\n  'Right-Cerebral-Exterior': 40,\n  'Right-Cerebral-White-Matter': 41,\n  'Right-Cerebral-Cortex': 42,\n  'Right-Lateral-Ventricle': 43,\n  'Right-Inf-Lat-Vent': 44,\n  'Right-Cerebellum-Exterior': 45,\n  'Right-Cerebellum-White-Matter': 46,\n  'Right-Cerebellum-Cortex': 47,\n  'Right-Thalamus': 48,\n  'Right-Thalamus-Proper': 49,\n  'Right-Caudate': 50,\n  'Right-Putamen': 51,\n  'Right-Pallidum': 52,\n  'Right-Hippocampus': 53,\n  'Right-Amygdala': 54,\n  'Right-Insula': 55,\n  'Right-Operculum': 56,\n  'Right-Lesion': 57,\n  'Right-Accumbens-area': 58,\n  'Right-Substancia-Nigra': 59,\n  'Right-VentralDC': 60,\n  'Right-undetermined': 61,\n  'Right-vessel': 62,\n  'Right-choroid-plexus': 63,\n  'Right-F3orb': 64,\n  'Right-lOg': 65,\n  'Right-aOg': 66,\n  'Right-mOg': 67,\n  'Right-pOg': 68,\n  'Right-Stellate': 69,\n  'Right-Porg': 70,\n  'Right-Aorg': 71,\n  '5th-Ventricle': 72,\n  'Left-Interior': 73,\n  'Right-Interior': 74,\n  'WM-hypointensities': 77,\n  'Left-WM-hypointensities': 78,\n  'Right-WM-hypointensities': 79,\n  'non-WM-hypointensities': 80,\n  'Left-non-WM-hypointensities': 81,\n  'Right-non-WM-hypointensities': 82,\n  'Left-F1': 83,\n  'Right-F1': 84,\n  'Optic-Chiasm': 85,\n  'Corpus_Callosum': 192,\n  'Left_future_WMSA': 86,\n  'Right_future_WMSA': 87,\n  'future_WMSA': 88,\n  'Left-Amygdala-Anterior': 96,\n  'Right-Amygdala-Anterior': 97,\n  'Dura': 98,\n  'Left-wm-intensity-abnormality': 100,\n  'Left-caudate-intensity-abnormality': 101,\n  'Left-putamen-intensity-abnormality': 102,\n  'Left-accumbens-intensity-abnormality': 103,\n  'Left-pallidum-intensity-abnormality': 104,\n  'Left-amygdala-intensity-abnormality': 105,\n  'Left-hippocampus-intensity-abnormality': 106,\n  'Left-thalamus-intensity-abnormality': 107,\n  'Left-VDC-intensity-abnormality': 108,\n  'Right-wm-intensity-abnormality': 109,\n  'Right-caudate-intensity-abnormality': 110,\n  'Right-putamen-intensity-abnormality': 111,\n  'Right-accumbens-intensity-abnormality': 112,\n  'Right-pallidum-intensity-abnormality': 113,\n  'Right-amygdala-intensity-abnormality': 114,\n  'Right-hippocampus-intensity-abnormality': 115,\n  'Right-thalamus-intensity-abnormality': 116,\n  'Right-VDC-intensity-abnormality': 117,\n  'Epidermis': 118,\n  'Conn-Tissue': 119,\n  'SC-Fat-Muscle': 120,\n  'Cranium': 121,\n  'CSF-SA': 122,\n  'Muscle': 123,\n  'Ear': 124,\n  'Adipose': 125,\n  'Spinal-Cord': 126,\n  'Soft-Tissue': 127,\n  'Nerve': 128,\n  'Bone': 129,\n  'Air': 130,\n  'Orbital-Fat': 131,\n  'Tongue': 132,\n  'Nasal-Structures': 133,\n  'Globe': 134,\n  'Teeth': 135,\n  'Left-Caudate-Putamen': 136,\n  'Right-Caudate-Putamen': 137,\n  'Left-Claustrum': 138,\n  'Right-Claustrum': 139,\n  'Cornea': 140,\n  'Diploe': 142,\n  'Vitreous-Humor': 143,\n  'Lens': 144,\n  'Aqueous-Humor': 145,\n  'Outer-Table': 146,\n  'Inner-Table': 147,\n  'Periosteum': 148,\n  'Endosteum': 149,\n  'R-C-S': 150,\n  'Iris': 151,\n  'SC-Adipose-Muscle': 152,\n  'SC-Tissue': 153,\n  'Orbital-Adipose': 154,\n  'Left-IntCapsule-Ant': 155,\n  'Right-IntCapsule-Ant': 156,\n  'Left-IntCapsule-Pos': 157,\n  'Right-IntCapsule-Pos': 158,\n  'Left-Cerebral-WM-unmyelinated': 159,\n  'Right-Cerebral-WM-unmyelinated': 160,\n  'Left-Cerebral-WM-myelinated': 161,\n  'Right-Cerebral-WM-myelinated': 162,\n  'Left-Subcortical-Gray-Matter': 163,\n  'Right-Subcortical-Gray-Matter': 164,\n  'Skull': 165,\n  'Posterior-fossa': 166,\n  'Scalp': 167,\n  'Hematoma': 168,\n  'Left-Basal-Ganglia': 169,\n  'Right-Basal-Ganglia': 176,\n  'brainstem': 170,\n  'DCG': 171,\n  'Vermis': 172,\n  'Midbrain': 173,\n  'Pons': 174,\n  'Medulla': 175,\n  'Left-Cortical-Dysplasia': 180,\n  'Right-Cortical-Dysplasia': 181,\n  'Left-hippocampal_fissure': 193,\n  'Left-CADG-head': 194,\n  'Left-subiculum': 195,\n  'Left-fimbria': 196,\n  'Right-hippocampal_fissure': 197,\n  'Right-CADG-head': 198,\n  'Right-subiculum': 199,\n  'Right-fimbria': 200,\n  'alveus': 201,\n  'perforant_pathway': 202,\n  'parasubiculum': 203,\n  'presubiculum': 204,\n  'subiculum': 205,\n  'CA1': 206,\n  'CA2': 207,\n  'CA3': 208,\n  'CA4': 209,\n  'GC-ML-DG': 210,\n  'HATA': 211,\n  'fimbria': 212,\n  'lateral_ventricle': 213,\n  'molecular_layer_HP': 214,\n  'hippocampal_fissure': 215,\n  'entorhinal_cortex': 216,\n  'molecular_layer_subiculum': 217,\n  'Amygdala': 218,\n  'Cerebral_White_Matter': 219,\n  'Cerebral_Cortex': 220,\n  'Inf_Lat_Vent': 221,\n  'Perirhinal': 222,\n  'Cerebral_White_Matter_Edge': 223,\n  'Background': 224,\n  'Ectorhinal': 225,\n  'HP_tail': 226,\n  'Fornix': 250,\n  'CC_Posterior': 251,\n  'CC_Mid_Posterior': 252,\n  'CC_Central': 253,\n  'CC_Mid_Anterior': 254,\n  'CC_Anterior': 255,\n  'Voxel-Unchanged': 256,\n  'Aorta': 331,\n  'Left-Common-IliacA': 332,\n  'Right-Common-IliacA': 333,\n  'Left-External-IliacA': 334,\n  'Right-External-IliacA': 335,\n  'Left-Internal-IliacA': 336,\n  'Right-Internal-IliacA': 337,\n  'Left-Lateral-SacralA': 338,\n  'Right-Lateral-SacralA': 339,\n  'Left-ObturatorA': 340,\n  'Right-ObturatorA': 341,\n  'Left-Internal-PudendalA': 342,\n  'Right-Internal-PudendalA': 343,\n  'Left-UmbilicalA': 344,\n  'Right-UmbilicalA': 345,\n  'Left-Inf-RectalA': 346,\n  'Right-Inf-RectalA': 347,\n  'Left-Common-IliacV': 348,\n  'Right-Common-IliacV': 349,\n  'Left-External-IliacV': 350,\n  'Right-External-IliacV': 351,\n  'Left-Internal-IliacV': 352,\n  'Right-Internal-IliacV': 353,\n  'Left-ObturatorV': 354,\n  'Right-ObturatorV': 355,\n  'Left-Internal-PudendalV': 356,\n  'Right-Internal-PudendalV': 357,\n  'Pos-Lymph': 358,\n  'Neg-Lymph': 359,\n  'V1': 400,\n  'V2': 401,\n  'BA44': 402,\n  'BA45': 403,\n  'BA4a': 404,\n  'BA4p': 405,\n  'BA6': 406,\n  'BA2': 407,\n  'BA1_old': 408,\n  'BAun2': 409,\n  'BA1': 410,\n  'BA2b': 411,\n  'BA3a': 412,\n  'BA3b': 413,\n  'MT': 414,\n  'AIPS_AIP_l': 415,\n  'AIPS_AIP_r': 416,\n  'AIPS_VIP_l': 417,\n  'AIPS_VIP_r': 418,\n  'IPL_PFcm_l': 419,\n  'IPL_PFcm_r': 420,\n  'IPL_PF_l': 421,\n  'IPL_PFm_l': 422,\n  'IPL_PFm_r': 423,\n  'IPL_PFop_l': 424,\n  'IPL_PFop_r': 425,\n  'IPL_PF_r': 426,\n  'IPL_PFt_l': 427,\n  'IPL_PFt_r': 428,\n  'IPL_PGa_l': 429,\n  'IPL_PGa_r': 430,\n  'IPL_PGp_l': 431,\n  'IPL_PGp_r': 432,\n  'Visual_V3d_l': 433,\n  'Visual_V3d_r': 434,\n  'Visual_V4_l': 435,\n  'Visual_V4_r': 436,\n  'Visual_V5_b': 437,\n  'Visual_VP_l': 438,\n  'Visual_VP_r': 439,\n  'wmsa': 498,\n  'other_wmsa': 499,\n  'right_CA2_3': 500,\n  'right_alveus': 501,\n  'right_CA1': 502,\n  'right_fimbria': 503,\n  'right_presubiculum': 504,\n  'right_hippocampal_fissure': 505,\n  'right_CA4_DG': 506,\n  'right_subiculum': 507,\n  'right_fornix': 508,\n  'left_CA2_3': 550,\n  'left_alveus': 551,\n  'left_CA1': 552,\n  'left_fimbria': 553,\n  'left_presubiculum': 554,\n  'left_hippocampal_fissure': 555,\n  'left_CA4_DG': 556,\n  'left_subiculum': 557,\n  'left_fornix': 558,\n  'Tumor': 600,\n  'Cbm_Left_I_IV': 601,\n  'Cbm_Right_I_IV': 602,\n  'Cbm_Left_V': 603,\n  'Cbm_Right_V': 604,\n  'Cbm_Left_VI': 605,\n  'Cbm_Vermis_VI': 606,\n  'Cbm_Right_VI': 607,\n  'Cbm_Left_CrusI': 608,\n  'Cbm_Vermis_CrusI': 609,\n  'Cbm_Right_CrusI': 610,\n  'Cbm_Left_CrusII': 611,\n  'Cbm_Vermis_CrusII': 612,\n  'Cbm_Right_CrusII': 613,\n  'Cbm_Left_VIIb': 614,\n  'Cbm_Vermis_VIIb': 615,\n  'Cbm_Right_VIIb': 616,\n  'Cbm_Left_VIIIa': 617,\n  'Cbm_Vermis_VIIIa': 618,\n  'Cbm_Right_VIIIa': 619,\n  'Cbm_Left_VIIIb': 620,\n  'Cbm_Vermis_VIIIb': 621,\n  'Cbm_Right_VIIIb': 622,\n  'Cbm_Left_IX': 623,\n  'Cbm_Vermis_IX': 624,\n  'Cbm_Right_IX': 625,\n  'Cbm_Left_X': 626,\n  'Cbm_Vermis_X': 627,\n  'Cbm_Right_X': 628,\n  'Cbm_Right_I_V_med': 640,\n  'Cbm_Right_I_V_mid': 641,\n  'Cbm_Right_VI_med': 642,\n  'Cbm_Right_VI_mid': 643,\n  'Cbm_Right_VI_lat': 644,\n  'Cbm_Right_CrusI_med': 645,\n  'Cbm_Right_CrusI_mid': 646,\n  'Cbm_Right_CrusI_lat': 647,\n  'Cbm_Right_CrusII_med': 648,\n  'Cbm_Right_CrusII_mid': 649,\n  'Cbm_Right_CrusII_lat': 650,\n  'Cbm_Right_7med': 651,\n  'Cbm_Right_7mid': 652,\n  'Cbm_Right_7lat': 653,\n  'Cbm_Right_8med': 654,\n  'Cbm_Right_8mid': 655,\n  'Cbm_Right_8lat': 656,\n  'Cbm_Right_PUNs': 657,\n  'Cbm_Right_TONs': 658,\n  'Cbm_Right_FLOs': 659,\n  'Cbm_Left_I_V_med': 660,\n  'Cbm_Left_I_V_mid': 661,\n  'Cbm_Left_VI_med': 662,\n  'Cbm_Left_VI_mid': 663,\n  'Cbm_Left_VI_lat': 664,\n  'Cbm_Left_CrusI_med': 665,\n  'Cbm_Left_CrusI_mid': 666,\n  'Cbm_Left_CrusI_lat': 667,\n  'Cbm_Left_CrusII_med': 668,\n  'Cbm_Left_CrusII_mid': 669,\n  'Cbm_Left_CrusII_lat': 670,\n  'Cbm_Left_7med': 671,\n  'Cbm_Left_7mid': 672,\n  'Cbm_Left_7lat': 673,\n  'Cbm_Left_8med': 674,\n  'Cbm_Left_8mid': 675,\n  'Cbm_Left_8lat': 676,\n  'Cbm_Left_PUNs': 677,\n  'Cbm_Left_TONs': 678,\n  'Cbm_Left_FLOs': 679,\n  'CSF-FSL-FAST': 701,\n  'GrayMatter-FSL-FAST': 702,\n  'WhiteMatter-FSL-FAST': 703,\n  'SUSPICIOUS': 999,\n  'ctx-lh-unknown': 1000,\n  'ctx-lh-bankssts': 1001,\n  'ctx-lh-caudalanteriorcingulate': 1002,\n  'ctx-lh-caudalmiddlefrontal': 1003,\n  'ctx-lh-corpuscallosum': 1004,\n  'ctx-lh-cuneus': 1005,\n  'ctx-lh-entorhinal': 1006,\n  'ctx-lh-fusiform': 1007,\n  'ctx-lh-inferiorparietal': 1008,\n  'ctx-lh-inferiortemporal': 1009,\n  'ctx-lh-isthmuscingulate': 1010,\n  'ctx-lh-lateraloccipital': 1011,\n  'ctx-lh-lateralorbitofrontal': 1012,\n  'ctx-lh-lingual': 1013,\n  'ctx-lh-medialorbitofrontal': 1014,\n  'ctx-lh-middletemporal': 1015,\n  'ctx-lh-parahippocampal': 1016,\n  'ctx-lh-paracentral': 1017,\n  'ctx-lh-parsopercularis': 1018,\n  'ctx-lh-parsorbitalis': 1019,\n  'ctx-lh-parstriangularis': 1020,\n  'ctx-lh-pericalcarine': 1021,\n  'ctx-lh-postcentral': 1022,\n  'ctx-lh-posteriorcingulate': 1023,\n  'ctx-lh-precentral': 1024,\n  'ctx-lh-precuneus': 1025,\n  'ctx-lh-rostralanteriorcingulate': 1026,\n  'ctx-lh-rostralmiddlefrontal': 1027,\n  'ctx-lh-superiorfrontal': 1028,\n  'ctx-lh-superiorparietal': 1029,\n  'ctx-lh-superiortemporal': 1030,\n  'ctx-lh-supramarginal': 1031,\n  'ctx-lh-frontalpole': 1032,\n  'ctx-lh-temporalpole': 1033,\n  'ctx-lh-transversetemporal': 1034,\n  'ctx-lh-insula': 1035,\n  'ctx-rh-unknown': 2000,\n  'ctx-rh-bankssts': 2001,\n  'ctx-rh-caudalanteriorcingulate': 2002,\n  'ctx-rh-caudalmiddlefrontal': 2003,\n  'ctx-rh-corpuscallosum': 2004,\n  'ctx-rh-cuneus': 2005,\n  'ctx-rh-entorhinal': 2006,\n  'ctx-rh-fusiform': 2007,\n  'ctx-rh-inferiorparietal': 2008,\n  'ctx-rh-inferiortemporal': 2009,\n  'ctx-rh-isthmuscingulate': 2010,\n  'ctx-rh-lateraloccipital': 2011,\n  'ctx-rh-lateralorbitofrontal': 2012,\n  'ctx-rh-lingual': 2013,\n  'ctx-rh-medialorbitofrontal': 2014,\n  'ctx-rh-middletemporal': 2015,\n  'ctx-rh-parahippocampal': 2016,\n  'ctx-rh-paracentral': 2017,\n  'ctx-rh-parsopercularis': 2018,\n  'ctx-rh-parsorbitalis': 2019,\n  'ctx-rh-parstriangularis': 2020,\n  'ctx-rh-pericalcarine': 2021,\n  'ctx-rh-postcentral': 2022,\n  'ctx-rh-posteriorcingulate': 2023,\n  'ctx-rh-precentral': 2024,\n  'ctx-rh-precuneus': 2025,\n  'ctx-rh-rostralanteriorcingulate': 2026,\n  'ctx-rh-rostralmiddlefrontal': 2027,\n  'ctx-rh-superiorfrontal': 2028,\n  'ctx-rh-superiorparietal': 2029,\n  'ctx-rh-superiortemporal': 2030,\n  'ctx-rh-supramarginal': 2031,\n  'ctx-rh-frontalpole': 2032,\n  'ctx-rh-temporalpole': 2033,\n  'ctx-rh-transversetemporal': 2034,\n  'ctx-rh-insula': 2035,\n  'wm-lh-unknown': 3000,\n  'wm-lh-bankssts': 3001,\n  'wm-lh-caudalanteriorcingulate': 3002,\n  'wm-lh-caudalmiddlefrontal': 3003,\n  'wm-lh-corpuscallosum': 3004,\n  'wm-lh-cuneus': 3005,\n  'wm-lh-entorhinal': 3006,\n  'wm-lh-fusiform': 3007,\n  'wm-lh-inferiorparietal': 3008,\n  'wm-lh-inferiortemporal': 3009,\n  'wm-lh-isthmuscingulate': 3010,\n  'wm-lh-lateraloccipital': 3011,\n  'wm-lh-lateralorbitofrontal': 3012,\n  'wm-lh-lingual': 3013,\n  'wm-lh-medialorbitofrontal': 3014,\n  'wm-lh-middletemporal': 3015,\n  'wm-lh-parahippocampal': 3016,\n  'wm-lh-paracentral': 3017,\n  'wm-lh-parsopercularis': 3018,\n  'wm-lh-parsorbitalis': 3019,\n  'wm-lh-parstriangularis': 3020,\n  'wm-lh-pericalcarine': 3021,\n  'wm-lh-postcentral': 3022,\n  'wm-lh-posteriorcingulate': 3023,\n  'wm-lh-precentral': 3024,\n  'wm-lh-precuneus': 3025,\n  'wm-lh-rostralanteriorcingulate': 3026,\n  'wm-lh-rostralmiddlefrontal': 3027,\n  'wm-lh-superiorfrontal': 3028,\n  'wm-lh-superiorparietal': 3029,\n  'wm-lh-superiortemporal': 3030,\n  'wm-lh-supramarginal': 3031,\n  'wm-lh-frontalpole': 3032,\n  'wm-lh-temporalpole': 3033,\n  'wm-lh-transversetemporal': 3034,\n  'wm-lh-insula': 3035,\n  'wm-rh-unknown': 4000,\n  'wm-rh-bankssts': 4001,\n  'wm-rh-caudalanteriorcingulate': 4002,\n  'wm-rh-caudalmiddlefrontal': 4003,\n  'wm-rh-corpuscallosum': 4004,\n  'wm-rh-cuneus': 4005,\n  'wm-rh-entorhinal': 4006,\n  'wm-rh-fusiform': 4007,\n  'wm-rh-inferiorparietal': 4008,\n  'wm-rh-inferiortemporal': 4009,\n  'wm-rh-isthmuscingulate': 4010,\n  'wm-rh-lateraloccipital': 4011,\n  'wm-rh-lateralorbitofrontal': 4012,\n  'wm-rh-lingual': 4013,\n  'wm-rh-medialorbitofrontal': 4014,\n  'wm-rh-middletemporal': 4015,\n  'wm-rh-parahippocampal': 4016,\n  'wm-rh-paracentral': 4017,\n  'wm-rh-parsopercularis': 4018,\n  'wm-rh-parsorbitalis': 4019,\n  'wm-rh-parstriangularis': 4020,\n  'wm-rh-pericalcarine': 4021,\n  'wm-rh-postcentral': 4022,\n  'wm-rh-posteriorcingulate': 4023,\n  'wm-rh-precentral': 4024,\n  'wm-rh-precuneus': 4025,\n  'wm-rh-rostralanteriorcingulate': 4026,\n  'wm-rh-rostralmiddlefrontal': 4027,\n  'wm-rh-superiorfrontal': 4028,\n  'wm-rh-superiorparietal': 4029,\n  'wm-rh-superiortemporal': 4030,\n  'wm-rh-supramarginal': 4031,\n  'wm-rh-frontalpole': 4032,\n  'wm-rh-temporalpole': 4033,\n  'wm-rh-transversetemporal': 4034,\n  'wm-rh-insula': 4035,\n  'ctx-lh-Unknown': 1100,\n  'ctx-lh-Corpus_callosum': 1101,\n  'ctx-lh-G_and_S_Insula_ONLY_AVERAGE': 1102,\n  'ctx-lh-G_cingulate-Isthmus': 1103,\n  'ctx-lh-G_cingulate-Main_part': 1104,\n  'ctx-lh-G_cingulate-caudal_ACC': 1200,\n  'ctx-lh-G_cingulate-rostral_ACC': 1201,\n  'ctx-lh-G_cingulate-posterior': 1202,\n  'ctx-lh-S_cingulate-caudal_ACC': 1205,\n  'ctx-lh-S_cingulate-rostral_ACC': 1206,\n  'ctx-lh-S_cingulate-posterior': 1207,\n  'ctx-lh-S_pericallosal-caudal': 1210,\n  'ctx-lh-S_pericallosal-rostral': 1211,\n  'ctx-lh-S_pericallosal-posterior': 1212,\n  'ctx-lh-G_cuneus': 1105,\n  'ctx-lh-G_frontal_inf-Opercular_part': 1106,\n  'ctx-lh-G_frontal_inf-Orbital_part': 1107,\n  'ctx-lh-G_frontal_inf-Triangular_part': 1108,\n  'ctx-lh-G_frontal_middle': 1109,\n  'ctx-lh-G_frontal_superior': 1110,\n  'ctx-lh-G_frontomarginal': 1111,\n  'ctx-lh-G_insular_long': 1112,\n  'ctx-lh-G_insular_short': 1113,\n  'ctx-lh-G_and_S_occipital_inferior': 1114,\n  'ctx-lh-G_occipital_middle': 1115,\n  'ctx-lh-G_occipital_superior': 1116,\n  'ctx-lh-G_occipit-temp_lat-Or_fusiform': 1117,\n  'ctx-lh-G_occipit-temp_med-Lingual_part': 1118,\n  'ctx-lh-G_occipit-temp_med-Parahippocampal_part': 1119,\n  'ctx-lh-G_orbital': 1120,\n  'ctx-lh-G_paracentral': 1121,\n  'ctx-lh-G_parietal_inferior-Angular_part': 1122,\n  'ctx-lh-G_parietal_inferior-Supramarginal_part': 1123,\n  'ctx-lh-G_parietal_superior': 1124,\n  'ctx-lh-G_postcentral': 1125,\n  'ctx-lh-G_precentral': 1126,\n  'ctx-lh-G_precuneus': 1127,\n  'ctx-lh-G_rectus': 1128,\n  'ctx-lh-G_subcallosal': 1129,\n  'ctx-lh-G_subcentral': 1130,\n  'ctx-lh-G_temporal_inferior': 1131,\n  'ctx-lh-G_temporal_middle': 1132,\n  'ctx-lh-G_temp_sup-G_temp_transv_and_interm_S': 1133,\n  'ctx-lh-G_temp_sup-Lateral_aspect': 1134,\n  'ctx-lh-G_temp_sup-Planum_polare': 1135,\n  'ctx-lh-G_temp_sup-Planum_tempolare': 1136,\n  'ctx-lh-G_and_S_transverse_frontopolar': 1137,\n  'ctx-lh-Lat_Fissure-ant_sgt-ramus_horizontal': 1138,\n  'ctx-lh-Lat_Fissure-ant_sgt-ramus_vertical': 1139,\n  'ctx-lh-Lat_Fissure-post_sgt': 1140,\n  'ctx-lh-Medial_wall': 1141,\n  'ctx-lh-Pole_occipital': 1142,\n  'ctx-lh-Pole_temporal': 1143,\n  'ctx-lh-S_calcarine': 1144,\n  'ctx-lh-S_central': 1145,\n  'ctx-lh-S_central_insula': 1146,\n  'ctx-lh-S_cingulate-Main_part_and_Intracingulate': 1147,\n  'ctx-lh-S_cingulate-Marginalis_part': 1148,\n  'ctx-lh-S_circular_insula_anterior': 1149,\n  'ctx-lh-S_circular_insula_inferior': 1150,\n  'ctx-lh-S_circular_insula_superior': 1151,\n  'ctx-lh-S_collateral_transverse_ant': 1152,\n  'ctx-lh-S_collateral_transverse_post': 1153,\n  'ctx-lh-S_frontal_inferior': 1154,\n  'ctx-lh-S_frontal_middle': 1155,\n  'ctx-lh-S_frontal_superior': 1156,\n  'ctx-lh-S_frontomarginal': 1157,\n  'ctx-lh-S_intermedius_primus-Jensen': 1158,\n  'ctx-lh-S_intraparietal-and_Parietal_transverse': 1159,\n  'ctx-lh-S_occipital_anterior': 1160,\n  'ctx-lh-S_occipital_middle_and_Lunatus': 1161,\n  'ctx-lh-S_occipital_superior_and_transversalis': 1162,\n  'ctx-lh-S_occipito-temporal_lateral': 1163,\n  'ctx-lh-S_occipito-temporal_medial_and_S_Lingual': 1164,\n  'ctx-lh-S_orbital-H_shapped': 1165,\n  'ctx-lh-S_orbital_lateral': 1166,\n  'ctx-lh-S_orbital_medial-Or_olfactory': 1167,\n  'ctx-lh-S_paracentral': 1168,\n  'ctx-lh-S_parieto_occipital': 1169,\n  'ctx-lh-S_pericallosal': 1170,\n  'ctx-lh-S_postcentral': 1171,\n  'ctx-lh-S_precentral-Inferior-part': 1172,\n  'ctx-lh-S_precentral-Superior-part': 1173,\n  'ctx-lh-S_subcentral_ant': 1174,\n  'ctx-lh-S_subcentral_post': 1175,\n  'ctx-lh-S_suborbital': 1176,\n  'ctx-lh-S_subparietal': 1177,\n  'ctx-lh-S_supracingulate': 1178,\n  'ctx-lh-S_temporal_inferior': 1179,\n  'ctx-lh-S_temporal_superior': 1180,\n  'ctx-lh-S_temporal_transverse': 1181,\n  'ctx-rh-Unknown': 2100,\n  'ctx-rh-Corpus_callosum': 2101,\n  'ctx-rh-G_and_S_Insula_ONLY_AVERAGE': 2102,\n  'ctx-rh-G_cingulate-Isthmus': 2103,\n  'ctx-rh-G_cingulate-Main_part': 2104,\n  'ctx-rh-G_cuneus': 2105,\n  'ctx-rh-G_frontal_inf-Opercular_part': 2106,\n  'ctx-rh-G_frontal_inf-Orbital_part': 2107,\n  'ctx-rh-G_frontal_inf-Triangular_part': 2108,\n  'ctx-rh-G_frontal_middle': 2109,\n  'ctx-rh-G_frontal_superior': 2110,\n  'ctx-rh-G_frontomarginal': 2111,\n  'ctx-rh-G_insular_long': 2112,\n  'ctx-rh-G_insular_short': 2113,\n  'ctx-rh-G_and_S_occipital_inferior': 2114,\n  'ctx-rh-G_occipital_middle': 2115,\n  'ctx-rh-G_occipital_superior': 2116,\n  'ctx-rh-G_occipit-temp_lat-Or_fusiform': 2117,\n  'ctx-rh-G_occipit-temp_med-Lingual_part': 2118,\n  'ctx-rh-G_occipit-temp_med-Parahippocampal_part': 2119,\n  'ctx-rh-G_orbital': 2120,\n  'ctx-rh-G_paracentral': 2121,\n  'ctx-rh-G_parietal_inferior-Angular_part': 2122,\n  'ctx-rh-G_parietal_inferior-Supramarginal_part': 2123,\n  'ctx-rh-G_parietal_superior': 2124,\n  'ctx-rh-G_postcentral': 2125,\n  'ctx-rh-G_precentral': 2126,\n  'ctx-rh-G_precuneus': 2127,\n  'ctx-rh-G_rectus': 2128,\n  'ctx-rh-G_subcallosal': 2129,\n  'ctx-rh-G_subcentral': 2130,\n  'ctx-rh-G_temporal_inferior': 2131,\n  'ctx-rh-G_temporal_middle': 2132,\n  'ctx-rh-G_temp_sup-G_temp_transv_and_interm_S': 2133,\n  'ctx-rh-G_temp_sup-Lateral_aspect': 2134,\n  'ctx-rh-G_temp_sup-Planum_polare': 2135,\n  'ctx-rh-G_temp_sup-Planum_tempolare': 2136,\n  'ctx-rh-G_and_S_transverse_frontopolar': 2137,\n  'ctx-rh-Lat_Fissure-ant_sgt-ramus_horizontal': 2138,\n  'ctx-rh-Lat_Fissure-ant_sgt-ramus_vertical': 2139,\n  'ctx-rh-Lat_Fissure-post_sgt': 2140,\n  'ctx-rh-Medial_wall': 2141,\n  'ctx-rh-Pole_occipital': 2142,\n  'ctx-rh-Pole_temporal': 2143,\n  'ctx-rh-S_calcarine': 2144,\n  'ctx-rh-S_central': 2145,\n  'ctx-rh-S_central_insula': 2146,\n  'ctx-rh-S_cingulate-Main_part_and_Intracingulate': 2147,\n  'ctx-rh-S_cingulate-Marginalis_part': 2148,\n  'ctx-rh-S_circular_insula_anterior': 2149,\n  'ctx-rh-S_circular_insula_inferior': 2150,\n  'ctx-rh-S_circular_insula_superior': 2151,\n  'ctx-rh-S_collateral_transverse_ant': 2152,\n  'ctx-rh-S_collateral_transverse_post': 2153,\n  'ctx-rh-S_frontal_inferior': 2154,\n  'ctx-rh-S_frontal_middle': 2155,\n  'ctx-rh-S_frontal_superior': 2156,\n  'ctx-rh-S_frontomarginal': 2157,\n  'ctx-rh-S_intermedius_primus-Jensen': 2158,\n  'ctx-rh-S_intraparietal-and_Parietal_transverse': 2159,\n  'ctx-rh-S_occipital_anterior': 2160,\n  'ctx-rh-S_occipital_middle_and_Lunatus': 2161,\n  'ctx-rh-S_occipital_superior_and_transversalis': 2162,\n  'ctx-rh-S_occipito-temporal_lateral': 2163,\n  'ctx-rh-S_occipito-temporal_medial_and_S_Lingual': 2164,\n  'ctx-rh-S_orbital-H_shapped': 2165,\n  'ctx-rh-S_orbital_lateral': 2166,\n  'ctx-rh-S_orbital_medial-Or_olfactory': 2167,\n  'ctx-rh-S_paracentral': 2168,\n  'ctx-rh-S_parieto_occipital': 2169,\n  'ctx-rh-S_pericallosal': 2170,\n  'ctx-rh-S_postcentral': 2171,\n  'ctx-rh-S_precentral-Inferior-part': 2172,\n  'ctx-rh-S_precentral-Superior-part': 2173,\n  'ctx-rh-S_subcentral_ant': 2174,\n  'ctx-rh-S_subcentral_post': 2175,\n  'ctx-rh-S_suborbital': 2176,\n  'ctx-rh-S_subparietal': 2177,\n  'ctx-rh-S_supracingulate': 2178,\n  'ctx-rh-S_temporal_inferior': 2179,\n  'ctx-rh-S_temporal_superior': 2180,\n  'ctx-rh-S_temporal_transverse': 2181,\n  'ctx-rh-G_cingulate-caudal_ACC': 2200,\n  'ctx-rh-G_cingulate-rostral_ACC': 2201,\n  'ctx-rh-G_cingulate-posterior': 2202,\n  'ctx-rh-S_cingulate-caudal_ACC': 2205,\n  'ctx-rh-S_cingulate-rostral_ACC': 2206,\n  'ctx-rh-S_cingulate-posterior': 2207,\n  'ctx-rh-S_pericallosal-caudal': 2210,\n  'ctx-rh-S_pericallosal-rostral': 2211,\n  'ctx-rh-S_pericallosal-posterior': 2212,\n  'wm-lh-Unknown': 3100,\n  'wm-lh-Corpus_callosum': 3101,\n  'wm-lh-G_and_S_Insula_ONLY_AVERAGE': 3102,\n  'wm-lh-G_cingulate-Isthmus': 3103,\n  'wm-lh-G_cingulate-Main_part': 3104,\n  'wm-lh-G_cuneus': 3105,\n  'wm-lh-G_frontal_inf-Opercular_part': 3106,\n  'wm-lh-G_frontal_inf-Orbital_part': 3107,\n  'wm-lh-G_frontal_inf-Triangular_part': 3108,\n  'wm-lh-G_frontal_middle': 3109,\n  'wm-lh-G_frontal_superior': 3110,\n  'wm-lh-G_frontomarginal': 3111,\n  'wm-lh-G_insular_long': 3112,\n  'wm-lh-G_insular_short': 3113,\n  'wm-lh-G_and_S_occipital_inferior': 3114,\n  'wm-lh-G_occipital_middle': 3115,\n  'wm-lh-G_occipital_superior': 3116,\n  'wm-lh-G_occipit-temp_lat-Or_fusiform': 3117,\n  'wm-lh-G_occipit-temp_med-Lingual_part': 3118,\n  'wm-lh-G_occipit-temp_med-Parahippocampal_part': 3119,\n  'wm-lh-G_orbital': 3120,\n  'wm-lh-G_paracentral': 3121,\n  'wm-lh-G_parietal_inferior-Angular_part': 3122,\n  'wm-lh-G_parietal_inferior-Supramarginal_part': 3123,\n  'wm-lh-G_parietal_superior': 3124,\n  'wm-lh-G_postcentral': 3125,\n  'wm-lh-G_precentral': 3126,\n  'wm-lh-G_precuneus': 3127,\n  'wm-lh-G_rectus': 3128,\n  'wm-lh-G_subcallosal': 3129,\n  'wm-lh-G_subcentral': 3130,\n  'wm-lh-G_temporal_inferior': 3131,\n  'wm-lh-G_temporal_middle': 3132,\n  'wm-lh-G_temp_sup-G_temp_transv_and_interm_S': 3133,\n  'wm-lh-G_temp_sup-Lateral_aspect': 3134,\n  'wm-lh-G_temp_sup-Planum_polare': 3135,\n  'wm-lh-G_temp_sup-Planum_tempolare': 3136,\n  'wm-lh-G_and_S_transverse_frontopolar': 3137,\n  'wm-lh-Lat_Fissure-ant_sgt-ramus_horizontal': 3138,\n  'wm-lh-Lat_Fissure-ant_sgt-ramus_vertical': 3139,\n  'wm-lh-Lat_Fissure-post_sgt': 3140,\n  'wm-lh-Medial_wall': 3141,\n  'wm-lh-Pole_occipital': 3142,\n  'wm-lh-Pole_temporal': 3143,\n  'wm-lh-S_calcarine': 3144,\n  'wm-lh-S_central': 3145,\n  'wm-lh-S_central_insula': 3146,\n  'wm-lh-S_cingulate-Main_part_and_Intracingulate': 3147,\n  'wm-lh-S_cingulate-Marginalis_part': 3148,\n  'wm-lh-S_circular_insula_anterior': 3149,\n  'wm-lh-S_circular_insula_inferior': 3150,\n  'wm-lh-S_circular_insula_superior': 3151,\n  'wm-lh-S_collateral_transverse_ant': 3152,\n  'wm-lh-S_collateral_transverse_post': 3153,\n  'wm-lh-S_frontal_inferior': 3154,\n  'wm-lh-S_frontal_middle': 3155,\n  'wm-lh-S_frontal_superior': 3156,\n  'wm-lh-S_frontomarginal': 3157,\n  'wm-lh-S_intermedius_primus-Jensen': 3158,\n  'wm-lh-S_intraparietal-and_Parietal_transverse': 3159,\n  'wm-lh-S_occipital_anterior': 3160,\n  'wm-lh-S_occipital_middle_and_Lunatus': 3161,\n  'wm-lh-S_occipital_superior_and_transversalis': 3162,\n  'wm-lh-S_occipito-temporal_lateral': 3163,\n  'wm-lh-S_occipito-temporal_medial_and_S_Lingual': 3164,\n  'wm-lh-S_orbital-H_shapped': 3165,\n  'wm-lh-S_orbital_lateral': 3166,\n  'wm-lh-S_orbital_medial-Or_olfactory': 3167,\n  'wm-lh-S_paracentral': 3168,\n  'wm-lh-S_parieto_occipital': 3169,\n  'wm-lh-S_pericallosal': 3170,\n  'wm-lh-S_postcentral': 3171,\n  'wm-lh-S_precentral-Inferior-part': 3172,\n  'wm-lh-S_precentral-Superior-part': 3173,\n  'wm-lh-S_subcentral_ant': 3174,\n  'wm-lh-S_subcentral_post': 3175,\n  'wm-lh-S_suborbital': 3176,\n  'wm-lh-S_subparietal': 3177,\n  'wm-lh-S_supracingulate': 3178,\n  'wm-lh-S_temporal_inferior': 3179,\n  'wm-lh-S_temporal_superior': 3180,\n  'wm-lh-S_temporal_transverse': 3181,\n  'wm-rh-Unknown': 4100,\n  'wm-rh-Corpus_callosum': 4101,\n  'wm-rh-G_and_S_Insula_ONLY_AVERAGE': 4102,\n  'wm-rh-G_cingulate-Isthmus': 4103,\n  'wm-rh-G_cingulate-Main_part': 4104,\n  'wm-rh-G_cuneus': 4105,\n  'wm-rh-G_frontal_inf-Opercular_part': 4106,\n  'wm-rh-G_frontal_inf-Orbital_part': 4107,\n  'wm-rh-G_frontal_inf-Triangular_part': 4108,\n  'wm-rh-G_frontal_middle': 4109,\n  'wm-rh-G_frontal_superior': 4110,\n  'wm-rh-G_frontomarginal': 4111,\n  'wm-rh-G_insular_long': 4112,\n  'wm-rh-G_insular_short': 4113,\n  'wm-rh-G_and_S_occipital_inferior': 4114,\n  'wm-rh-G_occipital_middle': 4115,\n  'wm-rh-G_occipital_superior': 4116,\n  'wm-rh-G_occipit-temp_lat-Or_fusiform': 4117,\n  'wm-rh-G_occipit-temp_med-Lingual_part': 4118,\n  'wm-rh-G_occipit-temp_med-Parahippocampal_part': 4119,\n  'wm-rh-G_orbital': 4120,\n  'wm-rh-G_paracentral': 4121,\n  'wm-rh-G_parietal_inferior-Angular_part': 4122,\n  'wm-rh-G_parietal_inferior-Supramarginal_part': 4123,\n  'wm-rh-G_parietal_superior': 4124,\n  'wm-rh-G_postcentral': 4125,\n  'wm-rh-G_precentral': 4126,\n  'wm-rh-G_precuneus': 4127,\n  'wm-rh-G_rectus': 4128,\n  'wm-rh-G_subcallosal': 4129,\n  'wm-rh-G_subcentral': 4130,\n  'wm-rh-G_temporal_inferior': 4131,\n  'wm-rh-G_temporal_middle': 4132,\n  'wm-rh-G_temp_sup-G_temp_transv_and_interm_S': 4133,\n  'wm-rh-G_temp_sup-Lateral_aspect': 4134,\n  'wm-rh-G_temp_sup-Planum_polare': 4135,\n  'wm-rh-G_temp_sup-Planum_tempolare': 4136,\n  'wm-rh-G_and_S_transverse_frontopolar': 4137,\n  'wm-rh-Lat_Fissure-ant_sgt-ramus_horizontal': 4138,\n  'wm-rh-Lat_Fissure-ant_sgt-ramus_vertical': 4139,\n  'wm-rh-Lat_Fissure-post_sgt': 4140,\n  'wm-rh-Medial_wall': 4141,\n  'wm-rh-Pole_occipital': 4142,\n  'wm-rh-Pole_temporal': 4143,\n  'wm-rh-S_calcarine': 4144,\n  'wm-rh-S_central': 4145,\n  'wm-rh-S_central_insula': 4146,\n  'wm-rh-S_cingulate-Main_part_and_Intracingulate': 4147,\n  'wm-rh-S_cingulate-Marginalis_part': 4148,\n  'wm-rh-S_circular_insula_anterior': 4149,\n  'wm-rh-S_circular_insula_inferior': 4150,\n  'wm-rh-S_circular_insula_superior': 4151,\n  'wm-rh-S_collateral_transverse_ant': 4152,\n  'wm-rh-S_collateral_transverse_post': 4153,\n  'wm-rh-S_frontal_inferior': 4154,\n  'wm-rh-S_frontal_middle': 4155,\n  'wm-rh-S_frontal_superior': 4156,\n  'wm-rh-S_frontomarginal': 4157,\n  'wm-rh-S_intermedius_primus-Jensen': 4158,\n  'wm-rh-S_intraparietal-and_Parietal_transverse': 4159,\n  'wm-rh-S_occipital_anterior': 4160,\n  'wm-rh-S_occipital_middle_and_Lunatus': 4161,\n  'wm-rh-S_occipital_superior_and_transversalis': 4162,\n  'wm-rh-S_occipito-temporal_lateral': 4163,\n  'wm-rh-S_occipito-temporal_medial_and_S_Lingual': 4164,\n  'wm-rh-S_orbital-H_shapped': 4165,\n  'wm-rh-S_orbital_lateral': 4166,\n  'wm-rh-S_orbital_medial-Or_olfactory': 4167,\n  'wm-rh-S_paracentral': 4168,\n  'wm-rh-S_parieto_occipital': 4169,\n  'wm-rh-S_pericallosal': 4170,\n  'wm-rh-S_postcentral': 4171,\n  'wm-rh-S_precentral-Inferior-part': 4172,\n  'wm-rh-S_precentral-Superior-part': 4173,\n  'wm-rh-S_subcentral_ant': 4174,\n  'wm-rh-S_subcentral_post': 4175,\n  'wm-rh-S_suborbital': 4176,\n  'wm-rh-S_subparietal': 4177,\n  'wm-rh-S_supracingulate': 4178,\n  'wm-rh-S_temporal_inferior': 4179,\n  'wm-rh-S_temporal_superior': 4180,\n  'wm-rh-S_temporal_transverse': 4181,\n  'Left-UnsegmentedWhiteMatter': 5001,\n  'Right-UnsegmentedWhiteMatter': 5002,\n  'fmajor': 5100,\n  'fminor': 5101,\n  'lh.atr': 5102,\n  'lh.cab': 5103,\n  'lh.ccg': 5104,\n  'lh.cst': 5105,\n  'lh.ilf': 5106,\n  'lh.slfp': 5107,\n  'lh.slft': 5108,\n  'lh.unc': 5109,\n  'rh.atr': 5110,\n  'rh.cab': 5111,\n  'rh.ccg': 5112,\n  'rh.cst': 5113,\n  'rh.ilf': 5114,\n  'rh.slfp': 5115,\n  'rh.slft': 5116,\n  'rh.unc': 5117,\n  'CC-ForcepsMajor': 5200,\n  'CC-ForcepsMinor': 5201,\n  'LAntThalRadiation': 5202,\n  'LCingulumAngBundle': 5203,\n  'LCingulumCingGyrus': 5204,\n  'LCorticospinalTract': 5205,\n  'LInfLongFas': 5206,\n  'LSupLongFasParietal': 5207,\n  'LSupLongFasTemporal': 5208,\n  'LUncinateFas': 5209,\n  'RAntThalRadiation': 5210,\n  'RCingulumAngBundle': 5211,\n  'RCingulumCingGyrus': 5212,\n  'RCorticospinalTract': 5213,\n  'RInfLongFas': 5214,\n  'RSupLongFasParietal': 5215,\n  'RSupLongFasTemporal': 5216,\n  'RUncinateFas': 5217,\n  'CST-orig': 6000,\n  'CST-hammer': 6001,\n  'CST-CVS': 6002,\n  'CST-flirt': 6003,\n  'Left-SLF1': 6010,\n  'Right-SLF1': 6020,\n  'Left-SLF3': 6030,\n  'Right-SLF3': 6040,\n  'Left-CST': 6050,\n  'Right-CST': 6060,\n  'Left-SLF2': 6070,\n  'Right-SLF2': 6080,\n  'Lateral-nucleus': 7001,\n  'Basolateral-nucleus': 7002,\n  'Basal-nucleus': 7003,\n  'Centromedial-nucleus': 7004,\n  'Central-nucleus': 7005,\n  'Medial-nucleus': 7006,\n  'Cortical-nucleus': 7007,\n  'Accessory-Basal-nucleus': 7008,\n  'Corticoamygdaloid-transitio': 7009,\n  'Anterior-amygdaloid-area-AAA': 7010,\n  'Fusion-amygdala-HP-FAH': 7011,\n  'Hippocampal-amygdala-transition-HATA': 7012,\n  'Endopiriform-nucleus': 7013,\n  'Lateral-nucleus-olfactory-tract': 7014,\n  'Paralaminar-nucleus': 7015,\n  'Intercalated-nucleus': 7016,\n  'Prepiriform-cortex': 7017,\n  'Periamygdaloid-cortex': 7018,\n  'Envelope-Amygdala': 7019,\n  'Extranuclear-Amydala': 7020,\n  'Brainstem-inferior-colliculus': 7100,\n  'Brainstem-cochlear-nucleus': 7101,\n  'Thalamus-Anterior': 8001,\n  'Thalamus-Ventral-anterior': 8002,\n  'Thalamus-Lateral-dorsal': 8003,\n  'Thalamus-Lateral-posterior': 8004,\n  'Thalamus-Ventral-lateral': 8005,\n  'Thalamus-Ventral-posterior-medial': 8006,\n  'Thalamus-Ventral-posterior-lateral': 8007,\n  'Thalamus-intralaminar': 8008,\n  'Thalamus-centromedian': 8009,\n  'Thalamus-mediodorsal': 8010,\n  'Thalamus-medial': 8011,\n  'Thalamus-pulvinar': 8012,\n  'Thalamus-lateral-geniculate': 8013,\n  'Thalamus-medial-geniculate': 8014,\n  'ctx-lh-prefrontal': 9000,\n  'ctx-lh-primary-motor': 9001,\n  'ctx-lh-premotor': 9002,\n  'ctx-lh-temporal': 9003,\n  'ctx-lh-posterior-parietal': 9004,\n  'ctx-lh-prim-sec-somatosensory': 9005,\n  'ctx-lh-occipital': 9006,\n  'ctx-rh-prefrontal': 9500,\n  'ctx-rh-primary-motor': 9501,\n  'ctx-rh-premotor': 9502,\n  'ctx-rh-temporal': 9503,\n  'ctx-rh-posterior-parietal': 9504,\n  'ctx-rh-prim-sec-somatosensory': 9505,\n  'ctx-rh-occipital': 9506,\n  'ctx_lh_Unknown': 11100,\n  'ctx_lh_G_and_S_frontomargin': 11101,\n  'ctx_lh_G_and_S_occipital_inf': 11102,\n  'ctx_lh_G_and_S_paracentral': 11103,\n  'ctx_lh_G_and_S_subcentral': 11104,\n  'ctx_lh_G_and_S_transv_frontopol': 11105,\n  'ctx_lh_G_and_S_cingul-Ant': 11106,\n  'ctx_lh_G_and_S_cingul-Mid-Ant': 11107,\n  'ctx_lh_G_and_S_cingul-Mid-Post': 11108,\n  'ctx_lh_G_cingul-Post-dorsal': 11109,\n  'ctx_lh_G_cingul-Post-ventral': 11110,\n  'ctx_lh_G_cuneus': 11111,\n  'ctx_lh_G_front_inf-Opercular': 11112,\n  'ctx_lh_G_front_inf-Orbital': 11113,\n  'ctx_lh_G_front_inf-Triangul': 11114,\n  'ctx_lh_G_front_middle': 11115,\n  'ctx_lh_G_front_sup': 11116,\n  'ctx_lh_G_Ins_lg_and_S_cent_ins': 11117,\n  'ctx_lh_G_insular_short': 11118,\n  'ctx_lh_G_occipital_middle': 11119,\n  'ctx_lh_G_occipital_sup': 11120,\n  'ctx_lh_G_oc-temp_lat-fusifor': 11121,\n  'ctx_lh_G_oc-temp_med-Lingual': 11122,\n  'ctx_lh_G_oc-temp_med-Parahip': 11123,\n  'ctx_lh_G_orbital': 11124,\n  'ctx_lh_G_pariet_inf-Angular': 11125,\n  'ctx_lh_G_pariet_inf-Supramar': 11126,\n  'ctx_lh_G_parietal_sup': 11127,\n  'ctx_lh_G_postcentral': 11128,\n  'ctx_lh_G_precentral': 11129,\n  'ctx_lh_G_precuneus': 11130,\n  'ctx_lh_G_rectus': 11131,\n  'ctx_lh_G_subcallosal': 11132,\n  'ctx_lh_G_temp_sup-G_T_transv': 11133,\n  'ctx_lh_G_temp_sup-Lateral': 11134,\n  'ctx_lh_G_temp_sup-Plan_polar': 11135,\n  'ctx_lh_G_temp_sup-Plan_tempo': 11136,\n  'ctx_lh_G_temporal_inf': 11137,\n  ...},\n {'Unknown': array([0., 0., 0., 0.]),\n  'Left-Cerebral-Exterior': array([ 70., 130., 180.,   0.]),\n  'Left-Cerebral-White-Matter': array([245., 245., 245.,   0.]),\n  'Left-Cerebral-Cortex': array([205.,  62.,  78.,   0.]),\n  'Left-Lateral-Ventricle': array([120.,  18., 134.,   0.]),\n  'Left-Inf-Lat-Vent': array([196.,  58., 250.,   0.]),\n  'Left-Cerebellum-Exterior': array([  0., 148.,   0.,   0.]),\n  'Left-Cerebellum-White-Matter': array([220., 248., 164.,   0.]),\n  'Left-Cerebellum-Cortex': array([230., 148.,  34.,   0.]),\n  'Left-Thalamus': array([  0., 118.,  14.,   0.]),\n  'Left-Thalamus-Proper': array([  0., 118.,  14.,   0.]),\n  'Left-Caudate': array([122., 186., 220.,   0.]),\n  'Left-Putamen': array([236.,  13., 176.,   0.]),\n  'Left-Pallidum': array([ 12.,  48., 255.,   0.]),\n  '3rd-Ventricle': array([204., 182., 142.,   0.]),\n  '4th-Ventricle': array([ 42., 204., 164.,   0.]),\n  'Brain-Stem': array([119., 159., 176.,   0.]),\n  'Left-Hippocampus': array([220., 216.,  20.,   0.]),\n  'Left-Amygdala': array([103., 255., 255.,   0.]),\n  'Left-Insula': array([ 80., 196.,  98.,   0.]),\n  'Left-Operculum': array([ 60.,  58., 210.,   0.]),\n  'Line-1': array([ 60.,  58., 210.,   0.]),\n  'Line-2': array([ 60.,  58., 210.,   0.]),\n  'Line-3': array([ 60.,  58., 210.,   0.]),\n  'CSF': array([60., 60., 60.,  0.]),\n  'Left-Lesion': array([255., 165.,   0.,   0.]),\n  'Left-Accumbens-area': array([255., 165.,   0.,   0.]),\n  'Left-Substancia-Nigra': array([  0., 255., 127.,   0.]),\n  'Left-VentralDC': array([165.,  42.,  42.,   0.]),\n  'Left-undetermined': array([135., 206., 235.,   0.]),\n  'Left-vessel': array([160.,  32., 240.,   0.]),\n  'Left-choroid-plexus': array([  0., 200., 200.,   0.]),\n  'Left-F3orb': array([100.,  50., 100.,   0.]),\n  'Left-lOg': array([135.,  50.,  74.,   0.]),\n  'Left-aOg': array([122., 135.,  50.,   0.]),\n  'Left-mOg': array([ 51.,  50., 135.,   0.]),\n  'Left-pOg': array([ 74., 155.,  60.,   0.]),\n  'Left-Stellate': array([120.,  62.,  43.,   0.]),\n  'Left-Porg': array([ 74., 155.,  60.,   0.]),\n  'Left-Aorg': array([122., 135.,  50.,   0.]),\n  'Right-Cerebral-Exterior': array([ 70., 130., 180.,   0.]),\n  'Right-Cerebral-White-Matter': array([  0., 225.,   0.,   0.]),\n  'Right-Cerebral-Cortex': array([205.,  62.,  78.,   0.]),\n  'Right-Lateral-Ventricle': array([120.,  18., 134.,   0.]),\n  'Right-Inf-Lat-Vent': array([196.,  58., 250.,   0.]),\n  'Right-Cerebellum-Exterior': array([  0., 148.,   0.,   0.]),\n  'Right-Cerebellum-White-Matter': array([220., 248., 164.,   0.]),\n  'Right-Cerebellum-Cortex': array([230., 148.,  34.,   0.]),\n  'Right-Thalamus': array([  0., 118.,  14.,   0.]),\n  'Right-Thalamus-Proper': array([  0., 118.,  14.,   0.]),\n  'Right-Caudate': array([122., 186., 220.,   0.]),\n  'Right-Putamen': array([236.,  13., 176.,   0.]),\n  'Right-Pallidum': array([ 13.,  48., 255.,   0.]),\n  'Right-Hippocampus': array([220., 216.,  20.,   0.]),\n  'Right-Amygdala': array([103., 255., 255.,   0.]),\n  'Right-Insula': array([ 80., 196.,  98.,   0.]),\n  'Right-Operculum': array([ 60.,  58., 210.,   0.]),\n  'Right-Lesion': array([255., 165.,   0.,   0.]),\n  'Right-Accumbens-area': array([255., 165.,   0.,   0.]),\n  'Right-Substancia-Nigra': array([  0., 255., 127.,   0.]),\n  'Right-VentralDC': array([165.,  42.,  42.,   0.]),\n  'Right-undetermined': array([135., 206., 235.,   0.]),\n  'Right-vessel': array([160.,  32., 240.,   0.]),\n  'Right-choroid-plexus': array([  0., 200., 221.,   0.]),\n  'Right-F3orb': array([100.,  50., 100.,   0.]),\n  'Right-lOg': array([135.,  50.,  74.,   0.]),\n  'Right-aOg': array([122., 135.,  50.,   0.]),\n  'Right-mOg': array([ 51.,  50., 135.,   0.]),\n  'Right-pOg': array([ 74., 155.,  60.,   0.]),\n  'Right-Stellate': array([120.,  62.,  43.,   0.]),\n  'Right-Porg': array([ 74., 155.,  60.,   0.]),\n  'Right-Aorg': array([122., 135.,  50.,   0.]),\n  '5th-Ventricle': array([120., 190., 150.,   0.]),\n  'Left-Interior': array([122., 135.,  50.,   0.]),\n  'Right-Interior': array([122., 135.,  50.,   0.]),\n  'WM-hypointensities': array([200.,  70., 255.,   0.]),\n  'Left-WM-hypointensities': array([255., 148.,  10.,   0.]),\n  'Right-WM-hypointensities': array([255., 148.,  10.,   0.]),\n  'non-WM-hypointensities': array([164., 108., 226.,   0.]),\n  'Left-non-WM-hypointensities': array([164., 108., 226.,   0.]),\n  'Right-non-WM-hypointensities': array([164., 108., 226.,   0.]),\n  'Left-F1': array([255., 218., 185.,   0.]),\n  'Right-F1': array([255., 218., 185.,   0.]),\n  'Optic-Chiasm': array([234., 169.,  30.,   0.]),\n  'Corpus_Callosum': array([250., 255.,  50.,   0.]),\n  'Left_future_WMSA': array([200., 120., 255.,   0.]),\n  'Right_future_WMSA': array([200., 121., 255.,   0.]),\n  'future_WMSA': array([200., 122., 255.,   0.]),\n  'Left-Amygdala-Anterior': array([205.,  10., 125.,   0.]),\n  'Right-Amygdala-Anterior': array([205.,  10., 125.,   0.]),\n  'Dura': array([160.,  32., 240.,   0.]),\n  'Left-wm-intensity-abnormality': array([124., 140., 178.,   0.]),\n  'Left-caudate-intensity-abnormality': array([125., 140., 178.,   0.]),\n  'Left-putamen-intensity-abnormality': array([126., 140., 178.,   0.]),\n  'Left-accumbens-intensity-abnormality': array([127., 140., 178.,   0.]),\n  'Left-pallidum-intensity-abnormality': array([124., 141., 178.,   0.]),\n  'Left-amygdala-intensity-abnormality': array([124., 142., 178.,   0.]),\n  'Left-hippocampus-intensity-abnormality': array([124., 143., 178.,   0.]),\n  'Left-thalamus-intensity-abnormality': array([124., 144., 178.,   0.]),\n  'Left-VDC-intensity-abnormality': array([124., 140., 179.,   0.]),\n  'Right-wm-intensity-abnormality': array([124., 140., 178.,   0.]),\n  'Right-caudate-intensity-abnormality': array([125., 140., 178.,   0.]),\n  'Right-putamen-intensity-abnormality': array([126., 140., 178.,   0.]),\n  'Right-accumbens-intensity-abnormality': array([127., 140., 178.,   0.]),\n  'Right-pallidum-intensity-abnormality': array([124., 141., 178.,   0.]),\n  'Right-amygdala-intensity-abnormality': array([124., 142., 178.,   0.]),\n  'Right-hippocampus-intensity-abnormality': array([124., 143., 178.,   0.]),\n  'Right-thalamus-intensity-abnormality': array([124., 144., 178.,   0.]),\n  'Right-VDC-intensity-abnormality': array([124., 140., 179.,   0.]),\n  'Epidermis': array([255.,  20., 147.,   0.]),\n  'Conn-Tissue': array([205., 179., 139.,   0.]),\n  'SC-Fat-Muscle': array([238., 238., 209.,   0.]),\n  'Cranium': array([200., 200., 200.,   0.]),\n  'CSF-SA': array([ 74., 255.,  74.,   0.]),\n  'Muscle': array([238.,   0.,   0.,   0.]),\n  'Ear': array([  0.,   0., 139.,   0.]),\n  'Adipose': array([173., 255.,  47.,   0.]),\n  'Spinal-Cord': array([133., 203., 229.,   0.]),\n  'Soft-Tissue': array([ 26., 237.,  57.,   0.]),\n  'Nerve': array([ 34., 139.,  34.,   0.]),\n  'Bone': array([ 30., 144., 255.,   0.]),\n  'Air': array([147.,  19., 173.,   0.]),\n  'Orbital-Fat': array([238.,  59.,  59.,   0.]),\n  'Tongue': array([221.,  39., 200.,   0.]),\n  'Nasal-Structures': array([238., 174., 238.,   0.]),\n  'Globe': array([255.,   0.,   0.,   0.]),\n  'Teeth': array([ 72.,  61., 139.,   0.]),\n  'Left-Caudate-Putamen': array([ 21.,  39., 132.,   0.]),\n  'Right-Caudate-Putamen': array([ 21.,  39., 132.,   0.]),\n  'Left-Claustrum': array([ 65., 135.,  20.,   0.]),\n  'Right-Claustrum': array([ 65., 135.,  20.,   0.]),\n  'Cornea': array([134.,   4., 160.,   0.]),\n  'Diploe': array([221., 226.,  68.,   0.]),\n  'Vitreous-Humor': array([255., 255., 254.,   0.]),\n  'Lens': array([ 52., 209., 226.,   0.]),\n  'Aqueous-Humor': array([239., 160., 223.,   0.]),\n  'Outer-Table': array([ 70., 130., 180.,   0.]),\n  'Inner-Table': array([ 70., 130., 181.,   0.]),\n  'Periosteum': array([139., 121.,  94.,   0.]),\n  'Endosteum': array([224., 224., 224.,   0.]),\n  'R-C-S': array([255.,   0.,   0.,   0.]),\n  'Iris': array([205., 205.,   0.,   0.]),\n  'SC-Adipose-Muscle': array([238., 238., 209.,   0.]),\n  'SC-Tissue': array([139., 121.,  94.,   0.]),\n  'Orbital-Adipose': array([238.,  59.,  59.,   0.]),\n  'Left-IntCapsule-Ant': array([238.,  59.,  59.,   0.]),\n  'Right-IntCapsule-Ant': array([238.,  59.,  59.,   0.]),\n  'Left-IntCapsule-Pos': array([ 62.,  10., 205.,   0.]),\n  'Right-IntCapsule-Pos': array([ 62.,  10., 205.,   0.]),\n  'Left-Cerebral-WM-unmyelinated': array([  0., 118.,  14.,   0.]),\n  'Right-Cerebral-WM-unmyelinated': array([  0., 118.,  14.,   0.]),\n  'Left-Cerebral-WM-myelinated': array([220., 216.,  21.,   0.]),\n  'Right-Cerebral-WM-myelinated': array([220., 216.,  21.,   0.]),\n  'Left-Subcortical-Gray-Matter': array([122., 186., 220.,   0.]),\n  'Right-Subcortical-Gray-Matter': array([122., 186., 220.,   0.]),\n  'Skull': array([255., 165.,   0.,   0.]),\n  'Posterior-fossa': array([ 14.,  48., 255.,   0.]),\n  'Scalp': array([166.,  42.,  42.,   0.]),\n  'Hematoma': array([121.,  18., 134.,   0.]),\n  'Left-Basal-Ganglia': array([236.,  13., 127.,   0.]),\n  'Right-Basal-Ganglia': array([236.,  13., 126.,   0.]),\n  'brainstem': array([119., 159., 176.,   0.]),\n  'DCG': array([119.,   0., 176.,   0.]),\n  'Vermis': array([119., 100., 176.,   0.]),\n  'Midbrain': array([119., 200., 176.,   0.]),\n  'Pons': array([119., 159., 100.,   0.]),\n  'Medulla': array([119., 159., 200.,   0.]),\n  'Left-Cortical-Dysplasia': array([ 73.,  61., 139.,   0.]),\n  'Right-Cortical-Dysplasia': array([ 73.,  62., 139.,   0.]),\n  'Left-hippocampal_fissure': array([  0., 196., 255.,   0.]),\n  'Left-CADG-head': array([255., 164., 164.,   0.]),\n  'Left-subiculum': array([196., 196.,   0.,   0.]),\n  'Left-fimbria': array([  0., 100., 255.,   0.]),\n  'Right-hippocampal_fissure': array([128., 196., 164.,   0.]),\n  'Right-CADG-head': array([  0., 126.,  75.,   0.]),\n  'Right-subiculum': array([128.,  96.,  64.,   0.]),\n  'Right-fimbria': array([  0.,  50., 128.,   0.]),\n  'alveus': array([255., 204., 153.,   0.]),\n  'perforant_pathway': array([255., 128., 128.,   0.]),\n  'parasubiculum': array([255., 255.,   0.,   0.]),\n  'presubiculum': array([64.,  0., 64.,  0.]),\n  'subiculum': array([  0.,   0., 255.,   0.]),\n  'CA1': array([255.,   0.,   0.,   0.]),\n  'CA2': array([128., 128., 255.,   0.]),\n  'CA3': array([  0., 128.,   0.,   0.]),\n  'CA4': array([196., 160., 128.,   0.]),\n  'GC-ML-DG': array([ 32., 200., 255.,   0.]),\n  'HATA': array([128., 255., 128.,   0.]),\n  'fimbria': array([204., 153., 204.,   0.]),\n  'lateral_ventricle': array([121.,  17., 136.,   0.]),\n  'molecular_layer_HP': array([128.,   0.,   0.,   0.]),\n  'hippocampal_fissure': array([128.,  32., 255.,   0.]),\n  'entorhinal_cortex': array([255., 204., 102.,   0.]),\n  'molecular_layer_subiculum': array([128., 128., 128.,   0.]),\n  'Amygdala': array([104., 255., 255.,   0.]),\n  'Cerebral_White_Matter': array([  0., 226.,   0.,   0.]),\n  'Cerebral_Cortex': array([205.,  63.,  78.,   0.]),\n  'Inf_Lat_Vent': array([197.,  58., 250.,   0.]),\n  'Perirhinal': array([ 33., 150., 250.,   0.]),\n  'Cerebral_White_Matter_Edge': array([226.,   0.,   0.,   0.]),\n  'Background': array([100., 100., 100.,   0.]),\n  'Ectorhinal': array([197., 150., 250.,   0.]),\n  'HP_tail': array([170., 170., 255.,   0.]),\n  'Fornix': array([255.,   0.,   0.,   0.]),\n  'CC_Posterior': array([ 0.,  0., 64.,  0.]),\n  'CC_Mid_Posterior': array([  0.,   0., 112.,   0.]),\n  'CC_Central': array([  0.,   0., 160.,   0.]),\n  'CC_Mid_Anterior': array([  0.,   0., 208.,   0.]),\n  'CC_Anterior': array([  0.,   0., 255.,   0.]),\n  'Voxel-Unchanged': array([0., 0., 0., 0.]),\n  'Aorta': array([255.,   0.,   0.,   0.]),\n  'Left-Common-IliacA': array([255.,  80.,   0.,   0.]),\n  'Right-Common-IliacA': array([255., 160.,   0.,   0.]),\n  'Left-External-IliacA': array([255., 255.,   0.,   0.]),\n  'Right-External-IliacA': array([  0., 255.,   0.,   0.]),\n  'Left-Internal-IliacA': array([255.,   0., 160.,   0.]),\n  'Right-Internal-IliacA': array([255.,   0., 255.,   0.]),\n  'Left-Lateral-SacralA': array([255.,  50.,  80.,   0.]),\n  'Right-Lateral-SacralA': array([ 80., 255.,  50.,   0.]),\n  'Left-ObturatorA': array([160., 255.,  50.,   0.]),\n  'Right-ObturatorA': array([160., 200., 255.,   0.]),\n  'Left-Internal-PudendalA': array([  0., 255., 160.,   0.]),\n  'Right-Internal-PudendalA': array([  0.,   0., 255.,   0.]),\n  'Left-UmbilicalA': array([ 80.,  50., 255.,   0.]),\n  'Right-UmbilicalA': array([160.,   0., 255.,   0.]),\n  'Left-Inf-RectalA': array([255., 210.,   0.,   0.]),\n  'Right-Inf-RectalA': array([  0., 160., 255.,   0.]),\n  'Left-Common-IliacV': array([255., 200.,  80.,   0.]),\n  'Right-Common-IliacV': array([255., 200., 160.,   0.]),\n  'Left-External-IliacV': array([255.,  80., 200.,   0.]),\n  'Right-External-IliacV': array([255., 160., 200.,   0.]),\n  'Left-Internal-IliacV': array([ 30., 255.,  80.,   0.]),\n  'Right-Internal-IliacV': array([ 80., 200., 255.,   0.]),\n  'Left-ObturatorV': array([ 80., 255., 200.,   0.]),\n  'Right-ObturatorV': array([195., 255., 200.,   0.]),\n  'Left-Internal-PudendalV': array([120., 200.,  20.,   0.]),\n  'Right-Internal-PudendalV': array([170.,  10., 200.,   0.]),\n  'Pos-Lymph': array([ 20., 130., 180.,   0.]),\n  'Neg-Lymph': array([ 20., 180., 130.,   0.]),\n  'V1': array([206.,  62.,  78.,   0.]),\n  'V2': array([121.,  18., 134.,   0.]),\n  'BA44': array([199.,  58., 250.,   0.]),\n  'BA45': array([  1., 148.,   0.,   0.]),\n  'BA4a': array([221., 248., 164.,   0.]),\n  'BA4p': array([231., 148.,  34.,   0.]),\n  'BA6': array([  1., 118.,  14.,   0.]),\n  'BA2': array([120., 118.,  14.,   0.]),\n  'BA1_old': array([123., 186., 221.,   0.]),\n  'BAun2': array([238.,  13., 177.,   0.]),\n  'BA1': array([123., 186., 220.,   0.]),\n  'BA2b': array([138.,  13., 206.,   0.]),\n  'BA3a': array([238., 130., 176.,   0.]),\n  'BA3b': array([218., 230.,  76.,   0.]),\n  'MT': array([ 38., 213., 176.,   0.]),\n  'AIPS_AIP_l': array([  1., 225., 176.,   0.]),\n  'AIPS_AIP_r': array([  1., 225., 176.,   0.]),\n  'AIPS_VIP_l': array([200.,   2., 100.,   0.]),\n  'AIPS_VIP_r': array([200.,   2., 100.,   0.]),\n  'IPL_PFcm_l': array([  5., 200.,  90.,   0.]),\n  'IPL_PFcm_r': array([  5., 200.,  90.,   0.]),\n  'IPL_PF_l': array([100.,   5., 200.,   0.]),\n  'IPL_PFm_l': array([ 25., 255., 100.,   0.]),\n  'IPL_PFm_r': array([ 25., 255., 100.,   0.]),\n  'IPL_PFop_l': array([230.,   7., 100.,   0.]),\n  'IPL_PFop_r': array([230.,   7., 100.,   0.]),\n  'IPL_PF_r': array([100.,   5., 200.,   0.]),\n  'IPL_PFt_l': array([150.,  10., 200.,   0.]),\n  'IPL_PFt_r': array([150.,  10., 200.,   0.]),\n  'IPL_PGa_l': array([175.,  10., 176.,   0.]),\n  'IPL_PGa_r': array([175.,  10., 176.,   0.]),\n  'IPL_PGp_l': array([ 10., 100., 255.,   0.]),\n  'IPL_PGp_r': array([ 10., 100., 255.,   0.]),\n  'Visual_V3d_l': array([150.,  45.,  70.,   0.]),\n  'Visual_V3d_r': array([150.,  45.,  70.,   0.]),\n  'Visual_V4_l': array([ 45., 200.,  15.,   0.]),\n  'Visual_V4_r': array([ 45., 200.,  15.,   0.]),\n  'Visual_V5_b': array([227.,  45., 100.,   0.]),\n  'Visual_VP_l': array([227.,  45., 100.,   0.]),\n  'Visual_VP_r': array([227.,  45., 100.,   0.]),\n  'wmsa': array([143., 188., 143.,   0.]),\n  'other_wmsa': array([255., 248., 220.,   0.]),\n  'right_CA2_3': array([ 17.,  85., 136.,   0.]),\n  'right_alveus': array([119., 187., 102.,   0.]),\n  'right_CA1': array([204.,  68.,  34.,   0.]),\n  'right_fimbria': array([204.,   0., 255.,   0.]),\n  'right_presubiculum': array([221., 187.,  17.,   0.]),\n  'right_hippocampal_fissure': array([153., 221., 238.,   0.]),\n  'right_CA4_DG': array([51., 17., 17.,  0.]),\n  'right_subiculum': array([  0., 119.,  85.,   0.]),\n  'right_fornix': array([ 20., 100., 200.,   0.]),\n  'left_CA2_3': array([ 17.,  85., 137.,   0.]),\n  'left_alveus': array([119., 187., 103.,   0.]),\n  'left_CA1': array([204.,  68.,  35.,   0.]),\n  'left_fimbria': array([204.,   0., 254.,   0.]),\n  'left_presubiculum': array([221., 187.,  16.,   0.]),\n  'left_hippocampal_fissure': array([153., 221., 239.,   0.]),\n  'left_CA4_DG': array([51., 17., 18.,  0.]),\n  'left_subiculum': array([  0., 119.,  86.,   0.]),\n  'left_fornix': array([ 20., 100., 201.,   0.]),\n  'Tumor': array([254., 254., 254.,   0.]),\n  'Cbm_Left_I_IV': array([ 70., 130., 180.,   0.]),\n  'Cbm_Right_I_IV': array([245., 245., 245.,   0.]),\n  'Cbm_Left_V': array([205.,  62.,  78.,   0.]),\n  'Cbm_Right_V': array([120.,  18., 134.,   0.]),\n  'Cbm_Left_VI': array([196.,  58., 250.,   0.]),\n  'Cbm_Vermis_VI': array([  0., 148.,   0.,   0.]),\n  'Cbm_Right_VI': array([220., 248., 164.,   0.]),\n  'Cbm_Left_CrusI': array([230., 148.,  34.,   0.]),\n  'Cbm_Vermis_CrusI': array([  0., 118.,  14.,   0.]),\n  'Cbm_Right_CrusI': array([  0., 118.,  14.,   0.]),\n  'Cbm_Left_CrusII': array([122., 186., 220.,   0.]),\n  'Cbm_Vermis_CrusII': array([236.,  13., 176.,   0.]),\n  'Cbm_Right_CrusII': array([ 12.,  48., 255.,   0.]),\n  'Cbm_Left_VIIb': array([204., 182., 142.,   0.]),\n  'Cbm_Vermis_VIIb': array([ 42., 204., 164.,   0.]),\n  'Cbm_Right_VIIb': array([119., 159., 176.,   0.]),\n  'Cbm_Left_VIIIa': array([220., 216.,  20.,   0.]),\n  'Cbm_Vermis_VIIIa': array([103., 255., 255.,   0.]),\n  'Cbm_Right_VIIIa': array([ 80., 196.,  98.,   0.]),\n  'Cbm_Left_VIIIb': array([ 60.,  58., 210.,   0.]),\n  'Cbm_Vermis_VIIIb': array([ 60.,  58., 210.,   0.]),\n  'Cbm_Right_VIIIb': array([ 60.,  58., 210.,   0.]),\n  'Cbm_Left_IX': array([ 60.,  58., 210.,   0.]),\n  'Cbm_Vermis_IX': array([60., 60., 60.,  0.]),\n  'Cbm_Right_IX': array([255., 165.,   0.,   0.]),\n  'Cbm_Left_X': array([255., 165.,   0.,   0.]),\n  'Cbm_Vermis_X': array([  0., 255., 127.,   0.]),\n  'Cbm_Right_X': array([165.,  42.,  42.,   0.]),\n  'Cbm_Right_I_V_med': array([204.,   0.,   0.,   0.]),\n  'Cbm_Right_I_V_mid': array([255.,   0.,   0.,   0.]),\n  'Cbm_Right_VI_med': array([  0.,   0., 255.,   0.]),\n  'Cbm_Right_VI_mid': array([ 30., 144., 255.,   0.]),\n  'Cbm_Right_VI_lat': array([100., 212., 237.,   0.]),\n  'Cbm_Right_CrusI_med': array([218., 165.,  32.,   0.]),\n  'Cbm_Right_CrusI_mid': array([255., 215.,   0.,   0.]),\n  'Cbm_Right_CrusI_lat': array([255., 255., 166.,   0.]),\n  'Cbm_Right_CrusII_med': array([153.,   0., 204.,   0.]),\n  'Cbm_Right_CrusII_mid': array([153., 141., 209.,   0.]),\n  'Cbm_Right_CrusII_lat': array([204., 204., 255.,   0.]),\n  'Cbm_Right_7med': array([ 31., 212., 194.,   0.]),\n  'Cbm_Right_7mid': array([  3., 255., 237.,   0.]),\n  'Cbm_Right_7lat': array([204., 255., 255.,   0.]),\n  'Cbm_Right_8med': array([ 86.,  74., 147.,   0.]),\n  'Cbm_Right_8mid': array([114., 114., 190.,   0.]),\n  'Cbm_Right_8lat': array([184., 178., 255.,   0.]),\n  'Cbm_Right_PUNs': array([126., 138.,  37.,   0.]),\n  'Cbm_Right_TONs': array([189., 197., 117.,   0.]),\n  'Cbm_Right_FLOs': array([240., 230., 140.,   0.]),\n  'Cbm_Left_I_V_med': array([204.,   0.,   0.,   0.]),\n  'Cbm_Left_I_V_mid': array([255.,   0.,   0.,   0.]),\n  'Cbm_Left_VI_med': array([  0.,   0., 255.,   0.]),\n  'Cbm_Left_VI_mid': array([ 30., 144., 255.,   0.]),\n  'Cbm_Left_VI_lat': array([100., 212., 237.,   0.]),\n  'Cbm_Left_CrusI_med': array([218., 165.,  32.,   0.]),\n  'Cbm_Left_CrusI_mid': array([255., 215.,   0.,   0.]),\n  'Cbm_Left_CrusI_lat': array([255., 255., 166.,   0.]),\n  'Cbm_Left_CrusII_med': array([153.,   0., 204.,   0.]),\n  'Cbm_Left_CrusII_mid': array([153., 141., 209.,   0.]),\n  'Cbm_Left_CrusII_lat': array([204., 204., 255.,   0.]),\n  'Cbm_Left_7med': array([ 31., 212., 194.,   0.]),\n  'Cbm_Left_7mid': array([  3., 255., 237.,   0.]),\n  'Cbm_Left_7lat': array([204., 255., 255.,   0.]),\n  'Cbm_Left_8med': array([ 86.,  74., 147.,   0.]),\n  'Cbm_Left_8mid': array([114., 114., 190.,   0.]),\n  'Cbm_Left_8lat': array([184., 178., 255.,   0.]),\n  'Cbm_Left_PUNs': array([126., 138.,  37.,   0.]),\n  'Cbm_Left_TONs': array([189., 197., 117.,   0.]),\n  'Cbm_Left_FLOs': array([240., 230., 140.,   0.]),\n  'CSF-FSL-FAST': array([120.,  18., 134.,   0.]),\n  'GrayMatter-FSL-FAST': array([205.,  62.,  78.,   0.]),\n  'WhiteMatter-FSL-FAST': array([  0., 225.,   0.,   0.]),\n  'SUSPICIOUS': array([255., 100., 100.,   0.]),\n  'ctx-lh-unknown': array([25.,  5., 25.,  0.]),\n  'ctx-lh-bankssts': array([ 25., 100.,  40.,   0.]),\n  'ctx-lh-caudalanteriorcingulate': array([125., 100., 160.,   0.]),\n  'ctx-lh-caudalmiddlefrontal': array([100.,  25.,   0.,   0.]),\n  'ctx-lh-corpuscallosum': array([120.,  70.,  50.,   0.]),\n  'ctx-lh-cuneus': array([220.,  20., 100.,   0.]),\n  'ctx-lh-entorhinal': array([220.,  20.,  10.,   0.]),\n  'ctx-lh-fusiform': array([180., 220., 140.,   0.]),\n  'ctx-lh-inferiorparietal': array([220.,  60., 220.,   0.]),\n  'ctx-lh-inferiortemporal': array([180.,  40., 120.,   0.]),\n  'ctx-lh-isthmuscingulate': array([140.,  20., 140.,   0.]),\n  'ctx-lh-lateraloccipital': array([ 20.,  30., 140.,   0.]),\n  'ctx-lh-lateralorbitofrontal': array([35., 75., 50.,  0.]),\n  'ctx-lh-lingual': array([225., 140., 140.,   0.]),\n  'ctx-lh-medialorbitofrontal': array([200.,  35.,  75.,   0.]),\n  'ctx-lh-middletemporal': array([160., 100.,  50.,   0.]),\n  'ctx-lh-parahippocampal': array([ 20., 220.,  60.,   0.]),\n  'ctx-lh-paracentral': array([ 60., 220.,  60.,   0.]),\n  'ctx-lh-parsopercularis': array([220., 180., 140.,   0.]),\n  'ctx-lh-parsorbitalis': array([ 20., 100.,  50.,   0.]),\n  'ctx-lh-parstriangularis': array([220.,  60.,  20.,   0.]),\n  'ctx-lh-pericalcarine': array([120., 100.,  60.,   0.]),\n  'ctx-lh-postcentral': array([220.,  20.,  20.,   0.]),\n  'ctx-lh-posteriorcingulate': array([220., 180., 220.,   0.]),\n  'ctx-lh-precentral': array([ 60.,  20., 220.,   0.]),\n  'ctx-lh-precuneus': array([160., 140., 180.,   0.]),\n  'ctx-lh-rostralanteriorcingulate': array([ 80.,  20., 140.,   0.]),\n  'ctx-lh-rostralmiddlefrontal': array([ 75.,  50., 125.,   0.]),\n  'ctx-lh-superiorfrontal': array([ 20., 220., 160.,   0.]),\n  'ctx-lh-superiorparietal': array([ 20., 180., 140.,   0.]),\n  'ctx-lh-superiortemporal': array([140., 220., 220.,   0.]),\n  'ctx-lh-supramarginal': array([ 80., 160.,  20.,   0.]),\n  'ctx-lh-frontalpole': array([100.,   0., 100.,   0.]),\n  'ctx-lh-temporalpole': array([70., 70., 70.,  0.]),\n  'ctx-lh-transversetemporal': array([150., 150., 200.,   0.]),\n  'ctx-lh-insula': array([255., 192.,  32.,   0.]),\n  'ctx-rh-unknown': array([25.,  5., 25.,  0.]),\n  'ctx-rh-bankssts': array([ 25., 100.,  40.,   0.]),\n  'ctx-rh-caudalanteriorcingulate': array([125., 100., 160.,   0.]),\n  'ctx-rh-caudalmiddlefrontal': array([100.,  25.,   0.,   0.]),\n  'ctx-rh-corpuscallosum': array([120.,  70.,  50.,   0.]),\n  'ctx-rh-cuneus': array([220.,  20., 100.,   0.]),\n  'ctx-rh-entorhinal': array([220.,  20.,  10.,   0.]),\n  'ctx-rh-fusiform': array([180., 220., 140.,   0.]),\n  'ctx-rh-inferiorparietal': array([220.,  60., 220.,   0.]),\n  'ctx-rh-inferiortemporal': array([180.,  40., 120.,   0.]),\n  'ctx-rh-isthmuscingulate': array([140.,  20., 140.,   0.]),\n  'ctx-rh-lateraloccipital': array([ 20.,  30., 140.,   0.]),\n  'ctx-rh-lateralorbitofrontal': array([35., 75., 50.,  0.]),\n  'ctx-rh-lingual': array([225., 140., 140.,   0.]),\n  'ctx-rh-medialorbitofrontal': array([200.,  35.,  75.,   0.]),\n  'ctx-rh-middletemporal': array([160., 100.,  50.,   0.]),\n  'ctx-rh-parahippocampal': array([ 20., 220.,  60.,   0.]),\n  'ctx-rh-paracentral': array([ 60., 220.,  60.,   0.]),\n  'ctx-rh-parsopercularis': array([220., 180., 140.,   0.]),\n  'ctx-rh-parsorbitalis': array([ 20., 100.,  50.,   0.]),\n  'ctx-rh-parstriangularis': array([220.,  60.,  20.,   0.]),\n  'ctx-rh-pericalcarine': array([120., 100.,  60.,   0.]),\n  'ctx-rh-postcentral': array([220.,  20.,  20.,   0.]),\n  'ctx-rh-posteriorcingulate': array([220., 180., 220.,   0.]),\n  'ctx-rh-precentral': array([ 60.,  20., 220.,   0.]),\n  'ctx-rh-precuneus': array([160., 140., 180.,   0.]),\n  'ctx-rh-rostralanteriorcingulate': array([ 80.,  20., 140.,   0.]),\n  'ctx-rh-rostralmiddlefrontal': array([ 75.,  50., 125.,   0.]),\n  'ctx-rh-superiorfrontal': array([ 20., 220., 160.,   0.]),\n  'ctx-rh-superiorparietal': array([ 20., 180., 140.,   0.]),\n  'ctx-rh-superiortemporal': array([140., 220., 220.,   0.]),\n  'ctx-rh-supramarginal': array([ 80., 160.,  20.,   0.]),\n  'ctx-rh-frontalpole': array([100.,   0., 100.,   0.]),\n  'ctx-rh-temporalpole': array([70., 70., 70.,  0.]),\n  'ctx-rh-transversetemporal': array([150., 150., 200.,   0.]),\n  'ctx-rh-insula': array([255., 192.,  32.,   0.]),\n  'wm-lh-unknown': array([230., 250., 230.,   0.]),\n  'wm-lh-bankssts': array([230., 155., 215.,   0.]),\n  'wm-lh-caudalanteriorcingulate': array([130., 155.,  95.,   0.]),\n  'wm-lh-caudalmiddlefrontal': array([155., 230., 255.,   0.]),\n  'wm-lh-corpuscallosum': array([135., 185., 205.,   0.]),\n  'wm-lh-cuneus': array([ 35., 235., 155.,   0.]),\n  'wm-lh-entorhinal': array([ 35., 235., 245.,   0.]),\n  'wm-lh-fusiform': array([ 75.,  35., 115.,   0.]),\n  'wm-lh-inferiorparietal': array([ 35., 195.,  35.,   0.]),\n  'wm-lh-inferiortemporal': array([ 75., 215., 135.,   0.]),\n  'wm-lh-isthmuscingulate': array([115., 235., 115.,   0.]),\n  'wm-lh-lateraloccipital': array([235., 225., 115.,   0.]),\n  'wm-lh-lateralorbitofrontal': array([220., 180., 205.,   0.]),\n  'wm-lh-lingual': array([ 30., 115., 115.,   0.]),\n  'wm-lh-medialorbitofrontal': array([ 55., 220., 180.,   0.]),\n  'wm-lh-middletemporal': array([ 95., 155., 205.,   0.]),\n  'wm-lh-parahippocampal': array([235.,  35., 195.,   0.]),\n  'wm-lh-paracentral': array([195.,  35., 195.,   0.]),\n  'wm-lh-parsopercularis': array([ 35.,  75., 115.,   0.]),\n  'wm-lh-parsorbitalis': array([235., 155., 205.,   0.]),\n  'wm-lh-parstriangularis': array([ 35., 195., 235.,   0.]),\n  'wm-lh-pericalcarine': array([135., 155., 195.,   0.]),\n  'wm-lh-postcentral': array([ 35., 235., 235.,   0.]),\n  'wm-lh-posteriorcingulate': array([35., 75., 35.,  0.]),\n  'wm-lh-precentral': array([195., 235.,  35.,   0.]),\n  'wm-lh-precuneus': array([ 95., 115.,  75.,   0.]),\n  'wm-lh-rostralanteriorcingulate': array([175., 235., 115.,   0.]),\n  'wm-lh-rostralmiddlefrontal': array([180., 205., 130.,   0.]),\n  'wm-lh-superiorfrontal': array([235.,  35.,  95.,   0.]),\n  'wm-lh-superiorparietal': array([235.,  75., 115.,   0.]),\n  'wm-lh-superiortemporal': array([115.,  35.,  35.,   0.]),\n  'wm-lh-supramarginal': array([175.,  95., 235.,   0.]),\n  'wm-lh-frontalpole': array([155., 255., 155.,   0.]),\n  'wm-lh-temporalpole': array([185., 185., 185.,   0.]),\n  'wm-lh-transversetemporal': array([105., 105.,  55.,   0.]),\n  'wm-lh-insula': array([254., 191.,  31.,   0.]),\n  'wm-rh-unknown': array([230., 250., 230.,   0.]),\n  'wm-rh-bankssts': array([230., 155., 215.,   0.]),\n  'wm-rh-caudalanteriorcingulate': array([130., 155.,  95.,   0.]),\n  'wm-rh-caudalmiddlefrontal': array([155., 230., 255.,   0.]),\n  'wm-rh-corpuscallosum': array([135., 185., 205.,   0.]),\n  'wm-rh-cuneus': array([ 35., 235., 155.,   0.]),\n  'wm-rh-entorhinal': array([ 35., 235., 245.,   0.]),\n  'wm-rh-fusiform': array([ 75.,  35., 115.,   0.]),\n  'wm-rh-inferiorparietal': array([ 35., 195.,  35.,   0.]),\n  'wm-rh-inferiortemporal': array([ 75., 215., 135.,   0.]),\n  'wm-rh-isthmuscingulate': array([115., 235., 115.,   0.]),\n  'wm-rh-lateraloccipital': array([235., 225., 115.,   0.]),\n  'wm-rh-lateralorbitofrontal': array([220., 180., 205.,   0.]),\n  'wm-rh-lingual': array([ 30., 115., 115.,   0.]),\n  'wm-rh-medialorbitofrontal': array([ 55., 220., 180.,   0.]),\n  'wm-rh-middletemporal': array([ 95., 155., 205.,   0.]),\n  'wm-rh-parahippocampal': array([235.,  35., 195.,   0.]),\n  'wm-rh-paracentral': array([195.,  35., 195.,   0.]),\n  'wm-rh-parsopercularis': array([ 35.,  75., 115.,   0.]),\n  'wm-rh-parsorbitalis': array([235., 155., 205.,   0.]),\n  'wm-rh-parstriangularis': array([ 35., 195., 235.,   0.]),\n  'wm-rh-pericalcarine': array([135., 155., 195.,   0.]),\n  'wm-rh-postcentral': array([ 35., 235., 235.,   0.]),\n  'wm-rh-posteriorcingulate': array([35., 75., 35.,  0.]),\n  'wm-rh-precentral': array([195., 235.,  35.,   0.]),\n  'wm-rh-precuneus': array([ 95., 115.,  75.,   0.]),\n  'wm-rh-rostralanteriorcingulate': array([175., 235., 115.,   0.]),\n  'wm-rh-rostralmiddlefrontal': array([180., 205., 130.,   0.]),\n  'wm-rh-superiorfrontal': array([235.,  35.,  95.,   0.]),\n  'wm-rh-superiorparietal': array([235.,  75., 115.,   0.]),\n  'wm-rh-superiortemporal': array([115.,  35.,  35.,   0.]),\n  'wm-rh-supramarginal': array([175.,  95., 235.,   0.]),\n  'wm-rh-frontalpole': array([155., 255., 155.,   0.]),\n  'wm-rh-temporalpole': array([185., 185., 185.,   0.]),\n  'wm-rh-transversetemporal': array([105., 105.,  55.,   0.]),\n  'wm-rh-insula': array([254., 191.,  31.,   0.]),\n  'ctx-lh-Unknown': array([0., 0., 0., 0.]),\n  'ctx-lh-Corpus_callosum': array([50., 50., 50.,  0.]),\n  'ctx-lh-G_and_S_Insula_ONLY_AVERAGE': array([180.,  20.,  30.,   0.]),\n  'ctx-lh-G_cingulate-Isthmus': array([60., 25., 25.,  0.]),\n  'ctx-lh-G_cingulate-Main_part': array([25., 60., 60.,  0.]),\n  'ctx-lh-G_cingulate-caudal_ACC': array([25., 60., 61.,  0.]),\n  'ctx-lh-G_cingulate-rostral_ACC': array([25., 90., 60.,  0.]),\n  'ctx-lh-G_cingulate-posterior': array([ 25., 120.,  60.,   0.]),\n  'ctx-lh-S_cingulate-caudal_ACC': array([ 25., 150.,  60.,   0.]),\n  'ctx-lh-S_cingulate-rostral_ACC': array([ 25., 180.,  60.,   0.]),\n  'ctx-lh-S_cingulate-posterior': array([ 25., 210.,  60.,   0.]),\n  'ctx-lh-S_pericallosal-caudal': array([ 25., 150.,  90.,   0.]),\n  'ctx-lh-S_pericallosal-rostral': array([ 25., 180.,  90.,   0.]),\n  'ctx-lh-S_pericallosal-posterior': array([ 25., 210.,  90.,   0.]),\n  'ctx-lh-G_cuneus': array([180.,  20.,  20.,   0.]),\n  'ctx-lh-G_frontal_inf-Opercular_part': array([220.,  20., 100.,   0.]),\n  'ctx-lh-G_frontal_inf-Orbital_part': array([140.,  60.,  60.,   0.]),\n  'ctx-lh-G_frontal_inf-Triangular_part': array([180., 220., 140.,   0.]),\n  'ctx-lh-G_frontal_middle': array([140., 100., 180.,   0.]),\n  'ctx-lh-G_frontal_superior': array([180.,  20., 140.,   0.]),\n  'ctx-lh-G_frontomarginal': array([140.,  20., 140.,   0.]),\n  'ctx-lh-G_insular_long': array([21., 10., 10.,  0.]),\n  'ctx-lh-G_insular_short': array([225., 140., 140.,   0.]),\n  'ctx-lh-G_and_S_occipital_inferior': array([ 23.,  60., 180.,   0.]),\n  'ctx-lh-G_occipital_middle': array([180.,  60., 180.,   0.]),\n  'ctx-lh-G_occipital_superior': array([ 20., 220.,  60.,   0.]),\n  'ctx-lh-G_occipit-temp_lat-Or_fusiform': array([ 60.,  20., 140.,   0.]),\n  'ctx-lh-G_occipit-temp_med-Lingual_part': array([220., 180., 140.,   0.]),\n  'ctx-lh-G_occipit-temp_med-Parahippocampal_part': array([ 65., 100.,  20.,   0.]),\n  'ctx-lh-G_orbital': array([220.,  60.,  20.,   0.]),\n  'ctx-lh-G_paracentral': array([ 60., 100.,  60.,   0.]),\n  'ctx-lh-G_parietal_inferior-Angular_part': array([ 20.,  60., 220.,   0.]),\n  'ctx-lh-G_parietal_inferior-Supramarginal_part': array([100., 100.,  60.,   0.]),\n  'ctx-lh-G_parietal_superior': array([220., 180., 220.,   0.]),\n  'ctx-lh-G_postcentral': array([ 20., 180., 140.,   0.]),\n  'ctx-lh-G_precentral': array([ 60., 140., 180.,   0.]),\n  'ctx-lh-G_precuneus': array([ 25.,  20., 140.,   0.]),\n  'ctx-lh-G_rectus': array([ 20.,  60., 100.,   0.]),\n  'ctx-lh-G_subcallosal': array([ 60., 220.,  20.,   0.]),\n  'ctx-lh-G_subcentral': array([ 60.,  20., 220.,   0.]),\n  'ctx-lh-G_temporal_inferior': array([220., 220., 100.,   0.]),\n  'ctx-lh-G_temporal_middle': array([180.,  60.,  60.,   0.]),\n  'ctx-lh-G_temp_sup-G_temp_transv_and_interm_S': array([ 60.,  60., 220.,   0.]),\n  'ctx-lh-G_temp_sup-Lateral_aspect': array([220.,  60., 220.,   0.]),\n  'ctx-lh-G_temp_sup-Planum_polare': array([ 65., 220.,  60.,   0.]),\n  'ctx-lh-G_temp_sup-Planum_tempolare': array([ 25., 140.,  20.,   0.]),\n  'ctx-lh-G_and_S_transverse_frontopolar': array([ 13.,   0., 250.,   0.]),\n  'ctx-lh-Lat_Fissure-ant_sgt-ramus_horizontal': array([ 61.,  20., 220.,   0.]),\n  'ctx-lh-Lat_Fissure-ant_sgt-ramus_vertical': array([61., 20., 60.,  0.]),\n  'ctx-lh-Lat_Fissure-post_sgt': array([ 61.,  60., 100.,   0.]),\n  'ctx-lh-Medial_wall': array([25., 25., 25.,  0.]),\n  'ctx-lh-Pole_occipital': array([140.,  20.,  60.,   0.]),\n  'ctx-lh-Pole_temporal': array([220., 180.,  20.,   0.]),\n  'ctx-lh-S_calcarine': array([ 63., 180., 180.,   0.]),\n  'ctx-lh-S_central': array([221.,  20.,  10.,   0.]),\n  'ctx-lh-S_central_insula': array([ 21., 220.,  20.,   0.]),\n  'ctx-lh-S_cingulate-Main_part_and_Intracingulate': array([183., 100.,  20.,   0.]),\n  'ctx-lh-S_cingulate-Marginalis_part': array([221.,  20., 100.,   0.]),\n  'ctx-lh-S_circular_insula_anterior': array([221.,  60., 140.,   0.]),\n  'ctx-lh-S_circular_insula_inferior': array([221.,  20., 220.,   0.]),\n  'ctx-lh-S_circular_insula_superior': array([ 61., 220., 220.,   0.]),\n  'ctx-lh-S_collateral_transverse_ant': array([100., 200., 200.,   0.]),\n  'ctx-lh-S_collateral_transverse_post': array([ 10., 200., 200.,   0.]),\n  'ctx-lh-S_frontal_inferior': array([221., 220.,  20.,   0.]),\n  'ctx-lh-S_frontal_middle': array([141.,  20., 100.,   0.]),\n  'ctx-lh-S_frontal_superior': array([ 61., 220., 100.,   0.]),\n  'ctx-lh-S_frontomarginal': array([ 21., 220.,  60.,   0.]),\n  'ctx-lh-S_intermedius_primus-Jensen': array([141.,  60.,  20.,   0.]),\n  'ctx-lh-S_intraparietal-and_Parietal_transverse': array([143.,  20., 220.,   0.]),\n  'ctx-lh-S_occipital_anterior': array([ 61.,  20., 180.,   0.]),\n  'ctx-lh-S_occipital_middle_and_Lunatus': array([101.,  60., 220.,   0.]),\n  'ctx-lh-S_occipital_superior_and_transversalis': array([ 21.,  20., 140.,   0.]),\n  'ctx-lh-S_occipito-temporal_lateral': array([221., 140.,  20.,   0.]),\n  'ctx-lh-S_occipito-temporal_medial_and_S_Lingual': array([141., 100., 220.,   0.]),\n  'ctx-lh-S_orbital-H_shapped': array([101.,  20.,  20.,   0.]),\n  'ctx-lh-S_orbital_lateral': array([221., 100.,  20.,   0.]),\n  'ctx-lh-S_orbital_medial-Or_olfactory': array([181., 200.,  20.,   0.]),\n  'ctx-lh-S_paracentral': array([ 21., 180., 140.,   0.]),\n  'ctx-lh-S_parieto_occipital': array([101., 100., 180.,   0.]),\n  'ctx-lh-S_pericallosal': array([181., 220.,  20.,   0.]),\n  'ctx-lh-S_postcentral': array([ 21., 140., 200.,   0.]),\n  'ctx-lh-S_precentral-Inferior-part': array([ 21.,  20., 240.,   0.]),\n  'ctx-lh-S_precentral-Superior-part': array([ 21.,  20., 200.,   0.]),\n  'ctx-lh-S_subcentral_ant': array([ 61., 180.,  60.,   0.]),\n  'ctx-lh-S_subcentral_post': array([ 61., 180., 250.,   0.]),\n  'ctx-lh-S_suborbital': array([21., 20., 60.,  0.]),\n  'ctx-lh-S_subparietal': array([101.,  60.,  60.,   0.]),\n  'ctx-lh-S_supracingulate': array([ 21., 220., 220.,   0.]),\n  'ctx-lh-S_temporal_inferior': array([ 21., 180., 180.,   0.]),\n  'ctx-lh-S_temporal_superior': array([223., 220.,  60.,   0.]),\n  'ctx-lh-S_temporal_transverse': array([221.,  60.,  60.,   0.]),\n  'ctx-rh-Unknown': array([0., 0., 0., 0.]),\n  'ctx-rh-Corpus_callosum': array([50., 50., 50.,  0.]),\n  'ctx-rh-G_and_S_Insula_ONLY_AVERAGE': array([180.,  20.,  30.,   0.]),\n  'ctx-rh-G_cingulate-Isthmus': array([60., 25., 25.,  0.]),\n  'ctx-rh-G_cingulate-Main_part': array([25., 60., 60.,  0.]),\n  'ctx-rh-G_cuneus': array([180.,  20.,  20.,   0.]),\n  'ctx-rh-G_frontal_inf-Opercular_part': array([220.,  20., 100.,   0.]),\n  'ctx-rh-G_frontal_inf-Orbital_part': array([140.,  60.,  60.,   0.]),\n  'ctx-rh-G_frontal_inf-Triangular_part': array([180., 220., 140.,   0.]),\n  'ctx-rh-G_frontal_middle': array([140., 100., 180.,   0.]),\n  'ctx-rh-G_frontal_superior': array([180.,  20., 140.,   0.]),\n  'ctx-rh-G_frontomarginal': array([140.,  20., 140.,   0.]),\n  'ctx-rh-G_insular_long': array([21., 10., 10.,  0.]),\n  'ctx-rh-G_insular_short': array([225., 140., 140.,   0.]),\n  'ctx-rh-G_and_S_occipital_inferior': array([ 23.,  60., 180.,   0.]),\n  'ctx-rh-G_occipital_middle': array([180.,  60., 180.,   0.]),\n  'ctx-rh-G_occipital_superior': array([ 20., 220.,  60.,   0.]),\n  'ctx-rh-G_occipit-temp_lat-Or_fusiform': array([ 60.,  20., 140.,   0.]),\n  'ctx-rh-G_occipit-temp_med-Lingual_part': array([220., 180., 140.,   0.]),\n  'ctx-rh-G_occipit-temp_med-Parahippocampal_part': array([ 65., 100.,  20.,   0.]),\n  'ctx-rh-G_orbital': array([220.,  60.,  20.,   0.]),\n  'ctx-rh-G_paracentral': array([ 60., 100.,  60.,   0.]),\n  'ctx-rh-G_parietal_inferior-Angular_part': array([ 20.,  60., 220.,   0.]),\n  'ctx-rh-G_parietal_inferior-Supramarginal_part': array([100., 100.,  60.,   0.]),\n  'ctx-rh-G_parietal_superior': array([220., 180., 220.,   0.]),\n  'ctx-rh-G_postcentral': array([ 20., 180., 140.,   0.]),\n  'ctx-rh-G_precentral': array([ 60., 140., 180.,   0.]),\n  'ctx-rh-G_precuneus': array([ 25.,  20., 140.,   0.]),\n  'ctx-rh-G_rectus': array([ 20.,  60., 100.,   0.]),\n  'ctx-rh-G_subcallosal': array([ 60., 220.,  20.,   0.]),\n  'ctx-rh-G_subcentral': array([ 60.,  20., 220.,   0.]),\n  'ctx-rh-G_temporal_inferior': array([220., 220., 100.,   0.]),\n  'ctx-rh-G_temporal_middle': array([180.,  60.,  60.,   0.]),\n  'ctx-rh-G_temp_sup-G_temp_transv_and_interm_S': array([ 60.,  60., 220.,   0.]),\n  'ctx-rh-G_temp_sup-Lateral_aspect': array([220.,  60., 220.,   0.]),\n  'ctx-rh-G_temp_sup-Planum_polare': array([ 65., 220.,  60.,   0.]),\n  'ctx-rh-G_temp_sup-Planum_tempolare': array([ 25., 140.,  20.,   0.]),\n  'ctx-rh-G_and_S_transverse_frontopolar': array([ 13.,   0., 250.,   0.]),\n  'ctx-rh-Lat_Fissure-ant_sgt-ramus_horizontal': array([ 61.,  20., 220.,   0.]),\n  'ctx-rh-Lat_Fissure-ant_sgt-ramus_vertical': array([61., 20., 60.,  0.]),\n  'ctx-rh-Lat_Fissure-post_sgt': array([ 61.,  60., 100.,   0.]),\n  'ctx-rh-Medial_wall': array([25., 25., 25.,  0.]),\n  'ctx-rh-Pole_occipital': array([140.,  20.,  60.,   0.]),\n  'ctx-rh-Pole_temporal': array([220., 180.,  20.,   0.]),\n  'ctx-rh-S_calcarine': array([ 63., 180., 180.,   0.]),\n  'ctx-rh-S_central': array([221.,  20.,  10.,   0.]),\n  'ctx-rh-S_central_insula': array([ 21., 220.,  20.,   0.]),\n  'ctx-rh-S_cingulate-Main_part_and_Intracingulate': array([183., 100.,  20.,   0.]),\n  'ctx-rh-S_cingulate-Marginalis_part': array([221.,  20., 100.,   0.]),\n  'ctx-rh-S_circular_insula_anterior': array([221.,  60., 140.,   0.]),\n  'ctx-rh-S_circular_insula_inferior': array([221.,  20., 220.,   0.]),\n  'ctx-rh-S_circular_insula_superior': array([ 61., 220., 220.,   0.]),\n  'ctx-rh-S_collateral_transverse_ant': array([100., 200., 200.,   0.]),\n  'ctx-rh-S_collateral_transverse_post': array([ 10., 200., 200.,   0.]),\n  'ctx-rh-S_frontal_inferior': array([221., 220.,  20.,   0.]),\n  'ctx-rh-S_frontal_middle': array([141.,  20., 100.,   0.]),\n  'ctx-rh-S_frontal_superior': array([ 61., 220., 100.,   0.]),\n  'ctx-rh-S_frontomarginal': array([ 21., 220.,  60.,   0.]),\n  'ctx-rh-S_intermedius_primus-Jensen': array([141.,  60.,  20.,   0.]),\n  'ctx-rh-S_intraparietal-and_Parietal_transverse': array([143.,  20., 220.,   0.]),\n  'ctx-rh-S_occipital_anterior': array([ 61.,  20., 180.,   0.]),\n  'ctx-rh-S_occipital_middle_and_Lunatus': array([101.,  60., 220.,   0.]),\n  'ctx-rh-S_occipital_superior_and_transversalis': array([ 21.,  20., 140.,   0.]),\n  'ctx-rh-S_occipito-temporal_lateral': array([221., 140.,  20.,   0.]),\n  'ctx-rh-S_occipito-temporal_medial_and_S_Lingual': array([141., 100., 220.,   0.]),\n  'ctx-rh-S_orbital-H_shapped': array([101.,  20.,  20.,   0.]),\n  'ctx-rh-S_orbital_lateral': array([221., 100.,  20.,   0.]),\n  'ctx-rh-S_orbital_medial-Or_olfactory': array([181., 200.,  20.,   0.]),\n  'ctx-rh-S_paracentral': array([ 21., 180., 140.,   0.]),\n  'ctx-rh-S_parieto_occipital': array([101., 100., 180.,   0.]),\n  'ctx-rh-S_pericallosal': array([181., 220.,  20.,   0.]),\n  'ctx-rh-S_postcentral': array([ 21., 140., 200.,   0.]),\n  'ctx-rh-S_precentral-Inferior-part': array([ 21.,  20., 240.,   0.]),\n  'ctx-rh-S_precentral-Superior-part': array([ 21.,  20., 200.,   0.]),\n  'ctx-rh-S_subcentral_ant': array([ 61., 180.,  60.,   0.]),\n  'ctx-rh-S_subcentral_post': array([ 61., 180., 250.,   0.]),\n  'ctx-rh-S_suborbital': array([21., 20., 60.,  0.]),\n  'ctx-rh-S_subparietal': array([101.,  60.,  60.,   0.]),\n  'ctx-rh-S_supracingulate': array([ 21., 220., 220.,   0.]),\n  'ctx-rh-S_temporal_inferior': array([ 21., 180., 180.,   0.]),\n  'ctx-rh-S_temporal_superior': array([223., 220.,  60.,   0.]),\n  'ctx-rh-S_temporal_transverse': array([221.,  60.,  60.,   0.]),\n  'ctx-rh-G_cingulate-caudal_ACC': array([25., 60., 61.,  0.]),\n  'ctx-rh-G_cingulate-rostral_ACC': array([25., 90., 60.,  0.]),\n  'ctx-rh-G_cingulate-posterior': array([ 25., 120.,  60.,   0.]),\n  'ctx-rh-S_cingulate-caudal_ACC': array([ 25., 150.,  60.,   0.]),\n  'ctx-rh-S_cingulate-rostral_ACC': array([ 25., 180.,  60.,   0.]),\n  'ctx-rh-S_cingulate-posterior': array([ 25., 210.,  60.,   0.]),\n  'ctx-rh-S_pericallosal-caudal': array([ 25., 150.,  90.,   0.]),\n  'ctx-rh-S_pericallosal-rostral': array([ 25., 180.,  90.,   0.]),\n  'ctx-rh-S_pericallosal-posterior': array([ 25., 210.,  90.,   0.]),\n  'wm-lh-Unknown': array([0., 0., 0., 0.]),\n  'wm-lh-Corpus_callosum': array([50., 50., 50.,  0.]),\n  'wm-lh-G_and_S_Insula_ONLY_AVERAGE': array([180.,  20.,  30.,   0.]),\n  'wm-lh-G_cingulate-Isthmus': array([60., 25., 25.,  0.]),\n  'wm-lh-G_cingulate-Main_part': array([25., 60., 60.,  0.]),\n  'wm-lh-G_cuneus': array([180.,  20.,  20.,   0.]),\n  'wm-lh-G_frontal_inf-Opercular_part': array([220.,  20., 100.,   0.]),\n  'wm-lh-G_frontal_inf-Orbital_part': array([140.,  60.,  60.,   0.]),\n  'wm-lh-G_frontal_inf-Triangular_part': array([180., 220., 140.,   0.]),\n  'wm-lh-G_frontal_middle': array([140., 100., 180.,   0.]),\n  'wm-lh-G_frontal_superior': array([180.,  20., 140.,   0.]),\n  'wm-lh-G_frontomarginal': array([140.,  20., 140.,   0.]),\n  'wm-lh-G_insular_long': array([21., 10., 10.,  0.]),\n  'wm-lh-G_insular_short': array([225., 140., 140.,   0.]),\n  'wm-lh-G_and_S_occipital_inferior': array([ 23.,  60., 180.,   0.]),\n  'wm-lh-G_occipital_middle': array([180.,  60., 180.,   0.]),\n  'wm-lh-G_occipital_superior': array([ 20., 220.,  60.,   0.]),\n  'wm-lh-G_occipit-temp_lat-Or_fusiform': array([ 60.,  20., 140.,   0.]),\n  'wm-lh-G_occipit-temp_med-Lingual_part': array([220., 180., 140.,   0.]),\n  'wm-lh-G_occipit-temp_med-Parahippocampal_part': array([ 65., 100.,  20.,   0.]),\n  'wm-lh-G_orbital': array([220.,  60.,  20.,   0.]),\n  'wm-lh-G_paracentral': array([ 60., 100.,  60.,   0.]),\n  'wm-lh-G_parietal_inferior-Angular_part': array([ 20.,  60., 220.,   0.]),\n  'wm-lh-G_parietal_inferior-Supramarginal_part': array([100., 100.,  60.,   0.]),\n  'wm-lh-G_parietal_superior': array([220., 180., 220.,   0.]),\n  'wm-lh-G_postcentral': array([ 20., 180., 140.,   0.]),\n  'wm-lh-G_precentral': array([ 60., 140., 180.,   0.]),\n  'wm-lh-G_precuneus': array([ 25.,  20., 140.,   0.]),\n  'wm-lh-G_rectus': array([ 20.,  60., 100.,   0.]),\n  'wm-lh-G_subcallosal': array([ 60., 220.,  20.,   0.]),\n  'wm-lh-G_subcentral': array([ 60.,  20., 220.,   0.]),\n  'wm-lh-G_temporal_inferior': array([220., 220., 100.,   0.]),\n  'wm-lh-G_temporal_middle': array([180.,  60.,  60.,   0.]),\n  'wm-lh-G_temp_sup-G_temp_transv_and_interm_S': array([ 60.,  60., 220.,   0.]),\n  'wm-lh-G_temp_sup-Lateral_aspect': array([220.,  60., 220.,   0.]),\n  'wm-lh-G_temp_sup-Planum_polare': array([ 65., 220.,  60.,   0.]),\n  'wm-lh-G_temp_sup-Planum_tempolare': array([ 25., 140.,  20.,   0.]),\n  'wm-lh-G_and_S_transverse_frontopolar': array([ 13.,   0., 250.,   0.]),\n  'wm-lh-Lat_Fissure-ant_sgt-ramus_horizontal': array([ 61.,  20., 220.,   0.]),\n  'wm-lh-Lat_Fissure-ant_sgt-ramus_vertical': array([61., 20., 60.,  0.]),\n  'wm-lh-Lat_Fissure-post_sgt': array([ 61.,  60., 100.,   0.]),\n  'wm-lh-Medial_wall': array([25., 25., 25.,  0.]),\n  'wm-lh-Pole_occipital': array([140.,  20.,  60.,   0.]),\n  'wm-lh-Pole_temporal': array([220., 180.,  20.,   0.]),\n  'wm-lh-S_calcarine': array([ 63., 180., 180.,   0.]),\n  'wm-lh-S_central': array([221.,  20.,  10.,   0.]),\n  'wm-lh-S_central_insula': array([ 21., 220.,  20.,   0.]),\n  'wm-lh-S_cingulate-Main_part_and_Intracingulate': array([183., 100.,  20.,   0.]),\n  'wm-lh-S_cingulate-Marginalis_part': array([221.,  20., 100.,   0.]),\n  'wm-lh-S_circular_insula_anterior': array([221.,  60., 140.,   0.]),\n  'wm-lh-S_circular_insula_inferior': array([221.,  20., 220.,   0.]),\n  'wm-lh-S_circular_insula_superior': array([ 61., 220., 220.,   0.]),\n  'wm-lh-S_collateral_transverse_ant': array([100., 200., 200.,   0.]),\n  'wm-lh-S_collateral_transverse_post': array([ 10., 200., 200.,   0.]),\n  'wm-lh-S_frontal_inferior': array([221., 220.,  20.,   0.]),\n  'wm-lh-S_frontal_middle': array([141.,  20., 100.,   0.]),\n  'wm-lh-S_frontal_superior': array([ 61., 220., 100.,   0.]),\n  'wm-lh-S_frontomarginal': array([ 21., 220.,  60.,   0.]),\n  'wm-lh-S_intermedius_primus-Jensen': array([141.,  60.,  20.,   0.]),\n  'wm-lh-S_intraparietal-and_Parietal_transverse': array([143.,  20., 220.,   0.]),\n  'wm-lh-S_occipital_anterior': array([ 61.,  20., 180.,   0.]),\n  'wm-lh-S_occipital_middle_and_Lunatus': array([101.,  60., 220.,   0.]),\n  'wm-lh-S_occipital_superior_and_transversalis': array([ 21.,  20., 140.,   0.]),\n  'wm-lh-S_occipito-temporal_lateral': array([221., 140.,  20.,   0.]),\n  'wm-lh-S_occipito-temporal_medial_and_S_Lingual': array([141., 100., 220.,   0.]),\n  'wm-lh-S_orbital-H_shapped': array([101.,  20.,  20.,   0.]),\n  'wm-lh-S_orbital_lateral': array([221., 100.,  20.,   0.]),\n  'wm-lh-S_orbital_medial-Or_olfactory': array([181., 200.,  20.,   0.]),\n  'wm-lh-S_paracentral': array([ 21., 180., 140.,   0.]),\n  'wm-lh-S_parieto_occipital': array([101., 100., 180.,   0.]),\n  'wm-lh-S_pericallosal': array([181., 220.,  20.,   0.]),\n  'wm-lh-S_postcentral': array([ 21., 140., 200.,   0.]),\n  'wm-lh-S_precentral-Inferior-part': array([ 21.,  20., 240.,   0.]),\n  'wm-lh-S_precentral-Superior-part': array([ 21.,  20., 200.,   0.]),\n  'wm-lh-S_subcentral_ant': array([ 61., 180.,  60.,   0.]),\n  'wm-lh-S_subcentral_post': array([ 61., 180., 250.,   0.]),\n  'wm-lh-S_suborbital': array([21., 20., 60.,  0.]),\n  'wm-lh-S_subparietal': array([101.,  60.,  60.,   0.]),\n  'wm-lh-S_supracingulate': array([ 21., 220., 220.,   0.]),\n  'wm-lh-S_temporal_inferior': array([ 21., 180., 180.,   0.]),\n  'wm-lh-S_temporal_superior': array([223., 220.,  60.,   0.]),\n  'wm-lh-S_temporal_transverse': array([221.,  60.,  60.,   0.]),\n  'wm-rh-Unknown': array([0., 0., 0., 0.]),\n  'wm-rh-Corpus_callosum': array([50., 50., 50.,  0.]),\n  'wm-rh-G_and_S_Insula_ONLY_AVERAGE': array([180.,  20.,  30.,   0.]),\n  'wm-rh-G_cingulate-Isthmus': array([60., 25., 25.,  0.]),\n  'wm-rh-G_cingulate-Main_part': array([25., 60., 60.,  0.]),\n  'wm-rh-G_cuneus': array([180.,  20.,  20.,   0.]),\n  'wm-rh-G_frontal_inf-Opercular_part': array([220.,  20., 100.,   0.]),\n  'wm-rh-G_frontal_inf-Orbital_part': array([140.,  60.,  60.,   0.]),\n  'wm-rh-G_frontal_inf-Triangular_part': array([180., 220., 140.,   0.]),\n  'wm-rh-G_frontal_middle': array([140., 100., 180.,   0.]),\n  'wm-rh-G_frontal_superior': array([180.,  20., 140.,   0.]),\n  'wm-rh-G_frontomarginal': array([140.,  20., 140.,   0.]),\n  'wm-rh-G_insular_long': array([21., 10., 10.,  0.]),\n  'wm-rh-G_insular_short': array([225., 140., 140.,   0.]),\n  'wm-rh-G_and_S_occipital_inferior': array([ 23.,  60., 180.,   0.]),\n  'wm-rh-G_occipital_middle': array([180.,  60., 180.,   0.]),\n  'wm-rh-G_occipital_superior': array([ 20., 220.,  60.,   0.]),\n  'wm-rh-G_occipit-temp_lat-Or_fusiform': array([ 60.,  20., 140.,   0.]),\n  'wm-rh-G_occipit-temp_med-Lingual_part': array([220., 180., 140.,   0.]),\n  'wm-rh-G_occipit-temp_med-Parahippocampal_part': array([ 65., 100.,  20.,   0.]),\n  'wm-rh-G_orbital': array([220.,  60.,  20.,   0.]),\n  'wm-rh-G_paracentral': array([ 60., 100.,  60.,   0.]),\n  'wm-rh-G_parietal_inferior-Angular_part': array([ 20.,  60., 220.,   0.]),\n  'wm-rh-G_parietal_inferior-Supramarginal_part': array([100., 100.,  60.,   0.]),\n  'wm-rh-G_parietal_superior': array([220., 180., 220.,   0.]),\n  'wm-rh-G_postcentral': array([ 20., 180., 140.,   0.]),\n  'wm-rh-G_precentral': array([ 60., 140., 180.,   0.]),\n  'wm-rh-G_precuneus': array([ 25.,  20., 140.,   0.]),\n  'wm-rh-G_rectus': array([ 20.,  60., 100.,   0.]),\n  'wm-rh-G_subcallosal': array([ 60., 220.,  20.,   0.]),\n  'wm-rh-G_subcentral': array([ 60.,  20., 220.,   0.]),\n  'wm-rh-G_temporal_inferior': array([220., 220., 100.,   0.]),\n  'wm-rh-G_temporal_middle': array([180.,  60.,  60.,   0.]),\n  'wm-rh-G_temp_sup-G_temp_transv_and_interm_S': array([ 60.,  60., 220.,   0.]),\n  'wm-rh-G_temp_sup-Lateral_aspect': array([220.,  60., 220.,   0.]),\n  'wm-rh-G_temp_sup-Planum_polare': array([ 65., 220.,  60.,   0.]),\n  'wm-rh-G_temp_sup-Planum_tempolare': array([ 25., 140.,  20.,   0.]),\n  'wm-rh-G_and_S_transverse_frontopolar': array([ 13.,   0., 250.,   0.]),\n  'wm-rh-Lat_Fissure-ant_sgt-ramus_horizontal': array([ 61.,  20., 220.,   0.]),\n  'wm-rh-Lat_Fissure-ant_sgt-ramus_vertical': array([61., 20., 60.,  0.]),\n  'wm-rh-Lat_Fissure-post_sgt': array([ 61.,  60., 100.,   0.]),\n  'wm-rh-Medial_wall': array([25., 25., 25.,  0.]),\n  'wm-rh-Pole_occipital': array([140.,  20.,  60.,   0.]),\n  'wm-rh-Pole_temporal': array([220., 180.,  20.,   0.]),\n  'wm-rh-S_calcarine': array([ 63., 180., 180.,   0.]),\n  'wm-rh-S_central': array([221.,  20.,  10.,   0.]),\n  'wm-rh-S_central_insula': array([ 21., 220.,  20.,   0.]),\n  'wm-rh-S_cingulate-Main_part_and_Intracingulate': array([183., 100.,  20.,   0.]),\n  'wm-rh-S_cingulate-Marginalis_part': array([221.,  20., 100.,   0.]),\n  'wm-rh-S_circular_insula_anterior': array([221.,  60., 140.,   0.]),\n  'wm-rh-S_circular_insula_inferior': array([221.,  20., 220.,   0.]),\n  'wm-rh-S_circular_insula_superior': array([ 61., 220., 220.,   0.]),\n  'wm-rh-S_collateral_transverse_ant': array([100., 200., 200.,   0.]),\n  'wm-rh-S_collateral_transverse_post': array([ 10., 200., 200.,   0.]),\n  'wm-rh-S_frontal_inferior': array([221., 220.,  20.,   0.]),\n  'wm-rh-S_frontal_middle': array([141.,  20., 100.,   0.]),\n  'wm-rh-S_frontal_superior': array([ 61., 220., 100.,   0.]),\n  'wm-rh-S_frontomarginal': array([ 21., 220.,  60.,   0.]),\n  'wm-rh-S_intermedius_primus-Jensen': array([141.,  60.,  20.,   0.]),\n  'wm-rh-S_intraparietal-and_Parietal_transverse': array([143.,  20., 220.,   0.]),\n  'wm-rh-S_occipital_anterior': array([ 61.,  20., 180.,   0.]),\n  'wm-rh-S_occipital_middle_and_Lunatus': array([101.,  60., 220.,   0.]),\n  'wm-rh-S_occipital_superior_and_transversalis': array([ 21.,  20., 140.,   0.]),\n  'wm-rh-S_occipito-temporal_lateral': array([221., 140.,  20.,   0.]),\n  'wm-rh-S_occipito-temporal_medial_and_S_Lingual': array([141., 100., 220.,   0.]),\n  'wm-rh-S_orbital-H_shapped': array([101.,  20.,  20.,   0.]),\n  'wm-rh-S_orbital_lateral': array([221., 100.,  20.,   0.]),\n  'wm-rh-S_orbital_medial-Or_olfactory': array([181., 200.,  20.,   0.]),\n  'wm-rh-S_paracentral': array([ 21., 180., 140.,   0.]),\n  'wm-rh-S_parieto_occipital': array([101., 100., 180.,   0.]),\n  'wm-rh-S_pericallosal': array([181., 220.,  20.,   0.]),\n  'wm-rh-S_postcentral': array([ 21., 140., 200.,   0.]),\n  'wm-rh-S_precentral-Inferior-part': array([ 21.,  20., 240.,   0.]),\n  'wm-rh-S_precentral-Superior-part': array([ 21.,  20., 200.,   0.]),\n  'wm-rh-S_subcentral_ant': array([ 61., 180.,  60.,   0.]),\n  'wm-rh-S_subcentral_post': array([ 61., 180., 250.,   0.]),\n  'wm-rh-S_suborbital': array([21., 20., 60.,  0.]),\n  'wm-rh-S_subparietal': array([101.,  60.,  60.,   0.]),\n  'wm-rh-S_supracingulate': array([ 21., 220., 220.,   0.]),\n  'wm-rh-S_temporal_inferior': array([ 21., 180., 180.,   0.]),\n  'wm-rh-S_temporal_superior': array([223., 220.,  60.,   0.]),\n  'wm-rh-S_temporal_transverse': array([221.,  60.,  60.,   0.]),\n  'Left-UnsegmentedWhiteMatter': array([20., 30., 40.,  0.]),\n  'Right-UnsegmentedWhiteMatter': array([20., 30., 40.,  0.]),\n  'fmajor': array([204., 102., 102.,   0.]),\n  'fminor': array([204., 102., 102.,   0.]),\n  'lh.atr': array([255., 255., 102.,   0.]),\n  'lh.cab': array([153., 204.,   0.,   0.]),\n  'lh.ccg': array([  0., 153., 153.,   0.]),\n  'lh.cst': array([204., 153., 255.,   0.]),\n  'lh.ilf': array([255., 153.,  51.,   0.]),\n  'lh.slfp': array([204., 204., 204.,   0.]),\n  'lh.slft': array([153., 255., 255.,   0.]),\n  'lh.unc': array([102., 153., 255.,   0.]),\n  'rh.atr': array([255., 255., 102.,   0.]),\n  'rh.cab': array([153., 204.,   0.,   0.]),\n  'rh.ccg': array([  0., 153., 153.,   0.]),\n  'rh.cst': array([204., 153., 255.,   0.]),\n  'rh.ilf': array([255., 153.,  51.,   0.]),\n  'rh.slfp': array([204., 204., 204.,   0.]),\n  'rh.slft': array([153., 255., 255.,   0.]),\n  'rh.unc': array([102., 153., 255.,   0.]),\n  'CC-ForcepsMajor': array([204., 102., 102.,   0.]),\n  'CC-ForcepsMinor': array([204., 102., 102.,   0.]),\n  'LAntThalRadiation': array([255., 255., 102.,   0.]),\n  'LCingulumAngBundle': array([153., 204.,   0.,   0.]),\n  'LCingulumCingGyrus': array([  0., 153., 153.,   0.]),\n  'LCorticospinalTract': array([204., 153., 255.,   0.]),\n  'LInfLongFas': array([255., 153.,  51.,   0.]),\n  'LSupLongFasParietal': array([204., 204., 204.,   0.]),\n  'LSupLongFasTemporal': array([153., 255., 255.,   0.]),\n  'LUncinateFas': array([102., 153., 255.,   0.]),\n  'RAntThalRadiation': array([255., 255., 102.,   0.]),\n  'RCingulumAngBundle': array([153., 204.,   0.,   0.]),\n  'RCingulumCingGyrus': array([  0., 153., 153.,   0.]),\n  'RCorticospinalTract': array([204., 153., 255.,   0.]),\n  'RInfLongFas': array([255., 153.,  51.,   0.]),\n  'RSupLongFasParietal': array([204., 204., 204.,   0.]),\n  'RSupLongFasTemporal': array([153., 255., 255.,   0.]),\n  'RUncinateFas': array([102., 153., 255.,   0.]),\n  'CST-orig': array([  0., 255.,   0.,   0.]),\n  'CST-hammer': array([255., 255.,   0.,   0.]),\n  'CST-CVS': array([  0., 255., 255.,   0.]),\n  'CST-flirt': array([  0.,   0., 255.,   0.]),\n  'Left-SLF1': array([236.,  16., 231.,   0.]),\n  'Right-SLF1': array([237.,  18., 232.,   0.]),\n  'Left-SLF3': array([236.,  13., 227.,   0.]),\n  'Right-SLF3': array([236.,  17., 228.,   0.]),\n  'Left-CST': array([  1., 255.,   1.,   0.]),\n  'Right-CST': array([  2., 255.,   1.,   0.]),\n  'Left-SLF2': array([236.,  14., 230.,   0.]),\n  'Right-SLF2': array([237.,  14., 230.,   0.]),\n  'Lateral-nucleus': array([ 72., 132., 181.,   0.]),\n  'Basolateral-nucleus': array([243., 243., 243.,   0.]),\n  'Basal-nucleus': array([207.,  63.,  79.,   0.]),\n  'Centromedial-nucleus': array([121.,  20., 135.,   0.]),\n  'Central-nucleus': array([197.,  60., 248.,   0.]),\n  'Medial-nucleus': array([  2., 149.,   2.,   0.]),\n  'Cortical-nucleus': array([221., 249., 166.,   0.]),\n  'Accessory-Basal-nucleus': array([232., 146.,  35.,   0.]),\n  'Corticoamygdaloid-transitio': array([ 20.,  60., 120.,   0.]),\n  'Anterior-amygdaloid-area-AAA': array([250., 250.,   0.,   0.]),\n  'Fusion-amygdala-HP-FAH': array([122., 187., 222.,   0.]),\n  'Hippocampal-amygdala-transition-HATA': array([237.,  12., 177.,   0.]),\n  'Endopiriform-nucleus': array([ 10.,  49., 255.,   0.]),\n  'Lateral-nucleus-olfactory-tract': array([205., 184., 144.,   0.]),\n  'Paralaminar-nucleus': array([ 45., 205., 165.,   0.]),\n  'Intercalated-nucleus': array([117., 160., 175.,   0.]),\n  'Prepiriform-cortex': array([221., 217.,  21.,   0.]),\n  'Periamygdaloid-cortex': array([ 20.,  60., 120.,   0.]),\n  'Envelope-Amygdala': array([141.,  21., 100.,   0.]),\n  'Extranuclear-Amydala': array([225., 140., 141.,   0.]),\n  'Brainstem-inferior-colliculus': array([ 42., 201., 168.,   0.]),\n  'Brainstem-cochlear-nucleus': array([168., 104., 162.,   0.]),\n  'Thalamus-Anterior': array([ 74., 130., 181.,   0.]),\n  'Thalamus-Ventral-anterior': array([242., 241., 240.,   0.]),\n  'Thalamus-Lateral-dorsal': array([206.,  65.,  78.,   0.]),\n  'Thalamus-Lateral-posterior': array([120.,  21., 133.,   0.]),\n  'Thalamus-Ventral-lateral': array([195.,  61., 246.,   0.]),\n  'Thalamus-Ventral-posterior-medial': array([  3., 147.,   6.,   0.]),\n  'Thalamus-Ventral-posterior-lateral': array([220., 251., 163.,   0.]),\n  'Thalamus-intralaminar': array([232., 146.,  33.,   0.]),\n  'Thalamus-centromedian': array([  4., 114.,  14.,   0.]),\n  'Thalamus-mediodorsal': array([121., 184., 220.,   0.]),\n  'Thalamus-medial': array([235.,  11., 175.,   0.]),\n  'Thalamus-pulvinar': array([ 12.,  46., 250.,   0.]),\n  'Thalamus-lateral-geniculate': array([203., 182., 143.,   0.]),\n  'Thalamus-medial-geniculate': array([ 42., 204., 167.,   0.]),\n  'ctx-lh-prefrontal': array([30.,  5., 30.,  0.]),\n  'ctx-lh-primary-motor': array([ 30., 100.,  45.,   0.]),\n  'ctx-lh-premotor': array([130., 100., 165.,   0.]),\n  'ctx-lh-temporal': array([105.,  25.,   5.,   0.]),\n  'ctx-lh-posterior-parietal': array([125.,  70.,  55.,   0.]),\n  'ctx-lh-prim-sec-somatosensory': array([225.,  20., 105.,   0.]),\n  'ctx-lh-occipital': array([225.,  20.,  15.,   0.]),\n  'ctx-rh-prefrontal': array([30., 55., 30.,  0.]),\n  'ctx-rh-primary-motor': array([ 30., 150.,  45.,   0.]),\n  'ctx-rh-premotor': array([130., 150., 165.,   0.]),\n  'ctx-rh-temporal': array([105.,  75.,   5.,   0.]),\n  'ctx-rh-posterior-parietal': array([125., 120.,  55.,   0.]),\n  'ctx-rh-prim-sec-somatosensory': array([225.,  70., 105.,   0.]),\n  'ctx-rh-occipital': array([225.,  70.,  15.,   0.]),\n  'ctx_lh_Unknown': array([0., 0., 0., 0.]),\n  'ctx_lh_G_and_S_frontomargin': array([ 23., 220.,  60.,   0.]),\n  'ctx_lh_G_and_S_occipital_inf': array([ 23.,  60., 180.,   0.]),\n  'ctx_lh_G_and_S_paracentral': array([ 63., 100.,  60.,   0.]),\n  'ctx_lh_G_and_S_subcentral': array([ 63.,  20., 220.,   0.]),\n  'ctx_lh_G_and_S_transv_frontopol': array([ 13.,   0., 250.,   0.]),\n  'ctx_lh_G_and_S_cingul-Ant': array([26., 60.,  0.,  0.]),\n  'ctx_lh_G_and_S_cingul-Mid-Ant': array([26., 60., 75.,  0.]),\n  'ctx_lh_G_and_S_cingul-Mid-Post': array([ 26.,  60., 150.,   0.]),\n  'ctx_lh_G_cingul-Post-dorsal': array([ 25.,  60., 250.,   0.]),\n  'ctx_lh_G_cingul-Post-ventral': array([60., 25., 25.,  0.]),\n  'ctx_lh_G_cuneus': array([180.,  20.,  20.,   0.]),\n  'ctx_lh_G_front_inf-Opercular': array([220.,  20., 100.,   0.]),\n  'ctx_lh_G_front_inf-Orbital': array([140.,  60.,  60.,   0.]),\n  'ctx_lh_G_front_inf-Triangul': array([180., 220., 140.,   0.]),\n  'ctx_lh_G_front_middle': array([140., 100., 180.,   0.]),\n  'ctx_lh_G_front_sup': array([180.,  20., 140.,   0.]),\n  'ctx_lh_G_Ins_lg_and_S_cent_ins': array([23., 10., 10.,  0.]),\n  'ctx_lh_G_insular_short': array([225., 140., 140.,   0.]),\n  'ctx_lh_G_occipital_middle': array([180.,  60., 180.,   0.]),\n  'ctx_lh_G_occipital_sup': array([ 20., 220.,  60.,   0.]),\n  'ctx_lh_G_oc-temp_lat-fusifor': array([ 60.,  20., 140.,   0.]),\n  'ctx_lh_G_oc-temp_med-Lingual': array([220., 180., 140.,   0.]),\n  'ctx_lh_G_oc-temp_med-Parahip': array([ 65., 100.,  20.,   0.]),\n  'ctx_lh_G_orbital': array([220.,  60.,  20.,   0.]),\n  'ctx_lh_G_pariet_inf-Angular': array([ 20.,  60., 220.,   0.]),\n  'ctx_lh_G_pariet_inf-Supramar': array([100., 100.,  60.,   0.]),\n  'ctx_lh_G_parietal_sup': array([220., 180., 220.,   0.]),\n  'ctx_lh_G_postcentral': array([ 20., 180., 140.,   0.]),\n  'ctx_lh_G_precentral': array([ 60., 140., 180.,   0.]),\n  'ctx_lh_G_precuneus': array([ 25.,  20., 140.,   0.]),\n  'ctx_lh_G_rectus': array([ 20.,  60., 100.,   0.]),\n  'ctx_lh_G_subcallosal': array([ 60., 220.,  20.,   0.]),\n  'ctx_lh_G_temp_sup-G_T_transv': array([ 60.,  60., 220.,   0.]),\n  'ctx_lh_G_temp_sup-Lateral': array([220.,  60., 220.,   0.]),\n  'ctx_lh_G_temp_sup-Plan_polar': array([ 65., 220.,  60.,   0.]),\n  'ctx_lh_G_temp_sup-Plan_tempo': array([ 25., 140.,  20.,   0.]),\n  'ctx_lh_G_temporal_inf': array([220., 220., 100.,   0.]),\n  ...})"
     },
     "execution_count": 4,
     "metadata": {},
     "output_type": "execute_result"
    }
   ],
   "source": [
    "# mne.read_freesurfer_lut(\"./datasets/aal/aal2.nii.lut\")\n",
    "mne.read_freesurfer_lut()"
   ],
   "metadata": {
    "collapsed": false,
    "pycharm": {
     "name": "#%%\n"
    }
   }
  },
  {
   "cell_type": "code",
   "execution_count": 5,
   "outputs": [
    {
     "ename": "RuntimeError",
     "evalue": "LUT is improperly formatted: ./datasets/aal/aal2.nii.txt",
     "output_type": "error",
     "traceback": [
      "\u001B[0;31m---------------------------------------------------------------------------\u001B[0m",
      "\u001B[0;31mRuntimeError\u001B[0m                              Traceback (most recent call last)",
      "Input \u001B[0;32mIn [5]\u001B[0m, in \u001B[0;36m<cell line: 1>\u001B[0;34m()\u001B[0m\n\u001B[0;32m----> 1\u001B[0m \u001B[43mmne\u001B[49m\u001B[38;5;241;43m.\u001B[39;49m\u001B[43mread_freesurfer_lut\u001B[49m\u001B[43m(\u001B[49m\u001B[38;5;124;43m\"\u001B[39;49m\u001B[38;5;124;43m./datasets/aal/aal2.nii.txt\u001B[39;49m\u001B[38;5;124;43m\"\u001B[39;49m\u001B[43m)\u001B[49m\n",
      "File \u001B[0;32m~/anaconda3/envs/mne/lib/python3.10/site-packages/mne/_freesurfer.py:604\u001B[0m, in \u001B[0;36mread_freesurfer_lut\u001B[0;34m(fname)\u001B[0m\n\u001B[1;32m    589\u001B[0m \u001B[38;5;28;01mdef\u001B[39;00m \u001B[38;5;21mread_freesurfer_lut\u001B[39m(fname\u001B[38;5;241m=\u001B[39m\u001B[38;5;28;01mNone\u001B[39;00m):\n\u001B[1;32m    590\u001B[0m     \u001B[38;5;124;03m\"\"\"Read a Freesurfer-formatted LUT.\u001B[39;00m\n\u001B[1;32m    591\u001B[0m \n\u001B[1;32m    592\u001B[0m \u001B[38;5;124;03m    Parameters\u001B[39;00m\n\u001B[0;32m   (...)\u001B[0m\n\u001B[1;32m    602\u001B[0m \u001B[38;5;124;03m        Mapping from label names to colors.\u001B[39;00m\n\u001B[1;32m    603\u001B[0m \u001B[38;5;124;03m    \"\"\"\u001B[39;00m\n\u001B[0;32m--> 604\u001B[0m     lut \u001B[38;5;241m=\u001B[39m \u001B[43m_get_lut\u001B[49m\u001B[43m(\u001B[49m\u001B[43mfname\u001B[49m\u001B[43m)\u001B[49m\n\u001B[1;32m    605\u001B[0m     names, ids \u001B[38;5;241m=\u001B[39m lut[\u001B[38;5;124m'\u001B[39m\u001B[38;5;124mname\u001B[39m\u001B[38;5;124m'\u001B[39m], lut[\u001B[38;5;124m'\u001B[39m\u001B[38;5;124mid\u001B[39m\u001B[38;5;124m'\u001B[39m]\n\u001B[1;32m    606\u001B[0m     colors \u001B[38;5;241m=\u001B[39m np\u001B[38;5;241m.\u001B[39marray([lut[\u001B[38;5;124m'\u001B[39m\u001B[38;5;124mR\u001B[39m\u001B[38;5;124m'\u001B[39m], lut[\u001B[38;5;124m'\u001B[39m\u001B[38;5;124mG\u001B[39m\u001B[38;5;124m'\u001B[39m], lut[\u001B[38;5;124m'\u001B[39m\u001B[38;5;124mB\u001B[39m\u001B[38;5;124m'\u001B[39m], lut[\u001B[38;5;124m'\u001B[39m\u001B[38;5;124mA\u001B[39m\u001B[38;5;124m'\u001B[39m]], \u001B[38;5;28mfloat\u001B[39m)\u001B[38;5;241m.\u001B[39mT\n",
      "File \u001B[0;32m~/anaconda3/envs/mne/lib/python3.10/site-packages/mne/_freesurfer.py:629\u001B[0m, in \u001B[0;36m_get_lut\u001B[0;34m(fname)\u001B[0m\n\u001B[1;32m    627\u001B[0m line \u001B[38;5;241m=\u001B[39m line\u001B[38;5;241m.\u001B[39msplit()\n\u001B[1;32m    628\u001B[0m \u001B[38;5;28;01mif\u001B[39;00m \u001B[38;5;28mlen\u001B[39m(line) \u001B[38;5;241m!=\u001B[39m \u001B[38;5;28mlen\u001B[39m(dtype):\n\u001B[0;32m--> 629\u001B[0m     \u001B[38;5;28;01mraise\u001B[39;00m \u001B[38;5;167;01mRuntimeError\u001B[39;00m(\u001B[38;5;124mf\u001B[39m\u001B[38;5;124m'\u001B[39m\u001B[38;5;124mLUT is improperly formatted: \u001B[39m\u001B[38;5;132;01m{\u001B[39;00mfname\u001B[38;5;132;01m}\u001B[39;00m\u001B[38;5;124m'\u001B[39m)\n\u001B[1;32m    630\u001B[0m \u001B[38;5;28;01mfor\u001B[39;00m d, part \u001B[38;5;129;01min\u001B[39;00m \u001B[38;5;28mzip\u001B[39m(dtype, line):\n\u001B[1;32m    631\u001B[0m     lut[d[\u001B[38;5;241m0\u001B[39m]]\u001B[38;5;241m.\u001B[39mappend(part)\n",
      "\u001B[0;31mRuntimeError\u001B[0m: LUT is improperly formatted: ./datasets/aal/aal2.nii.txt"
     ]
    }
   ],
   "source": [
    "mne.read_freesurfer_lut(\"./datasets/aal/aal2.nii.txt\")"
   ],
   "metadata": {
    "collapsed": false,
    "pycharm": {
     "name": "#%%\n"
    }
   }
  },
  {
   "cell_type": "markdown",
   "source": [
    "# Nilearn stuff"
   ],
   "metadata": {
    "collapsed": false,
    "pycharm": {
     "name": "#%% md\n"
    }
   }
  },
  {
   "cell_type": "code",
   "execution_count": 7,
   "outputs": [],
   "source": [
    "from nilearn.maskers import NiftiLabelsMasker"
   ],
   "metadata": {
    "collapsed": false,
    "pycharm": {
     "name": "#%%\n"
    }
   }
  },
  {
   "cell_type": "code",
   "execution_count": 8,
   "outputs": [],
   "source": [
    "masker = NiftiLabelsMasker(labels_img=\"./datasets/aal/aal2.nii.gz\", standardize=True,\n",
    "                           memory='nilearn_cache', verbose=5)"
   ],
   "metadata": {
    "collapsed": false,
    "pycharm": {
     "name": "#%%\n"
    }
   }
  },
  {
   "cell_type": "code",
   "execution_count": 9,
   "outputs": [
    {
     "data": {
      "text/plain": "NiftiLabelsMasker(labels_img='./datasets/aal/aal2.nii.gz',\n                  memory='nilearn_cache', standardize=True, verbose=5)"
     },
     "execution_count": 9,
     "metadata": {},
     "output_type": "execute_result"
    }
   ],
   "source": [
    "masker"
   ],
   "metadata": {
    "collapsed": false,
    "pycharm": {
     "name": "#%%\n"
    }
   }
  },
  {
   "cell_type": "markdown",
   "source": [
    "### Not really what I need here."
   ],
   "metadata": {
    "collapsed": false,
    "pycharm": {
     "name": "#%% md\n"
    }
   }
  },
  {
   "cell_type": "markdown",
   "source": [
    "# MNI coordinates of AAL2"
   ],
   "metadata": {
    "collapsed": false,
    "pycharm": {
     "name": "#%% md\n"
    }
   }
  },
  {
   "cell_type": "code",
   "execution_count": 55,
   "outputs": [
    {
     "ename": "NameError",
     "evalue": "name 'img' is not defined",
     "output_type": "error",
     "traceback": [
      "\u001B[0;31m---------------------------------------------------------------------------\u001B[0m",
      "\u001B[0;31mNameError\u001B[0m                                 Traceback (most recent call last)",
      "Input \u001B[0;32mIn [55]\u001B[0m, in \u001B[0;36m<cell line: 1>\u001B[0;34m()\u001B[0m\n\u001B[0;32m----> 1\u001B[0m hdr2 \u001B[38;5;241m=\u001B[39m \u001B[43mimg\u001B[49m\u001B[38;5;241m.\u001B[39mheader\n\u001B[1;32m      2\u001B[0m \u001B[38;5;28mprint\u001B[39m(hdr2)\n",
      "\u001B[0;31mNameError\u001B[0m: name 'img' is not defined"
     ]
    }
   ],
   "source": [
    "hdr2 = img.header\n",
    "print(hdr2)"
   ],
   "metadata": {
    "collapsed": false,
    "pycharm": {
     "name": "#%%\n"
    }
   }
  },
  {
   "cell_type": "code",
   "execution_count": 54,
   "outputs": [
    {
     "ename": "NameError",
     "evalue": "name 'img2' is not defined",
     "output_type": "error",
     "traceback": [
      "\u001B[0;31m---------------------------------------------------------------------------\u001B[0m",
      "\u001B[0;31mNameError\u001B[0m                                 Traceback (most recent call last)",
      "Input \u001B[0;32mIn [54]\u001B[0m, in \u001B[0;36m<cell line: 1>\u001B[0;34m()\u001B[0m\n\u001B[0;32m----> 1\u001B[0m vx_dims \u001B[38;5;241m=\u001B[39m \u001B[43mimg2\u001B[49m\u001B[38;5;241m.\u001B[39mheader[\u001B[38;5;124m\"\u001B[39m\u001B[38;5;124mdim\u001B[39m\u001B[38;5;124m\"\u001B[39m][\u001B[38;5;241m1\u001B[39m:\u001B[38;5;241m4\u001B[39m]\n\u001B[1;32m      2\u001B[0m vx_dims\n",
      "\u001B[0;31mNameError\u001B[0m: name 'img2' is not defined"
     ]
    }
   ],
   "source": [
    "vx_dims = img2.header[\"dim\"][1:4]\n",
    "vx_dims"
   ],
   "metadata": {
    "collapsed": false,
    "pycharm": {
     "name": "#%%\n"
    }
   }
  },
  {
   "cell_type": "code",
   "execution_count": 6,
   "outputs": [
    {
     "name": "stdout",
     "output_type": "stream",
     "text": [
      "[[  -2.    0.    0.   90.]\n",
      " [   0.    2.    0. -126.]\n",
      " [   0.    0.    2.  -72.]\n",
      " [   0.    0.    0.    1.]]\n",
      "[[-0.5 -0.  -0.  45. ]\n",
      " [ 0.   0.5  0.  63. ]\n",
      " [ 0.   0.   0.5 36. ]\n",
      " [ 0.   0.   0.   1. ]]\n"
     ]
    }
   ],
   "source": [
    "print(img2.affine)\n",
    "\n",
    "print(np.linalg.inv(img2.affine))"
   ],
   "metadata": {
    "collapsed": false,
    "pycharm": {
     "name": "#%%\n"
    }
   }
  },
  {
   "cell_type": "code",
   "execution_count": 7,
   "outputs": [
    {
     "name": "stdout",
     "output_type": "stream",
     "text": [
      "[[-2.  0.  0.]\n",
      " [ 0.  2.  0.]\n",
      " [ 0.  0.  2.]]\n",
      "[[-0.5 -0.  -0. ]\n",
      " [ 0.   0.5  0. ]\n",
      " [ 0.   0.   0.5]]\n",
      "[40. 68. 41.]\n",
      "[10. 10. 10.  1.]\n",
      "[40.4  65.15 41.    1.  ]\n",
      "[40.4  65.15 41.  ]\n"
     ]
    }
   ],
   "source": [
    "pix_dims = img2.affine[0:3, 0:3]\n",
    "offsets = img2.affine[0:3, 3]\n",
    "print(pix_dims)\n",
    "\n",
    "print(np.linalg.inv(pix_dims))\n",
    "\n",
    "test_point = np.array([10, 10, 10]) # mm in MNI space\n",
    "\n",
    "proj_to_vox = np.linalg.inv(pix_dims) @ (test_point - offsets)\n",
    "print(proj_to_vox)\n",
    "\n",
    "print(img2.affine @ np.hstack((proj_to_vox, 1)))\n",
    "\n",
    "test_point_expanded = np.array([9.2, 4.3, 10, 1]) # mm in MNI space\n",
    "back_proj = np.linalg.inv(img2.affine) @ test_point_expanded\n",
    "print(back_proj)\n",
    "print(back_proj[0:3])\n"
   ],
   "metadata": {
    "collapsed": false,
    "pycharm": {
     "name": "#%%\n"
    }
   }
  },
  {
   "cell_type": "code",
   "execution_count": 8,
   "outputs": [
    {
     "name": "stdout",
     "output_type": "stream",
     "text": [
      "[-20.2    32.575  20.5  ]\n",
      "[-20.  33.  20.]\n",
      "[40. 66. 40.]\n",
      "[40. 66. 40.  1.]\n"
     ]
    }
   ],
   "source": [
    "print(np.diag(np.linalg.inv(img2.affine))[0:3] * back_proj[0:3])\n",
    "print(np.round(np.diag(np.linalg.inv(img2.affine))[0:3] * back_proj[0:3], 0))\n",
    "print(np.round(np.diag(np.linalg.inv(img2.affine))[0:3] * back_proj[0:3], 0) * np.diag(pix_dims))\n",
    "print(np.round(np.diag(np.linalg.inv(img2.affine)) * back_proj, 0) * np.diag(img2.affine))"
   ],
   "metadata": {
    "collapsed": false,
    "pycharm": {
     "name": "#%%\n"
    }
   }
  },
  {
   "cell_type": "code",
   "execution_count": 10,
   "outputs": [
    {
     "data": {
      "text/plain": "True"
     },
     "execution_count": 10,
     "metadata": {},
     "output_type": "execute_result"
    }
   ],
   "source": [
    "np.all(np.round(np.diag(np.linalg.inv(img2.affine)) * back_proj, 0) * np.diag(img2.affine) == [40, 66, 40, 1])"
   ],
   "metadata": {
    "collapsed": false,
    "pycharm": {
     "name": "#%%\n"
    }
   }
  },
  {
   "cell_type": "markdown",
   "source": [
    "# Test atlas reading: What happens with invalid point?"
   ],
   "metadata": {
    "collapsed": false,
    "pycharm": {
     "name": "#%% md\n"
    }
   }
  },
  {
   "cell_type": "code",
   "execution_count": 2,
   "outputs": [],
   "source": [
    "from util import get_labels_of_points"
   ],
   "metadata": {
    "collapsed": false,
    "pycharm": {
     "name": "#%%\n"
    }
   }
  },
  {
   "cell_type": "code",
   "execution_count": 7,
   "outputs": [
    {
     "data": {
      "text/plain": "([True], array([7001.]), ['label'])"
     },
     "execution_count": 7,
     "metadata": {},
     "output_type": "execute_result"
    }
   ],
   "source": [
    "#get_labels_of_points(np.array([[20,10,20]]), atlas=\"aal2\")\n",
    "get_labels_of_points(np.array([[-6, 14, 0]]), atlas=\"aal2\")"
   ],
   "metadata": {
    "collapsed": false,
    "pycharm": {
     "name": "#%%\n"
    }
   }
  },
  {
   "cell_type": "markdown",
   "source": [
    "# Read altal labels from xml"
   ],
   "metadata": {
    "collapsed": false,
    "pycharm": {
     "name": "#%% md\n"
    }
   }
  },
  {
   "cell_type": "code",
   "execution_count": 8,
   "outputs": [],
   "source": [
    "from xml.dom import minidom"
   ],
   "metadata": {
    "collapsed": false,
    "pycharm": {
     "name": "#%%\n"
    }
   }
  },
  {
   "cell_type": "code",
   "execution_count": 11,
   "outputs": [],
   "source": [
    "xml_file = minidom.parse(\"./datasets/aal/atlas/AAL2.xml\")"
   ],
   "metadata": {
    "collapsed": false,
    "pycharm": {
     "name": "#%%\n"
    }
   }
  },
  {
   "cell_type": "code",
   "execution_count": 16,
   "outputs": [
    {
     "ename": "AttributeError",
     "evalue": "'Element' object has no attribute 'data'",
     "output_type": "error",
     "traceback": [
      "\u001B[0;31m---------------------------------------------------------------------------\u001B[0m",
      "\u001B[0;31mAttributeError\u001B[0m                            Traceback (most recent call last)",
      "Input \u001B[0;32mIn [16]\u001B[0m, in \u001B[0;36m<cell line: 1>\u001B[0;34m()\u001B[0m\n\u001B[0;32m----> 1\u001B[0m \u001B[43mxml_file\u001B[49m\u001B[38;5;241;43m.\u001B[39;49m\u001B[43mgetElementsByTagName\u001B[49m\u001B[43m(\u001B[49m\u001B[38;5;124;43m\"\u001B[39;49m\u001B[38;5;124;43mindex\u001B[39;49m\u001B[38;5;124;43m\"\u001B[39;49m\u001B[43m)\u001B[49m\u001B[43m[\u001B[49m\u001B[38;5;241;43m0\u001B[39;49m\u001B[43m]\u001B[49m\u001B[38;5;241;43m.\u001B[39;49m\u001B[43mdata\u001B[49m\n",
      "\u001B[0;31mAttributeError\u001B[0m: 'Element' object has no attribute 'data'"
     ]
    }
   ],
   "source": [
    "xml_file.getElementsByTagName(\"index\")[0]"
   ],
   "metadata": {
    "collapsed": false,
    "pycharm": {
     "name": "#%%\n"
    }
   }
  },
  {
   "cell_type": "code",
   "execution_count": 17,
   "outputs": [
    {
     "data": {
      "text/plain": "<xml.dom.minidom.Document at 0x147146e00>"
     },
     "execution_count": 17,
     "metadata": {},
     "output_type": "execute_result"
    }
   ],
   "source": [
    "xml_file"
   ],
   "metadata": {
    "collapsed": false,
    "pycharm": {
     "name": "#%%\n"
    }
   }
  },
  {
   "cell_type": "code",
   "execution_count": 19,
   "outputs": [],
   "source": [
    "from xml.etree import ElementTree\n",
    "\n",
    "tree = ElementTree.parse(\"./datasets/aal/atlas/AAL2.xml\")"
   ],
   "metadata": {
    "collapsed": false,
    "pycharm": {
     "name": "#%%\n"
    }
   }
  },
  {
   "cell_type": "code",
   "execution_count": 21,
   "outputs": [],
   "source": [
    "root = tree.getroot()"
   ],
   "metadata": {
    "collapsed": false,
    "pycharm": {
     "name": "#%%\n"
    }
   }
  },
  {
   "cell_type": "code",
   "execution_count": 22,
   "outputs": [
    {
     "name": "stdout",
     "output_type": "stream",
     "text": [
      "<Element 'header' at 0x146405260>\n",
      "<Element 'data' at 0x146405a80>\n"
     ]
    }
   ],
   "source": [
    "for child in root:\n",
    "    print(child)"
   ],
   "metadata": {
    "collapsed": false,
    "pycharm": {
     "name": "#%%\n"
    }
   }
  },
  {
   "cell_type": "code",
   "execution_count": 30,
   "outputs": [
    {
     "name": "stdout",
     "output_type": "stream",
     "text": [
      "<Element 'index' at 0x146407ab0> <Element 'name' at 0x146405a30>\n",
      "<Element 'index' at 0x146406110> <Element 'name' at 0x1464057b0>\n",
      "<Element 'index' at 0x146407a10> <Element 'name' at 0x146405990>\n",
      "<Element 'index' at 0x1464058a0> <Element 'name' at 0x146407240>\n",
      "<Element 'index' at 0x146406390> <Element 'name' at 0x146407f10>\n",
      "<Element 'index' at 0x1464052b0> <Element 'name' at 0x1464071f0>\n",
      "<Element 'index' at 0x1464063e0> <Element 'name' at 0x146406160>\n",
      "<Element 'index' at 0x146405300> <Element 'name' at 0x1465182c0>\n",
      "<Element 'index' at 0x1465192b0> <Element 'name' at 0x1465195d0>\n",
      "<Element 'index' at 0x146518a90> <Element 'name' at 0x146519300>\n",
      "<Element 'index' at 0x146519990> <Element 'name' at 0x146518fe0>\n",
      "<Element 'index' at 0x14651a160> <Element 'name' at 0x1465191c0>\n",
      "<Element 'index' at 0x146519bc0> <Element 'name' at 0x146519df0>\n",
      "<Element 'index' at 0x146518180> <Element 'name' at 0x14651a340>\n",
      "<Element 'index' at 0x14651a1b0> <Element 'name' at 0x146519cb0>\n",
      "<Element 'index' at 0x146519620> <Element 'name' at 0x146518310>\n",
      "<Element 'index' at 0x146519e90> <Element 'name' at 0x146519ad0>\n",
      "<Element 'index' at 0x1465186d0> <Element 'name' at 0x146518900>\n",
      "<Element 'index' at 0x146518d60> <Element 'name' at 0x1465190d0>\n",
      "<Element 'index' at 0x146519ee0> <Element 'name' at 0x146519f80>\n",
      "<Element 'index' at 0x14651a200> <Element 'name' at 0x146519fd0>\n",
      "<Element 'index' at 0x146519120> <Element 'name' at 0x146518db0>\n",
      "<Element 'index' at 0x146518720> <Element 'name' at 0x146518270>\n",
      "<Element 'index' at 0x146519850> <Element 'name' at 0x14651a110>\n",
      "<Element 'index' at 0x146518680> <Element 'name' at 0x146518c70>\n",
      "<Element 'index' at 0x146518630> <Element 'name' at 0x1465194e0>\n",
      "<Element 'index' at 0x1465189a0> <Element 'name' at 0x146518e50>\n",
      "<Element 'index' at 0x146518810> <Element 'name' at 0x146519a80>\n",
      "<Element 'index' at 0x1470a93a0> <Element 'name' at 0x1470a92b0>\n",
      "<Element 'index' at 0x1470aa660> <Element 'name' at 0x1470aa7f0>\n",
      "<Element 'index' at 0x1470aa890> <Element 'name' at 0x1470ab010>\n",
      "<Element 'index' at 0x1470ab740> <Element 'name' at 0x1470ab790>\n",
      "<Element 'index' at 0x1470ab8d0> <Element 'name' at 0x1470ab7e0>\n",
      "<Element 'index' at 0x1470aba60> <Element 'name' at 0x1470ab470>\n",
      "<Element 'index' at 0x1470ab4c0> <Element 'name' at 0x1470a8e50>\n",
      "<Element 'index' at 0x1470a8ea0> <Element 'name' at 0x1470a9490>\n",
      "<Element 'index' at 0x1470aa700> <Element 'name' at 0x1470aa750>\n",
      "<Element 'index' at 0x1470aa980> <Element 'name' at 0x1470aa9d0>\n",
      "<Element 'index' at 0x1470aaa70> <Element 'name' at 0x1470aaac0>\n",
      "<Element 'index' at 0x1470aad40> <Element 'name' at 0x1470aad90>\n",
      "<Element 'index' at 0x1470ab1a0> <Element 'name' at 0x1470ab1f0>\n",
      "<Element 'index' at 0x1470ab380> <Element 'name' at 0x1470ab3d0>\n",
      "<Element 'index' at 0x1470ab5b0> <Element 'name' at 0x1470ab600>\n",
      "<Element 'index' at 0x1470ab6f0> <Element 'name' at 0x1470a8d10>\n",
      "<Element 'index' at 0x1470aae30> <Element 'name' at 0x1470aafc0>\n",
      "<Element 'index' at 0x1470ab920> <Element 'name' at 0x1470abb00>\n",
      "<Element 'index' at 0x1470ab2e0> <Element 'name' at 0x1470ab420>\n",
      "<Element 'index' at 0x1470ab6a0> <Element 'name' at 0x1470abab0>\n",
      "<Element 'index' at 0x147134040> <Element 'name' at 0x147134090>\n",
      "<Element 'index' at 0x147134950> <Element 'name' at 0x147134ae0>\n",
      "<Element 'index' at 0x147134d60> <Element 'name' at 0x147134e50>\n",
      "<Element 'index' at 0x147134220> <Element 'name' at 0x147134b30>\n",
      "<Element 'index' at 0x147136070> <Element 'name' at 0x147136110>\n",
      "<Element 'index' at 0x147136340> <Element 'name' at 0x147136390>\n",
      "<Element 'index' at 0x147136cf0> <Element 'name' at 0x1471373d0>\n",
      "<Element 'index' at 0x147137c40> <Element 'name' at 0x147137c90>\n",
      "<Element 'index' at 0x147137150> <Element 'name' at 0x147137560>\n",
      "<Element 'index' at 0x1471376a0> <Element 'name' at 0x1471376f0>\n",
      "<Element 'index' at 0x147137d80> <Element 'name' at 0x147137e70>\n",
      "<Element 'index' at 0x147137100> <Element 'name' at 0x147134180>\n",
      "<Element 'index' at 0x147134ef0> <Element 'name' at 0x1471357b0>\n",
      "<Element 'index' at 0x147135850> <Element 'name' at 0x147135e40>\n",
      "<Element 'index' at 0x147136020> <Element 'name' at 0x147136ac0>\n",
      "<Element 'index' at 0x147136c00> <Element 'name' at 0x147136c50>\n",
      "<Element 'index' at 0x147134310> <Element 'name' at 0x147134590>\n",
      "<Element 'index' at 0x147134630> <Element 'name' at 0x147134c20>\n",
      "<Element 'index' at 0x147136200> <Element 'name' at 0x147136250>\n",
      "<Element 'index' at 0x147136480> <Element 'name' at 0x1471364d0>\n",
      "<Element 'index' at 0x147136570> <Element 'name' at 0x1471365c0>\n",
      "<Element 'index' at 0x1471366b0> <Element 'name' at 0x147136840>\n",
      "<Element 'index' at 0x1471368e0> <Element 'name' at 0x147136ca0>\n",
      "<Element 'index' at 0x147136e80> <Element 'name' at 0x147136f70>\n",
      "<Element 'index' at 0x147137010> <Element 'name' at 0x1471371a0>\n",
      "<Element 'index' at 0x1471374c0> <Element 'name' at 0x147137510>\n",
      "<Element 'index' at 0x147137dd0> <Element 'name' at 0x147137e20>\n",
      "<Element 'index' at 0x1471367a0> <Element 'name' at 0x147136b10>\n",
      "<Element 'index' at 0x147137600> <Element 'name' at 0x1471375b0>\n",
      "<Element 'index' at 0x1471377e0> <Element 'name' at 0x147136f20>\n",
      "<Element 'index' at 0x147137290> <Element 'name' at 0x1471372e0>\n",
      "<Element 'index' at 0x147137f60> <Element 'name' at 0x147137740>\n",
      "<Element 'index' at 0x14714c220> <Element 'name' at 0x14714c270>\n",
      "<Element 'index' at 0x14714cf40> <Element 'name' at 0x14714cf90>\n",
      "<Element 'index' at 0x14714ca40> <Element 'name' at 0x14714cae0>\n",
      "<Element 'index' at 0x14714c950> <Element 'name' at 0x14714cb30>\n",
      "<Element 'index' at 0x14714cd60> <Element 'name' at 0x14714c9a0>\n",
      "<Element 'index' at 0x14714e1b0> <Element 'name' at 0x14714e250>\n",
      "<Element 'index' at 0x14714e430> <Element 'name' at 0x14714e480>\n",
      "<Element 'index' at 0x14714f4c0> <Element 'name' at 0x14714f510>\n",
      "<Element 'index' at 0x14714fe20> <Element 'name' at 0x14714f240>\n",
      "<Element 'index' at 0x14714f560> <Element 'name' at 0x14714f790>\n",
      "<Element 'index' at 0x14714f1a0> <Element 'name' at 0x14714fe70>\n",
      "<Element 'index' at 0x14714f1f0> <Element 'name' at 0x14714c630>\n",
      "<Element 'index' at 0x14714d080> <Element 'name' at 0x14714d0d0>\n",
      "<Element 'index' at 0x14714d850> <Element 'name' at 0x14714d8a0>\n",
      "<Element 'index' at 0x14714dee0> <Element 'name' at 0x14714dfd0>\n",
      "<Element 'index' at 0x14714ec50> <Element 'name' at 0x14714eca0>\n",
      "<Element 'index' at 0x14714c310> <Element 'name' at 0x14714c3b0>\n",
      "<Element 'index' at 0x14714e2f0> <Element 'name' at 0x14714e340>\n",
      "<Element 'index' at 0x14714e5c0> <Element 'name' at 0x14714e610>\n",
      "<Element 'index' at 0x14714e6b0> <Element 'name' at 0x14714e750>\n",
      "<Element 'index' at 0x14714e930> <Element 'name' at 0x14714e980>\n",
      "<Element 'index' at 0x14714ede0> <Element 'name' at 0x14714ef20>\n",
      "<Element 'index' at 0x14714f060> <Element 'name' at 0x14714f0b0>\n",
      "<Element 'index' at 0x14714f290> <Element 'name' at 0x14714f2e0>\n",
      "<Element 'index' at 0x14714f5b0> <Element 'name' at 0x14714f600>\n",
      "<Element 'index' at 0x14714f470> <Element 'name' at 0x14714fec0>\n",
      "<Element 'index' at 0x14714e840> <Element 'name' at 0x14714e890>\n",
      "<Element 'index' at 0x14714ec00> <Element 'name' at 0x14714f6f0>\n",
      "<Element 'index' at 0x14714f880> <Element 'name' at 0x14714f8d0>\n",
      "<Element 'index' at 0x14714f150> <Element 'name' at 0x14714f380>\n",
      "<Element 'index' at 0x14714f830> <Element 'name' at 0x14714f920>\n",
      "<Element 'index' at 0x14734d6c0> <Element 'name' at 0x14734d760>\n",
      "<Element 'index' at 0x14734e3e0> <Element 'name' at 0x14734e430>\n",
      "<Element 'index' at 0x14734df30> <Element 'name' at 0x14734c090>\n",
      "<Element 'index' at 0x14734c130> <Element 'name' at 0x14734da80>\n",
      "<Element 'index' at 0x14734e4d0> <Element 'name' at 0x147198590>\n",
      "<Element 'index' at 0x1471985e0> <Element 'name' at 0x147199260>\n",
      "<Element 'index' at 0x147199300> <Element 'name' at 0x147198d60>\n",
      "<Element 'index' at 0x1471993f0> <Element 'name' at 0x147198950>\n",
      "<Element 'index' at 0x147198a40> <Element 'name' at 0x14730d9e0>\n"
     ]
    }
   ],
   "source": [
    "for element in root[1]:\n",
    "    print(element[0], element[1])"
   ],
   "metadata": {
    "collapsed": false,
    "pycharm": {
     "name": "#%%\n"
    }
   }
  },
  {
   "cell_type": "code",
   "execution_count": 32,
   "outputs": [
    {
     "name": "stdout",
     "output_type": "stream",
     "text": [
      "2001 Precentral_L\n",
      "2002 Precentral_R\n",
      "2101 Frontal_Sup_2_L\n",
      "2102 Frontal_Sup_2_R\n",
      "2201 Frontal_Mid_2_L\n",
      "2202 Frontal_Mid_2_R\n",
      "2301 Frontal_Inf_Oper_L\n",
      "2302 Frontal_Inf_Oper_R\n",
      "2311 Frontal_Inf_Tri_L\n",
      "2312 Frontal_Inf_Tri_R\n",
      "2321 Frontal_Inf_Orb_2_L\n",
      "2322 Frontal_Inf_Orb_2_R\n",
      "2331 Rolandic_Oper_L\n",
      "2332 Rolandic_Oper_R\n",
      "2401 Supp_Motor_Area_L\n",
      "2402 Supp_Motor_Area_R\n",
      "2501 Olfactory_L\n",
      "2502 Olfactory_R\n",
      "2601 Frontal_Sup_Medial_L\n",
      "2602 Frontal_Sup_Medial_R\n",
      "2611 Frontal_Med_Orb_L\n",
      "2612 Frontal_Med_Orb_R\n",
      "2701 Rectus_L\n",
      "2702 Rectus_R\n",
      "2801 OFCmed_L\n",
      "2802 OFCmed_R\n",
      "2811 OFCant_L\n",
      "2812 OFCant_R\n",
      "2821 OFCpost_L\n",
      "2822 OFCpost_R\n",
      "2831 OFClat_L\n",
      "2832 OFClat_R\n",
      "3001 Insula_L\n",
      "3002 Insula_R\n",
      "4001 Cingulate_Ant_L\n",
      "4002 Cingulate_Ant_R\n",
      "4011 Cingulate_Mid_L\n",
      "4012 Cingulate_Mid_R\n",
      "4021 Cingulate_Post_L\n",
      "4022 Cingulate_Post_R\n",
      "4101 Hippocampus_L\n",
      "4102 Hippocampus_R\n",
      "4111 ParaHippocampal_L\n",
      "4112 ParaHippocampal_R\n",
      "4201 Amygdala_L\n",
      "4202 Amygdala_R\n",
      "5001 Calcarine_L\n",
      "5002 Calcarine_R\n",
      "5011 Cuneus_L\n",
      "5012 Cuneus_R\n",
      "5021 Lingual_L\n",
      "5022 Lingual_R\n",
      "5101 Occipital_Sup_L\n",
      "5102 Occipital_Sup_R\n",
      "5201 Occipital_Mid_L\n",
      "5202 Occipital_Mid_R\n",
      "5301 Occipital_Inf_L\n",
      "5302 Occipital_Inf_R\n",
      "5401 Fusiform_L\n",
      "5402 Fusiform_R\n",
      "6001 Postcentral_L\n",
      "6002 Postcentral_R\n",
      "6101 Parietal_Sup_L\n",
      "6102 Parietal_Sup_R\n",
      "6201 Parietal_Inf_L\n",
      "6202 Parietal_Inf_R\n",
      "6211 SupraMarginal_L\n",
      "6212 SupraMarginal_R\n",
      "6221 Angular_L\n",
      "6222 Angular_R\n",
      "6301 Precuneus_L\n",
      "6302 Precuneus_R\n",
      "6401 Paracentral_Lobule_L\n",
      "6402 Paracentral_Lobule_R\n",
      "7001 Caudate_L\n",
      "7002 Caudate_R\n",
      "7011 Putamen_L\n",
      "7012 Putamen_R\n",
      "7021 Pallidum_L\n",
      "7022 Pallidum_R\n",
      "7101 Thalamus_L\n",
      "7102 Thalamus_R\n",
      "8101 Heschl_L\n",
      "8102 Heschl_R\n",
      "8111 Temporal_Sup_L\n",
      "8112 Temporal_Sup_R\n",
      "8121 Temporal_Pole_Sup_L\n",
      "8122 Temporal_Pole_Sup_R\n",
      "8201 Temporal_Mid_L\n",
      "8202 Temporal_Mid_R\n",
      "8211 Temporal_Pole_Mid_L\n",
      "8212 Temporal_Pole_Mid_R\n",
      "8301 Temporal_Inf_L\n",
      "8302 Temporal_Inf_R\n",
      "9001 Cerebelum_Crus1_L\n",
      "9002 Cerebelum_Crus1_R\n",
      "9011 Cerebelum_Crus2_L\n",
      "9012 Cerebelum_Crus2_R\n",
      "9021 Cerebelum_3_L\n",
      "9022 Cerebelum_3_R\n",
      "9031 Cerebelum_4_5_L\n",
      "9032 Cerebelum_4_5_R\n",
      "9041 Cerebelum_6_L\n",
      "9042 Cerebelum_6_R\n",
      "9051 Cerebelum_7b_L\n",
      "9052 Cerebelum_7b_R\n",
      "9061 Cerebelum_8_L\n",
      "9062 Cerebelum_8_R\n",
      "9071 Cerebelum_9_L\n",
      "9072 Cerebelum_9_R\n",
      "9081 Cerebelum_10_L\n",
      "9082 Cerebelum_10_R\n",
      "9100 Vermis_1_2\n",
      "9110 Vermis_3\n",
      "9120 Vermis_4_5\n",
      "9130 Vermis_6\n",
      "9140 Vermis_7\n",
      "9150 Vermis_8\n",
      "9160 Vermis_9\n",
      "9170 Vermis_10\n"
     ]
    }
   ],
   "source": [
    "for element in root[1]:\n",
    "    print(element[0].text, element[1].text)"
   ],
   "metadata": {
    "collapsed": false,
    "pycharm": {
     "name": "#%%\n"
    }
   }
  },
  {
   "cell_type": "code",
   "execution_count": 33,
   "outputs": [
    {
     "data": {
      "text/plain": "{'version': '2.0'}"
     },
     "execution_count": 33,
     "metadata": {},
     "output_type": "execute_result"
    }
   ],
   "source": [
    "root.attrib"
   ],
   "metadata": {
    "collapsed": false,
    "pycharm": {
     "name": "#%%\n"
    }
   }
  },
  {
   "cell_type": "code",
   "execution_count": 39,
   "outputs": [
    {
     "name": "stdout",
     "output_type": "stream",
     "text": [
      "header\n",
      "data\n"
     ]
    }
   ],
   "source": [
    "print(root[0].tag)\n",
    "print(root[1].tag)"
   ],
   "metadata": {
    "collapsed": false,
    "pycharm": {
     "name": "#%%\n"
    }
   }
  },
  {
   "cell_type": "code",
   "execution_count": 40,
   "outputs": [
    {
     "ename": "AttributeError",
     "evalue": "'xml.etree.ElementTree.Element' object has no attribute 'data'",
     "output_type": "error",
     "traceback": [
      "\u001B[0;31m---------------------------------------------------------------------------\u001B[0m",
      "\u001B[0;31mAttributeError\u001B[0m                            Traceback (most recent call last)",
      "Input \u001B[0;32mIn [40]\u001B[0m, in \u001B[0;36m<cell line: 1>\u001B[0;34m()\u001B[0m\n\u001B[0;32m----> 1\u001B[0m \u001B[43mroot\u001B[49m\u001B[38;5;241;43m.\u001B[39;49m\u001B[43mdata\u001B[49m\n",
      "\u001B[0;31mAttributeError\u001B[0m: 'xml.etree.ElementTree.Element' object has no attribute 'data'"
     ]
    }
   ],
   "source": [
    "root.data"
   ],
   "metadata": {
    "collapsed": false,
    "pycharm": {
     "name": "#%%\n"
    }
   }
  },
  {
   "cell_type": "code",
   "execution_count": 46,
   "outputs": [],
   "source": [
    "label_lut = {}\n",
    "for region in root.find(\"data\").findall(\"label\"):\n",
    "    label_lut[region.find(\"index\").text] = region.find(\"name\").text"
   ],
   "metadata": {
    "collapsed": false,
    "pycharm": {
     "name": "#%%\n"
    }
   }
  },
  {
   "cell_type": "code",
   "execution_count": 49,
   "outputs": [
    {
     "data": {
      "text/plain": "dict_keys(['2001', '2002', '2101', '2102', '2201', '2202', '2301', '2302', '2311', '2312', '2321', '2322', '2331', '2332', '2401', '2402', '2501', '2502', '2601', '2602', '2611', '2612', '2701', '2702', '2801', '2802', '2811', '2812', '2821', '2822', '2831', '2832', '3001', '3002', '4001', '4002', '4011', '4012', '4021', '4022', '4101', '4102', '4111', '4112', '4201', '4202', '5001', '5002', '5011', '5012', '5021', '5022', '5101', '5102', '5201', '5202', '5301', '5302', '5401', '5402', '6001', '6002', '6101', '6102', '6201', '6202', '6211', '6212', '6221', '6222', '6301', '6302', '6401', '6402', '7001', '7002', '7011', '7012', '7021', '7022', '7101', '7102', '8101', '8102', '8111', '8112', '8121', '8122', '8201', '8202', '8211', '8212', '8301', '8302', '9001', '9002', '9011', '9012', '9021', '9022', '9031', '9032', '9041', '9042', '9051', '9052', '9061', '9062', '9071', '9072', '9081', '9082', '9100', '9110', '9120', '9130', '9140', '9150', '9160', '9170'])"
     },
     "execution_count": 49,
     "metadata": {},
     "output_type": "execute_result"
    }
   ],
   "source": [
    "label_lut.keys()"
   ],
   "metadata": {
    "collapsed": false,
    "pycharm": {
     "name": "#%%\n"
    }
   }
  },
  {
   "cell_type": "code",
   "execution_count": 50,
   "outputs": [
    {
     "data": {
      "text/plain": "<xml.etree.ElementTree.ElementTree at 0x14733c430>"
     },
     "execution_count": 50,
     "metadata": {},
     "output_type": "execute_result"
    }
   ],
   "source": [
    "tree"
   ],
   "metadata": {
    "collapsed": false,
    "pycharm": {
     "name": "#%%\n"
    }
   }
  },
  {
   "cell_type": "code",
   "execution_count": null,
   "outputs": [],
   "source": [],
   "metadata": {
    "collapsed": false,
    "pycharm": {
     "name": "#%%\n"
    }
   }
  }
 ],
 "metadata": {
  "kernelspec": {
   "display_name": "Python 3",
   "language": "python",
   "name": "python3"
  },
  "language_info": {
   "codemirror_mode": {
    "name": "ipython",
    "version": 2
   },
   "file_extension": ".py",
   "mimetype": "text/x-python",
   "name": "python",
   "nbconvert_exporter": "python",
   "pygments_lexer": "ipython2",
   "version": "2.7.6"
  }
 },
 "nbformat": 4,
 "nbformat_minor": 0
}