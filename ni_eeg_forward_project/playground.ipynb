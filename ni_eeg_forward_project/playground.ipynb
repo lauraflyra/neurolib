{
 "cells": [
  {
   "cell_type": "code",
   "execution_count": 6,
   "outputs": [],
   "source": [
    "import nibabel as nib\n",
    "import numpy as np\n",
    "import matplotlib.pyplot as plt\n",
    "import mne\n",
    "import os.path as op"
   ],
   "metadata": {
    "collapsed": false,
    "pycharm": {
     "name": "#%%\n"
    }
   }
  },
  {
   "cell_type": "markdown",
   "source": [
    "### Determine if you deal with nifti1 or nifti2 given a .nii file.\n",
    "(see https://discourse.itk.org/t/nifti-1-or-nifti-2-data-format/4330)"
   ],
   "metadata": {
    "collapsed": false,
    "pycharm": {
     "name": "#%% md\n"
    }
   }
  },
  {
   "cell_type": "code",
   "execution_count": 2,
   "outputs": [
    {
     "name": "stdout",
     "output_type": "stream",
     "text": [
      "nifti1\n"
     ]
    }
   ],
   "source": [
    "file_name = './datasets/aal/atlas/AAL2.nii'\n",
    "nii1_sizeof_hdr = 348\n",
    "nii2_sizeof_hdr = 540\n",
    "\n",
    "with open(file_name, 'rb') as fp:\n",
    "    byte_data = fp.read(4)\n",
    "    sizeof_hdr = int.from_bytes(byte_data, byteorder='little')\n",
    "    if sizeof_hdr == nii1_sizeof_hdr:\n",
    "        print('nifti1')\n",
    "    elif sizeof_hdr == nii2_sizeof_hdr:\n",
    "        print('nifti2')\n",
    "    else: #big endian\n",
    "        sizeof_hdr = int.from_bytes(byte_data, byteorder='big')\n",
    "        if sizeof_hdr == nii1_sizeof_hdr:\n",
    "            print('nifti1')\n",
    "        elif sizeof_hdr == nii2_sizeof_hdr:\n",
    "            print('nifti2')"
   ],
   "metadata": {
    "collapsed": false,
    "pycharm": {
     "name": "#%%\n"
    }
   }
  },
  {
   "cell_type": "markdown",
   "source": [
    "Now I saw, that this is actually displayed in the finder too."
   ],
   "metadata": {
    "collapsed": false,
    "pycharm": {
     "name": "#%% md\n"
    }
   }
  },
  {
   "cell_type": "markdown",
   "source": [
    "### Read the aal2-atlas and extract some info\n",
    "(see https://nipy.org/nibabel/gettingstarted.html)"
   ],
   "metadata": {
    "collapsed": false,
    "pycharm": {
     "name": "#%% md\n"
    }
   }
  },
  {
   "cell_type": "code",
   "execution_count": 5,
   "outputs": [],
   "source": [
    "img = nib.load(file_name)"
   ],
   "metadata": {
    "collapsed": false,
    "pycharm": {
     "name": "#%%\n"
    }
   }
  },
  {
   "cell_type": "code",
   "execution_count": 6,
   "outputs": [
    {
     "data": {
      "text/plain": "(91, 109, 91)"
     },
     "execution_count": 6,
     "metadata": {},
     "output_type": "execute_result"
    }
   ],
   "source": [
    "img.shape"
   ],
   "metadata": {
    "collapsed": false,
    "pycharm": {
     "name": "#%%\n"
    }
   }
  },
  {
   "cell_type": "code",
   "execution_count": 7,
   "outputs": [
    {
     "data": {
      "text/plain": "dtype('>i2')"
     },
     "execution_count": 7,
     "metadata": {},
     "output_type": "execute_result"
    }
   ],
   "source": [
    "img.get_data_dtype()"
   ],
   "metadata": {
    "collapsed": false,
    "pycharm": {
     "name": "#%%\n"
    }
   }
  },
  {
   "cell_type": "code",
   "execution_count": 40,
   "outputs": [
    {
     "name": "stdout",
     "output_type": "stream",
     "text": [
      "(4, 4)\n",
      "[[  -2.    0.    0.   90.]\n",
      " [   0.    2.    0. -126.]\n",
      " [   0.    0.    2.  -72.]\n",
      " [   0.    0.    0.    1.]]\n"
     ]
    }
   ],
   "source": [
    "print(img.affine.shape)\n",
    "print(img.affine)"
   ],
   "metadata": {
    "collapsed": false,
    "pycharm": {
     "name": "#%%\n"
    }
   }
  },
  {
   "cell_type": "code",
   "execution_count": 9,
   "outputs": [
    {
     "data": {
      "text/plain": "(91, 109, 91)"
     },
     "execution_count": 9,
     "metadata": {},
     "output_type": "execute_result"
    }
   ],
   "source": [
    "data = img.get_fdata()\n",
    "data.shape"
   ],
   "metadata": {
    "collapsed": false,
    "pycharm": {
     "name": "#%%\n"
    }
   }
  },
  {
   "cell_type": "code",
   "execution_count": 39,
   "outputs": [
    {
     "name": "stdout",
     "output_type": "stream",
     "text": [
      "<class 'nibabel.nifti1.Nifti1Header'> object, endian='>'\n",
      "sizeof_hdr      : 348\n",
      "data_type       : b''\n",
      "db_name         : b''\n",
      "extents         : 0\n",
      "session_error   : 0\n",
      "regular         : b'r'\n",
      "dim_info        : 0\n",
      "dim             : [  3  91 109  91   1   1   1   1]\n",
      "intent_p1       : 0.0\n",
      "intent_p2       : 0.0\n",
      "intent_p3       : 0.0\n",
      "intent_code     : none\n",
      "datatype        : int16\n",
      "bitpix          : 16\n",
      "slice_start     : 0\n",
      "pixdim          : [-1.  2.  2.  2.  0.  0.  0.  0.]\n",
      "vox_offset      : 0.0\n",
      "scl_slope       : nan\n",
      "scl_inter       : nan\n",
      "slice_end       : 0\n",
      "slice_code      : unknown\n",
      "xyzt_units      : 10\n",
      "cal_max         : 0.0\n",
      "cal_min         : 0.0\n",
      "slice_duration  : 0.0\n",
      "toffset         : 0.0\n",
      "glmax           : 0\n",
      "glmin           : 0\n",
      "descrip         : b'FSL3.3'\n",
      "aux_file        : b''\n",
      "qform_code      : aligned\n",
      "sform_code      : aligned\n",
      "quatern_b       : 0.0\n",
      "quatern_c       : 1.0\n",
      "quatern_d       : 0.0\n",
      "qoffset_x       : 90.0\n",
      "qoffset_y       : -126.0\n",
      "qoffset_z       : -72.0\n",
      "srow_x          : [-2.  0.  0. 90.]\n",
      "srow_y          : [   0.    2.    0. -126.]\n",
      "srow_z          : [  0.   0.   2. -72.]\n",
      "intent_name     : b''\n",
      "magic           : b'n+1'\n"
     ]
    }
   ],
   "source": [
    "hdr = img.header\n",
    "print(hdr)"
   ],
   "metadata": {
    "collapsed": false,
    "pycharm": {
     "name": "#%%\n"
    }
   }
  },
  {
   "cell_type": "code",
   "execution_count": 11,
   "outputs": [
    {
     "data": {
      "text/plain": "('mm', 'sec')"
     },
     "execution_count": 11,
     "metadata": {},
     "output_type": "execute_result"
    }
   ],
   "source": [
    "hdr.get_xyzt_units()"
   ],
   "metadata": {
    "collapsed": false,
    "pycharm": {
     "name": "#%%\n"
    }
   }
  },
  {
   "cell_type": "code",
   "execution_count": 27,
   "outputs": [
    {
     "data": {
      "text/plain": "9170.0"
     },
     "execution_count": 27,
     "metadata": {},
     "output_type": "execute_result"
    }
   ],
   "source": [
    "np.max(data)"
   ],
   "metadata": {
    "collapsed": false,
    "pycharm": {
     "name": "#%%\n"
    }
   }
  },
  {
   "cell_type": "code",
   "execution_count": 38,
   "outputs": [
    {
     "data": {
      "text/plain": "[<matplotlib.lines.Line2D at 0x143a37850>]"
     },
     "execution_count": 38,
     "metadata": {},
     "output_type": "execute_result"
    },
    {
     "data": {
      "text/plain": "<Figure size 432x288 with 1 Axes>",
      "image/png": "[encoded data removed]"
     },
     "metadata": {
      "needs_background": "light"
     },
     "output_type": "display_data"
    }
   ],
   "source": [
    "# plt.plot(np.ndarray.flatten(data))\n",
    "\n",
    "plt.plot(data[50, 50, :])\n"
   ],
   "metadata": {
    "collapsed": false,
    "pycharm": {
     "name": "#%%\n"
    }
   }
  },
  {
   "cell_type": "markdown",
   "source": [
    "### what is stored in the aal2.nii.gz-directory?"
   ],
   "metadata": {
    "collapsed": false,
    "pycharm": {
     "name": "#%% md\n"
    }
   }
  },
  {
   "cell_type": "code",
   "execution_count": null,
   "outputs": [],
   "source": [],
   "metadata": {
    "collapsed": false,
    "pycharm": {
     "name": "#%%\n"
    }
   }
  },
  {
   "cell_type": "markdown",
   "source": [
    "### what is stored in the aal2.nii.lut-file?"
   ],
   "metadata": {
    "collapsed": false,
    "pycharm": {
     "name": "#%% md\n"
    }
   }
  },
  {
   "cell_type": "code",
   "execution_count": 17,
   "outputs": [],
   "source": [
    "img2 = nib.load(\"./datasets/aal/aal2.nii.gz\")"
   ],
   "metadata": {
    "collapsed": false,
    "pycharm": {
     "name": "#%%\n"
    }
   }
  },
  {
   "cell_type": "code",
   "execution_count": 18,
   "outputs": [],
   "source": [
    "img3 = nib.load(\"./datasets/aal/ROI_MNI_V5.nii\")"
   ],
   "metadata": {
    "collapsed": false,
    "pycharm": {
     "name": "#%%\n"
    }
   }
  },
  {
   "cell_type": "code",
   "execution_count": 19,
   "outputs": [
    {
     "data": {
      "text/plain": "(91, 109, 91)"
     },
     "execution_count": 19,
     "metadata": {},
     "output_type": "execute_result"
    }
   ],
   "source": [
    "img2.shape"
   ],
   "metadata": {
    "collapsed": false,
    "pycharm": {
     "name": "#%%\n"
    }
   }
  },
  {
   "cell_type": "markdown",
   "source": [
    "# ..."
   ],
   "metadata": {
    "collapsed": false,
    "pycharm": {
     "name": "#%% md\n"
    }
   }
  },
  {
   "cell_type": "code",
   "execution_count": 41,
   "outputs": [
    {
     "data": {
      "text/plain": "Text(0.5, 0.98, 'Center slices for EPI image')"
     },
     "execution_count": 41,
     "metadata": {},
     "output_type": "execute_result"
    },
    {
     "data": {
      "text/plain": "<Figure size 432x288 with 3 Axes>",
      "image/png": "[encoded data removed]"
     },
     "metadata": {
      "needs_background": "light"
     },
     "output_type": "display_data"
    }
   ],
   "source": [
    "def show_slices(slices):\n",
    "    \"\"\" Function to display row of image slices \"\"\"\n",
    "    fig, axes = plt.subplots(1, len(slices))\n",
    "    for i, slice in enumerate(slices):\n",
    "        axes[i].imshow(slice.T, cmap=\"gray\", origin=\"lower\")\n",
    "\n",
    "slice_0 = data[26, :, :]\n",
    "slice_1 = data[:, 30, :]\n",
    "slice_2 = data[:, :, 16]\n",
    "show_slices([slice_0, slice_1, slice_2])\n",
    "plt.suptitle(\"Center slices for EPI image\")"
   ],
   "metadata": {
    "collapsed": false,
    "pycharm": {
     "name": "#%%\n"
    }
   }
  },
  {
   "cell_type": "markdown",
   "source": [
    "### Access the coordinates of the source space"
   ],
   "metadata": {
    "collapsed": false,
    "pycharm": {
     "name": "#%% md\n"
    }
   }
  },
  {
   "cell_type": "code",
   "execution_count": 42,
   "outputs": [],
   "source": [
    "import os.path as op\n",
    "import mne\n",
    "from mne.datasets import sample\n",
    "data_path = sample.data_path()\n",
    "\n",
    "# the raw file containing the channel location + types\n",
    "sample_dir = op.join(data_path, 'MEG', 'sample',)\n",
    "raw_fname = op.join(sample_dir, 'sample_audvis_raw.fif')\n",
    "# The paths to Freesurfer reconstructions\n",
    "subjects_dir = op.join(data_path, 'subjects')\n",
    "subject = 'sample'"
   ],
   "metadata": {
    "collapsed": false,
    "pycharm": {
     "name": "#%%\n"
    }
   }
  },
  {
   "cell_type": "code",
   "execution_count": 43,
   "outputs": [
    {
     "name": "stdout",
     "output_type": "stream",
     "text": [
      "Setting up the source space with the following parameters:\n",
      "\n",
      "SUBJECTS_DIR = /Users/martin/mne_data/MNE-sample-data/subjects\n",
      "Subject      = sample\n",
      "Surface      = white\n",
      "Octahedron subdivision grade 4\n",
      "\n",
      ">>> 1. Creating the source space...\n",
      "\n",
      "Doing the octahedral vertex picking...\n",
      "Loading /Users/martin/mne_data/MNE-sample-data/subjects/sample/surf/lh.white...\n",
      "Mapping lh sample -> oct (4) ...\n",
      "    Triangle neighbors and vertex normals...\n",
      "Loading geometry from /Users/martin/mne_data/MNE-sample-data/subjects/sample/surf/lh.sphere...\n",
      "Setting up the triangulation for the decimated surface...\n",
      "loaded lh.white 258/155407 selected to source space (oct = 4)\n",
      "\n",
      "Loading /Users/martin/mne_data/MNE-sample-data/subjects/sample/surf/rh.white...\n",
      "Mapping rh sample -> oct (4) ...\n",
      "    Triangle neighbors and vertex normals...\n",
      "Loading geometry from /Users/martin/mne_data/MNE-sample-data/subjects/sample/surf/rh.sphere...\n",
      "Setting up the triangulation for the decimated surface...\n",
      "loaded rh.white 258/156866 selected to source space (oct = 4)\n",
      "\n",
      "Calculating patch information (limit=0.0 mm)...\n",
      "    Computing patch statistics...\n",
      "    Patch information added...\n",
      "    Computing patch statistics...\n",
      "    Patch information added...\n",
      "You are now one step closer to computing the gain matrix\n",
      "<SourceSpaces: [<surface (lh), n_vertices=155407, n_used=258>, <surface (rh), n_vertices=156866, n_used=258>] MRI (surface RAS) coords, subject 'sample', ~28.7 MB>\n"
     ]
    }
   ],
   "source": [
    "src = mne.setup_source_space(subject, spacing='oct4', add_dist='patch',\n",
    "                             subjects_dir=subjects_dir)\n",
    "print(src)"
   ],
   "metadata": {
    "collapsed": false,
    "pycharm": {
     "name": "#%%\n"
    }
   }
  },
  {
   "cell_type": "code",
   "execution_count": 44,
   "outputs": [
    {
     "data": {
      "text/plain": "{'working_dir': '/Users/martin/Documents/Uni_MSc/Semester04/ni_project/neurolib/ni_eeg_forward_project',\n 'command_line': 'setup_source_space(sample, spacing=oct4, surface=white, subjects_dir=/Users/martin/mne_data/MNE-sample-data/subjects, add_dist=patch, verbose=None)'}"
     },
     "execution_count": 44,
     "metadata": {},
     "output_type": "execute_result"
    }
   ],
   "source": [
    "src.info"
   ],
   "metadata": {
    "collapsed": false,
    "pycharm": {
     "name": "#%%\n"
    }
   }
  },
  {
   "cell_type": "code",
   "execution_count": 47,
   "outputs": [
    {
     "name": "stdout",
     "output_type": "stream",
     "text": [
      "Using pyvistaqt 3d backend.\n",
      "\n"
     ]
    },
    {
     "data": {
      "text/plain": "<mne.viz.backends._pyvista.PyVistaFigure at 0x14754d630>"
     },
     "execution_count": 47,
     "metadata": {},
     "output_type": "execute_result"
    }
   ],
   "source": [
    "# shows fancy 3D visualization\n",
    "src.plot(subjects_dir=subjects_dir)"
   ],
   "metadata": {
    "collapsed": false,
    "pycharm": {
     "name": "#%%\n"
    }
   }
  },
  {
   "cell_type": "code",
   "execution_count": 49,
   "outputs": [
    {
     "name": "stdout",
     "output_type": "stream",
     "text": [
      "Reading FreeSurfer lookup table\n"
     ]
    },
    {
     "ename": "ValueError",
     "evalue": "Source spaces must contain at least one volume.",
     "output_type": "error",
     "traceback": [
      "\u001B[0;31m---------------------------------------------------------------------------\u001B[0m",
      "\u001B[0;31mValueError\u001B[0m                                Traceback (most recent call last)",
      "Input \u001B[0;32mIn [49]\u001B[0m, in \u001B[0;36m<cell line: 1>\u001B[0;34m()\u001B[0m\n\u001B[0;32m----> 1\u001B[0m \u001B[43msrc\u001B[49m\u001B[38;5;241;43m.\u001B[39;49m\u001B[43mexport_volume\u001B[49m\u001B[43m(\u001B[49m\u001B[38;5;124;43m\"\u001B[39;49m\u001B[38;5;124;43msource_space_sample_subject.nii\u001B[39;49m\u001B[38;5;124;43m\"\u001B[39;49m\u001B[43m,\u001B[49m\n\u001B[1;32m      2\u001B[0m \u001B[43m                  \u001B[49m\u001B[43mdest\u001B[49m\u001B[38;5;241;43m=\u001B[39;49m\u001B[38;5;124;43m\"\u001B[39;49m\u001B[38;5;124;43msurf\u001B[39;49m\u001B[38;5;124;43m\"\u001B[39;49m\u001B[43m,\u001B[49m\n\u001B[1;32m      3\u001B[0m \u001B[43m                  \u001B[49m\u001B[43mmri_resolution\u001B[49m\u001B[38;5;241;43m=\u001B[39;49m\u001B[43m \u001B[49m\u001B[38;5;124;43m\"\u001B[39;49m\u001B[38;5;124;43msparse\u001B[39;49m\u001B[38;5;124;43m\"\u001B[39;49m\u001B[43m)\u001B[49m\n",
      "File \u001B[0;32m<decorator-gen-138>:12\u001B[0m, in \u001B[0;36mexport_volume\u001B[0;34m(self, fname, include_surfaces, include_discrete, dest, trans, mri_resolution, use_lut, overwrite, verbose)\u001B[0m\n",
      "File \u001B[0;32m~/anaconda3/envs/mne/lib/python3.10/site-packages/mne/source_space.py:396\u001B[0m, in \u001B[0;36mSourceSpaces.export_volume\u001B[0;34m(self, fname, include_surfaces, include_discrete, dest, trans, mri_resolution, use_lut, overwrite, verbose)\u001B[0m\n\u001B[1;32m    394\u001B[0m \u001B[38;5;66;03m# Raise error if there are no volume source spaces\u001B[39;00m\n\u001B[1;32m    395\u001B[0m \u001B[38;5;28;01mif\u001B[39;00m \u001B[38;5;28mlen\u001B[39m(src_types[\u001B[38;5;124m'\u001B[39m\u001B[38;5;124mvolume\u001B[39m\u001B[38;5;124m'\u001B[39m]) \u001B[38;5;241m==\u001B[39m \u001B[38;5;241m0\u001B[39m:\n\u001B[0;32m--> 396\u001B[0m     \u001B[38;5;28;01mraise\u001B[39;00m \u001B[38;5;167;01mValueError\u001B[39;00m(\u001B[38;5;124m'\u001B[39m\u001B[38;5;124mSource spaces must contain at least one volume.\u001B[39m\u001B[38;5;124m'\u001B[39m)\n\u001B[1;32m    398\u001B[0m \u001B[38;5;66;03m# Get shape, inuse array and interpolation matrix from volume sources\u001B[39;00m\n\u001B[1;32m    399\u001B[0m src \u001B[38;5;241m=\u001B[39m src_types[\u001B[38;5;124m'\u001B[39m\u001B[38;5;124mvolume\u001B[39m\u001B[38;5;124m'\u001B[39m][\u001B[38;5;241m0\u001B[39m]\n",
      "\u001B[0;31mValueError\u001B[0m: Source spaces must contain at least one volume."
     ]
    }
   ],
   "source": [
    "src.export_volume(\"source_space_sample_subject.nii\",\n",
    "                  dest=\"surf\",\n",
    "                  mri_resolution= \"sparse\")    # dest=\"surf\" for coordinate space of the FreeSurfer surface (Surface RAS)\n",
    "                                            # mri_resolution:\n",
    "                                            #\n",
    "                                            # use_lut : https://surfer.nmr.mgh.harvard.edu/fswiki/LabelsClutsAnnotationFiles"
   ],
   "metadata": {
    "collapsed": false,
    "pycharm": {
     "name": "#%%\n"
    }
   }
  },
  {
   "cell_type": "markdown",
   "source": [
    "# Other example that works\n",
    "(see https://mne.tools/stable/auto_examples/forward/left_cerebellum_volume_source.html)"
   ],
   "metadata": {
    "collapsed": false,
    "pycharm": {
     "name": "#%% md\n"
    }
   }
  },
  {
   "cell_type": "code",
   "execution_count": 7,
   "outputs": [],
   "source": [
    "from mne.datasets import sample\n",
    "\n",
    "data_path = sample.data_path()\n",
    "subjects_dir = op.join(data_path, 'subjects')\n",
    "subject = 'sample'\n",
    "aseg_fname = op.join(subjects_dir, 'sample', 'mri', 'aseg.mgz')"
   ],
   "metadata": {
    "collapsed": false,
    "pycharm": {
     "name": "#%%\n"
    }
   }
  },
  {
   "cell_type": "code",
   "execution_count": 8,
   "outputs": [
    {
     "name": "stdout",
     "output_type": "stream",
     "text": [
      "Setting up the source space with the following parameters:\n",
      "\n",
      "SUBJECTS_DIR = /Users/martin/mne_data/MNE-sample-data/subjects\n",
      "Subject      = sample\n",
      "Surface      = white\n",
      "Octahedron subdivision grade 6\n",
      "\n",
      ">>> 1. Creating the source space...\n",
      "\n",
      "Doing the octahedral vertex picking...\n",
      "Loading /Users/martin/mne_data/MNE-sample-data/subjects/sample/surf/lh.white...\n",
      "Mapping lh sample -> oct (6) ...\n",
      "    Triangle neighbors and vertex normals...\n",
      "Loading geometry from /Users/martin/mne_data/MNE-sample-data/subjects/sample/surf/lh.sphere...\n",
      "Setting up the triangulation for the decimated surface...\n",
      "loaded lh.white 4098/155407 selected to source space (oct = 6)\n",
      "\n",
      "Loading /Users/martin/mne_data/MNE-sample-data/subjects/sample/surf/rh.white...\n",
      "Mapping rh sample -> oct (6) ...\n",
      "    Triangle neighbors and vertex normals...\n",
      "Loading geometry from /Users/martin/mne_data/MNE-sample-data/subjects/sample/surf/rh.sphere...\n",
      "Setting up the triangulation for the decimated surface...\n",
      "loaded rh.white 4098/156866 selected to source space (oct = 6)\n",
      "\n",
      "You are now one step closer to computing the gain matrix\n",
      "Sphere                : origin at (0.0 0.0 0.0) mm\n",
      "              radius  : 120.0 mm\n",
      "grid                  : 5.0 mm\n",
      "mindist               : 5.0 mm\n",
      "MRI volume            : /Users/martin/mne_data/MNE-sample-data/subjects/sample/mri/aseg.mgz\n",
      "\n",
      "Reading /Users/martin/mne_data/MNE-sample-data/subjects/sample/mri/aseg.mgz...\n",
      "\n",
      "Setting up the sphere...\n",
      "Surface CM = (   0.0    0.0    0.0) mm\n",
      "Surface fits inside a sphere with radius  120.0 mm\n",
      "Surface extent:\n",
      "    x = -120.0 ...  120.0 mm\n",
      "    y = -120.0 ...  120.0 mm\n",
      "    z = -120.0 ...  120.0 mm\n",
      "Grid extent:\n",
      "    x = -125.0 ...  125.0 mm\n",
      "    y = -125.0 ...  125.0 mm\n",
      "    z = -125.0 ...  125.0 mm\n",
      "132651 sources before omitting any.\n",
      "57769 sources after omitting infeasible sources not within 0.0 - 120.0 mm.\n",
      "50733 sources remaining after excluding the sources outside the surface and less than    5.0 mm inside.\n",
      "    Selected 401 voxels from Left-Cerebellum-Cortex\n",
      "Adjusting the neighborhood info.\n",
      "Source space : MRI voxel -> MRI (surface RAS)\n",
      "     0.005000  0.000000  0.000000    -125.00 mm\n",
      "     0.000000  0.005000  0.000000    -125.00 mm\n",
      "     0.000000  0.000000  0.005000    -125.00 mm\n",
      "     0.000000  0.000000  0.000000       1.00\n",
      "MRI volume : MRI voxel -> MRI (surface RAS)\n",
      "    -0.001000  0.000000  0.000000     128.00 mm\n",
      "     0.000000  0.000000  0.001000    -128.00 mm\n",
      "     0.000000 -0.001000  0.000000     128.00 mm\n",
      "     0.000000  0.000000  0.000000       1.00\n",
      "MRI volume : MRI (surface RAS) -> RAS (non-zero origin)\n",
      "     1.000000 -0.000000 -0.000000      -5.27 mm\n",
      "    -0.000000  1.000000 -0.000000       9.04 mm\n",
      "    -0.000000  0.000000  1.000000     -27.29 mm\n",
      "     0.000000  0.000000  0.000000       1.00\n",
      "Setting up volume interpolation ...\n",
      "    556177/16777216 nonzero values for Left-Cerebellum-Cortex\n",
      "[done]\n",
      "Reading FreeSurfer lookup table\n"
     ]
    }
   ],
   "source": [
    "surf = mne.setup_source_space(subject, subjects_dir=subjects_dir, add_dist=False)\n",
    "lh_surf = surf[0]\n",
    "\n",
    "# setup a volume source space of the left cerebellum cortex\n",
    "volume_label = 'Left-Cerebellum-Cortex'\n",
    "sphere = (0, 0, 0, 0.12)\n",
    "lh_cereb = mne.setup_volume_source_space(\n",
    "    subject, mri=aseg_fname, sphere=sphere, volume_label=volume_label,\n",
    "    subjects_dir=subjects_dir, sphere_units='m')\n",
    "\n",
    "# Combine the source spaces\n",
    "src = surf + lh_cereb\n",
    "\n",
    "nii_fname = 'mne_sample_lh-cerebellum-cortex.nii'\n",
    "src.export_volume(nii_fname, mri_resolution=True)"
   ],
   "metadata": {
    "collapsed": false,
    "pycharm": {
     "name": "#%%\n"
    }
   }
  },
  {
   "cell_type": "code",
   "execution_count": 9,
   "outputs": [
    {
     "name": "stdout",
     "output_type": "stream",
     "text": [
      "(256, 256, 256)\n",
      "[ 0.  3.  8. 42.]\n"
     ]
    },
    {
     "data": {
      "text/plain": "<Figure size 432x288 with 1 Axes>",
      "image/png": "[encoded data removed]"
     },
     "metadata": {
      "needs_background": "light"
     },
     "output_type": "display_data"
    }
   ],
   "source": [
    "img = nibabel.load(nii_fname)\n",
    "data = img.get_fdata()\n",
    "print(data.shape)\n",
    "\n",
    "print(np.unique(data))\n",
    "\n",
    "plt.imshow((data[:, 60,:]))\n",
    "plt.show()"
   ],
   "metadata": {
    "collapsed": false,
    "pycharm": {
     "name": "#%%\n"
    }
   }
  },
  {
   "cell_type": "code",
   "execution_count": null,
   "outputs": [],
   "source": [],
   "metadata": {
    "collapsed": false,
    "pycharm": {
     "name": "#%%\n"
    }
   }
  }
 ],
 "metadata": {
  "kernelspec": {
   "display_name": "Python 3",
   "language": "python",
   "name": "python3"
  },
  "language_info": {
   "codemirror_mode": {
    "name": "ipython",
    "version": 2
   },
   "file_extension": ".py",
   "mimetype": "text/x-python",
   "name": "python",
   "nbconvert_exporter": "python",
   "pygments_lexer": "ipython2",
   "version": "2.7.6"
  }
 },
 "nbformat": 4,
 "nbformat_minor": 0
}