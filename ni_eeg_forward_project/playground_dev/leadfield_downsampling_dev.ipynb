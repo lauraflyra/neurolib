{
 "cells": [
  {
   "cell_type": "code",
   "execution_count": 1,
   "outputs": [],
   "source": [
    "from ni_eeg_forward_project.util import get_labels_of_points\n",
    "from neurolib.models.eeg import EEGModel\n",
    "import mne\n",
    "import matplotlib.pyplot as plt\n",
    "%load_ext autoreload\n",
    "%autoreload 2\n",
    "from neurolib.utils.collections import dotdict\n",
    "import numpy as np"
   ],
   "metadata": {
    "collapsed": false,
    "pycharm": {
     "name": "#%%\n"
    }
   }
  },
  {
   "cell_type": "code",
   "execution_count": 2,
   "outputs": [
    {
     "name": "stdout",
     "output_type": "stream",
     "text": [
      "Reading forward solution from /Users/martin/Documents/Uni_MSc/Semester04/ni_project/neurolib/ni_eeg_forward_project/playground_dev/../../neurolib/data/datasets/eeg_fsaverage/fsaverage_fwd_sol/fsaverage_default-fwd.fif...\n",
      "    Reading a source space...\n",
      "    [done]\n",
      "    1 source spaces read\n",
      "    Desired named matrix (kind = 3523) not available\n",
      "    Read EEG forward solution (14629 sources, 94 channels, free orientations)\n",
      "    Source spaces transformed to the forward solution coordinate frame\n"
     ]
    }
   ],
   "source": [
    "fname = \"../../neurolib/data/datasets/eeg_fsaverage/fsaverage_fwd_sol/fsaverage_default-fwd.fif\"\n",
    "fwd = mne.read_forward_solution(fname)"
   ],
   "metadata": {
    "collapsed": false,
    "pycharm": {
     "name": "#%%\n"
    }
   }
  },
  {
   "cell_type": "code",
   "execution_count": 3,
   "outputs": [
    {
     "name": "stdout",
     "output_type": "stream",
     "text": [
      "dict_keys(['source_ori', 'coord_frame', 'nsource', 'nchan', 'sol', '_orig_sol', 'sol_grad', 'mri_head_t', 'info', 'src', 'source_rr', '_orig_source_ori', 'source_nn', 'surf_ori'])\n"
     ]
    },
    {
     "data": {
      "text/plain": "dict_keys(['id', 'type', 'shape', 'src_mri_t', 'mri_ras_t', 'vox_mri_t', 'mri_width', 'mri_height', 'mri_depth', 'mri_volume_name', 'neighbor_vert', 'np', 'ntri', 'coord_frame', 'rr', 'nn', 'tris', 'nuse', 'inuse', 'vertno', 'nuse_tri', 'use_tris', 'nearest', 'nearest_dist', 'pinfo', 'patch_inds', 'dist', 'dist_limit', 'subject_his_id'])"
     },
     "execution_count": 3,
     "metadata": {},
     "output_type": "execute_result"
    }
   ],
   "source": [
    "print(fwd.keys())\n",
    "fwd['src'][0].keys()"
   ],
   "metadata": {
    "collapsed": false,
    "pycharm": {
     "name": "#%%\n"
    }
   }
  },
  {
   "cell_type": "code",
   "execution_count": 4,
   "outputs": [
    {
     "name": "stdout",
     "output_type": "stream",
     "text": [
      "(14629, 3)\n"
     ]
    }
   ],
   "source": [
    "lh = fwd['src'][0]\n",
    "dip_pos = lh['rr'][lh['vertno']]  # The position of the dipoles\n",
    "dip_ori = lh['nn'][lh['vertno']]\n",
    "print(dip_pos.shape)"
   ],
   "metadata": {
    "collapsed": false,
    "pycharm": {
     "name": "#%%\n"
    }
   }
  },
  {
   "cell_type": "code",
   "execution_count": 6,
   "outputs": [],
   "source": [
    "leadfield = fwd['sol']['data']"
   ],
   "metadata": {
    "collapsed": false,
    "pycharm": {
     "name": "#%%\n"
    }
   }
  },
  {
   "cell_type": "code",
   "execution_count": 7,
   "outputs": [
    {
     "data": {
      "text/plain": "(94, 43887)"
     },
     "execution_count": 7,
     "metadata": {},
     "output_type": "execute_result"
    }
   ],
   "source": [
    "leadfield.shape"
   ],
   "metadata": {
    "collapsed": false,
    "pycharm": {
     "name": "#%%\n"
    }
   }
  },
  {
   "cell_type": "code",
   "execution_count": 8,
   "outputs": [
    {
     "data": {
      "text/plain": "3.0"
     },
     "execution_count": 8,
     "metadata": {},
     "output_type": "execute_result"
    }
   ],
   "source": [
    "43887/14629   # maybe x-y-z-contributions?"
   ],
   "metadata": {
    "collapsed": false,
    "pycharm": {
     "name": "#%%\n"
    }
   }
  },
  {
   "cell_type": "code",
   "execution_count": 9,
   "outputs": [
    {
     "name": "stdout",
     "output_type": "stream",
     "text": [
      "(14629, 3)\n"
     ]
    }
   ],
   "source": [
    "print(dip_pos.shape)"
   ],
   "metadata": {
    "collapsed": false,
    "pycharm": {
     "name": "#%%\n"
    }
   }
  },
  {
   "cell_type": "code",
   "execution_count": 10,
   "outputs": [],
   "source": [
    "dip_pos = dip_pos*1e3   # ARE COORDINATES DEFINED IN m IN MNE???"
   ],
   "metadata": {
    "collapsed": false,
    "pycharm": {
     "name": "#%%\n"
    }
   }
  },
  {
   "cell_type": "code",
   "execution_count": 11,
   "outputs": [
    {
     "name": "stderr",
     "output_type": "stream",
     "text": [
      "ERROR:root:The atlas does not specify an assignment for the given MNI-coordinate.\n",
      "ERROR:root:The atlas does not specify an assignment for the given MNI-coordinate.\n",
      "ERROR:root:The atlas does not specify an assignment for the given MNI-coordinate.\n",
      "ERROR:root:The atlas does not specify an assignment for the given MNI-coordinate.\n",
      "ERROR:root:The atlas does not specify an assignment for the given MNI-coordinate.\n",
      "ERROR:root:The atlas does not specify an assignment for the given MNI-coordinate.\n",
      "ERROR:root:The atlas does not specify an assignment for the given MNI-coordinate.\n",
      "ERROR:root:The atlas does not specify an assignment for the given MNI-coordinate.\n",
      "ERROR:root:The atlas does not specify an assignment for the given MNI-coordinate.\n",
      "ERROR:root:The atlas does not specify an assignment for the given MNI-coordinate.\n",
      "ERROR:root:The atlas does not specify an assignment for the given MNI-coordinate.\n",
      "ERROR:root:The atlas does not specify an assignment for the given MNI-coordinate.\n",
      "ERROR:root:The atlas does not specify an assignment for the given MNI-coordinate.\n",
      "ERROR:root:The atlas does not specify an assignment for the given MNI-coordinate.\n",
      "ERROR:root:The atlas does not specify an assignment for the given MNI-coordinate.\n",
      "ERROR:root:The atlas does not specify an assignment for the given MNI-coordinate.\n",
      "ERROR:root:The atlas does not specify an assignment for the given MNI-coordinate.\n",
      "ERROR:root:The atlas does not specify an assignment for the given MNI-coordinate.\n",
      "ERROR:root:The atlas does not specify an assignment for the given MNI-coordinate.\n",
      "ERROR:root:The atlas does not specify an assignment for the given MNI-coordinate.\n",
      "ERROR:root:The atlas does not specify an assignment for the given MNI-coordinate.\n",
      "ERROR:root:The atlas does not specify an assignment for the given MNI-coordinate.\n",
      "ERROR:root:The atlas does not specify an assignment for the given MNI-coordinate.\n",
      "ERROR:root:The atlas does not specify an assignment for the given MNI-coordinate.\n",
      "ERROR:root:The atlas does not specify an assignment for the given MNI-coordinate.\n",
      "ERROR:root:The atlas does not specify an assignment for the given MNI-coordinate.\n",
      "ERROR:root:The atlas does not specify an assignment for the given MNI-coordinate.\n",
      "ERROR:root:The atlas does not specify an assignment for the given MNI-coordinate.\n",
      "ERROR:root:The atlas does not specify an assignment for the given MNI-coordinate.\n",
      "ERROR:root:The atlas does not specify an assignment for the given MNI-coordinate.\n",
      "ERROR:root:The atlas does not specify an assignment for the given MNI-coordinate.\n",
      "ERROR:root:The atlas does not specify an assignment for the given MNI-coordinate.\n",
      "ERROR:root:The atlas does not specify an assignment for the given MNI-coordinate.\n",
      "ERROR:root:The atlas does not specify an assignment for the given MNI-coordinate.\n",
      "ERROR:root:The atlas does not specify an assignment for the given MNI-coordinate.\n",
      "ERROR:root:The atlas does not specify an assignment for the given MNI-coordinate.\n",
      "ERROR:root:The atlas does not specify an assignment for the given MNI-coordinate.\n",
      "ERROR:root:The atlas does not specify an assignment for the given MNI-coordinate.\n",
      "ERROR:root:The atlas does not specify an assignment for the given MNI-coordinate.\n",
      "ERROR:root:The atlas does not specify an assignment for the given MNI-coordinate.\n",
      "ERROR:root:The atlas does not specify an assignment for the given MNI-coordinate.\n",
      "ERROR:root:The atlas does not specify an assignment for the given MNI-coordinate.\n",
      "ERROR:root:The atlas does not specify an assignment for the given MNI-coordinate.\n",
      "ERROR:root:The atlas does not specify an assignment for the given MNI-coordinate.\n",
      "ERROR:root:The atlas does not specify an assignment for the given MNI-coordinate.\n",
      "ERROR:root:The atlas does not specify an assignment for the given MNI-coordinate.\n",
      "ERROR:root:The atlas does not specify an assignment for the given MNI-coordinate.\n",
      "ERROR:root:The atlas does not specify an assignment for the given MNI-coordinate.\n",
      "ERROR:root:The atlas does not specify an assignment for the given MNI-coordinate.\n",
      "ERROR:root:The atlas does not specify an assignment for the given MNI-coordinate.\n",
      "ERROR:root:The atlas does not specify an assignment for the given MNI-coordinate.\n",
      "ERROR:root:The atlas does not specify an assignment for the given MNI-coordinate.\n",
      "ERROR:root:The atlas does not specify an assignment for the given MNI-coordinate.\n",
      "ERROR:root:The atlas does not specify an assignment for the given MNI-coordinate.\n",
      "ERROR:root:The atlas does not specify an assignment for the given MNI-coordinate.\n",
      "ERROR:root:The atlas does not specify an assignment for the given MNI-coordinate.\n",
      "ERROR:root:The atlas does not specify an assignment for the given MNI-coordinate.\n",
      "ERROR:root:The atlas does not specify an assignment for the given MNI-coordinate.\n",
      "ERROR:root:The atlas does not specify an assignment for the given MNI-coordinate.\n",
      "ERROR:root:The atlas does not specify an assignment for the given MNI-coordinate.\n",
      "ERROR:root:The atlas does not specify an assignment for the given MNI-coordinate.\n",
      "ERROR:root:The atlas does not specify an assignment for the given MNI-coordinate.\n",
      "ERROR:root:The atlas does not specify an assignment for the given MNI-coordinate.\n",
      "ERROR:root:The atlas does not specify an assignment for the given MNI-coordinate.\n",
      "ERROR:root:The atlas does not specify an assignment for the given MNI-coordinate.\n",
      "ERROR:root:The atlas does not specify an assignment for the given MNI-coordinate.\n",
      "ERROR:root:The atlas does not specify an assignment for the given MNI-coordinate.\n",
      "ERROR:root:The atlas does not specify an assignment for the given MNI-coordinate.\n",
      "ERROR:root:The atlas does not specify an assignment for the given MNI-coordinate.\n",
      "ERROR:root:The atlas does not specify an assignment for the given MNI-coordinate.\n",
      "ERROR:root:The atlas does not specify an assignment for the given MNI-coordinate.\n",
      "ERROR:root:The atlas does not specify an assignment for the given MNI-coordinate.\n",
      "ERROR:root:The atlas does not specify an assignment for the given MNI-coordinate.\n",
      "ERROR:root:The atlas does not specify an assignment for the given MNI-coordinate.\n",
      "ERROR:root:The atlas does not specify an assignment for the given MNI-coordinate.\n",
      "ERROR:root:The atlas does not specify an assignment for the given MNI-coordinate.\n",
      "ERROR:root:The atlas does not specify an assignment for the given MNI-coordinate.\n",
      "ERROR:root:The atlas does not specify an assignment for the given MNI-coordinate.\n",
      "ERROR:root:The atlas does not specify an assignment for the given MNI-coordinate.\n",
      "ERROR:root:The atlas does not specify an assignment for the given MNI-coordinate.\n",
      "ERROR:root:The atlas does not specify an assignment for the given MNI-coordinate.\n",
      "ERROR:root:The atlas does not specify an assignment for the given MNI-coordinate.\n",
      "ERROR:root:The atlas does not specify an assignment for the given MNI-coordinate.\n",
      "ERROR:root:The atlas does not specify an assignment for the given MNI-coordinate.\n",
      "ERROR:root:The atlas does not specify an assignment for the given MNI-coordinate.\n",
      "ERROR:root:The atlas does not specify an assignment for the given MNI-coordinate.\n",
      "ERROR:root:The atlas does not specify an assignment for the given MNI-coordinate.\n",
      "ERROR:root:The atlas does not specify an assignment for the given MNI-coordinate.\n",
      "ERROR:root:The atlas does not specify an assignment for the given MNI-coordinate.\n",
      "ERROR:root:The atlas does not specify an assignment for the given MNI-coordinate.\n",
      "ERROR:root:The atlas does not specify an assignment for the given MNI-coordinate.\n",
      "ERROR:root:The atlas does not specify an assignment for the given MNI-coordinate.\n",
      "ERROR:root:The atlas does not specify an assignment for the given MNI-coordinate.\n",
      "ERROR:root:The atlas does not specify an assignment for the given MNI-coordinate.\n",
      "ERROR:root:The atlas does not specify an assignment for the given MNI-coordinate.\n",
      "ERROR:root:The atlas does not specify an assignment for the given MNI-coordinate.\n",
      "ERROR:root:The atlas does not specify an assignment for the given MNI-coordinate.\n",
      "ERROR:root:The atlas does not specify an assignment for the given MNI-coordinate.\n",
      "ERROR:root:The atlas does not specify an assignment for the given MNI-coordinate.\n",
      "ERROR:root:The atlas does not specify an assignment for the given MNI-coordinate.\n",
      "ERROR:root:The atlas does not specify an assignment for the given MNI-coordinate.\n",
      "ERROR:root:The atlas does not specify an assignment for the given MNI-coordinate.\n",
      "ERROR:root:The atlas does not specify an assignment for the given MNI-coordinate.\n",
      "ERROR:root:The atlas does not specify an assignment for the given MNI-coordinate.\n",
      "ERROR:root:The atlas does not specify an assignment for the given MNI-coordinate.\n",
      "ERROR:root:The atlas does not specify an assignment for the given MNI-coordinate.\n",
      "ERROR:root:The atlas does not specify an assignment for the given MNI-coordinate.\n",
      "ERROR:root:The atlas does not specify an assignment for the given MNI-coordinate.\n",
      "ERROR:root:The atlas does not specify an assignment for the given MNI-coordinate.\n",
      "ERROR:root:The atlas does not specify an assignment for the given MNI-coordinate.\n",
      "ERROR:root:The atlas does not specify an assignment for the given MNI-coordinate.\n",
      "ERROR:root:The atlas does not specify an assignment for the given MNI-coordinate.\n",
      "ERROR:root:The atlas does not specify an assignment for the given MNI-coordinate.\n",
      "ERROR:root:The atlas does not specify an assignment for the given MNI-coordinate.\n",
      "ERROR:root:The atlas does not specify an assignment for the given MNI-coordinate.\n",
      "ERROR:root:The atlas does not specify an assignment for the given MNI-coordinate.\n",
      "ERROR:root:The atlas does not specify an assignment for the given MNI-coordinate.\n",
      "ERROR:root:The atlas does not specify an assignment for the given MNI-coordinate.\n",
      "ERROR:root:The atlas does not specify an assignment for the given MNI-coordinate.\n",
      "ERROR:root:The atlas does not specify an assignment for the given MNI-coordinate.\n",
      "ERROR:root:The atlas does not specify an assignment for the given MNI-coordinate.\n",
      "ERROR:root:The atlas does not specify an assignment for the given MNI-coordinate.\n",
      "ERROR:root:The atlas does not specify an assignment for the given MNI-coordinate.\n",
      "ERROR:root:The atlas does not specify an assignment for the given MNI-coordinate.\n",
      "ERROR:root:The atlas does not specify an assignment for the given MNI-coordinate.\n",
      "ERROR:root:The atlas does not specify an assignment for the given MNI-coordinate.\n",
      "ERROR:root:The atlas does not specify an assignment for the given MNI-coordinate.\n",
      "ERROR:root:The atlas does not specify an assignment for the given MNI-coordinate.\n",
      "ERROR:root:The atlas does not specify an assignment for the given MNI-coordinate.\n",
      "ERROR:root:The atlas does not specify an assignment for the given MNI-coordinate.\n",
      "ERROR:root:The atlas does not specify an assignment for the given MNI-coordinate.\n",
      "ERROR:root:The atlas does not specify an assignment for the given MNI-coordinate.\n",
      "ERROR:root:The atlas does not specify an assignment for the given MNI-coordinate.\n",
      "ERROR:root:The atlas does not specify an assignment for the given MNI-coordinate.\n",
      "ERROR:root:The atlas does not specify an assignment for the given MNI-coordinate.\n",
      "ERROR:root:The atlas does not specify an assignment for the given MNI-coordinate.\n",
      "ERROR:root:The atlas does not specify an assignment for the given MNI-coordinate.\n",
      "ERROR:root:The atlas does not specify an assignment for the given MNI-coordinate.\n",
      "ERROR:root:The atlas does not specify an assignment for the given MNI-coordinate.\n",
      "ERROR:root:The atlas does not specify an assignment for the given MNI-coordinate.\n",
      "ERROR:root:The atlas does not specify an assignment for the given MNI-coordinate.\n",
      "ERROR:root:The atlas does not specify an assignment for the given MNI-coordinate.\n",
      "ERROR:root:The atlas does not specify an assignment for the given MNI-coordinate.\n",
      "ERROR:root:The atlas does not specify an assignment for the given MNI-coordinate.\n",
      "ERROR:root:The atlas does not specify an assignment for the given MNI-coordinate.\n",
      "ERROR:root:The atlas does not specify an assignment for the given MNI-coordinate.\n",
      "ERROR:root:The atlas does not specify an assignment for the given MNI-coordinate.\n",
      "ERROR:root:The atlas does not specify an assignment for the given MNI-coordinate.\n",
      "ERROR:root:The atlas does not specify an assignment for the given MNI-coordinate.\n",
      "ERROR:root:The atlas does not specify an assignment for the given MNI-coordinate.\n",
      "ERROR:root:The atlas does not specify an assignment for the given MNI-coordinate.\n",
      "ERROR:root:The atlas does not specify an assignment for the given MNI-coordinate.\n",
      "ERROR:root:The atlas does not specify an assignment for the given MNI-coordinate.\n",
      "ERROR:root:The atlas does not specify an assignment for the given MNI-coordinate.\n",
      "ERROR:root:The atlas does not specify an assignment for the given MNI-coordinate.\n",
      "ERROR:root:The atlas does not specify an assignment for the given MNI-coordinate.\n",
      "ERROR:root:The atlas does not specify an assignment for the given MNI-coordinate.\n",
      "ERROR:root:The atlas does not specify an assignment for the given MNI-coordinate.\n",
      "ERROR:root:The atlas does not specify an assignment for the given MNI-coordinate.\n",
      "ERROR:root:The atlas does not specify an assignment for the given MNI-coordinate.\n",
      "ERROR:root:The atlas does not specify an assignment for the given MNI-coordinate.\n",
      "ERROR:root:The atlas does not specify an assignment for the given MNI-coordinate.\n",
      "ERROR:root:The atlas does not specify an assignment for the given MNI-coordinate.\n",
      "ERROR:root:The atlas does not specify an assignment for the given MNI-coordinate.\n",
      "ERROR:root:The atlas does not specify an assignment for the given MNI-coordinate.\n",
      "ERROR:root:The atlas does not specify an assignment for the given MNI-coordinate.\n",
      "ERROR:root:The atlas does not specify an assignment for the given MNI-coordinate.\n",
      "ERROR:root:The atlas does not specify an assignment for the given MNI-coordinate.\n",
      "ERROR:root:The atlas does not specify an assignment for the given MNI-coordinate.\n",
      "ERROR:root:The atlas does not specify an assignment for the given MNI-coordinate.\n",
      "ERROR:root:The atlas does not specify an assignment for the given MNI-coordinate.\n",
      "ERROR:root:The atlas does not specify an assignment for the given MNI-coordinate.\n",
      "ERROR:root:The atlas does not specify an assignment for the given MNI-coordinate.\n",
      "ERROR:root:The atlas does not specify an assignment for the given MNI-coordinate.\n",
      "ERROR:root:The atlas does not specify an assignment for the given MNI-coordinate.\n",
      "ERROR:root:The atlas does not specify an assignment for the given MNI-coordinate.\n",
      "ERROR:root:The atlas does not specify an assignment for the given MNI-coordinate.\n",
      "ERROR:root:The atlas does not specify an assignment for the given MNI-coordinate.\n",
      "ERROR:root:The atlas does not specify an assignment for the given MNI-coordinate.\n",
      "ERROR:root:The atlas does not specify an assignment for the given MNI-coordinate.\n",
      "ERROR:root:The atlas does not specify an assignment for the given MNI-coordinate.\n",
      "ERROR:root:The atlas does not specify an assignment for the given MNI-coordinate.\n",
      "ERROR:root:The atlas does not specify an assignment for the given MNI-coordinate.\n",
      "ERROR:root:The atlas does not specify an assignment for the given MNI-coordinate.\n",
      "ERROR:root:The atlas does not specify an assignment for the given MNI-coordinate.\n",
      "ERROR:root:The atlas does not specify an assignment for the given MNI-coordinate.\n",
      "ERROR:root:The atlas does not specify an assignment for the given MNI-coordinate.\n",
      "ERROR:root:The atlas does not specify an assignment for the given MNI-coordinate.\n",
      "ERROR:root:The atlas does not specify an assignment for the given MNI-coordinate.\n",
      "ERROR:root:The atlas does not specify an assignment for the given MNI-coordinate.\n",
      "ERROR:root:The atlas does not specify an assignment for the given MNI-coordinate.\n",
      "ERROR:root:The atlas does not specify an assignment for the given MNI-coordinate.\n",
      "ERROR:root:The atlas does not specify an assignment for the given MNI-coordinate.\n",
      "ERROR:root:The atlas does not specify an assignment for the given MNI-coordinate.\n",
      "ERROR:root:The atlas does not specify an assignment for the given MNI-coordinate.\n",
      "ERROR:root:The atlas does not specify an assignment for the given MNI-coordinate.\n",
      "ERROR:root:The atlas does not specify an assignment for the given MNI-coordinate.\n",
      "ERROR:root:The atlas does not specify an assignment for the given MNI-coordinate.\n",
      "ERROR:root:The atlas does not specify an assignment for the given MNI-coordinate.\n",
      "ERROR:root:The atlas does not specify an assignment for the given MNI-coordinate.\n",
      "ERROR:root:The atlas does not specify an assignment for the given MNI-coordinate.\n",
      "ERROR:root:The atlas does not specify an assignment for the given MNI-coordinate.\n",
      "ERROR:root:The atlas does not specify an assignment for the given MNI-coordinate.\n",
      "ERROR:root:The atlas does not specify an assignment for the given MNI-coordinate.\n",
      "ERROR:root:The atlas does not specify an assignment for the given MNI-coordinate.\n",
      "ERROR:root:The atlas does not specify an assignment for the given MNI-coordinate.\n",
      "ERROR:root:The atlas does not specify an assignment for the given MNI-coordinate.\n",
      "ERROR:root:The atlas does not specify an assignment for the given MNI-coordinate.\n",
      "ERROR:root:The atlas does not specify an assignment for the given MNI-coordinate.\n",
      "ERROR:root:The atlas does not specify an assignment for the given MNI-coordinate.\n",
      "ERROR:root:The atlas does not specify an assignment for the given MNI-coordinate.\n",
      "ERROR:root:The atlas does not specify an assignment for the given MNI-coordinate.\n",
      "ERROR:root:The atlas does not specify an assignment for the given MNI-coordinate.\n",
      "ERROR:root:The atlas does not specify an assignment for the given MNI-coordinate.\n",
      "ERROR:root:The atlas does not specify an assignment for the given MNI-coordinate.\n",
      "ERROR:root:The atlas does not specify an assignment for the given MNI-coordinate.\n",
      "ERROR:root:The atlas does not specify an assignment for the given MNI-coordinate.\n",
      "ERROR:root:The atlas does not specify an assignment for the given MNI-coordinate.\n",
      "ERROR:root:The atlas does not specify an assignment for the given MNI-coordinate.\n",
      "ERROR:root:The atlas does not specify an assignment for the given MNI-coordinate.\n",
      "ERROR:root:The atlas does not specify an assignment for the given MNI-coordinate.\n",
      "ERROR:root:The atlas does not specify an assignment for the given MNI-coordinate.\n",
      "ERROR:root:The atlas does not specify an assignment for the given MNI-coordinate.\n",
      "ERROR:root:The atlas does not specify an assignment for the given MNI-coordinate.\n",
      "ERROR:root:The atlas does not specify an assignment for the given MNI-coordinate.\n",
      "ERROR:root:The atlas does not specify an assignment for the given MNI-coordinate.\n",
      "ERROR:root:The atlas does not specify an assignment for the given MNI-coordinate.\n",
      "ERROR:root:The atlas does not specify an assignment for the given MNI-coordinate.\n",
      "ERROR:root:The atlas does not specify an assignment for the given MNI-coordinate.\n",
      "ERROR:root:The atlas does not specify an assignment for the given MNI-coordinate.\n",
      "ERROR:root:The atlas does not specify an assignment for the given MNI-coordinate.\n",
      "ERROR:root:The atlas does not specify an assignment for the given MNI-coordinate.\n",
      "ERROR:root:The atlas does not specify an assignment for the given MNI-coordinate.\n",
      "ERROR:root:The atlas does not specify an assignment for the given MNI-coordinate.\n",
      "ERROR:root:The atlas does not specify an assignment for the given MNI-coordinate.\n",
      "ERROR:root:The atlas does not specify an assignment for the given MNI-coordinate.\n",
      "ERROR:root:The atlas does not specify an assignment for the given MNI-coordinate.\n",
      "ERROR:root:The atlas does not specify an assignment for the given MNI-coordinate.\n",
      "ERROR:root:The atlas does not specify an assignment for the given MNI-coordinate.\n",
      "ERROR:root:The atlas does not specify an assignment for the given MNI-coordinate.\n",
      "ERROR:root:The atlas does not specify an assignment for the given MNI-coordinate.\n",
      "ERROR:root:The atlas does not specify an assignment for the given MNI-coordinate.\n",
      "ERROR:root:The atlas does not specify an assignment for the given MNI-coordinate.\n",
      "ERROR:root:The atlas does not specify an assignment for the given MNI-coordinate.\n",
      "ERROR:root:The atlas does not specify an assignment for the given MNI-coordinate.\n",
      "ERROR:root:The atlas does not specify an assignment for the given MNI-coordinate.\n",
      "ERROR:root:The atlas does not specify an assignment for the given MNI-coordinate.\n",
      "ERROR:root:The atlas does not specify an assignment for the given MNI-coordinate.\n",
      "ERROR:root:The atlas does not specify an assignment for the given MNI-coordinate.\n",
      "ERROR:root:The atlas does not specify an assignment for the given MNI-coordinate.\n",
      "ERROR:root:The atlas does not specify an assignment for the given MNI-coordinate.\n",
      "ERROR:root:The atlas does not specify an assignment for the given MNI-coordinate.\n",
      "ERROR:root:The atlas does not specify an assignment for the given MNI-coordinate.\n",
      "ERROR:root:The atlas does not specify an assignment for the given MNI-coordinate.\n",
      "ERROR:root:The atlas does not specify an assignment for the given MNI-coordinate.\n",
      "ERROR:root:The atlas does not specify an assignment for the given MNI-coordinate.\n",
      "ERROR:root:The atlas does not specify an assignment for the given MNI-coordinate.\n",
      "ERROR:root:The atlas does not specify an assignment for the given MNI-coordinate.\n",
      "ERROR:root:The atlas does not specify an assignment for the given MNI-coordinate.\n",
      "ERROR:root:The atlas does not specify an assignment for the given MNI-coordinate.\n",
      "ERROR:root:The atlas does not specify an assignment for the given MNI-coordinate.\n",
      "ERROR:root:The atlas does not specify an assignment for the given MNI-coordinate.\n",
      "ERROR:root:The atlas does not specify an assignment for the given MNI-coordinate.\n",
      "ERROR:root:The atlas does not specify an assignment for the given MNI-coordinate.\n",
      "ERROR:root:The atlas does not specify an assignment for the given MNI-coordinate.\n",
      "ERROR:root:The atlas does not specify an assignment for the given MNI-coordinate.\n",
      "ERROR:root:The atlas does not specify an assignment for the given MNI-coordinate.\n",
      "ERROR:root:The atlas does not specify an assignment for the given MNI-coordinate.\n",
      "ERROR:root:The atlas does not specify an assignment for the given MNI-coordinate.\n",
      "ERROR:root:The atlas does not specify an assignment for the given MNI-coordinate.\n",
      "ERROR:root:The atlas does not specify an assignment for the given MNI-coordinate.\n",
      "ERROR:root:The atlas does not specify an assignment for the given MNI-coordinate.\n",
      "ERROR:root:The atlas does not specify an assignment for the given MNI-coordinate.\n",
      "ERROR:root:The atlas does not specify an assignment for the given MNI-coordinate.\n",
      "ERROR:root:The atlas does not specify an assignment for the given MNI-coordinate.\n",
      "ERROR:root:The atlas does not specify an assignment for the given MNI-coordinate.\n",
      "ERROR:root:The atlas does not specify an assignment for the given MNI-coordinate.\n",
      "ERROR:root:The atlas does not specify an assignment for the given MNI-coordinate.\n",
      "ERROR:root:The atlas does not specify an assignment for the given MNI-coordinate.\n",
      "ERROR:root:The atlas does not specify an assignment for the given MNI-coordinate.\n",
      "ERROR:root:The atlas does not specify an assignment for the given MNI-coordinate.\n",
      "ERROR:root:The atlas does not specify an assignment for the given MNI-coordinate.\n",
      "ERROR:root:The atlas does not specify an assignment for the given MNI-coordinate.\n",
      "ERROR:root:The atlas does not specify an assignment for the given MNI-coordinate.\n",
      "ERROR:root:The atlas does not specify an assignment for the given MNI-coordinate.\n",
      "ERROR:root:The atlas does not specify an assignment for the given MNI-coordinate.\n",
      "ERROR:root:The atlas does not specify an assignment for the given MNI-coordinate.\n",
      "ERROR:root:The atlas does not specify an assignment for the given MNI-coordinate.\n",
      "ERROR:root:The atlas does not specify an assignment for the given MNI-coordinate.\n",
      "ERROR:root:The atlas does not specify an assignment for the given MNI-coordinate.\n",
      "ERROR:root:The atlas does not specify an assignment for the given MNI-coordinate.\n",
      "ERROR:root:The atlas does not specify an assignment for the given MNI-coordinate.\n",
      "ERROR:root:The atlas does not specify an assignment for the given MNI-coordinate.\n",
      "ERROR:root:The atlas does not specify an assignment for the given MNI-coordinate.\n",
      "ERROR:root:The atlas does not specify an assignment for the given MNI-coordinate.\n",
      "ERROR:root:The atlas does not specify an assignment for the given MNI-coordinate.\n",
      "ERROR:root:The atlas does not specify an assignment for the given MNI-coordinate.\n",
      "ERROR:root:The atlas does not specify an assignment for the given MNI-coordinate.\n",
      "ERROR:root:The atlas does not specify an assignment for the given MNI-coordinate.\n",
      "ERROR:root:The atlas does not specify an assignment for the given MNI-coordinate.\n",
      "ERROR:root:The atlas does not specify an assignment for the given MNI-coordinate.\n",
      "ERROR:root:The atlas does not specify an assignment for the given MNI-coordinate.\n",
      "ERROR:root:The atlas does not specify an assignment for the given MNI-coordinate.\n",
      "ERROR:root:The atlas does not specify an assignment for the given MNI-coordinate.\n",
      "ERROR:root:The atlas does not specify an assignment for the given MNI-coordinate.\n",
      "ERROR:root:The atlas does not specify an assignment for the given MNI-coordinate.\n",
      "ERROR:root:The atlas does not specify an assignment for the given MNI-coordinate.\n",
      "ERROR:root:The atlas does not specify an assignment for the given MNI-coordinate.\n",
      "ERROR:root:The atlas does not specify an assignment for the given MNI-coordinate.\n",
      "ERROR:root:The atlas does not specify an assignment for the given MNI-coordinate.\n",
      "ERROR:root:The atlas does not specify an assignment for the given MNI-coordinate.\n",
      "ERROR:root:The atlas does not specify an assignment for the given MNI-coordinate.\n",
      "ERROR:root:The atlas does not specify an assignment for the given MNI-coordinate.\n",
      "ERROR:root:The atlas does not specify an assignment for the given MNI-coordinate.\n",
      "ERROR:root:The atlas does not specify an assignment for the given MNI-coordinate.\n",
      "ERROR:root:The atlas does not specify an assignment for the given MNI-coordinate.\n",
      "ERROR:root:The atlas does not specify an assignment for the given MNI-coordinate.\n",
      "ERROR:root:The atlas does not specify an assignment for the given MNI-coordinate.\n",
      "ERROR:root:The atlas does not specify an assignment for the given MNI-coordinate.\n",
      "ERROR:root:The atlas does not specify an assignment for the given MNI-coordinate.\n",
      "ERROR:root:The atlas does not specify an assignment for the given MNI-coordinate.\n",
      "ERROR:root:The atlas does not specify an assignment for the given MNI-coordinate.\n",
      "ERROR:root:The atlas does not specify an assignment for the given MNI-coordinate.\n",
      "ERROR:root:The atlas does not specify an assignment for the given MNI-coordinate.\n",
      "ERROR:root:The atlas does not specify an assignment for the given MNI-coordinate.\n",
      "ERROR:root:The atlas does not specify an assignment for the given MNI-coordinate.\n",
      "ERROR:root:The atlas does not specify an assignment for the given MNI-coordinate.\n",
      "ERROR:root:The atlas does not specify an assignment for the given MNI-coordinate.\n",
      "ERROR:root:The atlas does not specify an assignment for the given MNI-coordinate.\n",
      "ERROR:root:The atlas does not specify an assignment for the given MNI-coordinate.\n",
      "ERROR:root:The atlas does not specify an assignment for the given MNI-coordinate.\n",
      "ERROR:root:The atlas does not specify an assignment for the given MNI-coordinate.\n",
      "ERROR:root:The atlas does not specify an assignment for the given MNI-coordinate.\n",
      "ERROR:root:The atlas does not specify an assignment for the given MNI-coordinate.\n",
      "ERROR:root:The atlas does not specify an assignment for the given MNI-coordinate.\n",
      "ERROR:root:The atlas does not specify an assignment for the given MNI-coordinate.\n",
      "ERROR:root:The atlas does not specify an assignment for the given MNI-coordinate.\n",
      "ERROR:root:The atlas does not specify an assignment for the given MNI-coordinate.\n",
      "ERROR:root:The atlas does not specify an assignment for the given MNI-coordinate.\n",
      "ERROR:root:The atlas does not specify an assignment for the given MNI-coordinate.\n",
      "ERROR:root:The atlas does not specify an assignment for the given MNI-coordinate.\n",
      "ERROR:root:The atlas does not specify an assignment for the given MNI-coordinate.\n",
      "ERROR:root:The atlas does not specify an assignment for the given MNI-coordinate.\n",
      "ERROR:root:The atlas does not specify an assignment for the given MNI-coordinate.\n",
      "ERROR:root:The atlas does not specify an assignment for the given MNI-coordinate.\n",
      "ERROR:root:The atlas does not specify an assignment for the given MNI-coordinate.\n",
      "ERROR:root:The atlas does not specify an assignment for the given MNI-coordinate.\n",
      "ERROR:root:The atlas does not specify an assignment for the given MNI-coordinate.\n",
      "ERROR:root:The atlas does not specify an assignment for the given MNI-coordinate.\n",
      "ERROR:root:The atlas does not specify an assignment for the given MNI-coordinate.\n",
      "ERROR:root:The atlas does not specify an assignment for the given MNI-coordinate.\n",
      "ERROR:root:The atlas does not specify an assignment for the given MNI-coordinate.\n",
      "ERROR:root:The atlas does not specify an assignment for the given MNI-coordinate.\n",
      "ERROR:root:The atlas does not specify an assignment for the given MNI-coordinate.\n",
      "ERROR:root:The atlas does not specify an assignment for the given MNI-coordinate.\n",
      "ERROR:root:The atlas does not specify an assignment for the given MNI-coordinate.\n",
      "ERROR:root:The atlas does not specify an assignment for the given MNI-coordinate.\n",
      "ERROR:root:The atlas does not specify an assignment for the given MNI-coordinate.\n",
      "ERROR:root:The atlas does not specify an assignment for the given MNI-coordinate.\n",
      "ERROR:root:The atlas does not specify an assignment for the given MNI-coordinate.\n",
      "ERROR:root:The atlas does not specify an assignment for the given MNI-coordinate.\n",
      "ERROR:root:The atlas does not specify an assignment for the given MNI-coordinate.\n",
      "ERROR:root:The atlas does not specify an assignment for the given MNI-coordinate.\n",
      "ERROR:root:The atlas does not specify an assignment for the given MNI-coordinate.\n",
      "ERROR:root:The atlas does not specify an assignment for the given MNI-coordinate.\n",
      "ERROR:root:The atlas does not specify an assignment for the given MNI-coordinate.\n",
      "ERROR:root:The atlas does not specify an assignment for the given MNI-coordinate.\n",
      "ERROR:root:The atlas does not specify an assignment for the given MNI-coordinate.\n",
      "ERROR:root:The atlas does not specify an assignment for the given MNI-coordinate.\n",
      "ERROR:root:The atlas does not specify an assignment for the given MNI-coordinate.\n",
      "ERROR:root:The atlas does not specify an assignment for the given MNI-coordinate.\n",
      "ERROR:root:The atlas does not specify an assignment for the given MNI-coordinate.\n",
      "ERROR:root:The atlas does not specify an assignment for the given MNI-coordinate.\n",
      "ERROR:root:The atlas does not specify an assignment for the given MNI-coordinate.\n",
      "ERROR:root:The atlas does not specify an assignment for the given MNI-coordinate.\n",
      "ERROR:root:The atlas does not specify an assignment for the given MNI-coordinate.\n",
      "ERROR:root:The atlas does not specify an assignment for the given MNI-coordinate.\n",
      "ERROR:root:The atlas does not specify an assignment for the given MNI-coordinate.\n",
      "ERROR:root:The atlas does not specify an assignment for the given MNI-coordinate.\n",
      "ERROR:root:The atlas does not specify an assignment for the given MNI-coordinate.\n",
      "ERROR:root:The atlas does not specify an assignment for the given MNI-coordinate.\n",
      "ERROR:root:The atlas does not specify an assignment for the given MNI-coordinate.\n",
      "ERROR:root:The atlas does not specify an assignment for the given MNI-coordinate.\n",
      "ERROR:root:The atlas does not specify an assignment for the given MNI-coordinate.\n",
      "ERROR:root:The atlas does not specify an assignment for the given MNI-coordinate.\n",
      "ERROR:root:The atlas does not specify an assignment for the given MNI-coordinate.\n",
      "ERROR:root:The atlas does not specify an assignment for the given MNI-coordinate.\n",
      "ERROR:root:The atlas does not specify an assignment for the given MNI-coordinate.\n",
      "ERROR:root:The atlas does not specify an assignment for the given MNI-coordinate.\n",
      "ERROR:root:The atlas does not specify an assignment for the given MNI-coordinate.\n",
      "ERROR:root:The atlas does not specify an assignment for the given MNI-coordinate.\n",
      "ERROR:root:The atlas does not specify an assignment for the given MNI-coordinate.\n",
      "ERROR:root:The atlas does not specify an assignment for the given MNI-coordinate.\n"
     ]
    },
    {
     "name": "stdout",
     "output_type": "stream",
     "text": [
      "Not all sources were assigned to regions.\n",
      "(14629,)\n"
     ]
    }
   ],
   "source": [
    "points_found, label_codes, label_strings = get_labels_of_points(dip_pos, atlas=\"aal2\")\n",
    "if not np.all(points_found):\n",
    "    print(\"Not all sources were assigned to regions.\")\n",
    "\n",
    "print(label_codes.shape)"
   ],
   "metadata": {
    "collapsed": false,
    "pycharm": {
     "name": "#%%\n"
    }
   }
  },
  {
   "cell_type": "code",
   "execution_count": 12,
   "outputs": [
    {
     "data": {
      "text/plain": "14236"
     },
     "execution_count": 12,
     "metadata": {},
     "output_type": "execute_result"
    }
   ],
   "source": [
    "sum(points_found)"
   ],
   "metadata": {
    "collapsed": false,
    "pycharm": {
     "name": "#%%\n"
    }
   }
  },
  {
   "cell_type": "code",
   "execution_count": 13,
   "outputs": [
    {
     "data": {
      "text/plain": "393"
     },
     "execution_count": 13,
     "metadata": {},
     "output_type": "execute_result"
    }
   ],
   "source": [
    "14629 - 14236"
   ],
   "metadata": {
    "collapsed": false,
    "pycharm": {
     "name": "#%%\n"
    }
   }
  },
  {
   "cell_type": "code",
   "execution_count": 14,
   "outputs": [],
   "source": [
    "not_found_indices = np.where(np.array(points_found) == False)"
   ],
   "metadata": {
    "collapsed": false,
    "pycharm": {
     "name": "#%%\n"
    }
   }
  },
  {
   "cell_type": "code",
   "execution_count": 15,
   "outputs": [
    {
     "data": {
      "text/plain": "(393,)"
     },
     "execution_count": 15,
     "metadata": {},
     "output_type": "execute_result"
    }
   ],
   "source": [
    "not_found_indices[0].shape"
   ],
   "metadata": {
    "collapsed": false,
    "pycharm": {
     "name": "#%%\n"
    }
   }
  },
  {
   "cell_type": "code",
   "execution_count": 16,
   "outputs": [
    {
     "data": {
      "text/plain": "[<matplotlib.lines.Line2D at 0x1380522f0>]"
     },
     "execution_count": 16,
     "metadata": {},
     "output_type": "execute_result"
    },
    {
     "data": {
      "text/plain": "<Figure size 432x288 with 1 Axes>",
      "image/png": "[encoded data removed]"
     },
     "metadata": {
      "needs_background": "light"
     },
     "output_type": "display_data"
    }
   ],
   "source": [
    "# plot only points that were not captured by atlas\n",
    "plt.plot(dip_pos[:, 0], dip_pos[:, 1], 'o')\n",
    "plt.plot(dip_pos[not_found_indices[0], 0], dip_pos[not_found_indices[0], 1], 'ro')"
   ],
   "metadata": {
    "collapsed": false,
    "pycharm": {
     "name": "#%%\n"
    }
   }
  },
  {
   "cell_type": "code",
   "execution_count": 17,
   "outputs": [
    {
     "data": {
      "text/plain": "[<matplotlib.lines.Line2D at 0x138153700>]"
     },
     "execution_count": 17,
     "metadata": {},
     "output_type": "execute_result"
    },
    {
     "data": {
      "text/plain": "<Figure size 432x288 with 1 Axes>",
      "image/png": "[encoded data removed]"
     },
     "metadata": {
      "needs_background": "light"
     },
     "output_type": "display_data"
    }
   ],
   "source": [
    "# plot only points that were not captured by atlas\n",
    "plt.plot(dip_pos[:, 1], dip_pos[:, 2], 'o')\n",
    "plt.plot(dip_pos[not_found_indices[0], 1], dip_pos[not_found_indices[0], 2], 'ro')"
   ],
   "metadata": {
    "collapsed": false,
    "pycharm": {
     "name": "#%%\n"
    }
   }
  },
  {
   "cell_type": "code",
   "execution_count": 18,
   "outputs": [],
   "source": [
    "from ni_eeg_forward_project.util import plot_glassbrain_projections"
   ],
   "metadata": {
    "collapsed": false,
    "pycharm": {
     "name": "#%%\n"
    }
   }
  },
  {
   "cell_type": "code",
   "execution_count": 22,
   "outputs": [
    {
     "data": {
      "text/plain": "<Figure size 432x288 with 3 Axes>",
      "image/png": "[encoded data removed]"
     },
     "metadata": {
      "needs_background": "light"
     },
     "output_type": "display_data"
    }
   ],
   "source": [
    "plot_glassbrain_projections(fwd, label_codes, 4112, \"\");"
   ],
   "metadata": {
    "collapsed": false,
    "pycharm": {
     "name": "#%%\n"
    }
   }
  },
  {
   "cell_type": "code",
   "execution_count": null,
   "outputs": [],
   "source": [],
   "metadata": {
    "collapsed": false,
    "pycharm": {
     "name": "#%%\n"
    }
   }
  }
 ],
 "metadata": {
  "kernelspec": {
   "display_name": "Python 3",
   "language": "python",
   "name": "python3"
  },
  "language_info": {
   "codemirror_mode": {
    "name": "ipython",
    "version": 2
   },
   "file_extension": ".py",
   "mimetype": "text/x-python",
   "name": "python",
   "nbconvert_exporter": "python",
   "pygments_lexer": "ipython2",
   "version": "2.7.6"
  }
 },
 "nbformat": 4,
 "nbformat_minor": 0
}