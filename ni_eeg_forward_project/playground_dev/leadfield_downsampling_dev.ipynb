{
 "cells": [
  {
   "cell_type": "code",
   "execution_count": null,
   "outputs": [],
   "source": [
    "from ni_eeg_forward_project.util import get_labels_of_points\n",
    "from neurolib.models.eeg import EEGModel\n",
    "import mne\n",
    "import matplotlib.pyplot as plt\n",
    "%load_ext autoreload\n",
    "%autoreload 2\n",
    "from neurolib.utils.collections import dotdict\n",
    "import numpy as np"
   ],
   "metadata": {
    "collapsed": false,
    "pycharm": {
     "name": "#%%\n"
    }
   }
  },
  {
   "cell_type": "code",
   "execution_count": 3,
   "metadata": {
    "collapsed": true,
    "pycharm": {
     "name": "#%%\n"
    }
   },
   "outputs": [
    {
     "name": "stdout",
     "output_type": "stream",
     "text": [
      "Creating the BEM geometry...\n",
      "Going from 5th to 4th subdivision of an icosahedron (n_tri: 20480 -> 5120)\n",
      "Going from 5th to 4th subdivision of an icosahedron (n_tri: 20480 -> 5120)\n",
      "Going from 5th to 4th subdivision of an icosahedron (n_tri: 20480 -> 5120)\n",
      "outer skin  CM is  -0.21 -19.38  -0.23 mm\n",
      "outer skull CM is  -0.19 -19.34  -0.49 mm\n",
      "inner skull CM is  -0.53 -21.10   6.21 mm\n",
      "Checking that surface outer skull is inside surface outer skin  ...\n",
      "Checking that surface inner skull is inside surface outer skull ...\n",
      "Checking distance between outer skin  and outer skull surfaces...\n",
      "Minimum distance between the outer skin  and outer skull surfaces is approximately    1.6 mm\n",
      "Checking distance between outer skull and inner skull surfaces...\n",
      "Minimum distance between the outer skull and inner skull surfaces is approximately    5.4 mm\n",
      "Surfaces passed the basic topology checks.\n",
      "Complete.\n",
      "\n",
      "Approximation method : Linear collocation\n",
      "\n",
      "Three-layer model surfaces loaded.\n",
      "Computing the linear collocation solution...\n",
      "    Matrix coefficients...\n",
      "        outer skin  (2562) -> outer skin  (2562) ...\n",
      "        outer skin  (2562) -> outer skull (2562) ...\n",
      "        outer skin  (2562) -> inner skull (2562) ...\n",
      "        outer skull (2562) -> outer skin  (2562) ...\n",
      "        outer skull (2562) -> outer skull (2562) ...\n",
      "        outer skull (2562) -> inner skull (2562) ...\n",
      "        inner skull (2562) -> outer skin  (2562) ...\n",
      "        inner skull (2562) -> outer skull (2562) ...\n",
      "        inner skull (2562) -> inner skull (2562) ...\n",
      "    Inverting the coefficient matrix...\n",
      "IP approach required...\n",
      "    Matrix coefficients (homog)...\n",
      "        inner skull (2562) -> inner skull (2562) ...\n",
      "    Inverting the coefficient matrix (homog)...\n",
      "    Modify the original solution to incorporate IP approach...\n",
      "        Combining...\n",
      "        Scaling...\n",
      "Solution ready.\n",
      "BEM geometry computations complete.\n",
      "BEM              : <ConductorModel | BEM (3 layers)>\n",
      "grid                  : 5.0 mm\n",
      "mindist               : 5.0 mm\n",
      "MRI volume            : /Users/martin/mne_data/MNE-fsaverage-data/fsaverage/mri/T1.mgz\n",
      "\n",
      "Reading /Users/martin/mne_data/MNE-fsaverage-data/fsaverage/mri/T1.mgz...\n",
      "\n",
      "Taking inner skull from <ConductorModel | BEM (3 layers)>\n",
      "Surface CM = (  -0.5  -21.1    6.2) mm\n",
      "Surface fits inside a sphere with radius   98.3 mm\n",
      "Surface extent:\n",
      "    x =  -75.2 ...   76.3 mm\n",
      "    y = -113.3 ...   75.0 mm\n",
      "    z =  -71.7 ...   88.2 mm\n",
      "Grid extent:\n",
      "    x =  -80.0 ...   80.0 mm\n",
      "    y = -115.0 ...   75.0 mm\n",
      "    z =  -75.0 ...   90.0 mm\n",
      "43758 sources before omitting any.\n",
      "29824 sources after omitting infeasible sources not within 0.0 - 98.3 mm.\n",
      "Source spaces are in MRI coordinates.\n",
      "Checking that the sources are inside the surface and at least    5.0 mm away (will take a few...)\n",
      "Checking surface interior status for 29824 points...\n",
      "    Found  3653/29824 points inside  an interior sphere of radius   47.7 mm\n",
      "    Found     0/29824 points outside an exterior sphere of radius   98.3 mm\n",
      "    Found 11570/26171 points outside using surface Qhull\n",
      "    Found   795/14601 points outside using solid angles\n",
      "    Total 17459/29824 points inside the surface\n",
      "Interior check completed in 22394.9 ms\n",
      "    12365 source space points omitted because they are outside the inner skull surface.\n",
      "    2830 source space points omitted because of the    5.0-mm distance limit.\n",
      "14629 sources remaining after excluding the sources outside the surface and less than    5.0 mm inside.\n",
      "Adjusting the neighborhood info.\n",
      "Source space : MRI voxel -> MRI (surface RAS)\n",
      "     0.005000  0.000000  0.000000     -80.00 mm\n",
      "     0.000000  0.005000  0.000000    -115.00 mm\n",
      "     0.000000  0.000000  0.005000     -75.00 mm\n",
      "     0.000000  0.000000  0.000000       1.00\n",
      "MRI volume : MRI voxel -> MRI (surface RAS)\n",
      "    -0.001000  0.000000  0.000000     128.00 mm\n",
      "     0.000000  0.000000  0.001000    -128.00 mm\n",
      "     0.000000 -0.001000  0.000000     128.00 mm\n",
      "     0.000000  0.000000  0.000000       1.00\n",
      "MRI volume : MRI (surface RAS) -> RAS (non-zero origin)\n",
      "     1.000000  0.000000  0.000000       0.00 mm\n",
      "     0.000000  1.000000  0.000000       0.00 mm\n",
      "     0.000000  0.000000  1.000000       0.00 mm\n",
      "     0.000000  0.000000  0.000000       1.00\n"
     ]
    }
   ],
   "source": [
    "params_eeg = dotdict({})\n",
    "eeg = EEGModel(params_eeg)"
   ]
  },
  {
   "cell_type": "code",
   "execution_count": 4,
   "outputs": [
    {
     "name": "stdout",
     "output_type": "stream",
     "text": [
      "Source space          : <SourceSpaces: [<volume, shape=(33, 39, 34), n_used=14629>] MRI (surface RAS) coords, subject 'fsaverage', ~10.8 MB>\n",
      "MRI -> head transform : /Users/martin/anaconda3/envs/mne/lib/python3.10/site-packages/mne/data/fsaverage/fsaverage-trans.fif\n",
      "Measurement data      : instance of Info\n",
      "Conductor model   : instance of ConductorModel\n",
      "Accurate field computations\n",
      "Do computations in head coordinates\n",
      "Free source orientations\n",
      "\n",
      "Read 1 source spaces a total of 14629 active source locations\n",
      "\n",
      "Coordinate transformation: MRI (surface RAS) -> head\n",
      "     0.999994  0.003552  0.000202      -1.76 mm\n",
      "    -0.003558  0.998389  0.056626      31.09 mm\n",
      "    -0.000001 -0.056626  0.998395      39.60 mm\n",
      "     0.000000  0.000000  0.000000       1.00\n",
      "\n",
      "Read  94 EEG channels from info\n",
      "Head coordinate coil definitions created.\n",
      "Source spaces are now in head coordinates.\n",
      "\n",
      "Employing the head->MRI coordinate transform with the BEM model.\n",
      "BEM model instance of ConductorModel is now set up\n",
      "\n",
      "Source spaces are in head coordinates.\n",
      "Checking that the sources are inside the surface (will take a few...)\n",
      "Checking surface interior status for 14629 points...\n",
      "    Found  3644/14629 points inside  an interior sphere of radius   47.7 mm\n",
      "    Found     0/14629 points outside an exterior sphere of radius   98.3 mm\n",
      "    Found     0/10985 points outside using surface Qhull\n",
      "    Found     0/10985 points outside using solid angles\n",
      "    Total 14629/14629 points inside the surface\n",
      "Interior check completed in 25627.2 ms\n",
      "\n",
      "Setting up for EEG...\n",
      "Computing EEG at 14629 source locations (free orientations)...\n",
      "\n",
      "Finished.\n"
     ]
    }
   ],
   "source": [
    "forward_solution = mne.make_forward_solution(eeg.info, trans=eeg.trans, src=eeg.src, bem=eeg.bem,\n",
    "                                meg=False, eeg=True, mindist=0.0)"
   ],
   "metadata": {
    "collapsed": false,
    "pycharm": {
     "name": "#%%\n"
    }
   }
  },
  {
   "cell_type": "code",
   "execution_count": 5,
   "outputs": [
    {
     "name": "stdout",
     "output_type": "stream",
     "text": [
      "    Write a source space...\n",
      "    [done]\n",
      "    1 source spaces written\n"
     ]
    }
   ],
   "source": [
    "fname = \"../../neurolib/data/datasets/eeg_fsaverage/fsaverage_fwd_sol/fsaverage_default-fwd.fif\"\n",
    "mne.write_forward_solution(fname, forward_solution)"
   ],
   "metadata": {
    "collapsed": false,
    "pycharm": {
     "name": "#%%\n"
    }
   }
  },
  {
   "cell_type": "code",
   "execution_count": 6,
   "outputs": [
    {
     "name": "stdout",
     "output_type": "stream",
     "text": [
      "Reading forward solution from /Users/martin/Documents/Uni_MSc/Semester04/ni_project/neurolib/ni_eeg_forward_project/playground_dev/../../neurolib/data/datasets/eeg_fsaverage/fsaverage_fwd_sol/fsaverage_default-fwd.fif...\n",
      "    Reading a source space...\n",
      "    [done]\n",
      "    1 source spaces read\n",
      "    Desired named matrix (kind = 3523) not available\n",
      "    Read EEG forward solution (14629 sources, 94 channels, free orientations)\n",
      "    Source spaces transformed to the forward solution coordinate frame\n"
     ]
    }
   ],
   "source": [
    "fwd = mne.read_forward_solution(fname)"
   ],
   "metadata": {
    "collapsed": false,
    "pycharm": {
     "name": "#%%\n"
    }
   }
  },
  {
   "cell_type": "code",
   "execution_count": 14,
   "outputs": [
    {
     "name": "stdout",
     "output_type": "stream",
     "text": [
      "dict_keys(['source_ori', 'coord_frame', 'nsource', 'nchan', 'sol', '_orig_sol', 'sol_grad', 'mri_head_t', 'info', 'src', 'source_rr', '_orig_source_ori', 'source_nn', 'surf_ori'])\n"
     ]
    },
    {
     "data": {
      "text/plain": "dict_keys(['id', 'type', 'shape', 'src_mri_t', 'mri_ras_t', 'vox_mri_t', 'mri_width', 'mri_height', 'mri_depth', 'mri_volume_name', 'neighbor_vert', 'np', 'ntri', 'coord_frame', 'rr', 'nn', 'tris', 'nuse', 'inuse', 'vertno', 'nuse_tri', 'use_tris', 'nearest', 'nearest_dist', 'pinfo', 'patch_inds', 'dist', 'dist_limit', 'subject_his_id'])"
     },
     "execution_count": 14,
     "metadata": {},
     "output_type": "execute_result"
    }
   ],
   "source": [
    "print(fwd.keys())\n",
    "fwd['src'][0].keys()"
   ],
   "metadata": {
    "collapsed": false,
    "pycharm": {
     "name": "#%%\n"
    }
   }
  },
  {
   "cell_type": "code",
   "execution_count": 15,
   "outputs": [],
   "source": [
    "lh = fwd['src'][0]\n",
    "dip_pos = lh['rr'][lh['vertno']]  # The position of the dipoles\n",
    "dip_ori = lh['nn'][lh['vertno']]\n",
    "print(dip_pos.shape)"
   ],
   "metadata": {
    "collapsed": false,
    "pycharm": {
     "name": "#%%\n"
    }
   }
  },
  {
   "cell_type": "code",
   "execution_count": 20,
   "outputs": [
    {
     "data": {
      "text/plain": "[<matplotlib.lines.Line2D at 0x14f37eef0>]"
     },
     "execution_count": 20,
     "metadata": {},
     "output_type": "execute_result"
    },
    {
     "data": {
      "text/plain": "<Figure size 432x288 with 1 Axes>",
      "image/png": "[encoded data removed]"
     },
     "metadata": {
      "needs_background": "light"
     },
     "output_type": "display_data"
    }
   ],
   "source": [
    "plt.plot(dip_pos[:, 0], dip_pos[:, 1], 'o')"
   ],
   "metadata": {
    "collapsed": false,
    "pycharm": {
     "name": "#%%\n"
    }
   }
  },
  {
   "cell_type": "code",
   "execution_count": 21,
   "outputs": [
    {
     "data": {
      "text/plain": "[<matplotlib.lines.Line2D at 0x14f3b9870>]"
     },
     "execution_count": 21,
     "metadata": {},
     "output_type": "execute_result"
    },
    {
     "data": {
      "text/plain": "<Figure size 432x288 with 1 Axes>",
      "image/png": "[encoded data removed]"
     },
     "metadata": {
      "needs_background": "light"
     },
     "output_type": "display_data"
    }
   ],
   "source": [
    "plt.plot(dip_pos[:, 1], dip_pos[:, 2], 'o')"
   ],
   "metadata": {
    "collapsed": false,
    "pycharm": {
     "name": "#%%\n"
    }
   }
  },
  {
   "cell_type": "code",
   "execution_count": 24,
   "outputs": [],
   "source": [
    "points_found, label_codes, label_strings = get_labels_of_points(dip_pos, atlas=\"aal2\")\n",
    "if not np.all(points_found):\n",
    "    print(\"Not all sources were assigned to regions.\")\n",
    "\n",
    "print(label_codes.shape)"
   ],
   "metadata": {
    "collapsed": false,
    "pycharm": {
     "name": "#%%\n"
    }
   }
  },
  {
   "cell_type": "code",
   "execution_count": 22,
   "outputs": [],
   "source": [
    "leadfield = forward_solution['sol']['data']"
   ],
   "metadata": {
    "collapsed": false,
    "pycharm": {
     "name": "#%%\n"
    }
   }
  },
  {
   "cell_type": "code",
   "execution_count": 35,
   "outputs": [
    {
     "name": "stdout",
     "output_type": "stream",
     "text": [
      "(14629, 3)\n"
     ]
    }
   ],
   "source": [
    "print(dip_pos.shape)"
   ],
   "metadata": {
    "collapsed": false,
    "pycharm": {
     "name": "#%%\n"
    }
   }
  },
  {
   "cell_type": "code",
   "execution_count": 37,
   "outputs": [],
   "source": [
    "dip_pos = dip_pos*1e3"
   ],
   "metadata": {
    "collapsed": false,
    "pycharm": {
     "name": "#%%\n"
    }
   }
  },
  {
   "cell_type": "code",
   "execution_count": 38,
   "outputs": [
    {
     "name": "stderr",
     "output_type": "stream",
     "text": [
      "ERROR:root:The atlas does not specify an assignment for the given MNI-coordinate.\n",
      "ERROR:root:The atlas does not specify an assignment for the given MNI-coordinate.\n",
      "ERROR:root:The atlas does not specify an assignment for the given MNI-coordinate.\n",
      "ERROR:root:The atlas does not specify an assignment for the given MNI-coordinate.\n",
      "ERROR:root:The atlas does not specify an assignment for the given MNI-coordinate.\n",
      "ERROR:root:The atlas does not specify an assignment for the given MNI-coordinate.\n",
      "ERROR:root:The atlas does not specify an assignment for the given MNI-coordinate.\n",
      "ERROR:root:The atlas does not specify an assignment for the given MNI-coordinate.\n",
      "ERROR:root:The atlas does not specify an assignment for the given MNI-coordinate.\n",
      "ERROR:root:The atlas does not specify an assignment for the given MNI-coordinate.\n",
      "ERROR:root:The atlas does not specify an assignment for the given MNI-coordinate.\n",
      "ERROR:root:The atlas does not specify an assignment for the given MNI-coordinate.\n",
      "ERROR:root:The atlas does not specify an assignment for the given MNI-coordinate.\n",
      "ERROR:root:The atlas does not specify an assignment for the given MNI-coordinate.\n",
      "ERROR:root:The atlas does not specify an assignment for the given MNI-coordinate.\n",
      "ERROR:root:The atlas does not specify an assignment for the given MNI-coordinate.\n",
      "ERROR:root:The atlas does not specify an assignment for the given MNI-coordinate.\n",
      "ERROR:root:The atlas does not specify an assignment for the given MNI-coordinate.\n",
      "ERROR:root:The atlas does not specify an assignment for the given MNI-coordinate.\n",
      "ERROR:root:The atlas does not specify an assignment for the given MNI-coordinate.\n",
      "ERROR:root:The atlas does not specify an assignment for the given MNI-coordinate.\n",
      "ERROR:root:The atlas does not specify an assignment for the given MNI-coordinate.\n",
      "ERROR:root:The atlas does not specify an assignment for the given MNI-coordinate.\n",
      "ERROR:root:The atlas does not specify an assignment for the given MNI-coordinate.\n",
      "ERROR:root:The atlas does not specify an assignment for the given MNI-coordinate.\n",
      "ERROR:root:The atlas does not specify an assignment for the given MNI-coordinate.\n",
      "ERROR:root:The atlas does not specify an assignment for the given MNI-coordinate.\n",
      "ERROR:root:The atlas does not specify an assignment for the given MNI-coordinate.\n",
      "ERROR:root:The atlas does not specify an assignment for the given MNI-coordinate.\n",
      "ERROR:root:The atlas does not specify an assignment for the given MNI-coordinate.\n",
      "ERROR:root:The atlas does not specify an assignment for the given MNI-coordinate.\n",
      "ERROR:root:The atlas does not specify an assignment for the given MNI-coordinate.\n",
      "ERROR:root:The atlas does not specify an assignment for the given MNI-coordinate.\n",
      "ERROR:root:The atlas does not specify an assignment for the given MNI-coordinate.\n",
      "ERROR:root:The atlas does not specify an assignment for the given MNI-coordinate.\n",
      "ERROR:root:The atlas does not specify an assignment for the given MNI-coordinate.\n",
      "ERROR:root:The atlas does not specify an assignment for the given MNI-coordinate.\n",
      "ERROR:root:The atlas does not specify an assignment for the given MNI-coordinate.\n",
      "ERROR:root:The atlas does not specify an assignment for the given MNI-coordinate.\n",
      "ERROR:root:The atlas does not specify an assignment for the given MNI-coordinate.\n",
      "ERROR:root:The atlas does not specify an assignment for the given MNI-coordinate.\n",
      "ERROR:root:The atlas does not specify an assignment for the given MNI-coordinate.\n",
      "ERROR:root:The atlas does not specify an assignment for the given MNI-coordinate.\n",
      "ERROR:root:The atlas does not specify an assignment for the given MNI-coordinate.\n",
      "ERROR:root:The atlas does not specify an assignment for the given MNI-coordinate.\n",
      "ERROR:root:The atlas does not specify an assignment for the given MNI-coordinate.\n",
      "ERROR:root:The atlas does not specify an assignment for the given MNI-coordinate.\n",
      "ERROR:root:The atlas does not specify an assignment for the given MNI-coordinate.\n",
      "ERROR:root:The atlas does not specify an assignment for the given MNI-coordinate.\n",
      "ERROR:root:The atlas does not specify an assignment for the given MNI-coordinate.\n",
      "ERROR:root:The atlas does not specify an assignment for the given MNI-coordinate.\n",
      "ERROR:root:The atlas does not specify an assignment for the given MNI-coordinate.\n",
      "ERROR:root:The atlas does not specify an assignment for the given MNI-coordinate.\n",
      "ERROR:root:The atlas does not specify an assignment for the given MNI-coordinate.\n",
      "ERROR:root:The atlas does not specify an assignment for the given MNI-coordinate.\n",
      "ERROR:root:The atlas does not specify an assignment for the given MNI-coordinate.\n",
      "ERROR:root:The atlas does not specify an assignment for the given MNI-coordinate.\n",
      "ERROR:root:The atlas does not specify an assignment for the given MNI-coordinate.\n",
      "ERROR:root:The atlas does not specify an assignment for the given MNI-coordinate.\n",
      "ERROR:root:The atlas does not specify an assignment for the given MNI-coordinate.\n",
      "ERROR:root:The atlas does not specify an assignment for the given MNI-coordinate.\n",
      "ERROR:root:The atlas does not specify an assignment for the given MNI-coordinate.\n",
      "ERROR:root:The atlas does not specify an assignment for the given MNI-coordinate.\n",
      "ERROR:root:The atlas does not specify an assignment for the given MNI-coordinate.\n",
      "ERROR:root:The atlas does not specify an assignment for the given MNI-coordinate.\n",
      "ERROR:root:The atlas does not specify an assignment for the given MNI-coordinate.\n",
      "ERROR:root:The atlas does not specify an assignment for the given MNI-coordinate.\n",
      "ERROR:root:The atlas does not specify an assignment for the given MNI-coordinate.\n",
      "ERROR:root:The atlas does not specify an assignment for the given MNI-coordinate.\n",
      "ERROR:root:The atlas does not specify an assignment for the given MNI-coordinate.\n",
      "ERROR:root:The atlas does not specify an assignment for the given MNI-coordinate.\n",
      "ERROR:root:The atlas does not specify an assignment for the given MNI-coordinate.\n",
      "ERROR:root:The atlas does not specify an assignment for the given MNI-coordinate.\n",
      "ERROR:root:The atlas does not specify an assignment for the given MNI-coordinate.\n",
      "ERROR:root:The atlas does not specify an assignment for the given MNI-coordinate.\n",
      "ERROR:root:The atlas does not specify an assignment for the given MNI-coordinate.\n",
      "ERROR:root:The atlas does not specify an assignment for the given MNI-coordinate.\n",
      "ERROR:root:The atlas does not specify an assignment for the given MNI-coordinate.\n",
      "ERROR:root:The atlas does not specify an assignment for the given MNI-coordinate.\n",
      "ERROR:root:The atlas does not specify an assignment for the given MNI-coordinate.\n",
      "ERROR:root:The atlas does not specify an assignment for the given MNI-coordinate.\n",
      "ERROR:root:The atlas does not specify an assignment for the given MNI-coordinate.\n",
      "ERROR:root:The atlas does not specify an assignment for the given MNI-coordinate.\n",
      "ERROR:root:The atlas does not specify an assignment for the given MNI-coordinate.\n",
      "ERROR:root:The atlas does not specify an assignment for the given MNI-coordinate.\n",
      "ERROR:root:The atlas does not specify an assignment for the given MNI-coordinate.\n",
      "ERROR:root:The atlas does not specify an assignment for the given MNI-coordinate.\n",
      "ERROR:root:The atlas does not specify an assignment for the given MNI-coordinate.\n",
      "ERROR:root:The atlas does not specify an assignment for the given MNI-coordinate.\n",
      "ERROR:root:The atlas does not specify an assignment for the given MNI-coordinate.\n",
      "ERROR:root:The atlas does not specify an assignment for the given MNI-coordinate.\n",
      "ERROR:root:The atlas does not specify an assignment for the given MNI-coordinate.\n",
      "ERROR:root:The atlas does not specify an assignment for the given MNI-coordinate.\n",
      "ERROR:root:The atlas does not specify an assignment for the given MNI-coordinate.\n",
      "ERROR:root:The atlas does not specify an assignment for the given MNI-coordinate.\n",
      "ERROR:root:The atlas does not specify an assignment for the given MNI-coordinate.\n",
      "ERROR:root:The atlas does not specify an assignment for the given MNI-coordinate.\n",
      "ERROR:root:The atlas does not specify an assignment for the given MNI-coordinate.\n",
      "ERROR:root:The atlas does not specify an assignment for the given MNI-coordinate.\n",
      "ERROR:root:The atlas does not specify an assignment for the given MNI-coordinate.\n",
      "ERROR:root:The atlas does not specify an assignment for the given MNI-coordinate.\n",
      "ERROR:root:The atlas does not specify an assignment for the given MNI-coordinate.\n",
      "ERROR:root:The atlas does not specify an assignment for the given MNI-coordinate.\n",
      "ERROR:root:The atlas does not specify an assignment for the given MNI-coordinate.\n",
      "ERROR:root:The atlas does not specify an assignment for the given MNI-coordinate.\n",
      "ERROR:root:The atlas does not specify an assignment for the given MNI-coordinate.\n",
      "ERROR:root:The atlas does not specify an assignment for the given MNI-coordinate.\n",
      "ERROR:root:The atlas does not specify an assignment for the given MNI-coordinate.\n",
      "ERROR:root:The atlas does not specify an assignment for the given MNI-coordinate.\n",
      "ERROR:root:The atlas does not specify an assignment for the given MNI-coordinate.\n",
      "ERROR:root:The atlas does not specify an assignment for the given MNI-coordinate.\n",
      "ERROR:root:The atlas does not specify an assignment for the given MNI-coordinate.\n",
      "ERROR:root:The atlas does not specify an assignment for the given MNI-coordinate.\n",
      "ERROR:root:The atlas does not specify an assignment for the given MNI-coordinate.\n",
      "ERROR:root:The atlas does not specify an assignment for the given MNI-coordinate.\n",
      "ERROR:root:The atlas does not specify an assignment for the given MNI-coordinate.\n",
      "ERROR:root:The atlas does not specify an assignment for the given MNI-coordinate.\n",
      "ERROR:root:The atlas does not specify an assignment for the given MNI-coordinate.\n",
      "ERROR:root:The atlas does not specify an assignment for the given MNI-coordinate.\n",
      "ERROR:root:The atlas does not specify an assignment for the given MNI-coordinate.\n",
      "ERROR:root:The atlas does not specify an assignment for the given MNI-coordinate.\n",
      "ERROR:root:The atlas does not specify an assignment for the given MNI-coordinate.\n",
      "ERROR:root:The atlas does not specify an assignment for the given MNI-coordinate.\n",
      "ERROR:root:The atlas does not specify an assignment for the given MNI-coordinate.\n",
      "ERROR:root:The atlas does not specify an assignment for the given MNI-coordinate.\n",
      "ERROR:root:The atlas does not specify an assignment for the given MNI-coordinate.\n",
      "ERROR:root:The atlas does not specify an assignment for the given MNI-coordinate.\n",
      "ERROR:root:The atlas does not specify an assignment for the given MNI-coordinate.\n",
      "ERROR:root:The atlas does not specify an assignment for the given MNI-coordinate.\n",
      "ERROR:root:The atlas does not specify an assignment for the given MNI-coordinate.\n",
      "ERROR:root:The atlas does not specify an assignment for the given MNI-coordinate.\n",
      "ERROR:root:The atlas does not specify an assignment for the given MNI-coordinate.\n",
      "ERROR:root:The atlas does not specify an assignment for the given MNI-coordinate.\n",
      "ERROR:root:The atlas does not specify an assignment for the given MNI-coordinate.\n",
      "ERROR:root:The atlas does not specify an assignment for the given MNI-coordinate.\n",
      "ERROR:root:The atlas does not specify an assignment for the given MNI-coordinate.\n",
      "ERROR:root:The atlas does not specify an assignment for the given MNI-coordinate.\n",
      "ERROR:root:The atlas does not specify an assignment for the given MNI-coordinate.\n",
      "ERROR:root:The atlas does not specify an assignment for the given MNI-coordinate.\n",
      "ERROR:root:The atlas does not specify an assignment for the given MNI-coordinate.\n",
      "ERROR:root:The atlas does not specify an assignment for the given MNI-coordinate.\n",
      "ERROR:root:The atlas does not specify an assignment for the given MNI-coordinate.\n",
      "ERROR:root:The atlas does not specify an assignment for the given MNI-coordinate.\n",
      "ERROR:root:The atlas does not specify an assignment for the given MNI-coordinate.\n",
      "ERROR:root:The atlas does not specify an assignment for the given MNI-coordinate.\n",
      "ERROR:root:The atlas does not specify an assignment for the given MNI-coordinate.\n",
      "ERROR:root:The atlas does not specify an assignment for the given MNI-coordinate.\n",
      "ERROR:root:The atlas does not specify an assignment for the given MNI-coordinate.\n",
      "ERROR:root:The atlas does not specify an assignment for the given MNI-coordinate.\n",
      "ERROR:root:The atlas does not specify an assignment for the given MNI-coordinate.\n",
      "ERROR:root:The atlas does not specify an assignment for the given MNI-coordinate.\n",
      "ERROR:root:The atlas does not specify an assignment for the given MNI-coordinate.\n",
      "ERROR:root:The atlas does not specify an assignment for the given MNI-coordinate.\n",
      "ERROR:root:The atlas does not specify an assignment for the given MNI-coordinate.\n",
      "ERROR:root:The atlas does not specify an assignment for the given MNI-coordinate.\n",
      "ERROR:root:The atlas does not specify an assignment for the given MNI-coordinate.\n",
      "ERROR:root:The atlas does not specify an assignment for the given MNI-coordinate.\n",
      "ERROR:root:The atlas does not specify an assignment for the given MNI-coordinate.\n",
      "ERROR:root:The atlas does not specify an assignment for the given MNI-coordinate.\n",
      "ERROR:root:The atlas does not specify an assignment for the given MNI-coordinate.\n",
      "ERROR:root:The atlas does not specify an assignment for the given MNI-coordinate.\n",
      "ERROR:root:The atlas does not specify an assignment for the given MNI-coordinate.\n",
      "ERROR:root:The atlas does not specify an assignment for the given MNI-coordinate.\n",
      "ERROR:root:The atlas does not specify an assignment for the given MNI-coordinate.\n",
      "ERROR:root:The atlas does not specify an assignment for the given MNI-coordinate.\n",
      "ERROR:root:The atlas does not specify an assignment for the given MNI-coordinate.\n",
      "ERROR:root:The atlas does not specify an assignment for the given MNI-coordinate.\n",
      "ERROR:root:The atlas does not specify an assignment for the given MNI-coordinate.\n",
      "ERROR:root:The atlas does not specify an assignment for the given MNI-coordinate.\n",
      "ERROR:root:The atlas does not specify an assignment for the given MNI-coordinate.\n",
      "ERROR:root:The atlas does not specify an assignment for the given MNI-coordinate.\n",
      "ERROR:root:The atlas does not specify an assignment for the given MNI-coordinate.\n",
      "ERROR:root:The atlas does not specify an assignment for the given MNI-coordinate.\n",
      "ERROR:root:The atlas does not specify an assignment for the given MNI-coordinate.\n",
      "ERROR:root:The atlas does not specify an assignment for the given MNI-coordinate.\n",
      "ERROR:root:The atlas does not specify an assignment for the given MNI-coordinate.\n",
      "ERROR:root:The atlas does not specify an assignment for the given MNI-coordinate.\n",
      "ERROR:root:The atlas does not specify an assignment for the given MNI-coordinate.\n",
      "ERROR:root:The atlas does not specify an assignment for the given MNI-coordinate.\n",
      "ERROR:root:The atlas does not specify an assignment for the given MNI-coordinate.\n",
      "ERROR:root:The atlas does not specify an assignment for the given MNI-coordinate.\n",
      "ERROR:root:The atlas does not specify an assignment for the given MNI-coordinate.\n",
      "ERROR:root:The atlas does not specify an assignment for the given MNI-coordinate.\n",
      "ERROR:root:The atlas does not specify an assignment for the given MNI-coordinate.\n",
      "ERROR:root:The atlas does not specify an assignment for the given MNI-coordinate.\n",
      "ERROR:root:The atlas does not specify an assignment for the given MNI-coordinate.\n",
      "ERROR:root:The atlas does not specify an assignment for the given MNI-coordinate.\n",
      "ERROR:root:The atlas does not specify an assignment for the given MNI-coordinate.\n",
      "ERROR:root:The atlas does not specify an assignment for the given MNI-coordinate.\n",
      "ERROR:root:The atlas does not specify an assignment for the given MNI-coordinate.\n",
      "ERROR:root:The atlas does not specify an assignment for the given MNI-coordinate.\n",
      "ERROR:root:The atlas does not specify an assignment for the given MNI-coordinate.\n",
      "ERROR:root:The atlas does not specify an assignment for the given MNI-coordinate.\n",
      "ERROR:root:The atlas does not specify an assignment for the given MNI-coordinate.\n",
      "ERROR:root:The atlas does not specify an assignment for the given MNI-coordinate.\n",
      "ERROR:root:The atlas does not specify an assignment for the given MNI-coordinate.\n",
      "ERROR:root:The atlas does not specify an assignment for the given MNI-coordinate.\n",
      "ERROR:root:The atlas does not specify an assignment for the given MNI-coordinate.\n",
      "ERROR:root:The atlas does not specify an assignment for the given MNI-coordinate.\n",
      "ERROR:root:The atlas does not specify an assignment for the given MNI-coordinate.\n",
      "ERROR:root:The atlas does not specify an assignment for the given MNI-coordinate.\n",
      "ERROR:root:The atlas does not specify an assignment for the given MNI-coordinate.\n",
      "ERROR:root:The atlas does not specify an assignment for the given MNI-coordinate.\n",
      "ERROR:root:The atlas does not specify an assignment for the given MNI-coordinate.\n",
      "ERROR:root:The atlas does not specify an assignment for the given MNI-coordinate.\n",
      "ERROR:root:The atlas does not specify an assignment for the given MNI-coordinate.\n",
      "ERROR:root:The atlas does not specify an assignment for the given MNI-coordinate.\n",
      "ERROR:root:The atlas does not specify an assignment for the given MNI-coordinate.\n",
      "ERROR:root:The atlas does not specify an assignment for the given MNI-coordinate.\n",
      "ERROR:root:The atlas does not specify an assignment for the given MNI-coordinate.\n",
      "ERROR:root:The atlas does not specify an assignment for the given MNI-coordinate.\n",
      "ERROR:root:The atlas does not specify an assignment for the given MNI-coordinate.\n",
      "ERROR:root:The atlas does not specify an assignment for the given MNI-coordinate.\n",
      "ERROR:root:The atlas does not specify an assignment for the given MNI-coordinate.\n",
      "ERROR:root:The atlas does not specify an assignment for the given MNI-coordinate.\n",
      "ERROR:root:The atlas does not specify an assignment for the given MNI-coordinate.\n",
      "ERROR:root:The atlas does not specify an assignment for the given MNI-coordinate.\n",
      "ERROR:root:The atlas does not specify an assignment for the given MNI-coordinate.\n",
      "ERROR:root:The atlas does not specify an assignment for the given MNI-coordinate.\n",
      "ERROR:root:The atlas does not specify an assignment for the given MNI-coordinate.\n",
      "ERROR:root:The atlas does not specify an assignment for the given MNI-coordinate.\n",
      "ERROR:root:The atlas does not specify an assignment for the given MNI-coordinate.\n",
      "ERROR:root:The atlas does not specify an assignment for the given MNI-coordinate.\n",
      "ERROR:root:The atlas does not specify an assignment for the given MNI-coordinate.\n",
      "ERROR:root:The atlas does not specify an assignment for the given MNI-coordinate.\n",
      "ERROR:root:The atlas does not specify an assignment for the given MNI-coordinate.\n",
      "ERROR:root:The atlas does not specify an assignment for the given MNI-coordinate.\n",
      "ERROR:root:The atlas does not specify an assignment for the given MNI-coordinate.\n",
      "ERROR:root:The atlas does not specify an assignment for the given MNI-coordinate.\n",
      "ERROR:root:The atlas does not specify an assignment for the given MNI-coordinate.\n",
      "ERROR:root:The atlas does not specify an assignment for the given MNI-coordinate.\n",
      "ERROR:root:The atlas does not specify an assignment for the given MNI-coordinate.\n",
      "ERROR:root:The atlas does not specify an assignment for the given MNI-coordinate.\n",
      "ERROR:root:The atlas does not specify an assignment for the given MNI-coordinate.\n",
      "ERROR:root:The atlas does not specify an assignment for the given MNI-coordinate.\n",
      "ERROR:root:The atlas does not specify an assignment for the given MNI-coordinate.\n",
      "ERROR:root:The atlas does not specify an assignment for the given MNI-coordinate.\n",
      "ERROR:root:The atlas does not specify an assignment for the given MNI-coordinate.\n",
      "ERROR:root:The atlas does not specify an assignment for the given MNI-coordinate.\n",
      "ERROR:root:The atlas does not specify an assignment for the given MNI-coordinate.\n",
      "ERROR:root:The atlas does not specify an assignment for the given MNI-coordinate.\n",
      "ERROR:root:The atlas does not specify an assignment for the given MNI-coordinate.\n",
      "ERROR:root:The atlas does not specify an assignment for the given MNI-coordinate.\n",
      "ERROR:root:The atlas does not specify an assignment for the given MNI-coordinate.\n",
      "ERROR:root:The atlas does not specify an assignment for the given MNI-coordinate.\n",
      "ERROR:root:The atlas does not specify an assignment for the given MNI-coordinate.\n",
      "ERROR:root:The atlas does not specify an assignment for the given MNI-coordinate.\n",
      "ERROR:root:The atlas does not specify an assignment for the given MNI-coordinate.\n",
      "ERROR:root:The atlas does not specify an assignment for the given MNI-coordinate.\n",
      "ERROR:root:The atlas does not specify an assignment for the given MNI-coordinate.\n",
      "ERROR:root:The atlas does not specify an assignment for the given MNI-coordinate.\n",
      "ERROR:root:The atlas does not specify an assignment for the given MNI-coordinate.\n",
      "ERROR:root:The atlas does not specify an assignment for the given MNI-coordinate.\n",
      "ERROR:root:The atlas does not specify an assignment for the given MNI-coordinate.\n",
      "ERROR:root:The atlas does not specify an assignment for the given MNI-coordinate.\n",
      "ERROR:root:The atlas does not specify an assignment for the given MNI-coordinate.\n",
      "ERROR:root:The atlas does not specify an assignment for the given MNI-coordinate.\n",
      "ERROR:root:The atlas does not specify an assignment for the given MNI-coordinate.\n",
      "ERROR:root:The atlas does not specify an assignment for the given MNI-coordinate.\n",
      "ERROR:root:The atlas does not specify an assignment for the given MNI-coordinate.\n",
      "ERROR:root:The atlas does not specify an assignment for the given MNI-coordinate.\n",
      "ERROR:root:The atlas does not specify an assignment for the given MNI-coordinate.\n",
      "ERROR:root:The atlas does not specify an assignment for the given MNI-coordinate.\n",
      "ERROR:root:The atlas does not specify an assignment for the given MNI-coordinate.\n",
      "ERROR:root:The atlas does not specify an assignment for the given MNI-coordinate.\n",
      "ERROR:root:The atlas does not specify an assignment for the given MNI-coordinate.\n",
      "ERROR:root:The atlas does not specify an assignment for the given MNI-coordinate.\n",
      "ERROR:root:The atlas does not specify an assignment for the given MNI-coordinate.\n",
      "ERROR:root:The atlas does not specify an assignment for the given MNI-coordinate.\n",
      "ERROR:root:The atlas does not specify an assignment for the given MNI-coordinate.\n",
      "ERROR:root:The atlas does not specify an assignment for the given MNI-coordinate.\n",
      "ERROR:root:The atlas does not specify an assignment for the given MNI-coordinate.\n",
      "ERROR:root:The atlas does not specify an assignment for the given MNI-coordinate.\n",
      "ERROR:root:The atlas does not specify an assignment for the given MNI-coordinate.\n",
      "ERROR:root:The atlas does not specify an assignment for the given MNI-coordinate.\n",
      "ERROR:root:The atlas does not specify an assignment for the given MNI-coordinate.\n",
      "ERROR:root:The atlas does not specify an assignment for the given MNI-coordinate.\n",
      "ERROR:root:The atlas does not specify an assignment for the given MNI-coordinate.\n",
      "ERROR:root:The atlas does not specify an assignment for the given MNI-coordinate.\n",
      "ERROR:root:The atlas does not specify an assignment for the given MNI-coordinate.\n",
      "ERROR:root:The atlas does not specify an assignment for the given MNI-coordinate.\n",
      "ERROR:root:The atlas does not specify an assignment for the given MNI-coordinate.\n",
      "ERROR:root:The atlas does not specify an assignment for the given MNI-coordinate.\n",
      "ERROR:root:The atlas does not specify an assignment for the given MNI-coordinate.\n",
      "ERROR:root:The atlas does not specify an assignment for the given MNI-coordinate.\n",
      "ERROR:root:The atlas does not specify an assignment for the given MNI-coordinate.\n",
      "ERROR:root:The atlas does not specify an assignment for the given MNI-coordinate.\n",
      "ERROR:root:The atlas does not specify an assignment for the given MNI-coordinate.\n",
      "ERROR:root:The atlas does not specify an assignment for the given MNI-coordinate.\n",
      "ERROR:root:The atlas does not specify an assignment for the given MNI-coordinate.\n",
      "ERROR:root:The atlas does not specify an assignment for the given MNI-coordinate.\n",
      "ERROR:root:The atlas does not specify an assignment for the given MNI-coordinate.\n",
      "ERROR:root:The atlas does not specify an assignment for the given MNI-coordinate.\n",
      "ERROR:root:The atlas does not specify an assignment for the given MNI-coordinate.\n",
      "ERROR:root:The atlas does not specify an assignment for the given MNI-coordinate.\n",
      "ERROR:root:The atlas does not specify an assignment for the given MNI-coordinate.\n",
      "ERROR:root:The atlas does not specify an assignment for the given MNI-coordinate.\n",
      "ERROR:root:The atlas does not specify an assignment for the given MNI-coordinate.\n",
      "ERROR:root:The atlas does not specify an assignment for the given MNI-coordinate.\n",
      "ERROR:root:The atlas does not specify an assignment for the given MNI-coordinate.\n",
      "ERROR:root:The atlas does not specify an assignment for the given MNI-coordinate.\n",
      "ERROR:root:The atlas does not specify an assignment for the given MNI-coordinate.\n",
      "ERROR:root:The atlas does not specify an assignment for the given MNI-coordinate.\n",
      "ERROR:root:The atlas does not specify an assignment for the given MNI-coordinate.\n",
      "ERROR:root:The atlas does not specify an assignment for the given MNI-coordinate.\n",
      "ERROR:root:The atlas does not specify an assignment for the given MNI-coordinate.\n",
      "ERROR:root:The atlas does not specify an assignment for the given MNI-coordinate.\n",
      "ERROR:root:The atlas does not specify an assignment for the given MNI-coordinate.\n",
      "ERROR:root:The atlas does not specify an assignment for the given MNI-coordinate.\n",
      "ERROR:root:The atlas does not specify an assignment for the given MNI-coordinate.\n",
      "ERROR:root:The atlas does not specify an assignment for the given MNI-coordinate.\n",
      "ERROR:root:The atlas does not specify an assignment for the given MNI-coordinate.\n",
      "ERROR:root:The atlas does not specify an assignment for the given MNI-coordinate.\n",
      "ERROR:root:The atlas does not specify an assignment for the given MNI-coordinate.\n",
      "ERROR:root:The atlas does not specify an assignment for the given MNI-coordinate.\n",
      "ERROR:root:The atlas does not specify an assignment for the given MNI-coordinate.\n",
      "ERROR:root:The atlas does not specify an assignment for the given MNI-coordinate.\n",
      "ERROR:root:The atlas does not specify an assignment for the given MNI-coordinate.\n",
      "ERROR:root:The atlas does not specify an assignment for the given MNI-coordinate.\n",
      "ERROR:root:The atlas does not specify an assignment for the given MNI-coordinate.\n",
      "ERROR:root:The atlas does not specify an assignment for the given MNI-coordinate.\n",
      "ERROR:root:The atlas does not specify an assignment for the given MNI-coordinate.\n",
      "ERROR:root:The atlas does not specify an assignment for the given MNI-coordinate.\n",
      "ERROR:root:The atlas does not specify an assignment for the given MNI-coordinate.\n",
      "ERROR:root:The atlas does not specify an assignment for the given MNI-coordinate.\n",
      "ERROR:root:The atlas does not specify an assignment for the given MNI-coordinate.\n",
      "ERROR:root:The atlas does not specify an assignment for the given MNI-coordinate.\n",
      "ERROR:root:The atlas does not specify an assignment for the given MNI-coordinate.\n",
      "ERROR:root:The atlas does not specify an assignment for the given MNI-coordinate.\n",
      "ERROR:root:The atlas does not specify an assignment for the given MNI-coordinate.\n",
      "ERROR:root:The atlas does not specify an assignment for the given MNI-coordinate.\n",
      "ERROR:root:The atlas does not specify an assignment for the given MNI-coordinate.\n",
      "ERROR:root:The atlas does not specify an assignment for the given MNI-coordinate.\n",
      "ERROR:root:The atlas does not specify an assignment for the given MNI-coordinate.\n",
      "ERROR:root:The atlas does not specify an assignment for the given MNI-coordinate.\n",
      "ERROR:root:The atlas does not specify an assignment for the given MNI-coordinate.\n",
      "ERROR:root:The atlas does not specify an assignment for the given MNI-coordinate.\n",
      "ERROR:root:The atlas does not specify an assignment for the given MNI-coordinate.\n",
      "ERROR:root:The atlas does not specify an assignment for the given MNI-coordinate.\n",
      "ERROR:root:The atlas does not specify an assignment for the given MNI-coordinate.\n",
      "ERROR:root:The atlas does not specify an assignment for the given MNI-coordinate.\n",
      "ERROR:root:The atlas does not specify an assignment for the given MNI-coordinate.\n",
      "ERROR:root:The atlas does not specify an assignment for the given MNI-coordinate.\n",
      "ERROR:root:The atlas does not specify an assignment for the given MNI-coordinate.\n",
      "ERROR:root:The atlas does not specify an assignment for the given MNI-coordinate.\n",
      "ERROR:root:The atlas does not specify an assignment for the given MNI-coordinate.\n",
      "ERROR:root:The atlas does not specify an assignment for the given MNI-coordinate.\n",
      "ERROR:root:The atlas does not specify an assignment for the given MNI-coordinate.\n",
      "ERROR:root:The atlas does not specify an assignment for the given MNI-coordinate.\n",
      "ERROR:root:The atlas does not specify an assignment for the given MNI-coordinate.\n",
      "ERROR:root:The atlas does not specify an assignment for the given MNI-coordinate.\n",
      "ERROR:root:The atlas does not specify an assignment for the given MNI-coordinate.\n",
      "ERROR:root:The atlas does not specify an assignment for the given MNI-coordinate.\n",
      "ERROR:root:The atlas does not specify an assignment for the given MNI-coordinate.\n",
      "ERROR:root:The atlas does not specify an assignment for the given MNI-coordinate.\n",
      "ERROR:root:The atlas does not specify an assignment for the given MNI-coordinate.\n",
      "ERROR:root:The atlas does not specify an assignment for the given MNI-coordinate.\n",
      "ERROR:root:The atlas does not specify an assignment for the given MNI-coordinate.\n",
      "ERROR:root:The atlas does not specify an assignment for the given MNI-coordinate.\n",
      "ERROR:root:The atlas does not specify an assignment for the given MNI-coordinate.\n",
      "ERROR:root:The atlas does not specify an assignment for the given MNI-coordinate.\n",
      "ERROR:root:The atlas does not specify an assignment for the given MNI-coordinate.\n",
      "ERROR:root:The atlas does not specify an assignment for the given MNI-coordinate.\n",
      "ERROR:root:The atlas does not specify an assignment for the given MNI-coordinate.\n",
      "ERROR:root:The atlas does not specify an assignment for the given MNI-coordinate.\n",
      "ERROR:root:The atlas does not specify an assignment for the given MNI-coordinate.\n",
      "ERROR:root:The atlas does not specify an assignment for the given MNI-coordinate.\n",
      "ERROR:root:The atlas does not specify an assignment for the given MNI-coordinate.\n",
      "ERROR:root:The atlas does not specify an assignment for the given MNI-coordinate.\n",
      "ERROR:root:The atlas does not specify an assignment for the given MNI-coordinate.\n",
      "ERROR:root:The atlas does not specify an assignment for the given MNI-coordinate.\n",
      "ERROR:root:The atlas does not specify an assignment for the given MNI-coordinate.\n",
      "ERROR:root:The atlas does not specify an assignment for the given MNI-coordinate.\n",
      "ERROR:root:The atlas does not specify an assignment for the given MNI-coordinate.\n",
      "ERROR:root:The atlas does not specify an assignment for the given MNI-coordinate.\n",
      "ERROR:root:The atlas does not specify an assignment for the given MNI-coordinate.\n",
      "ERROR:root:The atlas does not specify an assignment for the given MNI-coordinate.\n",
      "ERROR:root:The atlas does not specify an assignment for the given MNI-coordinate.\n",
      "ERROR:root:The atlas does not specify an assignment for the given MNI-coordinate.\n",
      "ERROR:root:The atlas does not specify an assignment for the given MNI-coordinate.\n",
      "ERROR:root:The atlas does not specify an assignment for the given MNI-coordinate.\n",
      "ERROR:root:The atlas does not specify an assignment for the given MNI-coordinate.\n",
      "ERROR:root:The atlas does not specify an assignment for the given MNI-coordinate.\n",
      "ERROR:root:The atlas does not specify an assignment for the given MNI-coordinate.\n",
      "ERROR:root:The atlas does not specify an assignment for the given MNI-coordinate.\n",
      "ERROR:root:The atlas does not specify an assignment for the given MNI-coordinate.\n",
      "ERROR:root:The atlas does not specify an assignment for the given MNI-coordinate.\n",
      "ERROR:root:The atlas does not specify an assignment for the given MNI-coordinate.\n",
      "ERROR:root:The atlas does not specify an assignment for the given MNI-coordinate.\n",
      "ERROR:root:The atlas does not specify an assignment for the given MNI-coordinate.\n",
      "ERROR:root:The atlas does not specify an assignment for the given MNI-coordinate.\n",
      "ERROR:root:The atlas does not specify an assignment for the given MNI-coordinate.\n",
      "ERROR:root:The atlas does not specify an assignment for the given MNI-coordinate.\n"
     ]
    },
    {
     "name": "stdout",
     "output_type": "stream",
     "text": [
      "Not all sources were assigned to regions.\n",
      "(14629,)\n"
     ]
    }
   ],
   "source": [
    "points_found, label_codes, label_strings = get_labels_of_points(dip_pos, atlas=\"aal2\")\n",
    "if not np.all(points_found):\n",
    "    print(\"Not all sources were assigned to regions.\")\n",
    "\n",
    "print(label_codes.shape)"
   ],
   "metadata": {
    "collapsed": false,
    "pycharm": {
     "name": "#%%\n"
    }
   }
  },
  {
   "cell_type": "code",
   "execution_count": 39,
   "outputs": [
    {
     "data": {
      "text/plain": "14236"
     },
     "execution_count": 39,
     "metadata": {},
     "output_type": "execute_result"
    }
   ],
   "source": [
    "sum(points_found)"
   ],
   "metadata": {
    "collapsed": false,
    "pycharm": {
     "name": "#%%\n"
    }
   }
  },
  {
   "cell_type": "code",
   "execution_count": 40,
   "outputs": [
    {
     "data": {
      "text/plain": "393"
     },
     "execution_count": 40,
     "metadata": {},
     "output_type": "execute_result"
    }
   ],
   "source": [
    "14629 - 14236"
   ],
   "metadata": {
    "collapsed": false,
    "pycharm": {
     "name": "#%%\n"
    }
   }
  },
  {
   "cell_type": "code",
   "execution_count": null,
   "outputs": [],
   "source": [],
   "metadata": {
    "collapsed": false,
    "pycharm": {
     "name": "#%%\n"
    }
   }
  }
 ],
 "metadata": {
  "kernelspec": {
   "display_name": "Python 3",
   "language": "python",
   "name": "python3"
  },
  "language_info": {
   "codemirror_mode": {
    "name": "ipython",
    "version": 2
   },
   "file_extension": ".py",
   "mimetype": "text/x-python",
   "name": "python",
   "nbconvert_exporter": "python",
   "pygments_lexer": "ipython2",
   "version": "2.7.6"
  }
 },
 "nbformat": 4,
 "nbformat_minor": 0
}