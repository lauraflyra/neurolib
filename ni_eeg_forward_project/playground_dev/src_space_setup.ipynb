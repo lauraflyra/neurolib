{
 "cells": [
  {
   "cell_type": "code",
   "execution_count": 4,
   "outputs": [],
   "source": [
    "import mne\n",
    "import os.path as op\n",
    "import numpy as np"
   ],
   "metadata": {
    "collapsed": false,
    "pycharm": {
     "name": "#%%\n"
    }
   }
  },
  {
   "cell_type": "code",
   "execution_count": 5,
   "outputs": [
    {
     "name": "stdout",
     "output_type": "stream",
     "text": [
      "Reading forward solution from /Users/martin/Documents/Uni_MSc/Semester04/ni_project/neurolib/ni_eeg_forward_project/playground_dev/../../neurolib/data/datasets/eeg_fsaverage/fsaverage_fwd_sol/fsaverage_default-fwd.fif...\n",
      "    Reading a source space...\n",
      "    [done]\n",
      "    1 source spaces read\n",
      "    Desired named matrix (kind = 3523) not available\n",
      "    Read EEG forward solution (14629 sources, 94 channels, free orientations)\n",
      "    Source spaces transformed to the forward solution coordinate frame\n"
     ]
    }
   ],
   "source": [
    "fname = \"../../neurolib/data/datasets/eeg_fsaverage/fsaverage_fwd_sol/fsaverage_default-fwd.fif\"\n",
    "fwd = mne.read_forward_solution(fname)"
   ],
   "metadata": {
    "collapsed": false,
    "pycharm": {
     "name": "#%%\n"
    }
   }
  },
  {
   "cell_type": "code",
   "execution_count": 3,
   "outputs": [
    {
     "name": "stdout",
     "output_type": "stream",
     "text": [
      "Creating the BEM geometry...\n",
      "Going from 5th to 4th subdivision of an icosahedron (n_tri: 20480 -> 5120)\n",
      "Going from 5th to 4th subdivision of an icosahedron (n_tri: 20480 -> 5120)\n",
      "Going from 5th to 4th subdivision of an icosahedron (n_tri: 20480 -> 5120)\n",
      "outer skin  CM is  -0.21 -19.38  -0.23 mm\n",
      "outer skull CM is  -0.19 -19.34  -0.49 mm\n",
      "inner skull CM is  -0.53 -21.10   6.21 mm\n",
      "Checking that surface outer skull is inside surface outer skin  ...\n",
      "Checking that surface inner skull is inside surface outer skull ...\n",
      "Checking distance between outer skin  and outer skull surfaces...\n",
      "Minimum distance between the outer skin  and outer skull surfaces is approximately    1.6 mm\n",
      "Checking distance between outer skull and inner skull surfaces...\n",
      "Minimum distance between the outer skull and inner skull surfaces is approximately    5.4 mm\n",
      "Surfaces passed the basic topology checks.\n",
      "Complete.\n",
      "\n",
      "Approximation method : Linear collocation\n",
      "\n",
      "Three-layer model surfaces loaded.\n",
      "Computing the linear collocation solution...\n",
      "    Matrix coefficients...\n",
      "        outer skin  (2562) -> outer skin  (2562) ...\n",
      "        outer skin  (2562) -> outer skull (2562) ...\n",
      "        outer skin  (2562) -> inner skull (2562) ...\n",
      "        outer skull (2562) -> outer skin  (2562) ...\n",
      "        outer skull (2562) -> outer skull (2562) ...\n",
      "        outer skull (2562) -> inner skull (2562) ...\n",
      "        inner skull (2562) -> outer skin  (2562) ...\n",
      "        inner skull (2562) -> outer skull (2562) ...\n",
      "        inner skull (2562) -> inner skull (2562) ...\n"
     ]
    },
    {
     "ename": "KeyboardInterrupt",
     "evalue": "",
     "output_type": "error",
     "traceback": [
      "\u001B[0;31m---------------------------------------------------------------------------\u001B[0m",
      "\u001B[0;31mKeyboardInterrupt\u001B[0m                         Traceback (most recent call last)",
      "Input \u001B[0;32mIn [3]\u001B[0m, in \u001B[0;36m<cell line: 8>\u001B[0;34m()\u001B[0m\n\u001B[1;32m      5\u001B[0m trans \u001B[38;5;241m=\u001B[39m \u001B[38;5;124m'\u001B[39m\u001B[38;5;124mfsaverage\u001B[39m\u001B[38;5;124m'\u001B[39m\n\u001B[1;32m      7\u001B[0m model \u001B[38;5;241m=\u001B[39m mne\u001B[38;5;241m.\u001B[39mmake_bem_model(subject\u001B[38;5;241m=\u001B[39msubject, ico\u001B[38;5;241m=\u001B[39m\u001B[38;5;241m4\u001B[39m, conductivity\u001B[38;5;241m=\u001B[39m(\u001B[38;5;241m0.3\u001B[39m, \u001B[38;5;241m0.006\u001B[39m, \u001B[38;5;241m0.3\u001B[39m), subjects_dir\u001B[38;5;241m=\u001B[39msubject_dir)\n\u001B[0;32m----> 8\u001B[0m bem \u001B[38;5;241m=\u001B[39m \u001B[43mmne\u001B[49m\u001B[38;5;241;43m.\u001B[39;49m\u001B[43mmake_bem_solution\u001B[49m\u001B[43m(\u001B[49m\u001B[43mmodel\u001B[49m\u001B[43m)\u001B[49m\n",
      "File \u001B[0;32m<decorator-gen-63>:12\u001B[0m, in \u001B[0;36mmake_bem_solution\u001B[0;34m(surfs, verbose)\u001B[0m\n",
      "File \u001B[0;32m~/anaconda3/envs/mne/lib/python3.10/site-packages/mne/bem.py:339\u001B[0m, in \u001B[0;36mmake_bem_solution\u001B[0;34m(surfs, verbose)\u001B[0m\n\u001B[1;32m    337\u001B[0m     \u001B[38;5;28;01mraise\u001B[39;00m \u001B[38;5;167;01mRuntimeError\u001B[39;00m(\u001B[38;5;124m'\u001B[39m\u001B[38;5;124mOnly 1- or 3-layer BEM computations supported\u001B[39m\u001B[38;5;124m'\u001B[39m)\n\u001B[1;32m    338\u001B[0m _check_bem_size(bem[\u001B[38;5;124m'\u001B[39m\u001B[38;5;124msurfs\u001B[39m\u001B[38;5;124m'\u001B[39m])\n\u001B[0;32m--> 339\u001B[0m \u001B[43m_fwd_bem_linear_collocation_solution\u001B[49m\u001B[43m(\u001B[49m\u001B[43mbem\u001B[49m\u001B[43m)\u001B[49m\n\u001B[1;32m    340\u001B[0m logger\u001B[38;5;241m.\u001B[39minfo(\u001B[38;5;124m'\u001B[39m\u001B[38;5;124mBEM geometry computations complete.\u001B[39m\u001B[38;5;124m'\u001B[39m)\n\u001B[1;32m    341\u001B[0m \u001B[38;5;28;01mreturn\u001B[39;00m bem\n",
      "File \u001B[0;32m~/anaconda3/envs/mne/lib/python3.10/site-packages/mne/bem.py:280\u001B[0m, in \u001B[0;36m_fwd_bem_linear_collocation_solution\u001B[0;34m(bem)\u001B[0m\n\u001B[1;32m    278\u001B[0m logger\u001B[38;5;241m.\u001B[39minfo(\u001B[38;5;124m'\u001B[39m\u001B[38;5;124mComputing the linear collocation solution...\u001B[39m\u001B[38;5;124m'\u001B[39m)\n\u001B[1;32m    279\u001B[0m logger\u001B[38;5;241m.\u001B[39minfo(\u001B[38;5;124m'\u001B[39m\u001B[38;5;124m    Matrix coefficients...\u001B[39m\u001B[38;5;124m'\u001B[39m)\n\u001B[0;32m--> 280\u001B[0m coeff \u001B[38;5;241m=\u001B[39m \u001B[43m_fwd_bem_lin_pot_coeff\u001B[49m\u001B[43m(\u001B[49m\u001B[43mbem\u001B[49m\u001B[43m[\u001B[49m\u001B[38;5;124;43m'\u001B[39;49m\u001B[38;5;124;43msurfs\u001B[39;49m\u001B[38;5;124;43m'\u001B[39;49m\u001B[43m]\u001B[49m\u001B[43m)\u001B[49m\n\u001B[1;32m    281\u001B[0m bem[\u001B[38;5;124m'\u001B[39m\u001B[38;5;124mnsol\u001B[39m\u001B[38;5;124m'\u001B[39m] \u001B[38;5;241m=\u001B[39m \u001B[38;5;28mlen\u001B[39m(coeff)\n\u001B[1;32m    282\u001B[0m logger\u001B[38;5;241m.\u001B[39minfo(\u001B[38;5;124m\"\u001B[39m\u001B[38;5;124m    Inverting the coefficient matrix...\u001B[39m\u001B[38;5;124m\"\u001B[39m)\n",
      "File \u001B[0;32m~/anaconda3/envs/mne/lib/python3.10/site-packages/mne/bem.py:199\u001B[0m, in \u001B[0;36m_fwd_bem_lin_pot_coeff\u001B[0;34m(surfs)\u001B[0m\n\u001B[1;32m    193\u001B[0m     skip_idx \u001B[38;5;241m=\u001B[39m \u001B[38;5;28mlist\u001B[39m()\n\u001B[1;32m    194\u001B[0m \u001B[38;5;66;03m# No contribution from a triangle that\u001B[39;00m\n\u001B[1;32m    195\u001B[0m \u001B[38;5;66;03m# this vertex belongs to\u001B[39;00m\n\u001B[1;32m    196\u001B[0m \u001B[38;5;66;03m# if sidx1 == sidx2 and (tri == j).any():\u001B[39;00m\n\u001B[1;32m    197\u001B[0m \u001B[38;5;66;03m#     continue\u001B[39;00m\n\u001B[1;32m    198\u001B[0m \u001B[38;5;66;03m# Otherwise do the hard job\u001B[39;00m\n\u001B[0;32m--> 199\u001B[0m coeffs \u001B[38;5;241m=\u001B[39m \u001B[43m_lin_pot_coeff\u001B[49m\u001B[43m(\u001B[49m\u001B[43mfros\u001B[49m\u001B[38;5;241;43m=\u001B[39;49m\u001B[43msurf1\u001B[49m\u001B[43m[\u001B[49m\u001B[38;5;124;43m'\u001B[39;49m\u001B[38;5;124;43mrr\u001B[39;49m\u001B[38;5;124;43m'\u001B[39;49m\u001B[43m]\u001B[49m\u001B[43m,\u001B[49m\u001B[43m \u001B[49m\u001B[43mtri_rr\u001B[49m\u001B[38;5;241;43m=\u001B[39;49m\u001B[43mtri_rr\u001B[49m\u001B[43m[\u001B[49m\u001B[43mk\u001B[49m\u001B[43m]\u001B[49m\u001B[43m,\u001B[49m\n\u001B[1;32m    200\u001B[0m \u001B[43m                        \u001B[49m\u001B[43mtri_nn\u001B[49m\u001B[38;5;241;43m=\u001B[39;49m\u001B[43mtri_nn\u001B[49m\u001B[43m[\u001B[49m\u001B[43mk\u001B[49m\u001B[43m]\u001B[49m\u001B[43m,\u001B[49m\u001B[43m \u001B[49m\u001B[43mtri_area\u001B[49m\u001B[38;5;241;43m=\u001B[39;49m\u001B[43mtri_area\u001B[49m\u001B[43m[\u001B[49m\u001B[43mk\u001B[49m\u001B[43m]\u001B[49m\u001B[43m)\u001B[49m\n\u001B[1;32m    201\u001B[0m coeffs[skip_idx] \u001B[38;5;241m=\u001B[39m \u001B[38;5;241m0.\u001B[39m\n\u001B[1;32m    202\u001B[0m submat[:, tri] \u001B[38;5;241m-\u001B[39m\u001B[38;5;241m=\u001B[39m coeffs\n",
      "File \u001B[0;32m~/anaconda3/envs/mne/lib/python3.10/site-packages/mne/bem.py:134\u001B[0m, in \u001B[0;36m_lin_pot_coeff\u001B[0;34m(fros, tri_rr, tri_nn, tri_area)\u001B[0m\n\u001B[1;32m    132\u001B[0m yys \u001B[38;5;241m=\u001B[39m [v1, v2, v3]\n\u001B[1;32m    133\u001B[0m idx \u001B[38;5;241m=\u001B[39m [\u001B[38;5;241m0\u001B[39m, \u001B[38;5;241m1\u001B[39m, \u001B[38;5;241m2\u001B[39m, \u001B[38;5;241m0\u001B[39m, \u001B[38;5;241m2\u001B[39m]\n\u001B[0;32m--> 134\u001B[0m \u001B[38;5;28;01mfor\u001B[39;00m k \u001B[38;5;129;01min\u001B[39;00m \u001B[38;5;28;43mrange\u001B[39;49m\u001B[43m(\u001B[49m\u001B[38;5;241;43m3\u001B[39;49m\u001B[43m)\u001B[49m:\n\u001B[1;32m    135\u001B[0m     diff \u001B[38;5;241m=\u001B[39m yys[idx[k \u001B[38;5;241m-\u001B[39m \u001B[38;5;241m1\u001B[39m]] \u001B[38;5;241m-\u001B[39m yys[idx[k \u001B[38;5;241m+\u001B[39m \u001B[38;5;241m1\u001B[39m]]\n\u001B[1;32m    136\u001B[0m     zdots \u001B[38;5;241m=\u001B[39m _fast_cross_nd_sum(yys[idx[k \u001B[38;5;241m+\u001B[39m \u001B[38;5;241m1\u001B[39m]], yys[idx[k \u001B[38;5;241m-\u001B[39m \u001B[38;5;241m1\u001B[39m]], tri_nn)\n",
      "\u001B[0;31mKeyboardInterrupt\u001B[0m: "
     ]
    }
   ],
   "source": [
    "fs_dir = \"/Users/martin/mne_data/MNE-fsaverage-data/\"\n",
    "subject_dir = op.dirname(fs_dir)\n",
    "\n",
    "subject = 'fsaverage'\n",
    "trans = 'fsaverage'\n",
    "\n",
    "model = mne.make_bem_model(subject=subject, ico=4, conductivity=(0.3, 0.006, 0.3), subjects_dir=subject_dir)\n",
    "bem = mne.make_bem_solution(model)"
   ],
   "metadata": {
    "collapsed": false,
    "pycharm": {
     "name": "#%%\n"
    }
   }
  },
  {
   "cell_type": "code",
   "execution_count": 6,
   "outputs": [],
   "source": [
    "#src = mne.setup_volume_source_space(subject=subject, bem=bem, subjects_dir=subject_dir, add_interpolator=False)\n",
    "src = fwd[\"src\"]"
   ],
   "metadata": {
    "collapsed": false,
    "pycharm": {
     "name": "#%%\n"
    }
   }
  },
  {
   "cell_type": "code",
   "execution_count": null,
   "outputs": [],
   "source": [
    "kind = \"standard_1020\"\n",
    "montage = mne.channels.make_standard_montage(kind, head_size='auto')\n",
    "info = mne.create_info(ch_names=montage.ch_names, sfreq=256, ch_types='eeg')\n",
    "info.set_montage(montage)\n",
    "\n",
    "\n",
    "forward_solution = mne.make_forward_solution(info, trans=trans, src=src, bem=bem,\n",
    "                                meg=False, eeg=True, mindist=0.0)"
   ],
   "metadata": {
    "collapsed": false,
    "pycharm": {
     "name": "#%%\n"
    }
   }
  },
  {
   "cell_type": "code",
   "execution_count": 8,
   "outputs": [
    {
     "ename": "TypeError",
     "evalue": "plot_bem() got an unexpected keyword argument 'trans'",
     "output_type": "error",
     "traceback": [
      "\u001B[0;31m---------------------------------------------------------------------------\u001B[0m",
      "\u001B[0;31mTypeError\u001B[0m                                 Traceback (most recent call last)",
      "Input \u001B[0;32mIn [8]\u001B[0m, in \u001B[0;36m<cell line: 3>\u001B[0;34m()\u001B[0m\n\u001B[1;32m      1\u001B[0m trans \u001B[38;5;241m=\u001B[39m mne\u001B[38;5;241m.\u001B[39mread_trans(\u001B[38;5;124m\"\u001B[39m\u001B[38;5;124m/Users/martin/Documents/Uni_MSc/Semester04/ni_project/neurolib/neurolib/data/datasets/\u001B[39m\u001B[38;5;124m\"\u001B[39m\n\u001B[1;32m      2\u001B[0m                            \u001B[38;5;124m\"\u001B[39m\u001B[38;5;124meeg_fsaverage/fsaverage/bem/fsaverage-trans.fif\u001B[39m\u001B[38;5;124m\"\u001B[39m)\n\u001B[0;32m----> 3\u001B[0m \u001B[43mmne\u001B[49m\u001B[38;5;241;43m.\u001B[39;49m\u001B[43mviz\u001B[49m\u001B[38;5;241;43m.\u001B[39;49m\u001B[43mplot_bem\u001B[49m\u001B[43m(\u001B[49m\u001B[43msrc\u001B[49m\u001B[38;5;241;43m=\u001B[39;49m\u001B[43msrc\u001B[49m\u001B[43m,\u001B[49m\u001B[43m \u001B[49m\u001B[43msubject\u001B[49m\u001B[38;5;241;43m=\u001B[39;49m\u001B[43msubject\u001B[49m\u001B[43m,\u001B[49m\u001B[43m \u001B[49m\u001B[43mtrans\u001B[49m\u001B[38;5;241;43m=\u001B[39;49m\u001B[43mtrans\u001B[49m\u001B[43m)\u001B[49m\n",
      "\u001B[0;31mTypeError\u001B[0m: plot_bem() got an unexpected keyword argument 'trans'"
     ]
    }
   ],
   "source": [
    "trans = mne.read_trans(\"/Users/martin/Documents/Uni_MSc/Semester04/ni_project/neurolib/neurolib/data/datasets/\"\n",
    "                           \"eeg_fsaverage/fsaverage/bem/fsaverage-trans.fif\")\n",
    "mne.viz.plot_bem(src=src, subject=subject);"
   ],
   "metadata": {
    "collapsed": false,
    "pycharm": {
     "name": "#%%\n"
    }
   }
  },
  {
   "cell_type": "code",
   "execution_count": 19,
   "outputs": [],
   "source": [
    "# try to do exaclty the same thing  with what is stored in neurolib folder"
   ],
   "metadata": {
    "collapsed": false,
    "pycharm": {
     "name": "#%%\n"
    }
   }
  },
  {
   "cell_type": "code",
   "execution_count": 16,
   "outputs": [],
   "source": [
    "forward_solution=fwd\n",
    "\n",
    "fig = mne.viz.create_3d_figure(size=(600, 400))\n",
    "\n",
    "# Plot the cortex\n",
    "mne.viz.plot_alignment(\n",
    "    subject=subject, subjects_dir=subject_dir, trans=trans,\n",
    "    surfaces='white', coord_frame='head', fig=fig)\n",
    "\n",
    "# Show the three dipoles defined at each location in the source space\n",
    "mne.viz.plot_alignment(\n",
    "    subject=subject, subjects_dir=subject_dir, trans=trans, fwd=forward_solution,\n",
    "    surfaces='white', coord_frame='head', fig=fig)\n",
    "\n",
    "mne.viz.set_3d_view(figure=fig, azimuth=180, distance=0.25)"
   ],
   "metadata": {
    "collapsed": false,
    "pycharm": {
     "name": "#%%\n"
    }
   }
  },
  {
   "cell_type": "code",
   "execution_count": 17,
   "outputs": [
    {
     "ename": "ValueError",
     "evalue": "Forward operator was generated with sources from a volume source space. Conversion to fixed orientation is not possible. Consider using a discrete source space if you have meaningful normal orientations.",
     "output_type": "error",
     "traceback": [
      "\u001B[0;31m---------------------------------------------------------------------------\u001B[0m",
      "\u001B[0;31mValueError\u001B[0m                                Traceback (most recent call last)",
      "Input \u001B[0;32mIn [17]\u001B[0m, in \u001B[0;36m<cell line: 1>\u001B[0;34m()\u001B[0m\n\u001B[0;32m----> 1\u001B[0m fwd_fixed \u001B[38;5;241m=\u001B[39m \u001B[43mmne\u001B[49m\u001B[38;5;241;43m.\u001B[39;49m\u001B[43mconvert_forward_solution\u001B[49m\u001B[43m(\u001B[49m\u001B[43mfwd\u001B[49m\u001B[43m,\u001B[49m\u001B[43m \u001B[49m\u001B[43msurf_ori\u001B[49m\u001B[38;5;241;43m=\u001B[39;49m\u001B[38;5;28;43;01mTrue\u001B[39;49;00m\u001B[43m,\u001B[49m\u001B[43m \u001B[49m\u001B[43mforce_fixed\u001B[49m\u001B[38;5;241;43m=\u001B[39;49m\u001B[38;5;28;43;01mTrue\u001B[39;49;00m\u001B[43m,\u001B[49m\n\u001B[1;32m      2\u001B[0m \u001B[43m                                         \u001B[49m\u001B[43muse_cps\u001B[49m\u001B[38;5;241;43m=\u001B[39;49m\u001B[38;5;28;43;01mTrue\u001B[39;49;00m\u001B[43m)\u001B[49m\n",
      "File \u001B[0;32m<decorator-gen-350>:12\u001B[0m, in \u001B[0;36mconvert_forward_solution\u001B[0;34m(fwd, surf_ori, force_fixed, copy, use_cps, verbose)\u001B[0m\n",
      "File \u001B[0;32m~/anaconda3/envs/mne/lib/python3.10/site-packages/mne/forward/forward.py:615\u001B[0m, in \u001B[0;36mconvert_forward_solution\u001B[0;34m(fwd, surf_ori, force_fixed, copy, use_cps, verbose)\u001B[0m\n\u001B[1;32m    612\u001B[0m     surf_ori \u001B[38;5;241m=\u001B[39m \u001B[38;5;28;01mTrue\u001B[39;00m\n\u001B[1;32m    614\u001B[0m \u001B[38;5;28;01mif\u001B[39;00m \u001B[38;5;28many\u001B[39m([src[\u001B[38;5;124m'\u001B[39m\u001B[38;5;124mtype\u001B[39m\u001B[38;5;124m'\u001B[39m] \u001B[38;5;241m==\u001B[39m \u001B[38;5;124m'\u001B[39m\u001B[38;5;124mvol\u001B[39m\u001B[38;5;124m'\u001B[39m \u001B[38;5;28;01mfor\u001B[39;00m src \u001B[38;5;129;01min\u001B[39;00m fwd[\u001B[38;5;124m'\u001B[39m\u001B[38;5;124msrc\u001B[39m\u001B[38;5;124m'\u001B[39m]]) \u001B[38;5;129;01mand\u001B[39;00m force_fixed:\n\u001B[0;32m--> 615\u001B[0m     \u001B[38;5;28;01mraise\u001B[39;00m \u001B[38;5;167;01mValueError\u001B[39;00m(\n\u001B[1;32m    616\u001B[0m         \u001B[38;5;124m'\u001B[39m\u001B[38;5;124mForward operator was generated with sources from a \u001B[39m\u001B[38;5;124m'\u001B[39m\n\u001B[1;32m    617\u001B[0m         \u001B[38;5;124m'\u001B[39m\u001B[38;5;124mvolume source space. Conversion to fixed orientation is not \u001B[39m\u001B[38;5;124m'\u001B[39m\n\u001B[1;32m    618\u001B[0m         \u001B[38;5;124m'\u001B[39m\u001B[38;5;124mpossible. Consider using a discrete source space if you have \u001B[39m\u001B[38;5;124m'\u001B[39m\n\u001B[1;32m    619\u001B[0m         \u001B[38;5;124m'\u001B[39m\u001B[38;5;124mmeaningful normal orientations.\u001B[39m\u001B[38;5;124m'\u001B[39m)\n\u001B[1;32m    621\u001B[0m \u001B[38;5;28;01mif\u001B[39;00m surf_ori \u001B[38;5;129;01mand\u001B[39;00m use_cps:\n\u001B[1;32m    622\u001B[0m     \u001B[38;5;28;01mif\u001B[39;00m \u001B[38;5;28many\u001B[39m(s\u001B[38;5;241m.\u001B[39mget(\u001B[38;5;124m'\u001B[39m\u001B[38;5;124mpatch_inds\u001B[39m\u001B[38;5;124m'\u001B[39m) \u001B[38;5;129;01mis\u001B[39;00m \u001B[38;5;129;01mnot\u001B[39;00m \u001B[38;5;28;01mNone\u001B[39;00m \u001B[38;5;28;01mfor\u001B[39;00m s \u001B[38;5;129;01min\u001B[39;00m fwd[\u001B[38;5;124m'\u001B[39m\u001B[38;5;124msrc\u001B[39m\u001B[38;5;124m'\u001B[39m]):\n",
      "\u001B[0;31mValueError\u001B[0m: Forward operator was generated with sources from a volume source space. Conversion to fixed orientation is not possible. Consider using a discrete source space if you have meaningful normal orientations."
     ]
    }
   ],
   "source": [
    "fwd_fixed = mne.convert_forward_solution(fwd, surf_ori=True, force_fixed=True,\n",
    "                                         use_cps=True)"
   ],
   "metadata": {
    "collapsed": false,
    "pycharm": {
     "name": "#%%\n"
    }
   }
  },
  {
   "cell_type": "code",
   "execution_count": 11,
   "outputs": [],
   "source": [
    "hem = forward_solution['src'][0]  # Visualize the left hemisphere\n",
    "verts = hem['rr']  # The vertices of the source space\n",
    "tris = hem['tris']  # Groups of three vertices that form triangles\n",
    "dip_pos = hem['rr'][hem['vertno']]  # The position of the dipoles\n",
    "dip_ori = hem['nn'][hem['vertno']]\n",
    "dip_len = len(dip_pos)\n",
    "dip_times = [0]\n",
    "white = (1.0, 1.0, 1.0)  # RGB values for a white color\n",
    "\n",
    "actual_amp = np.ones(dip_len)  # misc amp to create Dipole instance\n",
    "actual_gof = np.ones(dip_len)  # misc GOF to create Dipole instance\n",
    "dipoles = mne.Dipole(dip_times, dip_pos, actual_amp, dip_ori, actual_gof)"
   ],
   "metadata": {
    "collapsed": false,
    "pycharm": {
     "name": "#%%\n"
    }
   }
  },
  {
   "cell_type": "code",
   "execution_count": 12,
   "outputs": [],
   "source": [
    "fig = mne.viz.create_3d_figure(size=(600, 400), bgcolor=white)\n",
    "coord_frame = 'mri'\n",
    "\n",
    "# Plot the cortex\n",
    "mne.viz.plot_alignment(\n",
    "    subject=subject, subjects_dir=subject_dir, trans=trans, surfaces='white',\n",
    "    coord_frame=coord_frame, fig=fig)\n",
    "\n",
    "# Mark the position of the dipoles with small red dots\n",
    "mne.viz.plot_dipole_locations(\n",
    "    dipoles=dipoles, trans=trans, mode='sphere', subject=subject,\n",
    "    subjects_dir=subject_dir, coord_frame=coord_frame, scale=7e-4, fig=fig)\n",
    "\n",
    "mne.viz.set_3d_view(figure=fig, azimuth=180, distance=0.25)"
   ],
   "metadata": {
    "collapsed": false,
    "pycharm": {
     "name": "#%%\n"
    }
   }
  },
  {
   "cell_type": "code",
   "execution_count": 13,
   "outputs": [
    {
     "name": "stdout",
     "output_type": "stream",
     "text": [
      "    No patch info available. The standard source space normals will be employed in the rotation to the local surface coordinates....\n",
      "    Converting to surface-based source orientations...\n",
      "    [done]\n"
     ]
    },
    {
     "data": {
      "text/plain": "<Forward | MEG channels: 0 | EEG channels: 94 | Source space: Volume with 14629 grid points | Source orientation: Free>",
      "text/html": "<table class=\"table table-hover table-striped table-sm table-responsive small\">\n    <tr>\n        <th>Good channels</th>\n        <td>94 EEG</td>\n    </tr>\n    <tr>\n        <th>Bad channels</th>\n        <td>None</td>\n    </tr>\n    <tr>\n        <th>Source space</th>\n        <td>Volume with 14629 grid points</td>\n    </tr>\n    <tr>\n        <th>Source orientation</th>\n        <td>Free</td>\n    </tr>\n</table>"
     },
     "execution_count": 13,
     "metadata": {},
     "output_type": "execute_result"
    }
   ],
   "source": [
    "mne.convert_forward_solution(forward_solution, surf_ori=True, copy=False)"
   ],
   "metadata": {
    "collapsed": false,
    "pycharm": {
     "name": "#%%\n"
    }
   }
  },
  {
   "cell_type": "code",
   "execution_count": 14,
   "outputs": [],
   "source": [
    "fig = mne.viz.create_3d_figure(size=(600, 400), bgcolor=white)\n",
    "coord_frame = 'mri'\n",
    "\n",
    "# Plot the cortex\n",
    "mne.viz.plot_alignment(\n",
    "    subject=subject, subjects_dir=subject_dir, trans=trans, surfaces='white',\n",
    "    coord_frame=coord_frame, fig=fig)\n",
    "\n",
    "# Mark the position of the dipoles with small red dots\n",
    "mne.viz.plot_dipole_locations(\n",
    "    dipoles=dipoles, trans=trans, mode='sphere', subject=subject,\n",
    "    subjects_dir=subject_dir, coord_frame=coord_frame, scale=7e-4, fig=fig)\n",
    "\n",
    "mne.viz.set_3d_view(figure=fig, azimuth=180, distance=0.25)"
   ],
   "metadata": {
    "collapsed": false,
    "pycharm": {
     "name": "#%%\n"
    }
   }
  },
  {
   "cell_type": "code",
   "execution_count": 15,
   "outputs": [],
   "source": [
    "fig = mne.viz.create_3d_figure(size=(600, 400))\n",
    "\n",
    "# Plot the cortex\n",
    "mne.viz.plot_alignment(\n",
    "    subject=subject, subjects_dir=subject_dir, trans=trans,\n",
    "    surfaces='white', coord_frame='head', fig=fig)\n",
    "\n",
    "# Show the dipoles as arrows pointing along the surface normal\n",
    "mne.viz.plot_dipole_locations(\n",
    "    dipoles=dipoles, trans=trans, mode='arrow', subject=subject,\n",
    "    subjects_dir=subject_dir, coord_frame='head', scale=7e-4, fig=fig)\n",
    "\n",
    "mne.viz.set_3d_view(figure=fig, azimuth=180, distance=0.25)"
   ],
   "metadata": {
    "collapsed": false,
    "pycharm": {
     "name": "#%%\n"
    }
   }
  },
  {
   "cell_type": "code",
   "execution_count": null,
   "outputs": [],
   "source": [],
   "metadata": {
    "collapsed": false,
    "pycharm": {
     "name": "#%%\n"
    }
   }
  }
 ],
 "metadata": {
  "kernelspec": {
   "display_name": "Python 3",
   "language": "python",
   "name": "python3"
  },
  "language_info": {
   "codemirror_mode": {
    "name": "ipython",
    "version": 2
   },
   "file_extension": ".py",
   "mimetype": "text/x-python",
   "name": "python",
   "nbconvert_exporter": "python",
   "pygments_lexer": "ipython2",
   "version": "2.7.6"
  }
 },
 "nbformat": 4,
 "nbformat_minor": 0
}