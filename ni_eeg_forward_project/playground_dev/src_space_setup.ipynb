{
 "cells": [
  {
   "cell_type": "code",
   "execution_count": 3,
   "outputs": [],
   "source": [
    "import mne\n",
    "import os.path as op"
   ],
   "metadata": {
    "collapsed": false,
    "pycharm": {
     "name": "#%%\n"
    }
   }
  },
  {
   "cell_type": "code",
   "execution_count": 8,
   "outputs": [
    {
     "name": "stdout",
     "output_type": "stream",
     "text": [
      "Creating the BEM geometry...\n",
      "Going from 5th to 4th subdivision of an icosahedron (n_tri: 20480 -> 5120)\n",
      "Going from 5th to 4th subdivision of an icosahedron (n_tri: 20480 -> 5120)\n",
      "Going from 5th to 4th subdivision of an icosahedron (n_tri: 20480 -> 5120)\n",
      "outer skin  CM is  -0.21 -19.38  -0.23 mm\n",
      "outer skull CM is  -0.19 -19.34  -0.49 mm\n",
      "inner skull CM is  -0.53 -21.10   6.21 mm\n",
      "Checking that surface outer skull is inside surface outer skin  ...\n",
      "Checking that surface inner skull is inside surface outer skull ...\n",
      "Checking distance between outer skin  and outer skull surfaces...\n",
      "Minimum distance between the outer skin  and outer skull surfaces is approximately    1.6 mm\n",
      "Checking distance between outer skull and inner skull surfaces...\n",
      "Minimum distance between the outer skull and inner skull surfaces is approximately    5.4 mm\n",
      "Surfaces passed the basic topology checks.\n",
      "Complete.\n",
      "\n"
     ]
    }
   ],
   "source": [
    "fs_dir = \"/Users/martin/mne_data/MNE-fsaverage-data/\"\n",
    "subject_dir = op.dirname(fs_dir)\n",
    "\n",
    "subject = 'fsaverage'\n",
    "trans = 'fsaverage'\n",
    "\n",
    "bem = mne.make_bem_model(subject=subject, ico=4, conductivity=(0.3, 0.006, 0.3), subjects_dir=subject_dir)"
   ],
   "metadata": {
    "collapsed": false,
    "pycharm": {
     "name": "#%%\n"
    }
   }
  },
  {
   "cell_type": "code",
   "execution_count": 9,
   "outputs": [
    {
     "name": "stdout",
     "output_type": "stream",
     "text": [
      "BEM              : [{'id': 4 (FIFFV_BEM_SURF_ID_HEAD), 'sigma': 0.3, 'np': 2562, 'ntri': 5120, 'coord_frame': array([5], dtype=int32), 'rr': array([[-0.00068346, -0.01882163,  0.10461564],\n",
      "       [ 0.08009633, -0.01958038,  0.0450012 ],\n",
      "       [ 0.02804125,  0.06877493,  0.05146368],\n",
      "       ...,\n",
      "       [ 0.00852466, -0.00588305, -0.1138233 ],\n",
      "       [ 0.00059764, -0.00384352, -0.11201793],\n",
      "       [ 0.00234657, -0.01132973, -0.11376013]]), 'nn': array([[-1.41976393e-05,  1.38905590e-18,  1.00000000e+00],\n",
      "       [ 8.94547443e-01,  0.00000000e+00,  4.46973010e-01],\n",
      "       [ 2.76442723e-01,  8.50701266e-01,  4.47086991e-01],\n",
      "       ...,\n",
      "       [ 9.06305003e-02,  1.47212416e-01, -9.84943966e-01],\n",
      "       [ 1.32152692e-02,  1.72348009e-01, -9.84947471e-01],\n",
      "       [ 3.46996163e-02,  1.06791635e-01, -9.93675744e-01]]), 'tris': array([[   0,  644,  642],\n",
      "       [ 642,  643,  162],\n",
      "       [ 644,  643,  642],\n",
      "       ...,\n",
      "       [2561, 2201,  557],\n",
      "       [2477, 2201, 2561],\n",
      "       [2477,   11, 2201]], dtype=int32)}, {'id': 3 (FIFFV_BEM_SURF_ID_SKULL), 'sigma': 0.006, 'np': 2562, 'ntri': 5120, 'coord_frame': array([5], dtype=int32), 'rr': array([[-0.00070637, -0.01912998,  0.10140578],\n",
      "       [ 0.07706627, -0.01978683,  0.04415165],\n",
      "       [ 0.02679956,  0.06641159,  0.04970913],\n",
      "       ...,\n",
      "       [ 0.00909784, -0.00737594, -0.11089429],\n",
      "       [ 0.00031988, -0.00513551, -0.10958345],\n",
      "       [ 0.0023477 , -0.01200624, -0.11187114]]), 'nn': array([[-1.41976393e-05,  1.38905590e-18,  1.00000000e+00],\n",
      "       [ 8.94547443e-01,  0.00000000e+00,  4.46973010e-01],\n",
      "       [ 2.76442723e-01,  8.50701266e-01,  4.47086991e-01],\n",
      "       ...,\n",
      "       [ 9.06305003e-02,  1.47212416e-01, -9.84943966e-01],\n",
      "       [ 1.32152692e-02,  1.72348009e-01, -9.84947471e-01],\n",
      "       [ 3.46996163e-02,  1.06791635e-01, -9.93675744e-01]]), 'tris': array([[   0,  644,  642],\n",
      "       [ 642,  643,  162],\n",
      "       [ 644,  643,  642],\n",
      "       ...,\n",
      "       [2561, 2201,  557],\n",
      "       [2477, 2201, 2561],\n",
      "       [2477,   11, 2201]], dtype=int32)}, {'id': 1 (FIFFV_BEM_SURF_ID_BRAIN), 'sigma': 0.3, 'np': 2562, 'ntri': 5120, 'coord_frame': array([5], dtype=int32), 'rr': array([[-0.00248716, -0.01648572,  0.08688239],\n",
      "       [ 0.06966209, -0.01888301,  0.03921568],\n",
      "       [ 0.02055621,  0.05789895,  0.04185514],\n",
      "       ...,\n",
      "       [ 0.00370861, -0.01299849, -0.0432465 ],\n",
      "       [-0.00042802, -0.01199372, -0.04235099],\n",
      "       [ 0.00038909, -0.01538161, -0.0458611 ]]), 'nn': array([[-1.41976393e-05,  1.38905590e-18,  1.00000000e+00],\n",
      "       [ 8.94547443e-01,  0.00000000e+00,  4.46973010e-01],\n",
      "       [ 2.76442723e-01,  8.50701266e-01,  4.47086991e-01],\n",
      "       ...,\n",
      "       [ 9.06305003e-02,  1.47212416e-01, -9.84943966e-01],\n",
      "       [ 1.32152692e-02,  1.72348009e-01, -9.84947471e-01],\n",
      "       [ 3.46996163e-02,  1.06791635e-01, -9.93675744e-01]]), 'tris': array([[   0,  644,  642],\n",
      "       [ 642,  643,  162],\n",
      "       [ 644,  643,  642],\n",
      "       ...,\n",
      "       [2561, 2201,  557],\n",
      "       [2477, 2201, 2561],\n",
      "       [2477,   11, 2201]], dtype=int32)}]\n",
      "grid                  : 5.0 mm\n",
      "mindist               : 5.0 mm\n",
      "MRI volume            : /Users/martin/mne_data/MNE-fsaverage-data/fsaverage/mri/T1.mgz\n",
      "\n",
      "Reading /Users/martin/mne_data/MNE-fsaverage-data/fsaverage/mri/T1.mgz...\n",
      "\n"
     ]
    },
    {
     "ename": "AttributeError",
     "evalue": "'list' object has no attribute 'get'",
     "output_type": "error",
     "traceback": [
      "\u001B[0;31m---------------------------------------------------------------------------\u001B[0m",
      "\u001B[0;31mAttributeError\u001B[0m                            Traceback (most recent call last)",
      "Input \u001B[0;32mIn [9]\u001B[0m, in \u001B[0;36m<cell line: 1>\u001B[0;34m()\u001B[0m\n\u001B[0;32m----> 1\u001B[0m src \u001B[38;5;241m=\u001B[39m \u001B[43mmne\u001B[49m\u001B[38;5;241;43m.\u001B[39;49m\u001B[43msetup_volume_source_space\u001B[49m\u001B[43m(\u001B[49m\u001B[43msubject\u001B[49m\u001B[38;5;241;43m=\u001B[39;49m\u001B[43msubject\u001B[49m\u001B[43m,\u001B[49m\u001B[43m \u001B[49m\u001B[43mbem\u001B[49m\u001B[38;5;241;43m=\u001B[39;49m\u001B[43mbem\u001B[49m\u001B[43m,\u001B[49m\u001B[43m \u001B[49m\u001B[43msubjects_dir\u001B[49m\u001B[38;5;241;43m=\u001B[39;49m\u001B[43msubject_dir\u001B[49m\u001B[43m,\u001B[49m\u001B[43m \u001B[49m\u001B[43madd_interpolator\u001B[49m\u001B[38;5;241;43m=\u001B[39;49m\u001B[38;5;28;43;01mFalse\u001B[39;49;00m\u001B[43m)\u001B[49m\n",
      "File \u001B[0;32m<decorator-gen-146>:12\u001B[0m, in \u001B[0;36msetup_volume_source_space\u001B[0;34m(subject, pos, mri, sphere, bem, surface, mindist, exclude, subjects_dir, volume_label, add_interpolator, sphere_units, single_volume, verbose)\u001B[0m\n",
      "File \u001B[0;32m~/anaconda3/envs/mne/lib/python3.10/site-packages/mne/source_space.py:1545\u001B[0m, in \u001B[0;36msetup_volume_source_space\u001B[0;34m(subject, pos, mri, sphere, bem, surface, mindist, exclude, subjects_dir, volume_label, add_interpolator, sphere_units, single_volume, verbose)\u001B[0m\n\u001B[1;32m   1541\u001B[0m     surf \u001B[38;5;241m=\u001B[39m read_bem_surfaces(bem, s_id\u001B[38;5;241m=\u001B[39mFIFF\u001B[38;5;241m.\u001B[39mFIFFV_BEM_SURF_ID_BRAIN,\n\u001B[1;32m   1542\u001B[0m                              verbose\u001B[38;5;241m=\u001B[39m\u001B[38;5;28;01mFalse\u001B[39;00m)\n\u001B[1;32m   1543\u001B[0m     logger\u001B[38;5;241m.\u001B[39minfo(\u001B[38;5;124m'\u001B[39m\u001B[38;5;124mLoaded inner skull from \u001B[39m\u001B[38;5;132;01m%s\u001B[39;00m\u001B[38;5;124m (\u001B[39m\u001B[38;5;132;01m%d\u001B[39;00m\u001B[38;5;124m nodes)\u001B[39m\u001B[38;5;124m'\u001B[39m\n\u001B[1;32m   1544\u001B[0m                 \u001B[38;5;241m%\u001B[39m (bem, surf[\u001B[38;5;124m'\u001B[39m\u001B[38;5;124mnp\u001B[39m\u001B[38;5;124m'\u001B[39m]))\n\u001B[0;32m-> 1545\u001B[0m \u001B[38;5;28;01melif\u001B[39;00m bem \u001B[38;5;129;01mis\u001B[39;00m \u001B[38;5;129;01mnot\u001B[39;00m \u001B[38;5;28;01mNone\u001B[39;00m \u001B[38;5;129;01mand\u001B[39;00m \u001B[43mbem\u001B[49m\u001B[38;5;241;43m.\u001B[39;49m\u001B[43mget\u001B[49m(\u001B[38;5;124m'\u001B[39m\u001B[38;5;124mis_sphere\u001B[39m\u001B[38;5;124m'\u001B[39m) \u001B[38;5;129;01mis\u001B[39;00m \u001B[38;5;28;01mFalse\u001B[39;00m:\n\u001B[1;32m   1546\u001B[0m     \u001B[38;5;66;03m# read bem surface in the MRI coordinate frame\u001B[39;00m\n\u001B[1;32m   1547\u001B[0m     which \u001B[38;5;241m=\u001B[39m np\u001B[38;5;241m.\u001B[39mwhere([surf[\u001B[38;5;124m'\u001B[39m\u001B[38;5;124mid\u001B[39m\u001B[38;5;124m'\u001B[39m] \u001B[38;5;241m==\u001B[39m FIFF\u001B[38;5;241m.\u001B[39mFIFFV_BEM_SURF_ID_BRAIN\n\u001B[1;32m   1548\u001B[0m                       \u001B[38;5;28;01mfor\u001B[39;00m surf \u001B[38;5;129;01min\u001B[39;00m bem[\u001B[38;5;124m'\u001B[39m\u001B[38;5;124msurfs\u001B[39m\u001B[38;5;124m'\u001B[39m]])[\u001B[38;5;241m0\u001B[39m]\n\u001B[1;32m   1549\u001B[0m     \u001B[38;5;28;01mif\u001B[39;00m \u001B[38;5;28mlen\u001B[39m(which) \u001B[38;5;241m!=\u001B[39m \u001B[38;5;241m1\u001B[39m:\n",
      "\u001B[0;31mAttributeError\u001B[0m: 'list' object has no attribute 'get'"
     ]
    }
   ],
   "source": [
    "src = mne.setup_volume_source_space(subject=subject, bem=bem, subjects_dir=subject_dir, add_interpolator=False)"
   ],
   "metadata": {
    "collapsed": false,
    "pycharm": {
     "name": "#%%\n"
    }
   }
  },
  {
   "cell_type": "code",
   "execution_count": null,
   "outputs": [],
   "source": [],
   "metadata": {
    "collapsed": false,
    "pycharm": {
     "name": "#%%\n"
    }
   }
  }
 ],
 "metadata": {
  "kernelspec": {
   "display_name": "Python 3",
   "language": "python",
   "name": "python3"
  },
  "language_info": {
   "codemirror_mode": {
    "name": "ipython",
    "version": 2
   },
   "file_extension": ".py",
   "mimetype": "text/x-python",
   "name": "python",
   "nbconvert_exporter": "python",
   "pygments_lexer": "ipython2",
   "version": "2.7.6"
  }
 },
 "nbformat": 4,
 "nbformat_minor": 0
}