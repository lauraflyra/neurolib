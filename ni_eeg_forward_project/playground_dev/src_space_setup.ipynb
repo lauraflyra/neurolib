{
 "cells": [
  {
   "cell_type": "code",
   "execution_count": 1,
   "outputs": [],
   "source": [
    "import mne\n",
    "import os.path as op"
   ],
   "metadata": {
    "collapsed": false,
    "pycharm": {
     "name": "#%%\n"
    }
   }
  },
  {
   "cell_type": "code",
   "execution_count": 5,
   "outputs": [
    {
     "name": "stdout",
     "output_type": "stream",
     "text": [
      "Creating the BEM geometry...\n",
      "Going from 5th to 4th subdivision of an icosahedron (n_tri: 20480 -> 5120)\n",
      "Going from 5th to 4th subdivision of an icosahedron (n_tri: 20480 -> 5120)\n",
      "Going from 5th to 4th subdivision of an icosahedron (n_tri: 20480 -> 5120)\n",
      "outer skin  CM is  -0.21 -19.38  -0.23 mm\n",
      "outer skull CM is  -0.19 -19.34  -0.49 mm\n",
      "inner skull CM is  -0.53 -21.10   6.21 mm\n",
      "Checking that surface outer skull is inside surface outer skin  ...\n",
      "Checking that surface inner skull is inside surface outer skull ...\n",
      "Checking distance between outer skin  and outer skull surfaces...\n",
      "Minimum distance between the outer skin  and outer skull surfaces is approximately    1.6 mm\n",
      "Checking distance between outer skull and inner skull surfaces...\n",
      "Minimum distance between the outer skull and inner skull surfaces is approximately    5.4 mm\n",
      "Surfaces passed the basic topology checks.\n",
      "Complete.\n",
      "\n",
      "Approximation method : Linear collocation\n",
      "\n",
      "Three-layer model surfaces loaded.\n",
      "Computing the linear collocation solution...\n",
      "    Matrix coefficients...\n",
      "        outer skin  (2562) -> outer skin  (2562) ...\n",
      "        outer skin  (2562) -> outer skull (2562) ...\n",
      "        outer skin  (2562) -> inner skull (2562) ...\n",
      "        outer skull (2562) -> outer skin  (2562) ...\n",
      "        outer skull (2562) -> outer skull (2562) ...\n",
      "        outer skull (2562) -> inner skull (2562) ...\n",
      "        inner skull (2562) -> outer skin  (2562) ...\n",
      "        inner skull (2562) -> outer skull (2562) ...\n",
      "        inner skull (2562) -> inner skull (2562) ...\n",
      "    Inverting the coefficient matrix...\n",
      "IP approach required...\n",
      "    Matrix coefficients (homog)...\n",
      "        inner skull (2562) -> inner skull (2562) ...\n",
      "    Inverting the coefficient matrix (homog)...\n",
      "    Modify the original solution to incorporate IP approach...\n",
      "        Combining...\n",
      "        Scaling...\n",
      "Solution ready.\n",
      "BEM geometry computations complete.\n"
     ]
    }
   ],
   "source": [
    "fs_dir = \"/home/lauraflyra/Documents/BCCN/NI_project/MNE-fsaverage-data/\"\n",
    "subject_dir = op.dirname(fs_dir)\n",
    "\n",
    "subject = 'fsaverage'\n",
    "trans = 'fsaverage'\n",
    "\n",
    "model = mne.make_bem_model(subject=subject, ico=4, conductivity=(0.3, 0.006, 0.3), subjects_dir=subject_dir)\n",
    "bem = mne.make_bem_solution(model)"
   ],
   "metadata": {
    "collapsed": false,
    "pycharm": {
     "name": "#%%\n"
    }
   }
  },
  {
   "cell_type": "code",
   "execution_count": 6,
   "outputs": [
    {
     "name": "stdout",
     "output_type": "stream",
     "text": [
      "BEM              : <ConductorModel | BEM (3 layers)>\n",
      "grid                  : 5.0 mm\n",
      "mindist               : 5.0 mm\n",
      "MRI volume            : /home/lauraflyra/Documents/BCCN/NI_project/MNE-fsaverage-data/fsaverage/mri/T1.mgz\n",
      "\n",
      "Reading /home/lauraflyra/Documents/BCCN/NI_project/MNE-fsaverage-data/fsaverage/mri/T1.mgz...\n",
      "\n",
      "Taking inner skull from <ConductorModel | BEM (3 layers)>\n",
      "Surface CM = (  -0.5  -21.1    6.2) mm\n",
      "Surface fits inside a sphere with radius   98.3 mm\n",
      "Surface extent:\n",
      "    x =  -75.2 ...   76.3 mm\n",
      "    y = -113.3 ...   75.0 mm\n",
      "    z =  -71.7 ...   88.2 mm\n",
      "Grid extent:\n",
      "    x =  -80.0 ...   80.0 mm\n",
      "    y = -115.0 ...   75.0 mm\n",
      "    z =  -75.0 ...   90.0 mm\n",
      "43758 sources before omitting any.\n",
      "29824 sources after omitting infeasible sources not within 0.0 - 98.3 mm.\n",
      "Source spaces are in MRI coordinates.\n",
      "Checking that the sources are inside the surface and at least    5.0 mm away (will take a few...)\n",
      "Checking surface interior status for 29824 points...\n",
      "    Found  3653/29824 points inside  an interior sphere of radius   47.7 mm\n",
      "    Found     0/29824 points outside an exterior sphere of radius   98.3 mm\n",
      "    Found 11570/26171 points outside using surface Qhull\n",
      "    Found   795/14601 points outside using solid angles\n",
      "    Total 17459/29824 points inside the surface\n",
      "Interior check completed in 5935.0 ms\n",
      "    12365 source space points omitted because they are outside the inner skull surface.\n",
      "    2830 source space points omitted because of the    5.0-mm distance limit.\n",
      "14629 sources remaining after excluding the sources outside the surface and less than    5.0 mm inside.\n",
      "Adjusting the neighborhood info.\n",
      "Source space : MRI voxel -> MRI (surface RAS)\n",
      "     0.005000  0.000000  0.000000     -80.00 mm\n",
      "     0.000000  0.005000  0.000000    -115.00 mm\n",
      "     0.000000  0.000000  0.005000     -75.00 mm\n",
      "     0.000000  0.000000  0.000000       1.00\n",
      "MRI volume : MRI voxel -> MRI (surface RAS)\n",
      "    -0.001000  0.000000  0.000000     128.00 mm\n",
      "     0.000000  0.000000  0.001000    -128.00 mm\n",
      "     0.000000 -0.001000  0.000000     128.00 mm\n",
      "     0.000000  0.000000  0.000000       1.00\n",
      "MRI volume : MRI (surface RAS) -> RAS (non-zero origin)\n",
      "     1.000000  0.000000  0.000000       0.00 mm\n",
      "     0.000000  1.000000  0.000000       0.00 mm\n",
      "     0.000000  0.000000  1.000000       0.00 mm\n",
      "     0.000000  0.000000  0.000000       1.00\n"
     ]
    }
   ],
   "source": [
    "src = mne.setup_volume_source_space(subject=subject, bem=bem, subjects_dir=subject_dir, add_interpolator=False)"
   ],
   "metadata": {
    "collapsed": false,
    "pycharm": {
     "name": "#%%\n"
    }
   }
  },
  {
   "cell_type": "code",
   "execution_count": null,
   "outputs": [],
   "source": [],
   "metadata": {
    "collapsed": false,
    "pycharm": {
     "name": "#%%\n"
    }
   }
  }
 ],
 "metadata": {
  "kernelspec": {
   "display_name": "Python 3",
   "language": "python",
   "name": "python3"
  },
  "language_info": {
   "codemirror_mode": {
    "name": "ipython",
    "version": 2
   },
   "file_extension": ".py",
   "mimetype": "text/x-python",
   "name": "python",
   "nbconvert_exporter": "python",
   "pygments_lexer": "ipython2",
   "version": "2.7.6"
  }
 },
 "nbformat": 4,
 "nbformat_minor": 0
}