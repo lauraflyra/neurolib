{
 "cells": [
  {
   "cell_type": "code",
   "execution_count": 1,
   "outputs": [],
   "source": [
    "import mne\n",
    "from ni_eeg_forward_project.util import get_labels_of_points, downsample_leadfield_matrix\n",
    "import numpy as np"
   ],
   "metadata": {
    "collapsed": false,
    "pycharm": {
     "name": "#%%\n"
    }
   }
  },
  {
   "cell_type": "code",
   "execution_count": 2,
   "outputs": [
    {
     "name": "stdout",
     "output_type": "stream",
     "text": [
      "Reading forward solution from /Users/martin/Documents/Uni_MSc/Semester04/ni_project/neurolib/ni_eeg_forward_project/playground_dev/../../neurolib/data/datasets/eeg_fsaverage/fsaverage_fwd_sol/fsaverage_surface_src_fixed_orientation-fwd.fif...\n",
      "    Reading a source space...\n",
      "    Computing patch statistics...\n",
      "    Patch information added...\n",
      "    [done]\n",
      "    Reading a source space...\n",
      "    Computing patch statistics...\n",
      "    Patch information added...\n",
      "    [done]\n",
      "    2 source spaces read\n",
      "    Desired named matrix (kind = 3523) not available\n",
      "    Read EEG forward solution (8196 sources, 94 channels, free orientations)\n",
      "    Source spaces transformed to the forward solution coordinate frame\n",
      "    Average patch normals will be employed in the rotation to the local surface coordinates....\n",
      "    Converting to surface-based source orientations...\n",
      "    [done]\n"
     ]
    }
   ],
   "source": [
    "fwd = mne.read_forward_solution(\"../../neurolib/data/datasets/eeg_fsaverage/fsaverage_fwd_sol/fsaverage_surface_src_fixed_orientation-fwd.fif\")\n",
    "\n",
    "fwd_fixed = mne.convert_forward_solution(fwd, surf_ori=True, force_fixed=True,\n",
    "                                         use_cps=True)"
   ],
   "metadata": {
    "collapsed": false,
    "pycharm": {
     "name": "#%%\n"
    }
   }
  },
  {
   "cell_type": "code",
   "execution_count": 35,
   "outputs": [],
   "source": [
    "if len(fwd_fixed[\"src\"]) == 2:\n",
    "\n",
    "    # 0 is left, 1 is right hemisphere\n",
    "    lh = fwd_fixed['src'][0]\n",
    "    dip_pos_lh = np.vstack(lh['rr'][lh['vertno']])\n",
    "    rh = fwd_fixed['src'][1]\n",
    "    dip_pos_rh = np.vstack(rh['rr'][rh['vertno']])\n",
    "\n",
    "    if dip_pos_lh.shape != dip_pos_rh.shape:\n",
    "        raise ValueError(\"Hemispheres ...\")\n",
    "\n",
    "    dip_pos = np.vstack((dip_pos_lh, dip_pos_rh))\n",
    "else:\n",
    "    raise ValueError(\"Other format than expected for a surface source space for whole brain.\")"
   ],
   "metadata": {
    "collapsed": false,
    "pycharm": {
     "name": "#%%\n"
    }
   }
  },
  {
   "cell_type": "code",
   "execution_count": 37,
   "outputs": [],
   "source": [
    "trans_fsaverage = mne.read_trans(\"/Users/martin/Documents/Uni_MSc/Semester04/ni_project/neurolib/neurolib/data/datasets/\"\n",
    "                           \"eeg_fsaverage/fsaverage/bem/fsaverage-trans.fif\")\n",
    "dip_pos_mni = mne.head_to_mni(dip_pos, subject=\"fsaverage\", mri_head_t=trans_fsaverage)"
   ],
   "metadata": {
    "collapsed": false,
    "pycharm": {
     "name": "#%%\n"
    }
   }
  },
  {
   "cell_type": "code",
   "execution_count": 43,
   "outputs": [],
   "source": [
    "leadfield = fwd_fixed['sol']['data']\n",
    "\n",
    "assert leadfield.shape[1] == dip_pos_mni.shape[0]"
   ],
   "metadata": {
    "collapsed": false,
    "pycharm": {
     "name": "#%%\n"
    }
   }
  },
  {
   "cell_type": "code",
   "execution_count": 45,
   "outputs": [],
   "source": [
    "points_found, label_codes, label_strings = get_labels_of_points(dip_pos_mni, atlas=\"aal2\")"
   ],
   "metadata": {
    "collapsed": false,
    "pycharm": {
     "name": "#%%\n"
    }
   }
  },
  {
   "cell_type": "code",
   "execution_count": 48,
   "outputs": [
    {
     "ename": "IndexError",
     "evalue": "index 8298 is out of bounds for axis 1 with size 8196",
     "output_type": "error",
     "traceback": [
      "\u001B[0;31m---------------------------------------------------------------------------\u001B[0m",
      "\u001B[0;31mIndexError\u001B[0m                                Traceback (most recent call last)",
      "Input \u001B[0;32mIn [48]\u001B[0m, in \u001B[0;36m<cell line: 1>\u001B[0;34m()\u001B[0m\n\u001B[0;32m----> 1\u001B[0m ds_everything \u001B[38;5;241m=\u001B[39m \u001B[43mdownsample_leadfield_matrix\u001B[49m\u001B[43m(\u001B[49m\u001B[43mleadfield\u001B[49m\u001B[43m,\u001B[49m\u001B[43m \u001B[49m\u001B[43mlabel_codes\u001B[49m\u001B[43m)\u001B[49m\n",
      "File \u001B[0;32m~/Documents/Uni_MSc/Semester04/ni_project/neurolib/ni_eeg_forward_project/util/downsample_leadfield.py:38\u001B[0m, in \u001B[0;36mdownsample_leadfield_matrix\u001B[0;34m(leadfield, label_codes)\u001B[0m\n\u001B[1;32m     34\u001B[0m     \u001B[38;5;66;03m# logging.info(\"\")\u001B[39;00m\n\u001B[1;32m     35\u001B[0m     \u001B[38;5;28;01mreturn\u001B[39;00m unique_labels, x_components\n\u001B[0;32m---> 38\u001B[0m \u001B[38;5;28;01mdef\u001B[39;00m \u001B[38;5;21mdownsample_leadfield_matrix_loose_orientation\u001B[39m(leadfield: np\u001B[38;5;241m.\u001B[39mndarray,\n\u001B[1;32m     39\u001B[0m                                 label_codes: np\u001B[38;5;241m.\u001B[39mndarray) \u001B[38;5;241m-\u001B[39m\u001B[38;5;241m>\u001B[39m \u001B[38;5;28mtuple\u001B[39m[np\u001B[38;5;241m.\u001B[39mndarray, np\u001B[38;5;241m.\u001B[39mndarray, np\u001B[38;5;241m.\u001B[39mndarray, np\u001B[38;5;241m.\u001B[39mndarray]:\n\u001B[1;32m     40\u001B[0m     \u001B[38;5;124;03m\"\"\" Take a leadfield-matrix (that contains three dipoles of perpendicular orientation  for each source position)\u001B[39;00m\n\u001B[1;32m     41\u001B[0m \u001B[38;5;124;03m        and down sample it to an average across all dipoles that fall into a region (for each dipole orientation).\u001B[39;00m\n\u001B[1;32m     42\u001B[0m \n\u001B[0;32m   (...)\u001B[0m\n\u001B[1;32m     47\u001B[0m \u001B[38;5;124;03m        :return :\u001B[39;00m\n\u001B[1;32m     48\u001B[0m \u001B[38;5;124;03m    \"\"\"\u001B[39;00m\n\u001B[1;32m     49\u001B[0m     leadfield_orig_shape \u001B[38;5;241m=\u001B[39m leadfield\u001B[38;5;241m.\u001B[39mshape\n",
      "\u001B[0;31mIndexError\u001B[0m: index 8298 is out of bounds for axis 1 with size 8196"
     ]
    }
   ],
   "source": [
    "ds_everything = downsample_leadfield_matrix(leadfield, label_codes)"
   ],
   "metadata": {
    "collapsed": false,
    "pycharm": {
     "name": "#%%\n"
    }
   }
  },
  {
   "cell_type": "code",
   "execution_count": 52,
   "outputs": [
    {
     "data": {
      "text/plain": "array([   0., 2001., 2002., 2101., 2102., 2201., 2202., 2301., 2302.,\n       2311., 2312., 2321., 2322., 2331., 2332., 2401., 2402., 2501.,\n       2502., 2601., 2602., 2611., 2612., 2701., 2702., 2801., 2802.,\n       2811., 2812., 2821., 2822., 2831., 2832., 3001., 3002., 4001.,\n       4002., 4011., 4012., 4021., 4022., 4101., 4102., 4111., 4112.,\n       4201., 4202., 5001., 5002., 5011., 5012., 5021., 5022., 5101.,\n       5102., 5201., 5202., 5301., 5302., 5401., 5402., 6001., 6002.,\n       6101., 6102., 6201., 6202., 6211., 6212., 6221., 6222., 6301.,\n       6302., 6401., 6402., 7001., 7002., 7012., 7101., 7102., 8101.,\n       8102., 8111., 8112., 8121., 8122., 8201., 8202., 8211., 8212.,\n       8301., 8302., 9032., 9042.])"
     },
     "execution_count": 52,
     "metadata": {},
     "output_type": "execute_result"
    }
   ],
   "source": [
    "np.unique(label_codes)"
   ],
   "metadata": {
    "collapsed": false,
    "pycharm": {
     "name": "#%%\n"
    }
   }
  },
  {
   "cell_type": "code",
   "execution_count": null,
   "outputs": [],
   "source": [],
   "metadata": {
    "collapsed": false,
    "pycharm": {
     "name": "#%%\n"
    }
   }
  }
 ],
 "metadata": {
  "kernelspec": {
   "display_name": "Python 3",
   "language": "python",
   "name": "python3"
  },
  "language_info": {
   "codemirror_mode": {
    "name": "ipython",
    "version": 2
   },
   "file_extension": ".py",
   "mimetype": "text/x-python",
   "name": "python",
   "nbconvert_exporter": "python",
   "pygments_lexer": "ipython2",
   "version": "2.7.6"
  }
 },
 "nbformat": 4,
 "nbformat_minor": 0
}