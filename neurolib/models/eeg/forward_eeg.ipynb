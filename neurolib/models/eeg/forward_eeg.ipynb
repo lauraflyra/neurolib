{
 "cells": [
  {
   "cell_type": "code",
   "execution_count": null,
   "outputs": [],
   "source": [
    "%matplotlib inline"
   ],
   "metadata": {
    "collapsed": false,
    "pycharm": {
     "name": "#%%\n"
    }
   }
  },
  {
   "cell_type": "markdown",
   "metadata": {
    "pycharm": {
     "name": "#%% md\n"
    }
   },
   "source": [
    "\n",
    "\n",
    "# Forward model EEG\n",
    "\n",
    "Forward computation using the fsaverage.\n"
   ]
  },
  {
   "cell_type": "code",
   "execution_count": 6,
   "metadata": {
    "collapsed": false,
    "pycharm": {
     "name": "#%%\n"
    }
   },
   "outputs": [
    {
     "name": "stdout",
     "output_type": "stream",
     "text": [
      "0 files missing from root.txt in /home/lauraflyra/mne_data/MNE-fsaverage-data\n",
      "0 files missing from bem.txt in /home/lauraflyra/mne_data/MNE-fsaverage-data/fsaverage\n"
     ]
    }
   ],
   "source": [
    "import os.path as op\n",
    "import numpy as np\n",
    "import mne\n",
    "#from mne.datasets import sample\n",
    "#data_path = sample.data_path()\n",
    "from mne.datasets import eegbci\n",
    "from mne.datasets import fetch_fsaverage\n",
    "\n",
    "# FROM MEG EXAMPLE\n",
    "# the raw file containing the channel location + types\n",
    "    # sample_dir = op.join(data_path, 'MEG', 'sample',)\n",
    "    # raw_fname = op.join(sample_dir, 'sample_audvis_raw.fif')\n",
    "# The paths to Freesurfer reconstructions\n",
    "    # subjects_dir = op.join(data_path, 'subjects')\n",
    "    # subject = 'sample'\n",
    "\n",
    "\n",
    "# FROM FSAVERAGE EXAMPLE\n",
    "# Download fsaverage files\n",
    "fs_dir = fetch_fsaverage(verbose=True)\n",
    "subjects_dir = op.dirname(fs_dir)\n",
    "\n",
    "# The files live in:\n",
    "subject = 'fsaverage'\n",
    "trans = 'fsaverage'  # MNE has a built-in fsaverage transformation\n",
    "src = op.join(fs_dir, 'bem', 'fsaverage-ico-5-src.fif')\n",
    "bem = op.join(fs_dir, 'bem', 'fsaverage-5120-5120-5120-bem-sol.fif')"
   ]
  },
  {
   "cell_type": "markdown",
   "metadata": {
    "pycharm": {
     "name": "#%% md\n"
    }
   },
   "source": [
    "## Computing the forward operator\n",
    "\n",
    "To compute a forward operator we need:\n",
    "\n",
    "   - a ``-trans.fif`` file that contains the coregistration info.\n",
    "   - a source space\n",
    "   - the :term:`BEM` surfaces\n",
    "\n"
   ]
  },
  {
   "cell_type": "markdown",
   "metadata": {
    "pycharm": {
     "name": "#%% md\n"
    }
   },
   "source": [
    "## Compute and visualize BEM surfaces\n",
    "\n",
    "The :term:`BEM` surfaces are the triangulations of the interfaces between\n",
    "different tissues needed for forward computation. These surfaces are for\n",
    "example the inner skull surface, the outer skull surface and the outer skin\n",
    "surface, a.k.a. scalp surface.\n",
    "\n",
    "Computing the BEM surfaces requires FreeSurfer and makes use of\n",
    "the command-line tools `mne watershed_bem` or `mne flash_bem`, or\n",
    "the related functions :func:`mne.bem.make_watershed_bem` or\n",
    ":func:`mne.bem.make_flash_bem`.\n",
    "\n",
    "Here we'll assume it's already computed. It takes a few minutes per subject.\n",
    "\n",
    "For EEG we use 3 layers (inner skull, outer skull, and skin).\n",
    "\n",
    "Let's look at these surfaces. The function :func:`mne.viz.plot_bem`\n",
    "assumes that you have the ``bem`` folder of your subject's FreeSurfer\n",
    "reconstruction, containing the necessary surface files. Here we use a smaller\n",
    "than default subset of ``slices`` for speed.\n",
    "\n"
   ]
  },
  {
   "cell_type": "code",
   "execution_count": 3,
   "metadata": {
    "collapsed": false,
    "pycharm": {
     "name": "#%%\n"
    }
   },
   "outputs": [],
   "source": [
    "import matplotlib\n",
    "matplotlib.use( 'tkagg' )\n",
    "\n",
    "plot_bem_kwargs = dict(\n",
    "    subject=subject, subjects_dir=subjects_dir,\n",
    "    brain_surfaces='white', orientation='coronal',\n",
    "    slices=[50, 100, 150, 200])\n",
    "\n",
    "mne.viz.plot_bem(**plot_bem_kwargs)"
   ]
  },
  {
   "cell_type": "markdown",
   "source": [
    "### Load the data\n",
    "\n",
    "We use here EEG data from the BCI dataset.\n",
    "\n",
    "<div class=\"alert alert-info\"><h4>Note</h4><p>See `plot_montage` to view all the standard EEG montages\n",
    "          available in MNE-Python.</p></div>\n",
    "\n",
    "### Visualizing the coregistration\n",
    "The coregistration is the operation that allows to position the head and the sensors in a common coordinate system. In the MNE software the transformation to align the head and the sensors in stored in a so-called trans file. It is a FIF file that ends with -trans.fif. It can be obtained with :func:mne.gui.coregistration (or its convenient command line equivalent mne coreg), or mrilab if you’re using a Neuromag system.\n",
    "Here we assume the coregistration is done, so we just visually check the alignment with the following code."
   ],
   "metadata": {
    "collapsed": false,
    "pycharm": {
     "name": "#%% md\n"
    }
   }
  },
  {
   "cell_type": "code",
   "execution_count": 4,
   "outputs": [
    {
     "name": "stdout",
     "output_type": "stream",
     "text": [
      "Extracting EDF parameters from /home/lauraflyra/mne_data/MNE-eegbci-data/files/eegmmidb/1.0.0/S001/S001R06.edf...\n",
      "EDF file detected\n",
      "Setting channel info structure...\n",
      "Creating raw.info structure...\n",
      "Reading 0 ... 19999  =      0.000 ...   124.994 secs...\n",
      "Adding average EEG reference projection.\n",
      "1 projection items deactivated\n",
      "Average reference projection was added, but has not been applied yet. Use the apply_proj method to apply it.\n",
      "Reading /home/lauraflyra/mne_data/MNE-fsaverage-data/fsaverage/bem/fsaverage-ico-5-src.fif...\n",
      "Using pyvistaqt 3d backend.\n",
      "\n",
      "Using outer_skin.surf for head surface.\n",
      "Channel types::\teeg: 64\n",
      "Projecting sensors to the head surface\n"
     ]
    },
    {
     "data": {
      "text/plain": "<mne.viz.backends._pyvista.PyVistaFigure at 0x7f121c4f3160>"
     },
     "execution_count": 4,
     "metadata": {},
     "output_type": "execute_result"
    }
   ],
   "source": [
    "# The transformation file is build in in fsaverage\n",
    "\n",
    "#info = mne.io.read_info(raw_fname)\n",
    "\n",
    "raw_fname, = eegbci.load_data(subject=1, runs=[6])\n",
    "raw = mne.io.read_raw_edf(raw_fname, preload=True)\n",
    "\n",
    "# Clean channel names to be able to use a standard 1005 montage\n",
    "new_names = dict(\n",
    "    (ch_name,\n",
    "     ch_name.rstrip('.').upper().replace('Z', 'z').replace('FP', 'Fp'))\n",
    "    for ch_name in raw.ch_names)\n",
    "raw.rename_channels(new_names)\n",
    "\n",
    "# Read and set the EEG electrode locations, which are already in fsaverage's\n",
    "# space (MNI space) for standard_1020:\n",
    "montage = mne.channels.make_standard_montage('standard_1005')\n",
    "raw.set_montage(montage)\n",
    "raw.set_eeg_reference(projection=True)  # needed for inverse modeling\n",
    "\n",
    "# Check that the locations of EEG electrodes is correct with respect to MRI\n",
    "mne.viz.plot_alignment(\n",
    "    raw.info, src=src, eeg=['original', 'projected'], trans=trans,\n",
    "    show_axes=True, mri_fiducials=True, dig='fiducials')"
   ],
   "metadata": {
    "collapsed": false,
    "pycharm": {
     "name": "#%%\n"
    }
   }
  },
  {
   "cell_type": "markdown",
   "metadata": {
    "pycharm": {
     "name": "#%% md\n"
    }
   },
   "source": [
    "\n",
    "## Compute Source Space\n",
    "\n",
    "The source space defines the position and orientation of the candidate source\n",
    "locations. There are two types of source spaces:\n",
    "\n",
    "- **surface-based** source space when the candidates are confined to a\n",
    "  surface.\n",
    "\n",
    "- **volumetric or discrete** source space when the candidates are discrete,\n",
    "  arbitrarily located source points bounded by the surface.\n",
    "\n",
    "**Surface-based** source space is computed using\n",
    ":func:`mne.setup_source_space`, while **volumetric** source space is computed\n",
    "using :func:`mne.setup_volume_source_space`.\n",
    "\n",
    "We will now compute a surface-based source space with an ``'oct4'``\n",
    "resolution. See `setting_up_source_space` for details on source space\n",
    "definition and spacing parameter.\n",
    "\n",
    "<div class=\"alert alert-danger\"><h4>Warning</h4><p>``'oct4'`` is used here just for speed, for real analyses the recommended\n",
    "    spacing is ``'oct6'``.</p></div>\n",
    "\n"
   ]
  },
  {
   "cell_type": "code",
   "execution_count": 4,
   "metadata": {
    "collapsed": false,
    "pycharm": {
     "name": "#%%\n"
    }
   },
   "outputs": [
    {
     "name": "stdout",
     "output_type": "stream",
     "text": [
      "Setting up the source space with the following parameters:\n",
      "\n",
      "SUBJECTS_DIR = /home/lauraflyra/mne_data/MNE-fsaverage-data\n",
      "Subject      = fsaverage\n",
      "Surface      = white\n",
      "Octahedron subdivision grade 4\n",
      "\n",
      ">>> 1. Creating the source space...\n",
      "\n",
      "Doing the octahedral vertex picking...\n",
      "Loading /home/lauraflyra/mne_data/MNE-fsaverage-data/fsaverage/surf/lh.white...\n",
      "Mapping lh fsaverage -> oct (4) ...\n",
      "    Warning: zero size triangles: [3 4]\n",
      "    Triangle neighbors and vertex normals...\n",
      "Loading geometry from /home/lauraflyra/mne_data/MNE-fsaverage-data/fsaverage/surf/lh.sphere...\n",
      "Setting up the triangulation for the decimated surface...\n",
      "loaded lh.white 258/163842 selected to source space (oct = 4)\n",
      "\n",
      "Loading /home/lauraflyra/mne_data/MNE-fsaverage-data/fsaverage/surf/rh.white...\n",
      "Mapping rh fsaverage -> oct (4) ...\n",
      "    Warning: zero size triangles: [3 4]\n",
      "    Triangle neighbors and vertex normals...\n",
      "Loading geometry from /home/lauraflyra/mne_data/MNE-fsaverage-data/fsaverage/surf/rh.sphere...\n",
      "Setting up the triangulation for the decimated surface...\n",
      "loaded rh.white 258/163842 selected to source space (oct = 4)\n",
      "\n",
      "Calculating patch information (limit=0.0 mm)...\n",
      "    Computing patch statistics...\n",
      "    Patch information added...\n",
      "    Computing patch statistics...\n",
      "    Patch information added...\n",
      "You are now one step closer to computing the gain matrix\n",
      "<SourceSpaces: [<surface (lh), n_vertices=163842, n_used=258>, <surface (rh), n_vertices=163842, n_used=258>] MRI (surface RAS) coords, subject 'fsaverage', ~30.1 MB>\n"
     ]
    }
   ],
   "source": [
    "src = mne.setup_source_space(subject, spacing='oct4', add_dist='patch',\n",
    "                             subjects_dir=subjects_dir)\n",
    "print(src)"
   ]
  },
  {
   "cell_type": "markdown",
   "metadata": {
    "pycharm": {
     "name": "#%% md\n"
    }
   },
   "source": [
    "The surface based source space ``src`` contains two parts, one for the left\n",
    "hemisphere (258 locations) and one for the right hemisphere (258\n",
    "locations). Sources can be visualized on top of the BEM surfaces in purple.\n",
    "\n"
   ]
  },
  {
   "cell_type": "code",
   "execution_count": 6,
   "metadata": {
    "collapsed": false,
    "pycharm": {
     "name": "#%%\n"
    }
   },
   "outputs": [
    {
     "name": "stdout",
     "output_type": "stream",
     "text": [
      "Using surface: /home/lauraflyra/mne_data/MNE-fsaverage-data/fsaverage/bem/inner_skull.surf\n",
      "Using surface: /home/lauraflyra/mne_data/MNE-fsaverage-data/fsaverage/bem/outer_skull.surf\n",
      "Using surface: /home/lauraflyra/mne_data/MNE-fsaverage-data/fsaverage/bem/outer_skin.surf\n"
     ]
    },
    {
     "data": {
      "text/plain": "<MNEFigure size 561.6x187.56 with 4 Axes>",
      "image/png": "[encoded data removed]"
     },
     "execution_count": 6,
     "metadata": {},
     "output_type": "execute_result"
    }
   ],
   "source": [
    "mne.viz.plot_bem(src=src, **plot_bem_kwargs)"
   ]
  },
  {
   "cell_type": "markdown",
   "metadata": {
    "pycharm": {
     "name": "#%% md\n"
    }
   },
   "source": [
    "To compute a volume based source space defined with a grid of candidate\n",
    "dipoles inside a sphere of radius 90mm centered at (0.0, 0.0, 40.0) mm\n",
    "you can use the following code.\n",
    "Obviously here, the sphere is not perfect. It is not restricted to the\n",
    "brain and it can miss some parts of the cortex.\n",
    "\n"
   ]
  },
  {
   "cell_type": "code",
   "execution_count": 5,
   "metadata": {
    "collapsed": false,
    "pycharm": {
     "name": "#%%\n"
    }
   },
   "outputs": [
    {
     "name": "stdout",
     "output_type": "stream",
     "text": [
      "Sphere                : origin at (0.0 0.0 40.0) mm\n",
      "              radius  : 90.0 mm\n",
      "grid                  : 5.0 mm\n",
      "mindist               : 5.0 mm\n",
      "MRI volume            : /home/lauraflyra/mne_data/MNE-fsaverage-data/fsaverage/mri/T1.mgz\n",
      "\n",
      "Reading /home/lauraflyra/mne_data/MNE-fsaverage-data/fsaverage/mri/T1.mgz...\n",
      "\n",
      "Setting up the sphere...\n",
      "Surface CM = (   0.0    0.0   40.0) mm\n",
      "Surface fits inside a sphere with radius   90.0 mm\n",
      "Surface extent:\n",
      "    x =  -90.0 ...   90.0 mm\n",
      "    y =  -90.0 ...   90.0 mm\n",
      "    z =  -50.0 ...  130.0 mm\n",
      "Grid extent:\n",
      "    x =  -95.0 ...   95.0 mm\n",
      "    y =  -95.0 ...   95.0 mm\n",
      "    z =  -50.0 ...  135.0 mm\n",
      "57798 sources before omitting any.\n",
      "24365 sources after omitting infeasible sources not within 0.0 - 90.0 mm.\n",
      "20377 sources remaining after excluding the sources outside the surface and less than    5.0 mm inside.\n",
      "Adjusting the neighborhood info.\n",
      "Source space : MRI voxel -> MRI (surface RAS)\n",
      "     0.005000  0.000000  0.000000     -95.00 mm\n",
      "     0.000000  0.005000  0.000000     -95.00 mm\n",
      "     0.000000  0.000000  0.005000     -50.00 mm\n",
      "     0.000000  0.000000  0.000000       1.00\n",
      "MRI volume : MRI voxel -> MRI (surface RAS)\n",
      "    -0.001000  0.000000  0.000000     128.00 mm\n",
      "     0.000000  0.000000  0.001000    -128.00 mm\n",
      "     0.000000 -0.001000  0.000000     128.00 mm\n",
      "     0.000000  0.000000  0.000000       1.00\n",
      "MRI volume : MRI (surface RAS) -> RAS (non-zero origin)\n",
      "     1.000000  0.000000  0.000000       0.00 mm\n",
      "     0.000000  1.000000  0.000000       0.00 mm\n",
      "     0.000000  0.000000  1.000000       0.00 mm\n",
      "     0.000000  0.000000  0.000000       1.00\n",
      "<SourceSpaces: [<volume, shape=(39, 39, 38), n_used=20377>] MRI (surface RAS) coords, subject 'fsaverage', ~14.3 MB>\n"
     ]
    }
   ],
   "source": [
    "sphere = (0.0, 0.0, 0.04, 0.09)\n",
    "vol_src = mne.setup_volume_source_space(\n",
    "    subject, subjects_dir=subjects_dir, sphere=sphere, sphere_units='m',\n",
    "    add_interpolator=False)  # just for speed!\n",
    "print(vol_src)\n",
    "\n",
    "mne.viz.plot_bem(src=vol_src, **plot_bem_kwargs)"
   ]
  },
  {
   "cell_type": "markdown",
   "metadata": {
    "pycharm": {
     "name": "#%% md\n"
    }
   },
   "source": [
    "To compute a volume based source space defined with a grid of candidate\n",
    "dipoles inside the brain (requires the :term:`BEM` surfaces) you can use the\n",
    "following.\n",
    "\n"
   ]
  },
  {
   "cell_type": "code",
   "execution_count": 2,
   "metadata": {
    "collapsed": false,
    "pycharm": {
     "name": "#%%\n"
    }
   },
   "outputs": [
    {
     "ename": "NameError",
     "evalue": "name 'op' is not defined",
     "output_type": "error",
     "traceback": [
      "\u001B[0;31m---------------------------------------------------------------------------\u001B[0m",
      "\u001B[0;31mNameError\u001B[0m                                 Traceback (most recent call last)",
      "Input \u001B[0;32mIn [2]\u001B[0m, in \u001B[0;36m<cell line: 1>\u001B[0;34m()\u001B[0m\n\u001B[0;32m----> 1\u001B[0m surface \u001B[38;5;241m=\u001B[39m \u001B[43mop\u001B[49m\u001B[38;5;241m.\u001B[39mjoin(subjects_dir, subject, \u001B[38;5;124m'\u001B[39m\u001B[38;5;124mbem\u001B[39m\u001B[38;5;124m'\u001B[39m, \u001B[38;5;124m'\u001B[39m\u001B[38;5;124minner_skull.surf\u001B[39m\u001B[38;5;124m'\u001B[39m)\n\u001B[1;32m      2\u001B[0m vol_src \u001B[38;5;241m=\u001B[39m mne\u001B[38;5;241m.\u001B[39msetup_volume_source_space(\n\u001B[1;32m      3\u001B[0m     subject, subjects_dir\u001B[38;5;241m=\u001B[39msubjects_dir, surface\u001B[38;5;241m=\u001B[39msurface,\n\u001B[1;32m      4\u001B[0m     add_interpolator\u001B[38;5;241m=\u001B[39m\u001B[38;5;28;01mFalse\u001B[39;00m)  \u001B[38;5;66;03m# Just for speed!\u001B[39;00m\n\u001B[1;32m      5\u001B[0m \u001B[38;5;28mprint\u001B[39m(vol_src)\n",
      "\u001B[0;31mNameError\u001B[0m: name 'op' is not defined"
     ]
    }
   ],
   "source": [
    "surface = op.join(subjects_dir, subject, 'bem', 'inner_skull.surf')\n",
    "vol_src = mne.setup_volume_source_space(\n",
    "    subject, subjects_dir=subjects_dir, surface=surface,\n",
    "    add_interpolator=False)  # Just for speed!\n",
    "print(vol_src)\n",
    "\n",
    "mne.viz.plot_bem(src=vol_src, **plot_bem_kwargs)"
   ]
  },
  {
   "cell_type": "markdown",
   "metadata": {
    "pycharm": {
     "name": "#%% md\n"
    }
   },
   "source": [
    "<div class=\"alert alert-info\"><h4>Note</h4><p>Some sources may appear to be outside the BEM inner skull contour.\n",
    "          This is because the ``slices`` are decimated for plotting here.\n",
    "          Each slice in the figure actually represents several MRI slices,\n",
    "          but only the MRI voxels and BEM boundaries for a single (midpoint\n",
    "          of the given slice range) slice are shown, whereas the source space\n",
    "          points plotted on that midpoint slice consist of all points\n",
    "          for which that slice (out of all slices shown) was the closest.</p></div>\n",
    "\n",
    "Now let's see how to view all sources in 3D.\n",
    "\n"
   ]
  },
  {
   "cell_type": "code",
   "execution_count": null,
   "metadata": {
    "collapsed": false,
    "pycharm": {
     "name": "#%%\n"
    }
   },
   "outputs": [],
   "source": [
    "fig = mne.viz.plot_alignment(subject=subject, subjects_dir=subjects_dir,\n",
    "                             surfaces='white', coord_frame='mri',\n",
    "                             src=src)\n",
    "\n",
    "mne.viz.set_3d_view(fig, azimuth=173.78, elevation=101.75,\n",
    "                    distance=0.30, focalpoint=(-0.03, -0.01, 0.03))"
   ]
  },
  {
   "cell_type": "markdown",
   "metadata": {
    "pycharm": {
     "name": "#%% md\n"
    }
   },
   "source": [
    "\n",
    "## Compute forward solution\n",
    "\n",
    "We can now compute the forward solution.\n",
    "To reduce computation we'll just compute a single layer BEM (just inner\n",
    "skull) that can then be used for MEG (not EEG).\n",
    "We specify if we want a one-layer or a three-layer BEM using the\n",
    "``conductivity`` parameter.\n",
    "The BEM solution requires a BEM model which describes the geometry\n",
    "of the head the conductivities of the different tissues.\n",
    "\n"
   ]
  },
  {
   "cell_type": "code",
   "execution_count": null,
   "metadata": {
    "collapsed": false,
    "pycharm": {
     "name": "#%%\n"
    }
   },
   "outputs": [],
   "source": [
    "# conductivity = (0.3,)  # for single layer\n",
    "conductivity = (0.3, 0.006, 0.3)  # for three layers\n",
    "model = mne.make_bem_model(subject=subject, ico=4,\n",
    "                           conductivity=conductivity,\n",
    "                           subjects_dir=subjects_dir)\n",
    "bem = mne.make_bem_solution(model)"
   ]
  },
  {
   "cell_type": "markdown",
   "metadata": {
    "pycharm": {
     "name": "#%% md\n"
    }
   },
   "source": [
    "Note that the :term:`BEM` does not involve any use of the trans file. The BEM\n",
    "only depends on the head geometry and conductivities.\n",
    "It is therefore independent from the MEG data and the head position.\n",
    "\n",
    "Let's now compute the forward operator, commonly referred to as the\n",
    "gain or leadfield matrix.\n",
    "See :func:`mne.make_forward_solution` for details on the meaning of each\n",
    "parameter.\n",
    "\n"
   ]
  },
  {
   "cell_type": "code",
   "execution_count": null,
   "metadata": {
    "collapsed": false,
    "pycharm": {
     "name": "#%%\n"
    }
   },
   "outputs": [],
   "source": [
    "fwd = mne.make_forward_solution(raw.info, trans=trans, src=src, bem=bem,\n",
    "                                meg=False, eeg=True, mindist=5.0, n_jobs=1,\n",
    "                                verbose=True)\n",
    "# raw.info\n",
    "print(fwd)"
   ]
  },
  {
   "cell_type": "markdown",
   "metadata": {
    "pycharm": {
     "name": "#%% md\n"
    }
   },
   "source": [
    "<div class=\"alert alert-danger\"><h4>Warning</h4><p>Forward computation can remove vertices that are too close to (or outside)\n",
    "   the inner skull surface. For example, here we have gone from 516 to 474\n",
    "   vertices in use. For many functions, such as\n",
    "   :func:`mne.compute_source_morph`, it is important to pass ``fwd['src']``\n",
    "   or ``inv['src']`` so that this removal is adequately accounted for.</p></div>\n",
    "\n"
   ]
  },
  {
   "cell_type": "code",
   "execution_count": null,
   "metadata": {
    "collapsed": false,
    "pycharm": {
     "name": "#%%\n"
    }
   },
   "outputs": [],
   "source": [
    "print(f'Before: {src}')\n",
    "print(f'After:  {fwd[\"src\"]}')"
   ]
  },
  {
   "cell_type": "markdown",
   "metadata": {
    "pycharm": {
     "name": "#%% md\n"
    }
   },
   "source": [
    "We can explore the content of ``fwd`` to access the numpy array that contains\n",
    "the gain matrix.\n",
    "\n"
   ]
  },
  {
   "cell_type": "code",
   "execution_count": null,
   "metadata": {
    "collapsed": false,
    "pycharm": {
     "name": "#%%\n"
    }
   },
   "outputs": [],
   "source": [
    "leadfield = fwd['sol']['data']\n",
    "print(\"Leadfield size : %d sensors x %d dipoles\" % leadfield.shape)"
   ]
  },
  {
   "cell_type": "markdown",
   "metadata": {
    "pycharm": {
     "name": "#%% md\n"
    }
   },
   "source": [
    "To extract the numpy array containing the forward operator corresponding to\n",
    "the source space ``fwd['src']`` with cortical orientation constraint\n",
    "we can use the following:\n",
    "\n"
   ]
  },
  {
   "cell_type": "code",
   "execution_count": null,
   "metadata": {
    "collapsed": false,
    "pycharm": {
     "name": "#%%\n"
    }
   },
   "outputs": [],
   "source": [
    "fwd_fixed = mne.convert_forward_solution(fwd, surf_ori=True, force_fixed=True,  #probably not needed for EEG,\n",
    "                                         use_cps=True)\n",
    "leadfield = fwd_fixed['sol']['data']\n",
    "print(\"Leadfield size : %d sensors x %d dipoles\" % leadfield.shape)"
   ]
  },
  {
   "cell_type": "markdown",
   "source": [
    "This is equivalent to the following code that explicitly applies the\n",
    "forward operator to a source estimate composed of the identity operator\n",
    "(which we omit here because it uses a lot of memory)::\n",
    "\n",
    "    >>> import numpy as np\n",
    "    >>> n_dipoles = leadfield.shape[1]\n",
    "    >>> vertices = [src_hemi['vertno'] for src_hemi in fwd_fixed['src']]\n",
    "    >>> stc = mne.SourceEstimate(1e-9 * np.eye(n_dipoles), vertices)\n",
    "    >>> leadfield = mne.apply_forward(fwd_fixed, stc, info).data / 1e-9\n",
    "\n",
    "To save to disk a forward solution you can use\n",
    ":func:`mne.write_forward_solution` and to read it back from disk\n",
    ":func:`mne.read_forward_solution`. Don't forget that FIF files containing\n",
    "forward solution should end with :file:`-fwd.fif`.\n",
    "\n",
    "To get a fixed-orientation forward solution, use\n",
    ":func:`mne.convert_forward_solution` to convert the free-orientation\n",
    "solution to (surface-oriented) fixed orientation.\n"
   ],
   "metadata": {
    "collapsed": false,
    "pycharm": {
     "name": "#%% md\n"
    }
   }
  },
  {
   "cell_type": "markdown",
   "source": [
    "### write source space"
   ],
   "metadata": {
    "collapsed": false
   }
  },
  {
   "cell_type": "code",
   "execution_count": 7,
   "outputs": [
    {
     "ename": "AttributeError",
     "evalue": "'str' object has no attribute 'info'",
     "output_type": "error",
     "traceback": [
      "\u001B[0;31m---------------------------------------------------------------------------\u001B[0m",
      "\u001B[0;31mAttributeError\u001B[0m                            Traceback (most recent call last)",
      "Input \u001B[0;32mIn [7]\u001B[0m, in \u001B[0;36m<cell line: 1>\u001B[0;34m()\u001B[0m\n\u001B[0;32m----> 1\u001B[0m \u001B[43msrc\u001B[49m\u001B[38;5;241;43m.\u001B[39;49m\u001B[43minfo\u001B[49m\n",
      "\u001B[0;31mAttributeError\u001B[0m: 'str' object has no attribute 'info'"
     ]
    }
   ],
   "source": [
    "src.info"
   ],
   "metadata": {
    "collapsed": false,
    "pycharm": {
     "name": "#%%\n"
    }
   }
  },
  {
   "cell_type": "code",
   "execution_count": 10,
   "outputs": [
    {
     "name": "stdout",
     "output_type": "stream",
     "text": [
      "Reading FreeSurfer lookup table\n"
     ]
    },
    {
     "ename": "ValueError",
     "evalue": "Source spaces must contain at least one volume.",
     "output_type": "error",
     "traceback": [
      "\u001B[0;31m---------------------------------------------------------------------------\u001B[0m",
      "\u001B[0;31mValueError\u001B[0m                                Traceback (most recent call last)",
      "Input \u001B[0;32mIn [10]\u001B[0m, in \u001B[0;36m<cell line: 1>\u001B[0;34m()\u001B[0m\n\u001B[0;32m----> 1\u001B[0m \u001B[43msrc\u001B[49m\u001B[38;5;241;43m.\u001B[39;49m\u001B[43mexport_volume\u001B[49m\u001B[43m(\u001B[49m\u001B[38;5;124;43m\"\u001B[39;49m\u001B[38;5;124;43msample_source_space.nii\u001B[39;49m\u001B[38;5;124;43m\"\u001B[39;49m\u001B[43m)\u001B[49m\n",
      "File \u001B[0;32m<decorator-gen-138>:12\u001B[0m, in \u001B[0;36mexport_volume\u001B[0;34m(self, fname, include_surfaces, include_discrete, dest, trans, mri_resolution, use_lut, overwrite, verbose)\u001B[0m\n",
      "File \u001B[0;32m~/anaconda3/envs/mne/lib/python3.10/site-packages/mne/source_space.py:396\u001B[0m, in \u001B[0;36mSourceSpaces.export_volume\u001B[0;34m(self, fname, include_surfaces, include_discrete, dest, trans, mri_resolution, use_lut, overwrite, verbose)\u001B[0m\n\u001B[1;32m    394\u001B[0m \u001B[38;5;66;03m# Raise error if there are no volume source spaces\u001B[39;00m\n\u001B[1;32m    395\u001B[0m \u001B[38;5;28;01mif\u001B[39;00m \u001B[38;5;28mlen\u001B[39m(src_types[\u001B[38;5;124m'\u001B[39m\u001B[38;5;124mvolume\u001B[39m\u001B[38;5;124m'\u001B[39m]) \u001B[38;5;241m==\u001B[39m \u001B[38;5;241m0\u001B[39m:\n\u001B[0;32m--> 396\u001B[0m     \u001B[38;5;28;01mraise\u001B[39;00m \u001B[38;5;167;01mValueError\u001B[39;00m(\u001B[38;5;124m'\u001B[39m\u001B[38;5;124mSource spaces must contain at least one volume.\u001B[39m\u001B[38;5;124m'\u001B[39m)\n\u001B[1;32m    398\u001B[0m \u001B[38;5;66;03m# Get shape, inuse array and interpolation matrix from volume sources\u001B[39;00m\n\u001B[1;32m    399\u001B[0m src \u001B[38;5;241m=\u001B[39m src_types[\u001B[38;5;124m'\u001B[39m\u001B[38;5;124mvolume\u001B[39m\u001B[38;5;124m'\u001B[39m][\u001B[38;5;241m0\u001B[39m]\n",
      "\u001B[0;31mValueError\u001B[0m: Source spaces must contain at least one volume."
     ]
    }
   ],
   "source": [
    "src.export_volume(\"sample_source_space.nii\")"
   ],
   "metadata": {
    "collapsed": false,
    "pycharm": {
     "name": "#%%\n"
    }
   }
  },
  {
   "cell_type": "code",
   "execution_count": 6,
   "outputs": [
    {
     "name": "stdout",
     "output_type": "stream",
     "text": [
      "Reading FreeSurfer lookup table\n"
     ]
    },
    {
     "ename": "ValueError",
     "evalue": "Volume sources should be segments, not the entire volume.",
     "output_type": "error",
     "traceback": [
      "\u001B[0;31m---------------------------------------------------------------------------\u001B[0m",
      "\u001B[0;31mValueError\u001B[0m                                Traceback (most recent call last)",
      "Input \u001B[0;32mIn [6]\u001B[0m, in \u001B[0;36m<cell line: 1>\u001B[0;34m()\u001B[0m\n\u001B[0;32m----> 1\u001B[0m \u001B[43mvol_src\u001B[49m\u001B[38;5;241;43m.\u001B[39;49m\u001B[43mexport_volume\u001B[49m\u001B[43m(\u001B[49m\u001B[38;5;124;43m\"\u001B[39;49m\u001B[38;5;124;43msample_source_space.nii\u001B[39;49m\u001B[38;5;124;43m\"\u001B[39;49m\u001B[43m,\u001B[49m\u001B[43m \u001B[49m\u001B[43mmri_resolution\u001B[49m\u001B[38;5;241;43m=\u001B[39;49m\u001B[38;5;124;43m\"\u001B[39;49m\u001B[38;5;124;43msparse\u001B[39;49m\u001B[38;5;124;43m\"\u001B[39;49m\u001B[43m)\u001B[49m\n",
      "File \u001B[0;32m<decorator-gen-138>:12\u001B[0m, in \u001B[0;36mexport_volume\u001B[0;34m(self, fname, include_surfaces, include_discrete, dest, trans, mri_resolution, use_lut, overwrite, verbose)\u001B[0m\n",
      "File \u001B[0;32m~/anaconda3/envs/mne/lib/python3.10/site-packages/mne/source_space.py:437\u001B[0m, in \u001B[0;36mSourceSpaces.export_volume\u001B[0;34m(self, fname, include_surfaces, include_discrete, dest, trans, mri_resolution, use_lut, overwrite, verbose)\u001B[0m\n\u001B[1;32m    434\u001B[0m \u001B[38;5;28;01mfor\u001B[39;00m ii, vs \u001B[38;5;129;01min\u001B[39;00m \u001B[38;5;28menumerate\u001B[39m(src_types[\u001B[38;5;124m'\u001B[39m\u001B[38;5;124mvolume\u001B[39m\u001B[38;5;124m'\u001B[39m]):\n\u001B[1;32m    435\u001B[0m     \u001B[38;5;66;03m# read the lookup table value for segmented volume\u001B[39;00m\n\u001B[1;32m    436\u001B[0m     \u001B[38;5;28;01mif\u001B[39;00m \u001B[38;5;124m'\u001B[39m\u001B[38;5;124mseg_name\u001B[39m\u001B[38;5;124m'\u001B[39m \u001B[38;5;129;01mnot\u001B[39;00m \u001B[38;5;129;01min\u001B[39;00m vs:\n\u001B[0;32m--> 437\u001B[0m         \u001B[38;5;28;01mraise\u001B[39;00m \u001B[38;5;167;01mValueError\u001B[39;00m(\u001B[38;5;124m'\u001B[39m\u001B[38;5;124mVolume sources should be segments, \u001B[39m\u001B[38;5;124m'\u001B[39m\n\u001B[1;32m    438\u001B[0m                          \u001B[38;5;124m'\u001B[39m\u001B[38;5;124mnot the entire volume.\u001B[39m\u001B[38;5;124m'\u001B[39m)\n\u001B[1;32m    439\u001B[0m     \u001B[38;5;66;03m# find the color value for this volume\u001B[39;00m\n\u001B[1;32m    440\u001B[0m     use_id \u001B[38;5;241m=\u001B[39m \u001B[38;5;241m1.\u001B[39m\n",
      "\u001B[0;31mValueError\u001B[0m: Volume sources should be segments, not the entire volume."
     ]
    }
   ],
   "source": [
    "vol_src.export_volume(\"sample_source_space.nii\", mri_resolution=\"sparse\")"
   ],
   "metadata": {
    "collapsed": false,
    "pycharm": {
     "name": "#%%\n"
    }
   }
  },
  {
   "cell_type": "code",
   "execution_count": 8,
   "outputs": [
    {
     "ename": "FileNotFoundError",
     "evalue": "[Errno 2] No such file or directory: '/home/lauraflyra/mne_data/MNE-fsaverage-data/fsaverage/bem/fsaverage-oct-6-src.fif'",
     "output_type": "error",
     "traceback": [
      "\u001B[0;31m---------------------------------------------------------------------------\u001B[0m",
      "\u001B[0;31mFileNotFoundError\u001B[0m                         Traceback (most recent call last)",
      "Input \u001B[0;32mIn [8]\u001B[0m, in \u001B[0;36m<cell line: 3>\u001B[0;34m()\u001B[0m\n\u001B[1;32m      1\u001B[0m bem_dir \u001B[38;5;241m=\u001B[39m op\u001B[38;5;241m.\u001B[39mjoin(subjects_dir, subject, \u001B[38;5;124m'\u001B[39m\u001B[38;5;124mbem\u001B[39m\u001B[38;5;124m'\u001B[39m)\n\u001B[1;32m      2\u001B[0m fname_src \u001B[38;5;241m=\u001B[39m op\u001B[38;5;241m.\u001B[39mjoin(bem_dir, \u001B[38;5;124mf\u001B[39m\u001B[38;5;124m'\u001B[39m\u001B[38;5;132;01m{\u001B[39;00msubject\u001B[38;5;132;01m}\u001B[39;00m\u001B[38;5;124m-oct-6-src.fif\u001B[39m\u001B[38;5;124m'\u001B[39m)\n\u001B[0;32m----> 3\u001B[0m src \u001B[38;5;241m=\u001B[39m \u001B[43mmne\u001B[49m\u001B[38;5;241;43m.\u001B[39;49m\u001B[43mread_source_spaces\u001B[49m\u001B[43m(\u001B[49m\u001B[43mfname_src\u001B[49m\u001B[43m)\u001B[49m\n",
      "File \u001B[0;32m<decorator-gen-140>:12\u001B[0m, in \u001B[0;36mread_source_spaces\u001B[0;34m(fname, patch_stats, verbose)\u001B[0m\n",
      "File \u001B[0;32m~/anaconda3/envs/mne/lib/python3.10/site-packages/mne/source_space.py:640\u001B[0m, in \u001B[0;36mread_source_spaces\u001B[0;34m(fname, patch_stats, verbose)\u001B[0m\n\u001B[1;32m    632\u001B[0m \u001B[38;5;66;03m# be more permissive on read than write (fwd/inv can contain src)\u001B[39;00m\n\u001B[1;32m    633\u001B[0m check_fname(fname, \u001B[38;5;124m'\u001B[39m\u001B[38;5;124msource space\u001B[39m\u001B[38;5;124m'\u001B[39m, (\u001B[38;5;124m'\u001B[39m\u001B[38;5;124m-src.fif\u001B[39m\u001B[38;5;124m'\u001B[39m, \u001B[38;5;124m'\u001B[39m\u001B[38;5;124m-src.fif.gz\u001B[39m\u001B[38;5;124m'\u001B[39m,\n\u001B[1;32m    634\u001B[0m                                     \u001B[38;5;124m'\u001B[39m\u001B[38;5;124m_src.fif\u001B[39m\u001B[38;5;124m'\u001B[39m, \u001B[38;5;124m'\u001B[39m\u001B[38;5;124m_src.fif.gz\u001B[39m\u001B[38;5;124m'\u001B[39m,\n\u001B[1;32m    635\u001B[0m                                     \u001B[38;5;124m'\u001B[39m\u001B[38;5;124m-fwd.fif\u001B[39m\u001B[38;5;124m'\u001B[39m, \u001B[38;5;124m'\u001B[39m\u001B[38;5;124m-fwd.fif.gz\u001B[39m\u001B[38;5;124m'\u001B[39m,\n\u001B[1;32m    636\u001B[0m                                     \u001B[38;5;124m'\u001B[39m\u001B[38;5;124m_fwd.fif\u001B[39m\u001B[38;5;124m'\u001B[39m, \u001B[38;5;124m'\u001B[39m\u001B[38;5;124m_fwd.fif.gz\u001B[39m\u001B[38;5;124m'\u001B[39m,\n\u001B[1;32m    637\u001B[0m                                     \u001B[38;5;124m'\u001B[39m\u001B[38;5;124m-inv.fif\u001B[39m\u001B[38;5;124m'\u001B[39m, \u001B[38;5;124m'\u001B[39m\u001B[38;5;124m-inv.fif.gz\u001B[39m\u001B[38;5;124m'\u001B[39m,\n\u001B[1;32m    638\u001B[0m                                     \u001B[38;5;124m'\u001B[39m\u001B[38;5;124m_inv.fif\u001B[39m\u001B[38;5;124m'\u001B[39m, \u001B[38;5;124m'\u001B[39m\u001B[38;5;124m_inv.fif.gz\u001B[39m\u001B[38;5;124m'\u001B[39m))\n\u001B[0;32m--> 640\u001B[0m ff, tree, _ \u001B[38;5;241m=\u001B[39m \u001B[43mfiff_open\u001B[49m\u001B[43m(\u001B[49m\u001B[43mfname\u001B[49m\u001B[43m)\u001B[49m\n\u001B[1;32m    641\u001B[0m \u001B[38;5;28;01mwith\u001B[39;00m ff \u001B[38;5;28;01mas\u001B[39;00m fid:\n\u001B[1;32m    642\u001B[0m     src \u001B[38;5;241m=\u001B[39m _read_source_spaces_from_tree(fid, tree, patch_stats\u001B[38;5;241m=\u001B[39mpatch_stats,\n\u001B[1;32m    643\u001B[0m                                         verbose\u001B[38;5;241m=\u001B[39mverbose)\n",
      "File \u001B[0;32m<decorator-gen-7>:12\u001B[0m, in \u001B[0;36mfiff_open\u001B[0;34m(fname, preload, verbose)\u001B[0m\n",
      "File \u001B[0;32m~/anaconda3/envs/mne/lib/python3.10/site-packages/mne/io/open.py:124\u001B[0m, in \u001B[0;36mfiff_open\u001B[0;34m(fname, preload, verbose)\u001B[0m\n\u001B[1;32m    100\u001B[0m \u001B[38;5;129m@verbose\u001B[39m\n\u001B[1;32m    101\u001B[0m \u001B[38;5;28;01mdef\u001B[39;00m \u001B[38;5;21mfiff_open\u001B[39m(fname, preload\u001B[38;5;241m=\u001B[39m\u001B[38;5;28;01mFalse\u001B[39;00m, verbose\u001B[38;5;241m=\u001B[39m\u001B[38;5;28;01mNone\u001B[39;00m):\n\u001B[1;32m    102\u001B[0m     \u001B[38;5;124;03m\"\"\"Open a FIF file.\u001B[39;00m\n\u001B[1;32m    103\u001B[0m \n\u001B[1;32m    104\u001B[0m \u001B[38;5;124;03m    Parameters\u001B[39;00m\n\u001B[0;32m   (...)\u001B[0m\n\u001B[1;32m    122\u001B[0m \u001B[38;5;124;03m        A list of tags.\u001B[39;00m\n\u001B[1;32m    123\u001B[0m \u001B[38;5;124;03m    \"\"\"\u001B[39;00m\n\u001B[0;32m--> 124\u001B[0m     fid \u001B[38;5;241m=\u001B[39m \u001B[43m_fiff_get_fid\u001B[49m\u001B[43m(\u001B[49m\u001B[43mfname\u001B[49m\u001B[43m)\u001B[49m\n\u001B[1;32m    125\u001B[0m     \u001B[38;5;28;01mtry\u001B[39;00m:\n\u001B[1;32m    126\u001B[0m         \u001B[38;5;28;01mreturn\u001B[39;00m _fiff_open(fname, fid, preload)\n",
      "File \u001B[0;32m~/anaconda3/envs/mne/lib/python3.10/site-packages/mne/io/open.py:53\u001B[0m, in \u001B[0;36m_fiff_get_fid\u001B[0;34m(fname)\u001B[0m\n\u001B[1;32m     51\u001B[0m     \u001B[38;5;28;01melse\u001B[39;00m:\n\u001B[1;32m     52\u001B[0m         logger\u001B[38;5;241m.\u001B[39mdebug(\u001B[38;5;124m'\u001B[39m\u001B[38;5;124mUsing normal I/O\u001B[39m\u001B[38;5;124m'\u001B[39m)\n\u001B[0;32m---> 53\u001B[0m         fid \u001B[38;5;241m=\u001B[39m \u001B[38;5;28;43mopen\u001B[39;49m\u001B[43m(\u001B[49m\u001B[43mfname\u001B[49m\u001B[43m,\u001B[49m\u001B[43m \u001B[49m\u001B[38;5;124;43m\"\u001B[39;49m\u001B[38;5;124;43mrb\u001B[39;49m\u001B[38;5;124;43m\"\u001B[39;49m\u001B[43m)\u001B[49m  \u001B[38;5;66;03m# Open in binary mode\u001B[39;00m\n\u001B[1;32m     54\u001B[0m \u001B[38;5;28;01mreturn\u001B[39;00m fid\n",
      "\u001B[0;31mFileNotFoundError\u001B[0m: [Errno 2] No such file or directory: '/home/lauraflyra/mne_data/MNE-fsaverage-data/fsaverage/bem/fsaverage-oct-6-src.fif'"
     ]
    }
   ],
   "source": [
    "bem_dir = op.join(subjects_dir, subject, 'bem')\n",
    "fname_src = op.join(bem_dir, f'{subject}-oct-6-src.fif')\n",
    "src = mne.read_source_spaces(fname_src)"
   ],
   "metadata": {
    "collapsed": false,
    "pycharm": {
     "name": "#%%\n"
    }
   }
  },
  {
   "cell_type": "code",
   "execution_count": 9,
   "outputs": [
    {
     "name": "stdout",
     "output_type": "stream",
     "text": [
      "Setting up the source space with the following parameters:\n",
      "\n",
      "SUBJECTS_DIR = /home/lauraflyra/mne_data/MNE-fsaverage-data\n",
      "Subject      = fsaverage\n",
      "Surface      = white\n",
      "Octahedron subdivision grade 5\n",
      "\n",
      ">>> 1. Creating the source space...\n",
      "\n",
      "Doing the octahedral vertex picking...\n",
      "Loading /home/lauraflyra/mne_data/MNE-fsaverage-data/fsaverage/surf/lh.white...\n",
      "Mapping lh fsaverage -> oct (5) ...\n",
      "    Warning: zero size triangles: [3 4]\n",
      "    Triangle neighbors and vertex normals...\n",
      "Loading geometry from /home/lauraflyra/mne_data/MNE-fsaverage-data/fsaverage/surf/lh.sphere...\n",
      "Setting up the triangulation for the decimated surface...\n",
      "loaded lh.white 1026/163842 selected to source space (oct = 5)\n",
      "\n",
      "Loading /home/lauraflyra/mne_data/MNE-fsaverage-data/fsaverage/surf/rh.white...\n",
      "Mapping rh fsaverage -> oct (5) ...\n",
      "    Warning: zero size triangles: [3 4]\n",
      "    Triangle neighbors and vertex normals...\n",
      "Loading geometry from /home/lauraflyra/mne_data/MNE-fsaverage-data/fsaverage/surf/rh.sphere...\n",
      "Setting up the triangulation for the decimated surface...\n",
      "loaded rh.white 1026/163842 selected to source space (oct = 5)\n",
      "\n",
      "You are now one step closer to computing the gain matrix\n"
     ]
    }
   ],
   "source": [
    "src = mne.setup_source_space(subject, spacing='oct5',\n",
    "                             add_dist=False, subjects_dir=subjects_dir)"
   ],
   "metadata": {
    "collapsed": false,
    "pycharm": {
     "name": "#%%\n"
    }
   }
  },
  {
   "cell_type": "code",
   "execution_count": 12,
   "outputs": [
    {
     "name": "stdout",
     "output_type": "stream",
     "text": [
      "Reading FreeSurfer lookup table\n"
     ]
    },
    {
     "ename": "ValueError",
     "evalue": "Source spaces must contain at least one volume.",
     "output_type": "error",
     "traceback": [
      "\u001B[0;31m---------------------------------------------------------------------------\u001B[0m",
      "\u001B[0;31mValueError\u001B[0m                                Traceback (most recent call last)",
      "Input \u001B[0;32mIn [12]\u001B[0m, in \u001B[0;36m<cell line: 1>\u001B[0;34m()\u001B[0m\n\u001B[0;32m----> 1\u001B[0m \u001B[43msrc\u001B[49m\u001B[38;5;241;43m.\u001B[39;49m\u001B[43mexport_volume\u001B[49m\u001B[43m(\u001B[49m\u001B[38;5;124;43m\"\u001B[39;49m\u001B[38;5;124;43msample_source_space.nii\u001B[39;49m\u001B[38;5;124;43m\"\u001B[39;49m\u001B[43m)\u001B[49m\n",
      "File \u001B[0;32m<decorator-gen-138>:12\u001B[0m, in \u001B[0;36mexport_volume\u001B[0;34m(self, fname, include_surfaces, include_discrete, dest, trans, mri_resolution, use_lut, overwrite, verbose)\u001B[0m\n",
      "File \u001B[0;32m~/anaconda3/envs/mne/lib/python3.10/site-packages/mne/source_space.py:396\u001B[0m, in \u001B[0;36mSourceSpaces.export_volume\u001B[0;34m(self, fname, include_surfaces, include_discrete, dest, trans, mri_resolution, use_lut, overwrite, verbose)\u001B[0m\n\u001B[1;32m    394\u001B[0m \u001B[38;5;66;03m# Raise error if there are no volume source spaces\u001B[39;00m\n\u001B[1;32m    395\u001B[0m \u001B[38;5;28;01mif\u001B[39;00m \u001B[38;5;28mlen\u001B[39m(src_types[\u001B[38;5;124m'\u001B[39m\u001B[38;5;124mvolume\u001B[39m\u001B[38;5;124m'\u001B[39m]) \u001B[38;5;241m==\u001B[39m \u001B[38;5;241m0\u001B[39m:\n\u001B[0;32m--> 396\u001B[0m     \u001B[38;5;28;01mraise\u001B[39;00m \u001B[38;5;167;01mValueError\u001B[39;00m(\u001B[38;5;124m'\u001B[39m\u001B[38;5;124mSource spaces must contain at least one volume.\u001B[39m\u001B[38;5;124m'\u001B[39m)\n\u001B[1;32m    398\u001B[0m \u001B[38;5;66;03m# Get shape, inuse array and interpolation matrix from volume sources\u001B[39;00m\n\u001B[1;32m    399\u001B[0m src \u001B[38;5;241m=\u001B[39m src_types[\u001B[38;5;124m'\u001B[39m\u001B[38;5;124mvolume\u001B[39m\u001B[38;5;124m'\u001B[39m][\u001B[38;5;241m0\u001B[39m]\n",
      "\u001B[0;31mValueError\u001B[0m: Source spaces must contain at least one volume."
     ]
    }
   ],
   "source": [
    "src.export_volume(\"sample_source_space.nii\")"
   ],
   "metadata": {
    "collapsed": false,
    "pycharm": {
     "name": "#%%\n"
    }
   }
  },
  {
   "cell_type": "code",
   "execution_count": 14,
   "outputs": [],
   "source": [
    "from mne.datasets import sample\n",
    "data_path = sample.data_path()\n",
    "subjects_dir = op.join(data_path, 'subjects')\n",
    "subject = 'sample'\n",
    "aseg_fname = op.join(subjects_dir, 'sample', 'mri', 'aseg.mgz')"
   ],
   "metadata": {
    "collapsed": false,
    "pycharm": {
     "name": "#%%\n"
    }
   }
  },
  {
   "cell_type": "code",
   "execution_count": 17,
   "outputs": [
    {
     "name": "stdout",
     "output_type": "stream",
     "text": [
      "Setting up the source space with the following parameters:\n",
      "\n",
      "SUBJECTS_DIR = /home/lauraflyra/mne_data/MNE-sample-data/subjects\n",
      "Subject      = sample\n",
      "Surface      = white\n",
      "Octahedron subdivision grade 6\n",
      "\n",
      ">>> 1. Creating the source space...\n",
      "\n",
      "Doing the octahedral vertex picking...\n",
      "Loading /home/lauraflyra/mne_data/MNE-sample-data/subjects/sample/surf/lh.white...\n",
      "Mapping lh sample -> oct (6) ...\n",
      "    Triangle neighbors and vertex normals...\n",
      "Loading geometry from /home/lauraflyra/mne_data/MNE-sample-data/subjects/sample/surf/lh.sphere...\n",
      "Setting up the triangulation for the decimated surface...\n",
      "loaded lh.white 4098/155407 selected to source space (oct = 6)\n",
      "\n",
      "Loading /home/lauraflyra/mne_data/MNE-sample-data/subjects/sample/surf/rh.white...\n",
      "Mapping rh sample -> oct (6) ...\n",
      "    Triangle neighbors and vertex normals...\n",
      "Loading geometry from /home/lauraflyra/mne_data/MNE-sample-data/subjects/sample/surf/rh.sphere...\n",
      "Setting up the triangulation for the decimated surface...\n",
      "loaded rh.white 4098/156866 selected to source space (oct = 6)\n",
      "\n",
      "You are now one step closer to computing the gain matrix\n",
      "Sphere                : origin at (0.0 0.0 0.0) mm\n",
      "              radius  : 120.0 mm\n",
      "grid                  : 5.0 mm\n",
      "mindist               : 5.0 mm\n",
      "MRI volume            : /home/lauraflyra/mne_data/MNE-sample-data/subjects/sample/mri/aseg.mgz\n",
      "\n",
      "Reading /home/lauraflyra/mne_data/MNE-sample-data/subjects/sample/mri/aseg.mgz...\n",
      "\n",
      "Setting up the sphere...\n",
      "Surface CM = (   0.0    0.0    0.0) mm\n",
      "Surface fits inside a sphere with radius  120.0 mm\n",
      "Surface extent:\n",
      "    x = -120.0 ...  120.0 mm\n",
      "    y = -120.0 ...  120.0 mm\n",
      "    z = -120.0 ...  120.0 mm\n",
      "Grid extent:\n",
      "    x = -125.0 ...  125.0 mm\n",
      "    y = -125.0 ...  125.0 mm\n",
      "    z = -125.0 ...  125.0 mm\n",
      "132651 sources before omitting any.\n",
      "57769 sources after omitting infeasible sources not within 0.0 - 120.0 mm.\n",
      "50733 sources remaining after excluding the sources outside the surface and less than    5.0 mm inside.\n",
      "    Selected 401 voxels from Left-Cerebellum-Cortex\n",
      "Adjusting the neighborhood info.\n",
      "Source space : MRI voxel -> MRI (surface RAS)\n",
      "     0.005000  0.000000  0.000000    -125.00 mm\n",
      "     0.000000  0.005000  0.000000    -125.00 mm\n",
      "     0.000000  0.000000  0.005000    -125.00 mm\n",
      "     0.000000  0.000000  0.000000       1.00\n",
      "MRI volume : MRI voxel -> MRI (surface RAS)\n",
      "    -0.001000  0.000000  0.000000     128.00 mm\n",
      "     0.000000  0.000000  0.001000    -128.00 mm\n",
      "     0.000000 -0.001000  0.000000     128.00 mm\n",
      "     0.000000  0.000000  0.000000       1.00\n",
      "MRI volume : MRI (surface RAS) -> RAS (non-zero origin)\n",
      "     1.000000 -0.000000 -0.000000      -5.27 mm\n",
      "    -0.000000  1.000000 -0.000000       9.04 mm\n",
      "    -0.000000  0.000000  1.000000     -27.29 mm\n",
      "     0.000000  0.000000  0.000000       1.00\n",
      "Setting up volume interpolation ...\n",
      "    556177/16777216 nonzero values for Left-Cerebellum-Cortex\n",
      "[done]\n"
     ]
    }
   ],
   "source": [],
   "metadata": {
    "collapsed": false,
    "pycharm": {
     "name": "#%%\n"
    }
   }
  }
 ],
 "metadata": {
  "kernelspec": {
   "display_name": "Python 3",
   "language": "python",
   "name": "python3"
  },
  "language_info": {
   "codemirror_mode": {
    "name": "ipython",
    "version": 3
   },
   "file_extension": ".py",
   "mimetype": "text/x-python",
   "name": "python",
   "nbconvert_exporter": "python",
   "pygments_lexer": "ipython3",
   "version": "3.8.0"
  }
 },
 "nbformat": 4,
 "nbformat_minor": 0
}