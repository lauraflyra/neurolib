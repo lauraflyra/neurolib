{
 "cells": [
  {
   "cell_type": "code",
   "execution_count": 1,
   "outputs": [],
   "source": [
    "from model import EEGModel\n",
    "%load_ext autoreload\n",
    "%autoreload 2\n",
    "import matplotlib\n",
    "import mne\n",
    "from neurolib.utils.collections import dotdict\n",
    "from neurolib.utils.loadData import Dataset\n",
    "# Let's import the aln model\n",
    "from neurolib.models.aln import ALNModel\n",
    "import neurolib.utils.functions as func"
   ],
   "metadata": {
    "collapsed": false,
    "pycharm": {
     "name": "#%%\n"
    }
   }
  },
  {
   "cell_type": "code",
   "execution_count": 4,
   "outputs": [
    {
     "name": "stdout",
     "output_type": "stream",
     "text": [
      "Creating the BEM geometry...\n",
      "Going from 5th to 4th subdivision of an icosahedron (n_tri: 20480 -> 5120)\n",
      "Going from 5th to 4th subdivision of an icosahedron (n_tri: 20480 -> 5120)\n",
      "Going from 5th to 4th subdivision of an icosahedron (n_tri: 20480 -> 5120)\n",
      "outer skin  CM is  -0.21 -19.38  -0.23 mm\n",
      "outer skull CM is  -0.19 -19.34  -0.49 mm\n",
      "inner skull CM is  -0.53 -21.10   6.21 mm\n",
      "Checking that surface outer skull is inside surface outer skin  ...\n",
      "Checking that surface inner skull is inside surface outer skull ...\n",
      "Checking distance between outer skin  and outer skull surfaces...\n",
      "Minimum distance between the outer skin  and outer skull surfaces is approximately    1.6 mm\n",
      "Checking distance between outer skull and inner skull surfaces...\n",
      "Minimum distance between the outer skull and inner skull surfaces is approximately    5.4 mm\n",
      "Surfaces passed the basic topology checks.\n",
      "Complete.\n",
      "\n",
      "Approximation method : Linear collocation\n",
      "\n",
      "Three-layer model surfaces loaded.\n",
      "Computing the linear collocation solution...\n",
      "    Matrix coefficients...\n",
      "        outer skin  (2562) -> outer skin  (2562) ...\n",
      "        outer skin  (2562) -> outer skull (2562) ...\n",
      "        outer skin  (2562) -> inner skull (2562) ...\n",
      "        outer skull (2562) -> outer skin  (2562) ...\n",
      "        outer skull (2562) -> outer skull (2562) ...\n",
      "        outer skull (2562) -> inner skull (2562) ...\n",
      "        inner skull (2562) -> outer skin  (2562) ...\n",
      "        inner skull (2562) -> outer skull (2562) ...\n",
      "        inner skull (2562) -> inner skull (2562) ...\n",
      "    Inverting the coefficient matrix...\n",
      "IP approach required...\n",
      "    Matrix coefficients (homog)...\n",
      "        inner skull (2562) -> inner skull (2562) ...\n",
      "    Inverting the coefficient matrix (homog)...\n",
      "    Modify the original solution to incorporate IP approach...\n",
      "        Combining...\n",
      "        Scaling...\n",
      "Solution ready.\n",
      "BEM geometry computations complete.\n",
      "BEM              : <ConductorModel | BEM (3 layers)>\n",
      "grid                  : 5.0 mm\n",
      "mindist               : 5.0 mm\n",
      "MRI volume            : /home/lauraflyra/Documents/BCCN/NI_project/neurolib/neurolib/models/eeg/../../data/datasets/eeg_fsaverage/fsaverage/mri/T1.mgz\n",
      "\n",
      "Reading /home/lauraflyra/Documents/BCCN/NI_project/neurolib/neurolib/models/eeg/../../data/datasets/eeg_fsaverage/fsaverage/mri/T1.mgz...\n",
      "\n",
      "Taking inner skull from <ConductorModel | BEM (3 layers)>\n",
      "Surface CM = (  -0.5  -21.1    6.2) mm\n",
      "Surface fits inside a sphere with radius   98.3 mm\n",
      "Surface extent:\n",
      "    x =  -75.2 ...   76.3 mm\n",
      "    y = -113.3 ...   75.0 mm\n",
      "    z =  -71.7 ...   88.2 mm\n",
      "Grid extent:\n",
      "    x =  -80.0 ...   80.0 mm\n",
      "    y = -115.0 ...   75.0 mm\n",
      "    z =  -75.0 ...   90.0 mm\n",
      "43758 sources before omitting any.\n",
      "29824 sources after omitting infeasible sources not within 0.0 - 98.3 mm.\n",
      "Source spaces are in MRI coordinates.\n",
      "Checking that the sources are inside the surface and at least    5.0 mm away (will take a few...)\n",
      "Checking surface interior status for 29824 points...\n",
      "    Found  3653/29824 points inside  an interior sphere of radius   47.7 mm\n",
      "    Found     0/29824 points outside an exterior sphere of radius   98.3 mm\n",
      "    Found 11570/26171 points outside using surface Qhull\n",
      "    Found   795/14601 points outside using solid angles\n",
      "    Total 17459/29824 points inside the surface\n",
      "Interior check completed in 5562.2 ms\n",
      "    12365 source space points omitted because they are outside the inner skull surface.\n",
      "    2830 source space points omitted because of the    5.0-mm distance limit.\n",
      "14629 sources remaining after excluding the sources outside the surface and less than    5.0 mm inside.\n",
      "Adjusting the neighborhood info.\n",
      "Source space : MRI voxel -> MRI (surface RAS)\n",
      "     0.005000  0.000000  0.000000     -80.00 mm\n",
      "     0.000000  0.005000  0.000000    -115.00 mm\n",
      "     0.000000  0.000000  0.005000     -75.00 mm\n",
      "     0.000000  0.000000  0.000000       1.00\n",
      "MRI volume : MRI voxel -> MRI (surface RAS)\n",
      "    -0.001000  0.000000  0.000000     128.00 mm\n",
      "     0.000000  0.000000  0.001000    -128.00 mm\n",
      "     0.000000 -0.001000  0.000000     128.00 mm\n",
      "     0.000000  0.000000  0.000000       1.00\n",
      "MRI volume : MRI (surface RAS) -> RAS (non-zero origin)\n",
      "     1.000000  0.000000  0.000000       0.00 mm\n",
      "     0.000000  1.000000  0.000000       0.00 mm\n",
      "     0.000000  0.000000  1.000000       0.00 mm\n",
      "     0.000000  0.000000  0.000000       1.00\n"
     ]
    }
   ],
   "source": [
    "params_eeg = dotdict({\"dt\":0.1})\n",
    "eeg = EEGModel(params_eeg)"
   ],
   "metadata": {
    "collapsed": false,
    "pycharm": {
     "name": "#%%\n"
    }
   }
  },
  {
   "cell_type": "code",
   "execution_count": 3,
   "outputs": [],
   "source": [
    "# plot_bem_kwargs = dict(\n",
    "#     subject=eeg.subject, subjects_dir=eeg.subject_dir,\n",
    "#     brain_surfaces='white', orientation='coronal',\n",
    "#     slices=[50, 100, 150, 200])\n",
    "#\n",
    "# mne.viz.plot_bem(**plot_bem_kwargs)"
   ],
   "metadata": {
    "collapsed": false,
    "pycharm": {
     "name": "#%%\n"
    }
   }
  },
  {
   "cell_type": "code",
   "execution_count": 4,
   "outputs": [],
   "source": [
    "# mne.viz.plot_alignment(\n",
    "#     eeg.info, src=eeg.src, eeg=['original', 'projected'], trans=eeg.trans,\n",
    "#     show_axes=True, mri_fiducials=True, dig='fiducials')"
   ],
   "metadata": {
    "collapsed": false,
    "pycharm": {
     "name": "#%%\n"
    }
   }
  },
  {
   "cell_type": "code",
   "execution_count": 5,
   "outputs": [
    {
     "name": "stdout",
     "output_type": "stream",
     "text": [
      "Source space          : <SourceSpaces: [<volume, shape=(33, 39, 34), n_used=14629>] MRI (surface RAS) coords, subject 'fsaverage', ~10.8 MB>\n",
      "MRI -> head transform : /home/lauraflyra/anaconda3/envs/mne/lib/python3.10/site-packages/mne/data/fsaverage/fsaverage-trans.fif\n",
      "Measurement data      : instance of Info\n",
      "Conductor model   : instance of ConductorModel\n",
      "Accurate field computations\n",
      "Do computations in head coordinates\n",
      "Free source orientations\n",
      "\n",
      "Read 1 source spaces a total of 14629 active source locations\n",
      "\n",
      "Coordinate transformation: MRI (surface RAS) -> head\n",
      "     0.999994  0.003552  0.000202      -1.76 mm\n",
      "    -0.003558  0.998389  0.056626      31.09 mm\n",
      "    -0.000001 -0.056626  0.998395      39.60 mm\n",
      "     0.000000  0.000000  0.000000       1.00\n",
      "\n",
      "Read  94 EEG channels from info\n",
      "Head coordinate coil definitions created.\n",
      "Source spaces are now in head coordinates.\n",
      "\n",
      "Employing the head->MRI coordinate transform with the BEM model.\n",
      "BEM model instance of ConductorModel is now set up\n",
      "\n",
      "Source spaces are in head coordinates.\n",
      "Checking that the sources are inside the surface (will take a few...)\n",
      "Checking surface interior status for 14629 points...\n",
      "    Found  3644/14629 points inside  an interior sphere of radius   47.7 mm\n",
      "    Found     0/14629 points outside an exterior sphere of radius   98.3 mm\n",
      "    Found     0/10985 points outside using surface Qhull\n",
      "    Found     0/10985 points outside using solid angles\n",
      "    Total 14629/14629 points inside the surface\n",
      "Interior check completed in 4706.1 ms\n",
      "\n",
      "Setting up for EEG...\n",
      "Computing EEG at 14629 source locations (free orientations)...\n",
      "\n",
      "Finished.\n"
     ]
    }
   ],
   "source": [
    "forward_solution = mne.make_forward_solution(eeg.info, trans=eeg.trans, src=eeg.src, bem=eeg.bem,\n",
    "                                meg=False, eeg=True, mindist=0.0)\n",
    "\n",
    "\n",
    "\n",
    "leadfield = forward_solution['sol']['data']"
   ],
   "metadata": {
    "collapsed": false,
    "pycharm": {
     "name": "#%%\n"
    }
   }
  },
  {
   "cell_type": "code",
   "execution_count": 6,
   "outputs": [],
   "source": [
    "ds = Dataset(\"gw\")"
   ],
   "metadata": {
    "collapsed": false,
    "pycharm": {
     "name": "#%%\n"
    }
   }
  },
  {
   "cell_type": "code",
   "execution_count": 7,
   "outputs": [],
   "source": [
    "aln = ALNModel(Cmat = ds.Cmat, Dmat = ds.Dmat)\n",
    "aln.params['duration'] = 0.02*60*1000\n",
    "# Info: value 0.2*60*1000 is low for testing\n",
    "# use 5*60*1000 for real simulation"
   ],
   "metadata": {
    "collapsed": false,
    "pycharm": {
     "name": "#%%\n"
    }
   }
  },
  {
   "cell_type": "code",
   "execution_count": 8,
   "outputs": [
    {
     "name": "stdout",
     "output_type": "stream",
     "text": [
      "Creating the BEM geometry...\n",
      "Going from 5th to 4th subdivision of an icosahedron (n_tri: 20480 -> 5120)\n",
      "Going from 5th to 4th subdivision of an icosahedron (n_tri: 20480 -> 5120)\n",
      "Going from 5th to 4th subdivision of an icosahedron (n_tri: 20480 -> 5120)\n",
      "outer skin  CM is  -0.21 -19.38  -0.23 mm\n",
      "outer skull CM is  -0.19 -19.34  -0.49 mm\n",
      "inner skull CM is  -0.53 -21.10   6.21 mm\n",
      "Checking that surface outer skull is inside surface outer skin  ...\n",
      "Checking that surface inner skull is inside surface outer skull ...\n",
      "Checking distance between outer skin  and outer skull surfaces...\n",
      "Minimum distance between the outer skin  and outer skull surfaces is approximately    1.6 mm\n",
      "Checking distance between outer skull and inner skull surfaces...\n",
      "Minimum distance between the outer skull and inner skull surfaces is approximately    5.4 mm\n",
      "Surfaces passed the basic topology checks.\n",
      "Complete.\n",
      "\n",
      "Approximation method : Linear collocation\n",
      "\n",
      "Three-layer model surfaces loaded.\n",
      "Computing the linear collocation solution...\n",
      "    Matrix coefficients...\n",
      "        outer skin  (2562) -> outer skin  (2562) ...\n",
      "        outer skin  (2562) -> outer skull (2562) ...\n",
      "        outer skin  (2562) -> inner skull (2562) ...\n",
      "        outer skull (2562) -> outer skin  (2562) ...\n",
      "        outer skull (2562) -> outer skull (2562) ...\n",
      "        outer skull (2562) -> inner skull (2562) ...\n",
      "        inner skull (2562) -> outer skin  (2562) ...\n",
      "        inner skull (2562) -> outer skull (2562) ...\n",
      "        inner skull (2562) -> inner skull (2562) ...\n",
      "    Inverting the coefficient matrix...\n",
      "IP approach required...\n",
      "    Matrix coefficients (homog)...\n",
      "        inner skull (2562) -> inner skull (2562) ...\n",
      "    Inverting the coefficient matrix (homog)...\n",
      "    Modify the original solution to incorporate IP approach...\n",
      "        Combining...\n",
      "        Scaling...\n",
      "Solution ready.\n",
      "BEM geometry computations complete.\n",
      "BEM              : <ConductorModel | BEM (3 layers)>\n",
      "grid                  : 5.0 mm\n",
      "mindist               : 5.0 mm\n",
      "MRI volume            : /home/lauraflyra/Documents/BCCN/NI_project/neurolib/neurolib/models/eeg/../../data/datasets/eeg_fsaverage/fsaverage/mri/T1.mgz\n",
      "\n",
      "Reading /home/lauraflyra/Documents/BCCN/NI_project/neurolib/neurolib/models/eeg/../../data/datasets/eeg_fsaverage/fsaverage/mri/T1.mgz...\n",
      "\n",
      "Taking inner skull from <ConductorModel | BEM (3 layers)>\n",
      "Surface CM = (  -0.5  -21.1    6.2) mm\n",
      "Surface fits inside a sphere with radius   98.3 mm\n",
      "Surface extent:\n",
      "    x =  -75.2 ...   76.3 mm\n",
      "    y = -113.3 ...   75.0 mm\n",
      "    z =  -71.7 ...   88.2 mm\n",
      "Grid extent:\n",
      "    x =  -80.0 ...   80.0 mm\n",
      "    y = -115.0 ...   75.0 mm\n",
      "    z =  -75.0 ...   90.0 mm\n",
      "43758 sources before omitting any.\n",
      "29824 sources after omitting infeasible sources not within 0.0 - 98.3 mm.\n",
      "Source spaces are in MRI coordinates.\n",
      "Checking that the sources are inside the surface and at least    5.0 mm away (will take a few...)\n",
      "Checking surface interior status for 29824 points...\n",
      "    Found  3653/29824 points inside  an interior sphere of radius   47.7 mm\n",
      "    Found     0/29824 points outside an exterior sphere of radius   98.3 mm\n",
      "    Found 11570/26171 points outside using surface Qhull\n",
      "    Found   795/14601 points outside using solid angles\n",
      "    Total 17459/29824 points inside the surface\n",
      "Interior check completed in 6309.6 ms\n",
      "    12365 source space points omitted because they are outside the inner skull surface.\n",
      "    2830 source space points omitted because of the    5.0-mm distance limit.\n",
      "14629 sources remaining after excluding the sources outside the surface and less than    5.0 mm inside.\n",
      "Adjusting the neighborhood info.\n",
      "Source space : MRI voxel -> MRI (surface RAS)\n",
      "     0.005000  0.000000  0.000000     -80.00 mm\n",
      "     0.000000  0.005000  0.000000    -115.00 mm\n",
      "     0.000000  0.000000  0.005000     -75.00 mm\n",
      "     0.000000  0.000000  0.000000       1.00\n",
      "MRI volume : MRI voxel -> MRI (surface RAS)\n",
      "    -0.001000  0.000000  0.000000     128.00 mm\n",
      "     0.000000  0.000000  0.001000    -128.00 mm\n",
      "     0.000000 -0.001000  0.000000     128.00 mm\n",
      "     0.000000  0.000000  0.000000       1.00\n",
      "MRI volume : MRI (surface RAS) -> RAS (non-zero origin)\n",
      "     1.000000  0.000000  0.000000       0.00 mm\n",
      "     0.000000  1.000000  0.000000       0.00 mm\n",
      "     0.000000  0.000000  1.000000       0.00 mm\n",
      "     0.000000  0.000000  0.000000       1.00\n",
      "Source space          : <SourceSpaces: [<volume, shape=(33, 39, 34), n_used=14629>] MRI (surface RAS) coords, subject 'fsaverage', ~10.8 MB>\n",
      "MRI -> head transform : /home/lauraflyra/anaconda3/envs/mne/lib/python3.10/site-packages/mne/data/fsaverage/fsaverage-trans.fif\n",
      "Measurement data      : instance of Info\n",
      "Conductor model   : instance of ConductorModel\n",
      "Accurate field computations\n",
      "Do computations in head coordinates\n",
      "Free source orientations\n",
      "\n",
      "Read 1 source spaces a total of 14629 active source locations\n",
      "\n",
      "Coordinate transformation: MRI (surface RAS) -> head\n",
      "     0.999994  0.003552  0.000202      -1.76 mm\n",
      "    -0.003558  0.998389  0.056626      31.09 mm\n",
      "    -0.000001 -0.056626  0.998395      39.60 mm\n",
      "     0.000000  0.000000  0.000000       1.00\n",
      "\n",
      "Read  94 EEG channels from info\n",
      "Head coordinate coil definitions created.\n",
      "Source spaces are now in head coordinates.\n",
      "\n",
      "Employing the head->MRI coordinate transform with the BEM model.\n",
      "BEM model instance of ConductorModel is now set up\n",
      "\n",
      "Source spaces are in head coordinates.\n",
      "Checking that the sources are inside the surface (will take a few...)\n",
      "Checking surface interior status for 14629 points...\n",
      "    Found  3644/14629 points inside  an interior sphere of radius   47.7 mm\n",
      "    Found     0/14629 points outside an exterior sphere of radius   98.3 mm\n",
      "    Found     0/10985 points outside using surface Qhull\n",
      "    Found     0/10985 points outside using solid angles\n",
      "    Total 14629/14629 points inside the surface\n",
      "Interior check completed in 4374.3 ms\n",
      "\n",
      "Setting up for EEG...\n",
      "Computing EEG at 14629 source locations (free orientations)...\n",
      "\n",
      "Finished.\n"
     ]
    }
   ],
   "source": [
    "# initialize ALN Model\n",
    "ds = Dataset(\"gw\")\n",
    "aln = ALNModel(Cmat = ds.Cmat, Dmat = ds.Dmat)\n",
    "aln.params['duration'] = 0.2*60*1000\n",
    "\n",
    "# change EEG parameters\n",
    "aln.params['eeg_conductances'] = (0.3, 0.006, 0.3)\n",
    "aln.params['eeg_scr_spacing'] = \"oct6\"\n",
    "aln.params['eeg_montage_sfreq'] = 256\n",
    "\n",
    "# run model with eeg=True\n",
    "aln.run(eeg=True)\n",
    "\n",
    "# access EEG signal\n",
    "EEG = aln.outputs['EEG']['EEG']\n",
    "t_EEG = aln.outputs['EEG']['t_EEG']"
   ],
   "metadata": {
    "collapsed": false,
    "pycharm": {
     "name": "#%%\n"
    }
   }
  },
  {
   "cell_type": "code",
   "execution_count": 9,
   "outputs": [
    {
     "data": {
      "text/plain": "array([1.00000e-01, 4.00000e+00, 7.90000e+00, ..., 1.19887e+04,\n       1.19926e+04, 1.19965e+04])"
     },
     "execution_count": 9,
     "metadata": {},
     "output_type": "execute_result"
    }
   ],
   "source": [
    "aln.outputs['EEG']['t_EEG']"
   ],
   "metadata": {
    "collapsed": false,
    "pycharm": {
     "name": "#%%\n"
    }
   }
  }
 ],
 "metadata": {
  "kernelspec": {
   "display_name": "Python 3",
   "language": "python",
   "name": "python3"
  },
  "language_info": {
   "codemirror_mode": {
    "name": "ipython",
    "version": 2
   },
   "file_extension": ".py",
   "mimetype": "text/x-python",
   "name": "python",
   "nbconvert_exporter": "python",
   "pygments_lexer": "ipython2",
   "version": "2.7.6"
  }
 },
 "nbformat": 4,
 "nbformat_minor": 0
}