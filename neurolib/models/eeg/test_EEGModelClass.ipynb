{
 "cells": [
  {
   "cell_type": "code",
   "execution_count": 1,
   "outputs": [],
   "source": [
    "from model import EEGModel\n",
    "%load_ext autoreload\n",
    "%autoreload 2\n",
    "import matplotlib\n",
    "import mne\n",
    "from neurolib.utils.collections import dotdict\n",
    "from neurolib.utils.loadData import Dataset\n",
    "# Let's import the aln model\n",
    "from neurolib.models.aln import ALNModel\n",
    "import neurolib.utils.functions as func\n",
    "import numpy as np"
   ],
   "metadata": {
    "collapsed": false,
    "pycharm": {
     "name": "#%%\n"
    }
   }
  },
  {
   "cell_type": "code",
   "execution_count": 2,
   "outputs": [
    {
     "name": "stdout",
     "output_type": "stream",
     "text": [
      "Creating the BEM geometry...\n",
      "Going from 5th to 4th subdivision of an icosahedron (n_tri: 20480 -> 5120)\n",
      "Going from 5th to 4th subdivision of an icosahedron (n_tri: 20480 -> 5120)\n",
      "Going from 5th to 4th subdivision of an icosahedron (n_tri: 20480 -> 5120)\n",
      "outer skin  CM is  -0.21 -19.38  -0.23 mm\n",
      "outer skull CM is  -0.19 -19.34  -0.49 mm\n",
      "inner skull CM is  -0.53 -21.10   6.21 mm\n",
      "Checking that surface outer skull is inside surface outer skin  ...\n",
      "Checking that surface inner skull is inside surface outer skull ...\n",
      "Checking distance between outer skin  and outer skull surfaces...\n",
      "Minimum distance between the outer skin  and outer skull surfaces is approximately    1.6 mm\n",
      "Checking distance between outer skull and inner skull surfaces...\n",
      "Minimum distance between the outer skull and inner skull surfaces is approximately    5.4 mm\n",
      "Surfaces passed the basic topology checks.\n",
      "Complete.\n",
      "\n",
      "Approximation method : Linear collocation\n",
      "\n",
      "Three-layer model surfaces loaded.\n",
      "Computing the linear collocation solution...\n",
      "    Matrix coefficients...\n",
      "        outer skin  (2562) -> outer skin  (2562) ...\n",
      "        outer skin  (2562) -> outer skull (2562) ...\n",
      "        outer skin  (2562) -> inner skull (2562) ...\n",
      "        outer skull (2562) -> outer skin  (2562) ...\n",
      "        outer skull (2562) -> outer skull (2562) ...\n",
      "        outer skull (2562) -> inner skull (2562) ...\n",
      "        inner skull (2562) -> outer skin  (2562) ...\n",
      "        inner skull (2562) -> outer skull (2562) ...\n",
      "        inner skull (2562) -> inner skull (2562) ...\n",
      "    Inverting the coefficient matrix...\n",
      "IP approach required...\n",
      "    Matrix coefficients (homog)...\n",
      "        inner skull (2562) -> inner skull (2562) ...\n",
      "    Inverting the coefficient matrix (homog)...\n",
      "    Modify the original solution to incorporate IP approach...\n",
      "        Combining...\n",
      "        Scaling...\n",
      "Solution ready.\n",
      "BEM geometry computations complete.\n",
      "Setting up the source space with the following parameters:\n",
      "\n",
      "SUBJECTS_DIR = /home/lauraflyra/Documents/BCCN/NI_project/neurolib/neurolib/models/eeg/../../data/datasets/eeg_fsaverage\n",
      "Subject      = fsaverage\n",
      "Surface      = white\n",
      "Octahedron subdivision grade 6\n",
      "\n",
      ">>> 1. Creating the source space...\n",
      "\n",
      "Doing the octahedral vertex picking...\n",
      "Loading /home/lauraflyra/Documents/BCCN/NI_project/neurolib/neurolib/models/eeg/../../data/datasets/eeg_fsaverage/fsaverage/surf/lh.white...\n",
      "Mapping lh fsaverage -> oct (6) ...\n",
      "    Warning: zero size triangles: [3 4]\n",
      "    Triangle neighbors and vertex normals...\n",
      "Loading geometry from /home/lauraflyra/Documents/BCCN/NI_project/neurolib/neurolib/models/eeg/../../data/datasets/eeg_fsaverage/fsaverage/surf/lh.sphere...\n",
      "Setting up the triangulation for the decimated surface...\n",
      "loaded lh.white 4098/163842 selected to source space (oct = 6)\n",
      "\n",
      "Loading /home/lauraflyra/Documents/BCCN/NI_project/neurolib/neurolib/models/eeg/../../data/datasets/eeg_fsaverage/fsaverage/surf/rh.white...\n",
      "Mapping rh fsaverage -> oct (6) ...\n",
      "    Warning: zero size triangles: [3 4]\n",
      "    Triangle neighbors and vertex normals...\n",
      "Loading geometry from /home/lauraflyra/Documents/BCCN/NI_project/neurolib/neurolib/models/eeg/../../data/datasets/eeg_fsaverage/fsaverage/surf/rh.sphere...\n",
      "Setting up the triangulation for the decimated surface...\n",
      "loaded rh.white 4098/163842 selected to source space (oct = 6)\n",
      "\n",
      "Calculating patch information (limit=0.0 mm)...\n",
      "    Computing patch statistics...\n",
      "    Patch information added...\n",
      "    Computing patch statistics...\n",
      "    Patch information added...\n",
      "You are now one step closer to computing the gain matrix\n",
      "Source space          : <SourceSpaces: [<surface (lh), n_vertices=163842, n_used=4098>, <surface (rh), n_vertices=163842, n_used=4098>] MRI (surface RAS) coords, subject 'fsaverage', ~31.2 MB>\n",
      "MRI -> head transform : /home/lauraflyra/anaconda3/envs/mne/lib/python3.10/site-packages/mne/data/fsaverage/fsaverage-trans.fif\n",
      "Measurement data      : instance of Info\n",
      "Conductor model   : instance of ConductorModel\n",
      "Accurate field computations\n",
      "Do computations in head coordinates\n",
      "Free source orientations\n",
      "\n",
      "Read 2 source spaces a total of 8196 active source locations\n",
      "\n",
      "Coordinate transformation: MRI (surface RAS) -> head\n",
      "     0.999994  0.003552  0.000202      -1.76 mm\n",
      "    -0.003558  0.998389  0.056626      31.09 mm\n",
      "    -0.000001 -0.056626  0.998395      39.60 mm\n",
      "     0.000000  0.000000  0.000000       1.00\n",
      "\n",
      "Read  94 EEG channels from info\n",
      "Head coordinate coil definitions created.\n",
      "Source spaces are now in head coordinates.\n",
      "\n",
      "Employing the head->MRI coordinate transform with the BEM model.\n",
      "BEM model instance of ConductorModel is now set up\n",
      "\n",
      "Source spaces are in head coordinates.\n",
      "Checking that the sources are inside the surface (will take a few...)\n",
      "Checking surface interior status for 4098 points...\n",
      "    Found  999/4098 points inside  an interior sphere of radius   47.7 mm\n",
      "    Found    0/4098 points outside an exterior sphere of radius   98.3 mm\n",
      "    Found    0/3099 points outside using surface Qhull\n",
      "    Found    0/3099 points outside using solid angles\n",
      "    Total 4098/4098 points inside the surface\n",
      "Interior check completed in 1222.7 ms\n",
      "Checking surface interior status for 4098 points...\n",
      "    Found  906/4098 points inside  an interior sphere of radius   47.7 mm\n",
      "    Found    0/4098 points outside an exterior sphere of radius   98.3 mm\n",
      "    Found    0/3192 points outside using surface Qhull\n",
      "    Found    0/3192 points outside using solid angles\n",
      "    Total 4098/4098 points inside the surface\n",
      "Interior check completed in 1205.0 ms\n",
      "\n",
      "Setting up for EEG...\n",
      "Computing EEG at 8196 source locations (free orientations)...\n",
      "\n",
      "Finished.\n",
      "    Average patch normals will be employed in the rotation to the local surface coordinates....\n",
      "    Converting to surface-based source orientations...\n",
      "    [done]\n"
     ]
    },
    {
     "ename": "ValueError",
     "evalue": "matmul: Input operand 1 has a mismatch in its core dimension 0, with gufunc signature (n?,k),(k,m?)->(n?,m?) (size 80 is different from 93)",
     "output_type": "error",
     "traceback": [
      "\u001B[0;31m---------------------------------------------------------------------------\u001B[0m",
      "\u001B[0;31mValueError\u001B[0m                                Traceback (most recent call last)",
      "Input \u001B[0;32mIn [2]\u001B[0m, in \u001B[0;36m<cell line: 12>\u001B[0;34m()\u001B[0m\n\u001B[1;32m      9\u001B[0m aln\u001B[38;5;241m.\u001B[39mparams[\u001B[38;5;124m'\u001B[39m\u001B[38;5;124meeg_montage_sfreq\u001B[39m\u001B[38;5;124m'\u001B[39m] \u001B[38;5;241m=\u001B[39m \u001B[38;5;241m150\u001B[39m\n\u001B[1;32m     11\u001B[0m \u001B[38;5;66;03m# run model with eeg=True\u001B[39;00m\n\u001B[0;32m---> 12\u001B[0m \u001B[43maln\u001B[49m\u001B[38;5;241;43m.\u001B[39;49m\u001B[43mrun\u001B[49m\u001B[43m(\u001B[49m\u001B[43meeg\u001B[49m\u001B[38;5;241;43m=\u001B[39;49m\u001B[38;5;28;43;01mTrue\u001B[39;49;00m\u001B[43m)\u001B[49m\n\u001B[1;32m     14\u001B[0m \u001B[38;5;66;03m# access EEG signal\u001B[39;00m\n\u001B[1;32m     15\u001B[0m EEG \u001B[38;5;241m=\u001B[39m aln\u001B[38;5;241m.\u001B[39moutputs[\u001B[38;5;124m'\u001B[39m\u001B[38;5;124mEEG\u001B[39m\u001B[38;5;124m'\u001B[39m][\u001B[38;5;124m'\u001B[39m\u001B[38;5;124mEEG\u001B[39m\u001B[38;5;124m'\u001B[39m]\n",
      "File \u001B[0;32m~/Documents/BCCN/NI_project/neurolib/neurolib/models/model.py:288\u001B[0m, in \u001B[0;36mModel.run\u001B[0;34m(self, inputs, chunkwise, chunksize, bold, eeg, append, append_outputs, continue_run)\u001B[0m\n\u001B[1;32m    285\u001B[0m chunkwise \u001B[38;5;241m=\u001B[39m chunkwise \u001B[38;5;28;01mif\u001B[39;00m chunksize \u001B[38;5;129;01mis\u001B[39;00m \u001B[38;5;28;01mNone\u001B[39;00m \u001B[38;5;28;01melse\u001B[39;00m \u001B[38;5;28;01mTrue\u001B[39;00m\n\u001B[1;32m    287\u001B[0m \u001B[38;5;28;01mif\u001B[39;00m chunkwise \u001B[38;5;129;01mis\u001B[39;00m \u001B[38;5;28;01mFalse\u001B[39;00m:\n\u001B[0;32m--> 288\u001B[0m     \u001B[38;5;28;43mself\u001B[39;49m\u001B[38;5;241;43m.\u001B[39;49m\u001B[43mintegrate\u001B[49m\u001B[43m(\u001B[49m\u001B[43mappend_outputs\u001B[49m\u001B[38;5;241;43m=\u001B[39;49m\u001B[43mappend\u001B[49m\u001B[43m,\u001B[49m\u001B[43m \u001B[49m\u001B[43msimulate_bold\u001B[49m\u001B[38;5;241;43m=\u001B[39;49m\u001B[43mbold\u001B[49m\u001B[43m,\u001B[49m\n\u001B[1;32m    289\u001B[0m \u001B[43m                   \u001B[49m\u001B[43msimulate_eeg\u001B[49m\u001B[38;5;241;43m=\u001B[39;49m\u001B[43meeg\u001B[49m\u001B[43m)\u001B[49m\n\u001B[1;32m    290\u001B[0m     \u001B[38;5;28;01mif\u001B[39;00m continue_run:\n\u001B[1;32m    291\u001B[0m         \u001B[38;5;28mself\u001B[39m\u001B[38;5;241m.\u001B[39msetInitialValuesToLastState()\n",
      "File \u001B[0;32m~/Documents/BCCN/NI_project/neurolib/neurolib/models/model.py:356\u001B[0m, in \u001B[0;36mModel.integrate\u001B[0;34m(self, append_outputs, simulate_bold, simulate_eeg)\u001B[0m\n\u001B[1;32m    354\u001B[0m \u001B[38;5;66;03m# eeg simulation after integration\u001B[39;00m\n\u001B[1;32m    355\u001B[0m \u001B[38;5;28;01mif\u001B[39;00m simulate_eeg \u001B[38;5;129;01mand\u001B[39;00m \u001B[38;5;28mself\u001B[39m\u001B[38;5;241m.\u001B[39meegInitialized:\n\u001B[0;32m--> 356\u001B[0m     \u001B[38;5;28;43mself\u001B[39;49m\u001B[38;5;241;43m.\u001B[39;49m\u001B[43msimulateEEG\u001B[49m\u001B[43m(\u001B[49m\u001B[43mt\u001B[49m\u001B[43m,\u001B[49m\u001B[43m \u001B[49m\u001B[43mvariables\u001B[49m\u001B[43m,\u001B[49m\u001B[43m \u001B[49m\u001B[43mappend\u001B[49m\u001B[38;5;241;43m=\u001B[39;49m\u001B[38;5;28;43;01mTrue\u001B[39;49;00m\u001B[43m)\u001B[49m\n",
      "File \u001B[0;32m~/Documents/BCCN/NI_project/neurolib/neurolib/models/model.py:145\u001B[0m, in \u001B[0;36mModel.simulateEEG\u001B[0;34m(self, t, variables, append)\u001B[0m\n\u001B[1;32m    142\u001B[0m \u001B[38;5;28;01mif\u001B[39;00m \u001B[38;5;28mself\u001B[39m\u001B[38;5;241m.\u001B[39meegInputTransform:\n\u001B[1;32m    143\u001B[0m     eeg_input \u001B[38;5;241m=\u001B[39m \u001B[38;5;28mself\u001B[39m\u001B[38;5;241m.\u001B[39meegInputTransform(eeg_input)\n\u001B[0;32m--> 145\u001B[0m \u001B[38;5;28;43mself\u001B[39;49m\u001B[38;5;241;43m.\u001B[39;49m\u001B[43meegModel\u001B[49m\u001B[38;5;241;43m.\u001B[39;49m\u001B[43mrun\u001B[49m\u001B[43m(\u001B[49m\u001B[43meeg_input\u001B[49m\u001B[43m,\u001B[49m\u001B[43m \u001B[49m\u001B[43mappend\u001B[49m\u001B[38;5;241;43m=\u001B[39;49m\u001B[43mappend\u001B[49m\u001B[43m)\u001B[49m\n\u001B[1;32m    147\u001B[0m \u001B[38;5;66;03m# TODO: should user be able to change frequency of EEG\u001B[39;00m\n\u001B[1;32m    148\u001B[0m t_EEG \u001B[38;5;241m=\u001B[39m \u001B[38;5;28mself\u001B[39m\u001B[38;5;241m.\u001B[39meegModel\u001B[38;5;241m.\u001B[39mt_EEG\n",
      "File \u001B[0;32m~/Documents/BCCN/NI_project/neurolib/neurolib/models/eeg/model.py:171\u001B[0m, in \u001B[0;36mEEGModel.run\u001B[0;34m(self, activity, append)\u001B[0m\n\u001B[1;32m    167\u001B[0m     \u001B[38;5;28mself\u001B[39m\u001B[38;5;241m.\u001B[39munique_labels, \u001B[38;5;28mself\u001B[39m\u001B[38;5;241m.\u001B[39mleadfield \u001B[38;5;241m=\u001B[39m \u001B[38;5;28mself\u001B[39m\u001B[38;5;241m.\u001B[39mdownsampling()\n\u001B[1;32m    169\u001B[0m \u001B[38;5;66;03m# TODO: insert in the README info about the transformations used\u001B[39;00m\n\u001B[0;32m--> 171\u001B[0m EEG_output \u001B[38;5;241m=\u001B[39m \u001B[38;5;28;43mself\u001B[39;49m\u001B[38;5;241;43m.\u001B[39;49m\u001B[43mleadfield\u001B[49m\u001B[43m \u001B[49m\u001B[38;5;241;43m@\u001B[39;49m\u001B[43m \u001B[49m\u001B[43mactivity\u001B[49m\n\u001B[1;32m    173\u001B[0m \u001B[38;5;66;03m# downsample to EEG rate\u001B[39;00m\n\u001B[1;32m    174\u001B[0m EEG_resampled \u001B[38;5;241m=\u001B[39m EEG_output[\n\u001B[1;32m    175\u001B[0m                 :, \u001B[38;5;28mself\u001B[39m\u001B[38;5;241m.\u001B[39msamplingRate_NDt \u001B[38;5;241m-\u001B[39m np\u001B[38;5;241m.\u001B[39mmod(\u001B[38;5;28mself\u001B[39m\u001B[38;5;241m.\u001B[39midxLastT \u001B[38;5;241m-\u001B[39m \u001B[38;5;241m1\u001B[39m,\n\u001B[1;32m    176\u001B[0m                                                   \u001B[38;5;28mself\u001B[39m\u001B[38;5;241m.\u001B[39msamplingRate_NDt)::\u001B[38;5;28mself\u001B[39m\u001B[38;5;241m.\u001B[39msamplingRate_NDt]\n",
      "\u001B[0;31mValueError\u001B[0m: matmul: Input operand 1 has a mismatch in its core dimension 0, with gufunc signature (n?,k),(k,m?)->(n?,m?) (size 80 is different from 93)"
     ]
    }
   ],
   "source": [
    "# initialize ALN Model\n",
    "ds = Dataset(\"gw\")\n",
    "aln = ALNModel(Cmat = ds.Cmat, Dmat = ds.Dmat)\n",
    "aln.params['duration'] = 0.2*60*1000\n",
    "\n",
    "# change EEG parameters\n",
    "# aln.params['eeg_conductances'] = (0.3, 0.006, 0.3)\n",
    "# aln.params['eeg_scr_spacing'] = \"oct6\"\n",
    "aln.params['eeg_montage_sfreq'] = 150\n",
    "\n",
    "\n",
    "# run model with eeg=True\n",
    "aln.run(eeg=True)\n",
    "\n",
    "# access EEG signal\n",
    "EEG = aln.outputs['EEG']['EEG']\n",
    "t_EEG = aln.outputs['EEG']['t_EEG']"
   ],
   "metadata": {
    "collapsed": false,
    "pycharm": {
     "name": "#%%\n"
    }
   }
  },
  {
   "cell_type": "code",
   "execution_count": null,
   "outputs": [],
   "source": [
    "aln.outputs['EEG']['t_EEG']"
   ],
   "metadata": {
    "collapsed": false,
    "pycharm": {
     "name": "#%%\n"
    }
   }
  },
  {
   "cell_type": "code",
   "execution_count": null,
   "outputs": [],
   "source": [
    "1/np.diff(aln.outputs['EEG']['t_EEG']/1000) # THIS MEANS THAT THE DOWNSAMPLING IS WORKING!!"
   ],
   "metadata": {
    "collapsed": false,
    "pycharm": {
     "name": "#%%\n"
    }
   }
  },
  {
   "cell_type": "code",
   "execution_count": null,
   "outputs": [],
   "source": [],
   "metadata": {
    "collapsed": false,
    "pycharm": {
     "name": "#%%\n"
    }
   }
  }
 ],
 "metadata": {
  "kernelspec": {
   "display_name": "Python 3",
   "language": "python",
   "name": "python3"
  },
  "language_info": {
   "codemirror_mode": {
    "name": "ipython",
    "version": 2
   },
   "file_extension": ".py",
   "mimetype": "text/x-python",
   "name": "python",
   "nbconvert_exporter": "python",
   "pygments_lexer": "ipython2",
   "version": "2.7.6"
  }
 },
 "nbformat": 4,
 "nbformat_minor": 0
}