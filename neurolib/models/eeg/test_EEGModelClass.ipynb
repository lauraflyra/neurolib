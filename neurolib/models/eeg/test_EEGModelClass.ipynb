{
 "cells": [
  {
   "cell_type": "code",
   "execution_count": 1,
   "metadata": {
    "collapsed": true,
    "pycharm": {
     "name": "#%%\n"
    }
   },
   "outputs": [],
   "source": [
    "from model import EEGModel\n",
    "%load_ext autoreload\n",
    "%autoreload 2\n",
    "import matplotlib\n",
    "import mne\n",
    "from neurolib.utils.collections import dotdict\n",
    "from neurolib.utils.loadData import Dataset\n",
    "# Let's import the aln model\n",
    "from neurolib.models.aln import ALNModel\n",
    "import neurolib.utils.functions as func"
   ]
  },
  {
   "cell_type": "code",
   "execution_count": 3,
   "outputs": [
    {
     "name": "stdout",
     "output_type": "stream",
     "text": [
      "Creating the BEM geometry...\n",
      "Going from 5th to 4th subdivision of an icosahedron (n_tri: 20480 -> 5120)\n",
      "Going from 5th to 4th subdivision of an icosahedron (n_tri: 20480 -> 5120)\n",
      "Going from 5th to 4th subdivision of an icosahedron (n_tri: 20480 -> 5120)\n",
      "outer skin  CM is  -0.21 -19.38  -0.23 mm\n",
      "outer skull CM is  -0.19 -19.34  -0.49 mm\n",
      "inner skull CM is  -0.53 -21.10   6.21 mm\n",
      "Checking that surface outer skull is inside surface outer skin  ...\n",
      "Checking that surface inner skull is inside surface outer skull ...\n",
      "Checking distance between outer skin  and outer skull surfaces...\n",
      "Minimum distance between the outer skin  and outer skull surfaces is approximately    1.6 mm\n",
      "Checking distance between outer skull and inner skull surfaces...\n",
      "Minimum distance between the outer skull and inner skull surfaces is approximately    5.4 mm\n",
      "Surfaces passed the basic topology checks.\n",
      "Complete.\n",
      "\n",
      "Approximation method : Linear collocation\n",
      "\n",
      "Three-layer model surfaces loaded.\n",
      "Computing the linear collocation solution...\n",
      "    Matrix coefficients...\n",
      "        outer skin  (2562) -> outer skin  (2562) ...\n",
      "        outer skin  (2562) -> outer skull (2562) ...\n",
      "        outer skin  (2562) -> inner skull (2562) ...\n",
      "        outer skull (2562) -> outer skin  (2562) ...\n",
      "        outer skull (2562) -> outer skull (2562) ...\n",
      "        outer skull (2562) -> inner skull (2562) ...\n",
      "        inner skull (2562) -> outer skin  (2562) ...\n",
      "        inner skull (2562) -> outer skull (2562) ...\n",
      "        inner skull (2562) -> inner skull (2562) ...\n",
      "    Inverting the coefficient matrix...\n",
      "IP approach required...\n",
      "    Matrix coefficients (homog)...\n",
      "        inner skull (2562) -> inner skull (2562) ...\n",
      "    Inverting the coefficient matrix (homog)...\n",
      "    Modify the original solution to incorporate IP approach...\n",
      "        Combining...\n",
      "        Scaling...\n",
      "Solution ready.\n",
      "BEM geometry computations complete.\n",
      "BEM              : <ConductorModel | BEM (3 layers)>\n",
      "grid                  : 5.0 mm\n",
      "mindist               : 5.0 mm\n",
      "MRI volume            : /home/lauraflyra/mne_data/MNE-fsaverage-data/fsaverage/mri/T1.mgz\n",
      "\n",
      "Reading /home/lauraflyra/mne_data/MNE-fsaverage-data/fsaverage/mri/T1.mgz...\n",
      "\n",
      "Taking inner skull from <ConductorModel | BEM (3 layers)>\n",
      "Surface CM = (  -0.5  -21.1    6.2) mm\n",
      "Surface fits inside a sphere with radius   98.3 mm\n",
      "Surface extent:\n",
      "    x =  -75.2 ...   76.3 mm\n",
      "    y = -113.3 ...   75.0 mm\n",
      "    z =  -71.7 ...   88.2 mm\n",
      "Grid extent:\n",
      "    x =  -80.0 ...   80.0 mm\n",
      "    y = -115.0 ...   75.0 mm\n",
      "    z =  -75.0 ...   90.0 mm\n",
      "43758 sources before omitting any.\n",
      "29824 sources after omitting infeasible sources not within 0.0 - 98.3 mm.\n",
      "Source spaces are in MRI coordinates.\n",
      "Checking that the sources are inside the surface and at least    5.0 mm away (will take a few...)\n",
      "Checking surface interior status for 29824 points...\n",
      "    Found  3653/29824 points inside  an interior sphere of radius   47.7 mm\n",
      "    Found     0/29824 points outside an exterior sphere of radius   98.3 mm\n",
      "    Found 11570/26171 points outside using surface Qhull\n",
      "    Found   795/14601 points outside using solid angles\n",
      "    Total 17459/29824 points inside the surface\n",
      "Interior check completed in 5755.4 ms\n",
      "    12365 source space points omitted because they are outside the inner skull surface.\n",
      "    2830 source space points omitted because of the    5.0-mm distance limit.\n",
      "14629 sources remaining after excluding the sources outside the surface and less than    5.0 mm inside.\n",
      "Adjusting the neighborhood info.\n",
      "Source space : MRI voxel -> MRI (surface RAS)\n",
      "     0.005000  0.000000  0.000000     -80.00 mm\n",
      "     0.000000  0.005000  0.000000    -115.00 mm\n",
      "     0.000000  0.000000  0.005000     -75.00 mm\n",
      "     0.000000  0.000000  0.000000       1.00\n",
      "MRI volume : MRI voxel -> MRI (surface RAS)\n",
      "    -0.001000  0.000000  0.000000     128.00 mm\n",
      "     0.000000  0.000000  0.001000    -128.00 mm\n",
      "     0.000000 -0.001000  0.000000     128.00 mm\n",
      "     0.000000  0.000000  0.000000       1.00\n",
      "MRI volume : MRI (surface RAS) -> RAS (non-zero origin)\n",
      "     1.000000  0.000000  0.000000       0.00 mm\n",
      "     0.000000  1.000000  0.000000       0.00 mm\n",
      "     0.000000  0.000000  1.000000       0.00 mm\n",
      "     0.000000  0.000000  0.000000       1.00\n"
     ]
    }
   ],
   "source": [
    "params_eeg = dotdict({})\n",
    "eeg = EEGModel(params_eeg)"
   ],
   "metadata": {
    "collapsed": false,
    "pycharm": {
     "name": "#%%\n"
    }
   }
  },
  {
   "cell_type": "code",
   "execution_count": 3,
   "outputs": [],
   "source": [
    "eeg.subject_dir"
   ],
   "metadata": {
    "collapsed": false,
    "pycharm": {
     "name": "#%%\n"
    }
   }
  },
  {
   "cell_type": "code",
   "execution_count": 4,
   "outputs": [],
   "source": [
    "# plot_bem_kwargs = dict(\n",
    "#     subject=eeg.subject, subjects_dir=eeg.subject_dir,\n",
    "#     brain_surfaces='white', orientation='coronal',\n",
    "#     slices=[50, 100, 150, 200])\n",
    "#\n",
    "# mne.viz.plot_bem(**plot_bem_kwargs)"
   ],
   "metadata": {
    "collapsed": false,
    "pycharm": {
     "name": "#%%\n"
    }
   }
  },
  {
   "cell_type": "code",
   "execution_count": 5,
   "outputs": [],
   "source": [
    "# mne.viz.plot_alignment(\n",
    "#     eeg.info, src=eeg.src, eeg=['original', 'projected'], trans=eeg.trans,\n",
    "#     show_axes=True, mri_fiducials=True, dig='fiducials')"
   ],
   "metadata": {
    "collapsed": false,
    "pycharm": {
     "name": "#%%\n"
    }
   }
  },
  {
   "cell_type": "code",
   "execution_count": null,
   "outputs": [],
   "source": [
    "forward_solution = mne.make_forward_solution(eeg.info, trans=eeg.trans, src=eeg.src, bem=eeg.bem,\n",
    "                                meg=False, eeg=True, mindist=0.0)\n",
    "\n",
    "\n",
    "\n",
    "leadfield = forward_solution['sol']['data']"
   ],
   "metadata": {
    "collapsed": false,
    "pycharm": {
     "name": "#%%\n"
    }
   }
  },
  {
   "cell_type": "code",
   "execution_count": 3,
   "outputs": [],
   "source": [
    "ds = Dataset(\"gw\")"
   ],
   "metadata": {
    "collapsed": false,
    "pycharm": {
     "name": "#%%\n"
    }
   }
  },
  {
   "cell_type": "code",
   "execution_count": 4,
   "outputs": [],
   "source": [
    "aln = ALNModel(Cmat = ds.Cmat, Dmat = ds.Dmat)\n",
    "aln.params['duration'] = 0.02*60*1000\n",
    "# Info: value 0.2*60*1000 is low for testing\n",
    "# use 5*60*1000 for real simulation"
   ],
   "metadata": {
    "collapsed": false,
    "pycharm": {
     "name": "#%%\n"
    }
   }
  },
  {
   "cell_type": "code",
   "execution_count": 5,
   "outputs": [
    {
     "name": "stdout",
     "output_type": "stream",
     "text": [
      "Creating the BEM geometry...\n",
      "Going from 5th to 4th subdivision of an icosahedron (n_tri: 20480 -> 5120)\n",
      "Going from 5th to 4th subdivision of an icosahedron (n_tri: 20480 -> 5120)\n",
      "Going from 5th to 4th subdivision of an icosahedron (n_tri: 20480 -> 5120)\n",
      "outer skin  CM is  -0.21 -19.38  -0.23 mm\n",
      "outer skull CM is  -0.19 -19.34  -0.49 mm\n",
      "inner skull CM is  -0.53 -21.10   6.21 mm\n",
      "Checking that surface outer skull is inside surface outer skin  ...\n",
      "Checking that surface inner skull is inside surface outer skull ...\n",
      "Checking distance between outer skin  and outer skull surfaces...\n",
      "Minimum distance between the outer skin  and outer skull surfaces is approximately    1.6 mm\n",
      "Checking distance between outer skull and inner skull surfaces...\n",
      "Minimum distance between the outer skull and inner skull surfaces is approximately    5.4 mm\n",
      "Surfaces passed the basic topology checks.\n",
      "Complete.\n",
      "\n",
      "Approximation method : Linear collocation\n",
      "\n",
      "Three-layer model surfaces loaded.\n",
      "Computing the linear collocation solution...\n",
      "    Matrix coefficients...\n",
      "        outer skin  (2562) -> outer skin  (2562) ...\n",
      "        outer skin  (2562) -> outer skull (2562) ...\n",
      "        outer skin  (2562) -> inner skull (2562) ...\n",
      "        outer skull (2562) -> outer skin  (2562) ...\n",
      "        outer skull (2562) -> outer skull (2562) ...\n",
      "        outer skull (2562) -> inner skull (2562) ...\n",
      "        inner skull (2562) -> outer skin  (2562) ...\n",
      "        inner skull (2562) -> outer skull (2562) ...\n",
      "        inner skull (2562) -> inner skull (2562) ...\n",
      "    Inverting the coefficient matrix...\n",
      "IP approach required...\n",
      "    Matrix coefficients (homog)...\n",
      "        inner skull (2562) -> inner skull (2562) ...\n",
      "    Inverting the coefficient matrix (homog)...\n",
      "    Modify the original solution to incorporate IP approach...\n",
      "        Combining...\n",
      "        Scaling...\n",
      "Solution ready.\n",
      "BEM geometry computations complete.\n",
      "BEM              : <ConductorModel | BEM (3 layers)>\n",
      "grid                  : 5.0 mm\n",
      "mindist               : 5.0 mm\n",
      "MRI volume            : C:\\Users\\janak\\mne_data\\MNE-fsaverage-data\\fsaverage\\mri\\T1.mgz\n",
      "\n",
      "Reading C:\\Users\\janak\\mne_data\\MNE-fsaverage-data\\fsaverage\\mri\\T1.mgz...\n",
      "\n",
      "Taking inner skull from <ConductorModel | BEM (3 layers)>\n",
      "Surface CM = (  -0.5  -21.1    6.2) mm\n",
      "Surface fits inside a sphere with radius   98.3 mm\n",
      "Surface extent:\n",
      "    x =  -75.2 ...   76.3 mm\n",
      "    y = -113.3 ...   75.0 mm\n",
      "    z =  -71.7 ...   88.2 mm\n",
      "Grid extent:\n",
      "    x =  -80.0 ...   80.0 mm\n",
      "    y = -115.0 ...   75.0 mm\n",
      "    z =  -75.0 ...   90.0 mm\n",
      "43758 sources before omitting any.\n",
      "29824 sources after omitting infeasible sources not within 0.0 - 98.3 mm.\n",
      "Source spaces are in MRI coordinates.\n",
      "Checking that the sources are inside the surface and at least    5.0 mm away (will take a few...)\n",
      "Checking surface interior status for 29824 points...\n",
      "    Found  3653/29824 points inside  an interior sphere of radius   47.7 mm\n",
      "    Found     0/29824 points outside an exterior sphere of radius   98.3 mm\n",
      "    Found 11570/26171 points outside using surface Qhull\n",
      "    Found   795/14601 points outside using solid angles\n",
      "    Total 17459/29824 points inside the surface\n",
      "Interior check completed in 12694.1 ms\n",
      "    12365 source space points omitted because they are outside the inner skull surface.\n",
      "    2830 source space points omitted because of the    5.0-mm distance limit.\n",
      "14629 sources remaining after excluding the sources outside the surface and less than    5.0 mm inside.\n",
      "Adjusting the neighborhood info.\n",
      "Source space : MRI voxel -> MRI (surface RAS)\n",
      "     0.005000  0.000000  0.000000     -80.00 mm\n",
      "     0.000000  0.005000  0.000000    -115.00 mm\n",
      "     0.000000  0.000000  0.005000     -75.00 mm\n",
      "     0.000000  0.000000  0.000000       1.00\n",
      "MRI volume : MRI voxel -> MRI (surface RAS)\n",
      "    -0.001000  0.000000  0.000000     128.00 mm\n",
      "     0.000000  0.000000  0.001000    -128.00 mm\n",
      "     0.000000 -0.001000  0.000000     128.00 mm\n",
      "     0.000000  0.000000  0.000000       1.00\n",
      "MRI volume : MRI (surface RAS) -> RAS (non-zero origin)\n",
      "     1.000000  0.000000  0.000000       0.00 mm\n",
      "     0.000000  1.000000  0.000000       0.00 mm\n",
      "     0.000000  0.000000  1.000000       0.00 mm\n",
      "     0.000000  0.000000  0.000000       1.00\n"
     ]
    },
    {
     "name": "stderr",
     "output_type": "stream",
     "text": [
      "WARNING:root:It is strongly advised to use a `chunksize` (100000) that is a divisor of `duration / dt` (12000).\n"
     ]
    },
    {
     "name": "stdout",
     "output_type": "stream",
     "text": [
      "Source space          : <SourceSpaces: [<volume, shape=(33, 39, 34), n_used=14629>] MRI (surface RAS) coords, subject 'fsaverage', ~6.5 MB>\n",
      "MRI -> head transform : C:\\Users\\janak\\anaconda3\\envs\\mne\\lib\\site-packages\\mne\\data\\fsaverage\\fsaverage-trans.fif\n",
      "Measurement data      : instance of Info\n",
      "Conductor model   : instance of ConductorModel\n",
      "Accurate field computations\n",
      "Do computations in head coordinates\n",
      "Free source orientations\n",
      "\n",
      "Read 1 source spaces a total of 14629 active source locations\n",
      "\n",
      "Coordinate transformation: MRI (surface RAS) -> head\n",
      "     0.999994  0.003552  0.000202      -1.76 mm\n",
      "    -0.003558  0.998389  0.056626      31.09 mm\n",
      "    -0.000001 -0.056626  0.998395      39.60 mm\n",
      "     0.000000  0.000000  0.000000       1.00\n",
      "\n",
      "Read  94 EEG channels from info\n",
      "Head coordinate coil definitions created.\n",
      "Source spaces are now in head coordinates.\n",
      "\n",
      "Employing the head->MRI coordinate transform with the BEM model.\n",
      "BEM model instance of ConductorModel is now set up\n",
      "\n",
      "Source spaces are in head coordinates.\n",
      "Checking that the sources are inside the surface (will take a few...)\n",
      "Checking surface interior status for 14629 points...\n",
      "    Found  3644/14629 points inside  an interior sphere of radius   47.7 mm\n",
      "    Found     0/14629 points outside an exterior sphere of radius   98.3 mm\n",
      "    Found     0/10985 points outside using surface Qhull\n",
      "    Found     0/10985 points outside using solid angles\n",
      "    Total 14629/14629 points inside the surface\n",
      "Interior check completed in 10045.5 ms\n",
      "\n",
      "Setting up for EEG...\n",
      "Computing EEG at 14629 source locations (free orientations)...\n",
      "\n",
      "Finished.\n"
     ]
    },
    {
     "ename": "TypeError",
     "evalue": "downsampling() got an unexpected keyword argument 'atlas'",
     "output_type": "error",
     "traceback": [
      "\u001B[1;31m---------------------------------------------------------------------------\u001B[0m",
      "\u001B[1;31mTypeError\u001B[0m                                 Traceback (most recent call last)",
      "Input \u001B[1;32mIn [5]\u001B[0m, in \u001B[0;36m<cell line: 1>\u001B[1;34m()\u001B[0m\n\u001B[1;32m----> 1\u001B[0m \u001B[43maln\u001B[49m\u001B[38;5;241;43m.\u001B[39;49m\u001B[43mrun\u001B[49m\u001B[43m(\u001B[49m\u001B[43mchunkwise\u001B[49m\u001B[38;5;241;43m=\u001B[39;49m\u001B[38;5;28;43;01mTrue\u001B[39;49;00m\u001B[43m,\u001B[49m\u001B[43m \u001B[49m\u001B[43mchunksize\u001B[49m\u001B[43m \u001B[49m\u001B[38;5;241;43m=\u001B[39;49m\u001B[43m \u001B[49m\u001B[38;5;241;43m100000\u001B[39;49m\u001B[43m,\u001B[49m\u001B[43m \u001B[49m\u001B[43meeg\u001B[49m\u001B[38;5;241;43m=\u001B[39;49m\u001B[38;5;28;43;01mTrue\u001B[39;49;00m\u001B[43m)\u001B[49m\n",
      "File \u001B[1;32m~\\Documents\\UNI_MASTER\\NI project\\neurolib\\neurolib\\models\\model.py:303\u001B[0m, in \u001B[0;36mModel.run\u001B[1;34m(self, inputs, chunkwise, chunksize, bold, eeg, append, append_outputs, continue_run)\u001B[0m\n\u001B[0;32m    301\u001B[0m         logging\u001B[38;5;241m.\u001B[39mwarn(\u001B[38;5;124mf\u001B[39m\u001B[38;5;124m\"\u001B[39m\u001B[38;5;132;01m{\u001B[39;00m\u001B[38;5;28mself\u001B[39m\u001B[38;5;241m.\u001B[39mname\u001B[38;5;132;01m}\u001B[39;00m\u001B[38;5;124m: BOLD model not initialized, not simulating BOLD. Use `run(bold=True)`\u001B[39m\u001B[38;5;124m\"\u001B[39m)\n\u001B[0;32m    302\u001B[0m         bold \u001B[38;5;241m=\u001B[39m \u001B[38;5;28;01mFalse\u001B[39;00m\n\u001B[1;32m--> 303\u001B[0m     \u001B[38;5;28;43mself\u001B[39;49m\u001B[38;5;241;43m.\u001B[39;49m\u001B[43mintegrateChunkwise\u001B[49m\u001B[43m(\u001B[49m\u001B[43mchunksize\u001B[49m\u001B[38;5;241;43m=\u001B[39;49m\u001B[43mchunksize\u001B[49m\u001B[43m,\u001B[49m\u001B[43m \u001B[49m\u001B[43mbold\u001B[49m\u001B[38;5;241;43m=\u001B[39;49m\u001B[43mbold\u001B[49m\u001B[43m,\u001B[49m\n\u001B[0;32m    304\u001B[0m \u001B[43m                            \u001B[49m\u001B[43meeg\u001B[49m\u001B[38;5;241;43m=\u001B[39;49m\u001B[43meeg\u001B[49m\u001B[43m,\u001B[49m\u001B[43m \u001B[49m\u001B[43mappend_outputs\u001B[49m\u001B[38;5;241;43m=\u001B[39;49m\u001B[43mappend\u001B[49m\u001B[43m)\u001B[49m\n\u001B[0;32m    306\u001B[0m \u001B[38;5;66;03m# TODO: if better to call simulateEEG here\u001B[39;00m\n\u001B[0;32m    307\u001B[0m \u001B[38;5;66;03m# TODO: check if we would need the checks for eeg too (don´t get it)???\u001B[39;00m\n\u001B[0;32m    308\u001B[0m \n\u001B[0;32m    309\u001B[0m \u001B[38;5;66;03m# check if there was a problem with the simulated data\u001B[39;00m\n\u001B[0;32m    310\u001B[0m \u001B[38;5;28mself\u001B[39m\u001B[38;5;241m.\u001B[39mcheckOutputs()\n",
      "File \u001B[1;32m~\\Documents\\UNI_MASTER\\NI project\\neurolib\\neurolib\\models\\model.py:381\u001B[0m, in \u001B[0;36mModel.integrateChunkwise\u001B[1;34m(self, chunksize, bold, eeg, append_outputs)\u001B[0m\n\u001B[0;32m    378\u001B[0m remainingChunkSize \u001B[38;5;241m=\u001B[39m \u001B[38;5;28mint\u001B[39m(\u001B[38;5;28mround\u001B[39m((totalDuration \u001B[38;5;241m-\u001B[39m lastT) \u001B[38;5;241m/\u001B[39m dt))\n\u001B[0;32m    379\u001B[0m currentChunkSize \u001B[38;5;241m=\u001B[39m \u001B[38;5;28mmin\u001B[39m(chunksize, remainingChunkSize)\n\u001B[1;32m--> 381\u001B[0m \u001B[38;5;28;43mself\u001B[39;49m\u001B[38;5;241;43m.\u001B[39;49m\u001B[43mautochunk\u001B[49m\u001B[43m(\u001B[49m\u001B[43mchunksize\u001B[49m\u001B[38;5;241;43m=\u001B[39;49m\u001B[43mcurrentChunkSize\u001B[49m\u001B[43m,\u001B[49m\n\u001B[0;32m    382\u001B[0m \u001B[43m               \u001B[49m\u001B[43mappend_outputs\u001B[49m\u001B[38;5;241;43m=\u001B[39;49m\u001B[43mappend_outputs\u001B[49m\u001B[43m,\u001B[49m\u001B[43m \u001B[49m\u001B[43mbold\u001B[49m\u001B[38;5;241;43m=\u001B[39;49m\u001B[43mbold\u001B[49m\u001B[43m,\u001B[49m\u001B[43m \u001B[49m\u001B[43meeg\u001B[49m\u001B[38;5;241;43m=\u001B[39;49m\u001B[43meeg\u001B[49m\u001B[43m)\u001B[49m\n\u001B[0;32m    383\u001B[0m \u001B[38;5;66;03m# we save the last simulated time step\u001B[39;00m\n\u001B[0;32m    384\u001B[0m lastT \u001B[38;5;241m+\u001B[39m\u001B[38;5;241m=\u001B[39m currentChunkSize \u001B[38;5;241m*\u001B[39m dt\n",
      "File \u001B[1;32m~\\Documents\\UNI_MASTER\\NI project\\neurolib\\neurolib\\models\\model.py:477\u001B[0m, in \u001B[0;36mModel.autochunk\u001B[1;34m(self, inputs, chunksize, append_outputs, bold, eeg)\u001B[0m\n\u001B[0;32m    474\u001B[0m     \u001B[38;5;28mself\u001B[39m\u001B[38;5;241m.\u001B[39msetInputs(inputs)\n\u001B[0;32m    476\u001B[0m \u001B[38;5;66;03m# run integration\u001B[39;00m\n\u001B[1;32m--> 477\u001B[0m \u001B[38;5;28;43mself\u001B[39;49m\u001B[38;5;241;43m.\u001B[39;49m\u001B[43mintegrate\u001B[49m\u001B[43m(\u001B[49m\u001B[43mappend_outputs\u001B[49m\u001B[38;5;241;43m=\u001B[39;49m\u001B[43mappend_outputs\u001B[49m\u001B[43m,\u001B[49m\u001B[43m \u001B[49m\u001B[43msimulate_bold\u001B[49m\u001B[38;5;241;43m=\u001B[39;49m\u001B[43mbold\u001B[49m\u001B[43m,\u001B[49m\n\u001B[0;32m    478\u001B[0m \u001B[43m               \u001B[49m\u001B[43msimulate_eeg\u001B[49m\u001B[38;5;241;43m=\u001B[39;49m\u001B[43meeg\u001B[49m\u001B[43m)\u001B[49m\n\u001B[0;32m    480\u001B[0m \u001B[38;5;66;03m# set initial conditions to last state for the next chunk\u001B[39;00m\n\u001B[0;32m    481\u001B[0m \u001B[38;5;28mself\u001B[39m\u001B[38;5;241m.\u001B[39msetInitialValuesToLastState()\n",
      "File \u001B[1;32m~\\Documents\\UNI_MASTER\\NI project\\neurolib\\neurolib\\models\\model.py:356\u001B[0m, in \u001B[0;36mModel.integrate\u001B[1;34m(self, append_outputs, simulate_bold, simulate_eeg)\u001B[0m\n\u001B[0;32m    354\u001B[0m \u001B[38;5;66;03m# eeg simulation after integration\u001B[39;00m\n\u001B[0;32m    355\u001B[0m \u001B[38;5;28;01mif\u001B[39;00m simulate_eeg \u001B[38;5;129;01mand\u001B[39;00m \u001B[38;5;28mself\u001B[39m\u001B[38;5;241m.\u001B[39meegInitialized:\n\u001B[1;32m--> 356\u001B[0m     \u001B[38;5;28;43mself\u001B[39;49m\u001B[38;5;241;43m.\u001B[39;49m\u001B[43msimulateEEG\u001B[49m\u001B[43m(\u001B[49m\u001B[43mt\u001B[49m\u001B[43m,\u001B[49m\u001B[43m \u001B[49m\u001B[43mvariables\u001B[49m\u001B[43m,\u001B[49m\u001B[43m \u001B[49m\u001B[43mappend\u001B[49m\u001B[38;5;241;43m=\u001B[39;49m\u001B[38;5;28;43;01mTrue\u001B[39;49;00m\u001B[43m)\u001B[49m\n",
      "File \u001B[1;32m~\\Documents\\UNI_MASTER\\NI project\\neurolib\\neurolib\\models\\model.py:145\u001B[0m, in \u001B[0;36mModel.simulateEEG\u001B[1;34m(self, t, variables, append)\u001B[0m\n\u001B[0;32m    142\u001B[0m \u001B[38;5;28;01mif\u001B[39;00m \u001B[38;5;28mself\u001B[39m\u001B[38;5;241m.\u001B[39meegInputTransform:\n\u001B[0;32m    143\u001B[0m     eeg_input \u001B[38;5;241m=\u001B[39m \u001B[38;5;28mself\u001B[39m\u001B[38;5;241m.\u001B[39meegInputTransform(eeg_input)\n\u001B[1;32m--> 145\u001B[0m \u001B[38;5;28;43mself\u001B[39;49m\u001B[38;5;241;43m.\u001B[39;49m\u001B[43meegModel\u001B[49m\u001B[38;5;241;43m.\u001B[39;49m\u001B[43mrun\u001B[49m\u001B[43m(\u001B[49m\u001B[43meeg_input\u001B[49m\u001B[43m,\u001B[49m\u001B[43m \u001B[49m\u001B[43mappend\u001B[49m\u001B[38;5;241;43m=\u001B[39;49m\u001B[43mappend\u001B[49m\u001B[43m)\u001B[49m\n\u001B[0;32m    147\u001B[0m \u001B[38;5;66;03m# TODO: should user be able to change frequency of EEG\u001B[39;00m\n\u001B[0;32m    148\u001B[0m t_EEG \u001B[38;5;241m=\u001B[39m \u001B[38;5;28mself\u001B[39m\u001B[38;5;241m.\u001B[39meegModel\u001B[38;5;241m.\u001B[39mt_EEG\n",
      "File \u001B[1;32m~\\Documents\\UNI_MASTER\\NI project\\neurolib\\neurolib\\models\\eeg\\model.py:100\u001B[0m, in \u001B[0;36mEEGModel.run\u001B[1;34m(self, eeg_input, append)\u001B[0m\n\u001B[0;32m     97\u001B[0m leadfield \u001B[38;5;241m=\u001B[39m forward_solution[\u001B[38;5;124m'\u001B[39m\u001B[38;5;124msol\u001B[39m\u001B[38;5;124m'\u001B[39m][\u001B[38;5;124m'\u001B[39m\u001B[38;5;124mdata\u001B[39m\u001B[38;5;124m'\u001B[39m]\n\u001B[0;32m     99\u001B[0m \u001B[38;5;66;03m# somewhere here should be the downsampling function\u001B[39;00m\n\u001B[1;32m--> 100\u001B[0m downsampled \u001B[38;5;241m=\u001B[39m \u001B[38;5;28;43mself\u001B[39;49m\u001B[38;5;241;43m.\u001B[39;49m\u001B[43mdownsampling\u001B[49m\u001B[43m(\u001B[49m\u001B[38;5;28;43mself\u001B[39;49m\u001B[43m,\u001B[49m\u001B[43m \u001B[49m\u001B[43mleadfield\u001B[49m\u001B[43m,\u001B[49m\u001B[43m \u001B[49m\u001B[43matlas\u001B[49m\u001B[38;5;241;43m=\u001B[39;49m\u001B[38;5;28;43;01mNone\u001B[39;49;00m\u001B[43m,\u001B[49m\n\u001B[0;32m    101\u001B[0m \u001B[43m                                \u001B[49m\u001B[43maveraging_method\u001B[49m\u001B[38;5;241;43m=\u001B[39;49m\u001B[38;5;28;43;01mNone\u001B[39;49;00m\u001B[43m)\u001B[49m\n\u001B[0;32m    103\u001B[0m \u001B[38;5;66;03m#which type of activity are we expecting here? Firing rates?\u001B[39;00m\n\u001B[0;32m    104\u001B[0m \u001B[38;5;66;03m# we need to think about units, it's in mV, conductivities also have units.\u001B[39;00m\n\u001B[0;32m    105\u001B[0m \u001B[38;5;66;03m# activity should probably be in Hz, not kHz as in aln.\u001B[39;00m\n\u001B[0;32m    106\u001B[0m \u001B[38;5;66;03m# Hopf has no units\u001B[39;00m\n\u001B[0;32m    107\u001B[0m \u001B[38;5;66;03m# Try first with aln, and figure out the correct scale. Then figure out other models without units.\u001B[39;00m\n\u001B[0;32m    108\u001B[0m result \u001B[38;5;241m=\u001B[39m downsampled \u001B[38;5;241m@\u001B[39m eeg_input\n",
      "\u001B[1;31mTypeError\u001B[0m: downsampling() got an unexpected keyword argument 'atlas'"
     ]
    }
   ],
   "source": [
    "aln.run(chunkwise=True, chunksize = 100000, eeg=True)"
   ],
   "metadata": {
    "collapsed": false,
    "pycharm": {
     "name": "#%%\n"
    }
   }
  }
 ],
 "metadata": {
  "kernelspec": {
   "display_name": "Python 3",
   "language": "python",
   "name": "python3"
  },
  "language_info": {
   "codemirror_mode": {
    "name": "ipython",
    "version": 2
   },
   "file_extension": ".py",
   "mimetype": "text/x-python",
   "name": "python",
   "nbconvert_exporter": "python",
   "pygments_lexer": "ipython2",
   "version": "2.7.6"
  }
 },
 "nbformat": 4,
 "nbformat_minor": 0
}