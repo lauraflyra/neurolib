{
 "cells": [
  {
   "cell_type": "code",
   "execution_count": 1,
   "metadata": {
    "collapsed": true,
    "pycharm": {
     "name": "#%%\n"
    }
   },
   "outputs": [],
   "source": [
    "from model import EEGModel\n",
    "%load_ext autoreload\n",
    "%autoreload 2"
   ]
  },
  {
   "cell_type": "code",
   "execution_count": 2,
   "outputs": [
    {
     "name": "stdout",
     "output_type": "stream",
     "text": [
      "Creating the BEM geometry...\n",
      "Going from 5th to 4th subdivision of an icosahedron (n_tri: 20480 -> 5120)\n",
      "Going from 5th to 4th subdivision of an icosahedron (n_tri: 20480 -> 5120)\n",
      "Going from 5th to 4th subdivision of an icosahedron (n_tri: 20480 -> 5120)\n",
      "outer skin  CM is  -0.21 -19.38  -0.23 mm\n",
      "outer skull CM is  -0.19 -19.34  -0.49 mm\n",
      "inner skull CM is  -0.53 -21.10   6.21 mm\n",
      "Checking that surface outer skull is inside surface outer skin  ...\n",
      "Checking that surface inner skull is inside surface outer skull ...\n",
      "Checking distance between outer skin  and outer skull surfaces...\n",
      "Minimum distance between the outer skin  and outer skull surfaces is approximately    1.6 mm\n",
      "Checking distance between outer skull and inner skull surfaces...\n",
      "Minimum distance between the outer skull and inner skull surfaces is approximately    5.4 mm\n",
      "Surfaces passed the basic topology checks.\n",
      "Complete.\n",
      "\n",
      "Approximation method : Linear collocation\n",
      "\n",
      "Three-layer model surfaces loaded.\n",
      "Computing the linear collocation solution...\n",
      "    Matrix coefficients...\n",
      "        outer skin  (2562) -> outer skin  (2562) ...\n",
      "        outer skin  (2562) -> outer skull (2562) ...\n",
      "        outer skin  (2562) -> inner skull (2562) ...\n",
      "        outer skull (2562) -> outer skin  (2562) ...\n",
      "        outer skull (2562) -> outer skull (2562) ...\n",
      "        outer skull (2562) -> inner skull (2562) ...\n",
      "        inner skull (2562) -> outer skin  (2562) ...\n",
      "        inner skull (2562) -> outer skull (2562) ...\n",
      "        inner skull (2562) -> inner skull (2562) ...\n",
      "    Inverting the coefficient matrix...\n",
      "IP approach required...\n",
      "    Matrix coefficients (homog)...\n",
      "        inner skull (2562) -> inner skull (2562) ...\n",
      "    Inverting the coefficient matrix (homog)...\n",
      "    Modify the original solution to incorporate IP approach...\n",
      "        Combining...\n",
      "        Scaling...\n",
      "Solution ready.\n",
      "BEM geometry computations complete.\n",
      "BEM              : <ConductorModel | BEM (3 layers)>\n",
      "grid                  : 5.0 mm\n",
      "mindist               : 5.0 mm\n",
      "MRI volume            : /home/lauraflyra/mne_data/MNE-fsaverage-data/fsaverage/mri/T1.mgz\n",
      "\n",
      "Reading /home/lauraflyra/mne_data/MNE-fsaverage-data/fsaverage/mri/T1.mgz...\n",
      "\n",
      "Taking inner skull from <ConductorModel | BEM (3 layers)>\n",
      "Surface CM = (  -0.5  -21.1    6.2) mm\n",
      "Surface fits inside a sphere with radius   98.3 mm\n",
      "Surface extent:\n",
      "    x =  -75.2 ...   76.3 mm\n",
      "    y = -113.3 ...   75.0 mm\n",
      "    z =  -71.7 ...   88.2 mm\n",
      "Grid extent:\n",
      "    x =  -80.0 ...   80.0 mm\n",
      "    y = -115.0 ...   75.0 mm\n",
      "    z =  -75.0 ...   90.0 mm\n",
      "43758 sources before omitting any.\n",
      "29824 sources after omitting infeasible sources not within 0.0 - 98.3 mm.\n",
      "Source spaces are in MRI coordinates.\n",
      "Checking that the sources are inside the surface and at least    5.0 mm away (will take a few...)\n",
      "Checking surface interior status for 29824 points...\n",
      "    Found  3653/29824 points inside  an interior sphere of radius   47.7 mm\n",
      "    Found     0/29824 points outside an exterior sphere of radius   98.3 mm\n",
      "    Found 11570/26171 points outside using surface Qhull\n",
      "    Found   795/14601 points outside using solid angles\n",
      "    Total 17459/29824 points inside the surface\n",
      "Interior check completed in 5755.4 ms\n",
      "    12365 source space points omitted because they are outside the inner skull surface.\n",
      "    2830 source space points omitted because of the    5.0-mm distance limit.\n",
      "14629 sources remaining after excluding the sources outside the surface and less than    5.0 mm inside.\n",
      "Adjusting the neighborhood info.\n",
      "Source space : MRI voxel -> MRI (surface RAS)\n",
      "     0.005000  0.000000  0.000000     -80.00 mm\n",
      "     0.000000  0.005000  0.000000    -115.00 mm\n",
      "     0.000000  0.000000  0.005000     -75.00 mm\n",
      "     0.000000  0.000000  0.000000       1.00\n",
      "MRI volume : MRI voxel -> MRI (surface RAS)\n",
      "    -0.001000  0.000000  0.000000     128.00 mm\n",
      "     0.000000  0.000000  0.001000    -128.00 mm\n",
      "     0.000000 -0.001000  0.000000     128.00 mm\n",
      "     0.000000  0.000000  0.000000       1.00\n",
      "MRI volume : MRI (surface RAS) -> RAS (non-zero origin)\n",
      "     1.000000  0.000000  0.000000       0.00 mm\n",
      "     0.000000  1.000000  0.000000       0.00 mm\n",
      "     0.000000  0.000000  1.000000       0.00 mm\n",
      "     0.000000  0.000000  0.000000       1.00\n"
     ]
    }
   ],
   "source": [
    "from neurolib.utils.collections import dotdict\n",
    "params_eeg = dotdict({})\n",
    "eeg = EEGModel(params_eeg)"
   ],
   "metadata": {
    "collapsed": false,
    "pycharm": {
     "name": "#%%\n"
    }
   }
  },
  {
   "cell_type": "code",
   "execution_count": 3,
   "outputs": [],
   "source": [
    "eeg.subject_dir"
   ],
   "metadata": {
    "collapsed": false,
    "pycharm": {
     "name": "#%%\n"
    }
   }
  },
  {
   "cell_type": "code",
   "execution_count": 4,
   "outputs": [],
   "source": [
    "# import matplotlib\n",
    "# matplotlib.use( 'tkagg' )\n",
    "# import mne\n",
    "# plot_bem_kwargs = dict(\n",
    "#     subject=eeg.subject, subjects_dir=eeg.subject_dir,\n",
    "#     brain_surfaces='white', orientation='coronal',\n",
    "#     slices=[50, 100, 150, 200])\n",
    "#\n",
    "# mne.viz.plot_bem(**plot_bem_kwargs)"
   ],
   "metadata": {
    "collapsed": false,
    "pycharm": {
     "name": "#%%\n"
    }
   }
  },
  {
   "cell_type": "code",
   "execution_count": 5,
   "outputs": [],
   "source": [
    "# mne.viz.plot_alignment(\n",
    "#     eeg.info, src=eeg.src, eeg=['original', 'projected'], trans=eeg.trans,\n",
    "#     show_axes=True, mri_fiducials=True, dig='fiducials')"
   ],
   "metadata": {
    "collapsed": false,
    "pycharm": {
     "name": "#%%\n"
    }
   }
  },
  {
   "cell_type": "code",
   "execution_count": 6,
   "outputs": [
    {
     "ename": "NameError",
     "evalue": "name 'mne' is not defined",
     "output_type": "error",
     "traceback": [
      "\u001B[0;31m---------------------------------------------------------------------------\u001B[0m",
      "\u001B[0;31mNameError\u001B[0m                                 Traceback (most recent call last)",
      "Input \u001B[0;32mIn [6]\u001B[0m, in \u001B[0;36m<cell line: 1>\u001B[0;34m()\u001B[0m\n\u001B[0;32m----> 1\u001B[0m forward_solution \u001B[38;5;241m=\u001B[39m \u001B[43mmne\u001B[49m\u001B[38;5;241m.\u001B[39mmake_forward_solution(eeg\u001B[38;5;241m.\u001B[39minfo, trans\u001B[38;5;241m=\u001B[39meeg\u001B[38;5;241m.\u001B[39mtrans, src\u001B[38;5;241m=\u001B[39meeg\u001B[38;5;241m.\u001B[39msrc, bem\u001B[38;5;241m=\u001B[39meeg\u001B[38;5;241m.\u001B[39mbem,\n\u001B[1;32m      2\u001B[0m                                 meg\u001B[38;5;241m=\u001B[39m\u001B[38;5;28;01mFalse\u001B[39;00m, eeg\u001B[38;5;241m=\u001B[39m\u001B[38;5;28;01mTrue\u001B[39;00m, mindist\u001B[38;5;241m=\u001B[39m\u001B[38;5;241m0.0\u001B[39m)\n\u001B[1;32m      6\u001B[0m leadfield \u001B[38;5;241m=\u001B[39m forward_solution[\u001B[38;5;124m'\u001B[39m\u001B[38;5;124msol\u001B[39m\u001B[38;5;124m'\u001B[39m][\u001B[38;5;124m'\u001B[39m\u001B[38;5;124mdata\u001B[39m\u001B[38;5;124m'\u001B[39m]\n",
      "\u001B[0;31mNameError\u001B[0m: name 'mne' is not defined"
     ]
    }
   ],
   "source": [
    "forward_solution = mne.make_forward_solution(eeg.info, trans=eeg.trans, src=eeg.src, bem=eeg.bem,\n",
    "                                meg=False, eeg=True, mindist=0.0)\n",
    "\n",
    "\n",
    "\n",
    "leadfield = forward_solution['sol']['data']\n"
   ],
   "metadata": {
    "collapsed": false,
    "pycharm": {
     "name": "#%%\n"
    }
   }
  }
 ],
 "metadata": {
  "kernelspec": {
   "display_name": "Python 3",
   "language": "python",
   "name": "python3"
  },
  "language_info": {
   "codemirror_mode": {
    "name": "ipython",
    "version": 2
   },
   "file_extension": ".py",
   "mimetype": "text/x-python",
   "name": "python",
   "nbconvert_exporter": "python",
   "pygments_lexer": "ipython2",
   "version": "2.7.6"
  }
 },
 "nbformat": 4,
 "nbformat_minor": 0
}