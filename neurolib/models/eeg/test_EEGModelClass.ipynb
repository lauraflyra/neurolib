{
 "cells": [
  {
   "cell_type": "code",
   "execution_count": 1,
   "outputs": [],
   "source": [
    "from model import EEGModel\n",
    "%load_ext autoreload\n",
    "%autoreload 2\n",
    "import matplotlib\n",
    "import mne\n",
    "from neurolib.utils.collections import dotdict\n",
    "from neurolib.utils.loadData import Dataset\n",
    "# Let's import the aln model\n",
    "from neurolib.models.aln import ALNModel\n",
    "import neurolib.utils.functions as func\n",
    "import numpy as np"
   ],
   "metadata": {
    "collapsed": false,
    "pycharm": {
     "name": "#%%\n"
    }
   }
  },
  {
   "cell_type": "code",
   "execution_count": 2,
   "outputs": [
    {
     "name": "stdout",
     "output_type": "stream",
     "text": [
      "Creating the BEM geometry...\n",
      "Going from 5th to 4th subdivision of an icosahedron (n_tri: 20480 -> 5120)\n",
      "Going from 5th to 4th subdivision of an icosahedron (n_tri: 20480 -> 5120)\n",
      "Going from 5th to 4th subdivision of an icosahedron (n_tri: 20480 -> 5120)\n",
      "outer skin  CM is  -0.21 -19.38  -0.23 mm\n",
      "outer skull CM is  -0.19 -19.34  -0.49 mm\n",
      "inner skull CM is  -0.53 -21.10   6.21 mm\n",
      "Checking that surface outer skull is inside surface outer skin  ...\n",
      "Checking that surface inner skull is inside surface outer skull ...\n",
      "Checking distance between outer skin  and outer skull surfaces...\n",
      "Minimum distance between the outer skin  and outer skull surfaces is approximately    1.6 mm\n",
      "Checking distance between outer skull and inner skull surfaces...\n",
      "Minimum distance between the outer skull and inner skull surfaces is approximately    5.4 mm\n",
      "Surfaces passed the basic topology checks.\n",
      "Complete.\n",
      "\n",
      "Approximation method : Linear collocation\n",
      "\n",
      "Three-layer model surfaces loaded.\n",
      "Computing the linear collocation solution...\n",
      "    Matrix coefficients...\n",
      "        outer skin  (2562) -> outer skin  (2562) ...\n",
      "        outer skin  (2562) -> outer skull (2562) ...\n",
      "        outer skin  (2562) -> inner skull (2562) ...\n",
      "        outer skull (2562) -> outer skin  (2562) ...\n",
      "        outer skull (2562) -> outer skull (2562) ...\n",
      "        outer skull (2562) -> inner skull (2562) ...\n",
      "        inner skull (2562) -> outer skin  (2562) ...\n",
      "        inner skull (2562) -> outer skull (2562) ...\n",
      "        inner skull (2562) -> inner skull (2562) ...\n",
      "    Inverting the coefficient matrix...\n",
      "IP approach required...\n",
      "    Matrix coefficients (homog)...\n",
      "        inner skull (2562) -> inner skull (2562) ...\n",
      "    Inverting the coefficient matrix (homog)...\n",
      "    Modify the original solution to incorporate IP approach...\n",
      "        Combining...\n",
      "        Scaling...\n",
      "Solution ready.\n",
      "BEM geometry computations complete.\n",
      "Setting up the source space with the following parameters:\n",
      "\n",
      "SUBJECTS_DIR = /home/lauraflyra/Documents/BCCN/NI_project/neurolib/neurolib/models/eeg/../../data/datasets/eeg_fsaverage\n",
      "Subject      = fsaverage\n",
      "Surface      = white\n",
      "Octahedron subdivision grade 6\n",
      "\n",
      ">>> 1. Creating the source space...\n",
      "\n",
      "Doing the octahedral vertex picking...\n",
      "Loading /home/lauraflyra/Documents/BCCN/NI_project/neurolib/neurolib/models/eeg/../../data/datasets/eeg_fsaverage/fsaverage/surf/lh.white...\n",
      "Mapping lh fsaverage -> oct (6) ...\n",
      "    Warning: zero size triangles: [3 4]\n",
      "    Triangle neighbors and vertex normals...\n",
      "Loading geometry from /home/lauraflyra/Documents/BCCN/NI_project/neurolib/neurolib/models/eeg/../../data/datasets/eeg_fsaverage/fsaverage/surf/lh.sphere...\n",
      "Setting up the triangulation for the decimated surface...\n",
      "loaded lh.white 4098/163842 selected to source space (oct = 6)\n",
      "\n",
      "Loading /home/lauraflyra/Documents/BCCN/NI_project/neurolib/neurolib/models/eeg/../../data/datasets/eeg_fsaverage/fsaverage/surf/rh.white...\n",
      "Mapping rh fsaverage -> oct (6) ...\n",
      "    Warning: zero size triangles: [3 4]\n",
      "    Triangle neighbors and vertex normals...\n",
      "Loading geometry from /home/lauraflyra/Documents/BCCN/NI_project/neurolib/neurolib/models/eeg/../../data/datasets/eeg_fsaverage/fsaverage/surf/rh.sphere...\n",
      "Setting up the triangulation for the decimated surface...\n",
      "loaded rh.white 4098/163842 selected to source space (oct = 6)\n",
      "\n",
      "Calculating patch information (limit=0.0 mm)...\n",
      "    Computing patch statistics...\n",
      "    Patch information added...\n",
      "    Computing patch statistics...\n",
      "    Patch information added...\n",
      "You are now one step closer to computing the gain matrix\n",
      "Sampling rate: 39\n",
      "Source space          : <SourceSpaces: [<surface (lh), n_vertices=163842, n_used=4098>, <surface (rh), n_vertices=163842, n_used=4098>] MRI (surface RAS) coords, subject 'fsaverage', ~31.2 MB>\n",
      "MRI -> head transform : /home/lauraflyra/anaconda3/envs/mne/lib/python3.10/site-packages/mne/data/fsaverage/fsaverage-trans.fif\n",
      "Measurement data      : instance of Info\n",
      "Conductor model   : instance of ConductorModel\n",
      "Accurate field computations\n",
      "Do computations in head coordinates\n",
      "Free source orientations\n",
      "\n",
      "Read 2 source spaces a total of 8196 active source locations\n",
      "\n",
      "Coordinate transformation: MRI (surface RAS) -> head\n",
      "     0.999994  0.003552  0.000202      -1.76 mm\n",
      "    -0.003558  0.998389  0.056626      31.09 mm\n",
      "    -0.000001 -0.056626  0.998395      39.60 mm\n",
      "     0.000000  0.000000  0.000000       1.00\n",
      "\n",
      "Read  94 EEG channels from info\n",
      "Head coordinate coil definitions created.\n",
      "Source spaces are now in head coordinates.\n",
      "\n",
      "Employing the head->MRI coordinate transform with the BEM model.\n",
      "BEM model instance of ConductorModel is now set up\n",
      "\n",
      "Source spaces are in head coordinates.\n",
      "Checking that the sources are inside the surface (will take a few...)\n",
      "Checking surface interior status for 4098 points...\n",
      "    Found  999/4098 points inside  an interior sphere of radius   47.7 mm\n",
      "    Found    0/4098 points outside an exterior sphere of radius   98.3 mm\n",
      "    Found    0/3099 points outside using surface Qhull\n",
      "    Found    0/3099 points outside using solid angles\n",
      "    Total 4098/4098 points inside the surface\n",
      "Interior check completed in 1082.1 ms\n",
      "Checking surface interior status for 4098 points...\n",
      "    Found  906/4098 points inside  an interior sphere of radius   47.7 mm\n",
      "    Found    0/4098 points outside an exterior sphere of radius   98.3 mm\n",
      "    Found    0/3192 points outside using surface Qhull\n",
      "    Found    0/3192 points outside using solid angles\n",
      "    Total 4098/4098 points inside the surface\n",
      "Interior check completed in 1135.9 ms\n",
      "\n",
      "Setting up for EEG...\n",
      "Computing EEG at 8196 source locations (free orientations)...\n",
      "\n",
      "Finished.\n",
      "    Average patch normals will be employed in the rotation to the local surface coordinates....\n",
      "    Converting to surface-based source orientations...\n",
      "    [done]\n"
     ]
    },
    {
     "name": "stderr",
     "output_type": "stream",
     "text": [
      "WARNING:root:Atlas doesn't start at 0, reindexing...\n"
     ]
    }
   ],
   "source": [
    "# initialize ALN Model\n",
    "ds = Dataset(\"gw\")\n",
    "aln = ALNModel(Cmat = ds.Cmat, Dmat = ds.Dmat)\n",
    "aln.params['duration'] = 0.2*60*1000\n",
    "\n",
    "# change EEG parameters\n",
    "# aln.params['eeg_conductances'] = (0.3, 0.006, 0.3)\n",
    "# aln.params['eeg_scr_spacing'] = \"oct4\"\n",
    "aln.params['eeg_montage_sfreq'] = 150\n",
    "\n",
    "\n",
    "# run model with eeg=True\n",
    "aln.run(eeg=True)\n",
    "\n",
    "# access EEG signal\n",
    "EEG = aln.outputs['EEG']['EEG']\n",
    "t_EEG = aln.outputs['EEG']['t_EEG']"
   ],
   "metadata": {
    "collapsed": false,
    "pycharm": {
     "name": "#%%\n"
    }
   }
  },
  {
   "cell_type": "code",
   "execution_count": 3,
   "outputs": [
    {
     "data": {
      "text/plain": "array([1.00000e-01, 4.00000e+00, 7.90000e+00, ..., 1.19887e+04,\n       1.19926e+04, 1.19965e+04])"
     },
     "execution_count": 3,
     "metadata": {},
     "output_type": "execute_result"
    }
   ],
   "source": [
    "aln.outputs['EEG']['t_EEG']"
   ],
   "metadata": {
    "collapsed": false,
    "pycharm": {
     "name": "#%%\n"
    }
   }
  },
  {
   "cell_type": "code",
   "execution_count": 4,
   "outputs": [
    {
     "data": {
      "text/plain": "array([256.41025641, 256.41025641, 256.41025641, ..., 256.41025641,\n       256.41025641, 256.41025641])"
     },
     "execution_count": 4,
     "metadata": {},
     "output_type": "execute_result"
    }
   ],
   "source": [
    "1/np.diff(aln.outputs['EEG']['t_EEG']/1000) # THIS MEANS THAT THE DOWNSAMPLING IS WORKING!!"
   ],
   "metadata": {
    "collapsed": false,
    "pycharm": {
     "name": "#%%\n"
    }
   }
  },
  {
   "cell_type": "code",
   "execution_count": 4,
   "outputs": [],
   "source": [],
   "metadata": {
    "collapsed": false,
    "pycharm": {
     "name": "#%%\n"
    }
   }
  }
 ],
 "metadata": {
  "kernelspec": {
   "display_name": "Python 3",
   "language": "python",
   "name": "python3"
  },
  "language_info": {
   "codemirror_mode": {
    "name": "ipython",
    "version": 2
   },
   "file_extension": ".py",
   "mimetype": "text/x-python",
   "name": "python",
   "nbconvert_exporter": "python",
   "pygments_lexer": "ipython2",
   "version": "2.7.6"
  }
 },
 "nbformat": 4,
 "nbformat_minor": 0
}